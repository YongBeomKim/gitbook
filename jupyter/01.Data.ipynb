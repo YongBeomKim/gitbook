{
 "cells": [
  {
   "cell_type": "markdown",
   "metadata": {},
   "source": [
    "# **_1. Python Datum & Data_**\n",
    "**금융데이터를 활용한 파이썬 기초 객체**\n"
   ]
  },
  {
   "cell_type": "markdown",
   "metadata": {},
   "source": [
    "<br><br>\n",
    "<처음 접근하시는 분들의 공통적인 의견>\n",
    "## Python 은 쉽다고 하더라\n",
    "## 하지만 Python 은 어렵더라\n",
    "## 해보면 Python 은 강력하더라다\n",
    "<br><br>"
   ]
  },
  {
   "cell_type": "markdown",
   "metadata": {},
   "source": [
    "<br>\n",
    "<br>\n",
    "<번역기>\n",
    "## Python 은 <strike>다른 언어에 비해서</strike> 쉽다\n",
    "## 하지만 <strike>막상 공부해보면</strike> Python 은 어렵다\n",
    "## <strike>다른 언어의 대부분의 개념이 포함되어서 어렵다 그래서</strike> 해보면 Python 은 강력하다\n",
    "최소한의 문법과 예제들을 이해하고 암기해야 하지만 **Learning Curve** 가 다른 언어학습경험에 비해서 많다고 할 수는 없다\n",
    "\n",
    "<img src=\"https://i.pinimg.com/474x/ae/f6/4b/aef64b334fe2b487ee516dbf48d5b88c--curves.jpg\" align='left'/>"
   ]
  },
  {
   "cell_type": "markdown",
   "metadata": {},
   "source": [
    "<br>\n",
    "## **1 Why Coding**\n",
    "Introduction\n",
    "\n",
    "### **01 왜 파이썬을 배우러 오셨습니까?**\n",
    "미래의 지구는 인간 만으로는 살기 어렵다는데\n",
    "\n",
    "정 안되면 자연으로 돌아가고 싶은 생각 중...<br>\n",
    "\n",
    "<img src=\"http://cdn.pingwest.com/wp-content/uploads/2016/03/DSCF3721.0.jpg\" align='left' width=600>"
   ]
  },
  {
   "cell_type": "markdown",
   "metadata": {},
   "source": [
    "<br>\n",
    "### **02 가장 큰 장점은 Simulation & Testing 이다**\n",
    "\n",
    "<img src=\"https://raw.githubusercontent.com/VHRanger/matchingmarkets/master/matching%20graph%20example.gif\" align='left' width=600>"
   ]
  },
  {
   "cell_type": "markdown",
   "metadata": {},
   "source": [
    "<br>\n",
    "### **03 하지만 이 길은 멀고 험난합니다**\n",
    "첫 술에 배부르랴..\n",
    "\n",
    "익숙하지 않을 뿐, 익숙해 지는 것 부터 시작하고 완성하면 그것이 처음이자 끝이다\n",
    "\n",
    "처음부터 맛에 익숙하진 않지만,  살아가면서 다양한 맛을 알고 이해하게 된다..\n",
    "\n",
    "자세히 설명은 못해도 머리와 몸으로 이해하듯...\n",
    "\n",
    "언의의 내용과 개념을 있는 그대로 받아들이고 이해하는 과정이 이번 수업의 내용입니다\n",
    "\n",
    "<img src=\"http://cfile210.uf.daum.net/image/217073395486BED70AAF8D\" align='left' width='600'>"
   ]
  },
  {
   "cell_type": "markdown",
   "metadata": {},
   "source": [
    "<br>\n",
    "### **03 Why Python**\n",
    "Introduction\n",
    "\n",
    "#### **3-1 Excel VBA**\n",
    "1. 역사가 길고 VBA Source들이 많다\n",
    "1. cristall ball 등 오랜 검증이 확실한 도구들이 많다\n",
    "1. 대용량 작업을 위해선 많은 성능을 요한다\n",
    "\n",
    "<img src=\"http://developerfarm.cdn1.cafe24.com/cover/l/9791158390891.jpg\" align='left' width='400'>"
   ]
  },
  {
   "cell_type": "markdown",
   "metadata": {},
   "source": [
    "#### **3-2 R, R-studio**\n",
    "1. 금융 Quant에 관련된 Source들이 다양하다\n",
    "1. 계산에 가장 최적화된 언어로 설치 및 활용\n",
    "1. 무료다 (아직은....) <strike>Micro Soft에게 결정권이 달려있다..</strike>\n",
    "\n",
    "<img src=\"http://preview.yes24.com/PreviewResize.aspx?no=53564397&fn=r9w6g2m7ehc8ljkt01.jpg&size=700|904\" align='left' width='400'>"
   ]
  },
  {
   "cell_type": "markdown",
   "metadata": {},
   "source": [
    "#### **3-3 Python**\n",
    "1. R에 비해서 Open된 Source 들이 부족하다\n",
    "1. 다른 언어에 비해서 상대적으로 쉽다 <strike>그러면서 쉽지않다</strike>\n",
    "1. 규칙에 근거한 coding (<strike>때문에 짧아서 쉬워 보일 뿐, 쉽지 않다)</strike>\n",
    "1. 한편 쉽지 않다는 건 그만큼 강력한 활용이 가능하는 뜻이기도 하다\n",
    "    \n",
    "<img src=\"http://preview.yes24.com/PreviewResize.aspx?no=56882179&fn=31jg1uxtfc0gao9e01.jpg&size=700|885\" align='left' width='400'>"
   ]
  },
  {
   "cell_type": "markdown",
   "metadata": {},
   "source": [
    "## **_Question_** 다음중 예측 가능한 것은?\n",
    "1. 이건희 사망시기\n",
    "1. 테슬라 주행자동차 사건예측\n",
    "1. 대우조선해양 부정회계\n",
    "1. 내일의 한국/ 미국의 주가지수\n",
    "1. 삼성전자 다음 분기의 영업이익 증가/ 감소분\n",
    "1. 대한민국 내수시장의 다음분기 실적예측\n",
    "\n",
    "본인이 지금당장 할 수 있으면, 기계로도 할 수 있고<br>\n",
    "본인이 지금당장 **필요한 조건들이 떠오른다면** 기계로 보완이 가능 한 정도이지<br>\n",
    "본인이 지금당장 할 수 없으면, **뭐를 사용해도 불가능하다는** 시각으로 접근하자!!\n",
    "\n",
    "<img src=\"http://t1.daumcdn.net/liveboard/ziksir/99a921c2adfc422ea79793ad41144952.jpg\" align='left'>"
   ]
  },
  {
   "cell_type": "markdown",
   "metadata": {},
   "source": [
    "## **머신러닝 딥러닝은,**\n",
    "### 과거의 **통계적 방법 만으로는 규칙을 찾기 어려운** 데이터에 대해서, \n",
    "### **보다** <strike>상대적으로</strike> **정형화된 분석** 을 도와주는 **보조적 도구** 이다\n",
    "#### <strike>그런데 그 정형화가 정형화가 아닌것 또한 함정</strike> \n",
    "### 주된 성능개선 및 모델의 간편화는 Many to Many 모델에서 가능하다\n",
    "#### <strike>주가는 \"오르고\", \"내리고\", \"보합\" 정도만 구분되고, 이들마저도 연속형으로 식별력이 약하다</strike> "
   ]
  },
  {
   "cell_type": "markdown",
   "metadata": {},
   "source": [
    "<br><br>\n",
    "## **2 Let's Start**\n",
    "### **01 Coding 둘러보기**\n",
    "Coding 이란 : 컴퓨터에게 숫자, 영어, 기호 로 특정명령을 내리는 것 <strike>한글은 불가능</strike>"
   ]
  },
  {
   "cell_type": "code",
   "execution_count": 1,
   "metadata": {},
   "outputs": [],
   "source": [
    "# 파이썬 코딩의 기본 3요소\n",
    "# 1.Data,  2.함수,  3.연결부호\n",
    "# 그동안 영어공부한 내용에 비하면 절대 어렵지 않다!!! \n",
    "# (대략 200개의 단어의 뜻과 예문만 암기하고, 1~3가지 문법만 알면 끝이다!!)\n",
    "# 단지 익숙하지 않을 뿐... 곤란한 당신의 이유는 단지 이것 뿐이다..\n",
    "# 자주 사용하는 몇가지들 부터 익혀 나가자"
   ]
  },
  {
   "cell_type": "code",
   "execution_count": 2,
   "metadata": {},
   "outputs": [],
   "source": [
    "# 1. Data\n",
    "# 숫자   :  연산  \n",
    "# \"문자\", '문자' :  counting, slicing, 문자열 더하기\n",
    "# (변수명)  :  문자만 가능 (내부는 수정 변환이 가능)\n",
    "# [list형 데이터] - 숫자/ 문자\n",
    "# {dict형 데이터} - { key값 : value값 } - 숫자 /문자\n",
    "# (tuple1, tuple2) : 병렬처리, 생성 후 수정불가능 (2개 , 3개 ... n개), 꼭 짝은 맞아야 한다!!)\n",
    "# ex) (tuple1, tuple2) : 컴퓨터 연산처리 결과 (편집이 어려워서 사용자가 건드리는 경우는 거의 없다)"
   ]
  },
  {
   "cell_type": "code",
   "execution_count": 3,
   "metadata": {},
   "outputs": [],
   "source": [
    "# 2. 연걸부호\n",
    "# . 종속   \n",
    "# , 병렬나열\n",
    "# : 내부설계 시작\n",
    "# ; 병렬연결\n",
    "# = 입력\n",
    "# == 대등조건\n",
    "# != 부 대등조건\n",
    "# '' , \"\"  문자열 지정 (연산 불가능한 객체)"
   ]
  },
  {
   "cell_type": "code",
   "execution_count": 4,
   "metadata": {},
   "outputs": [],
   "source": [
    "# 3. 함수\n",
    "# 파이썬 내장모듈(class), 함수/ 메소드\n",
    "# 파이썬 외부모듈(class), 함수/ 메소드"
   ]
  },
  {
   "cell_type": "markdown",
   "metadata": {},
   "source": [
    "<br><br>\n",
    "## **2 Datum 객체 학습하기**\n",
    "1. 객체 (숫자 : integer, float), 문자 : string)\n",
    "1. 함수 \n",
    "\n",
    "<br>\n",
    "### **01 숫자의 사칙연산**\n",
    "https://soooprmx.com/archives/4886 : 파이썬 내장함수\n",
    "1. integer(정수) : index 주소값\n",
    "1. float(실수) : 연산 데이터 및 결과값\n"
   ]
  },
  {
   "cell_type": "code",
   "execution_count": 5,
   "metadata": {},
   "outputs": [
    {
     "name": "stdout",
     "output_type": "stream",
     "text": [
      "3\n",
      "7.5\n",
      "7\n",
      "2\n"
     ]
    }
   ],
   "source": [
    "# print() : 파이썬 내장함수\n",
    "# 숫자의 사칙연산\n",
    "print(1 +   2)\n",
    "print(30 /  4)   # 나누기 \n",
    "print(30 // 4)   # 몫\n",
    "print(30 %  4)   # 나머지"
   ]
  },
  {
   "cell_type": "markdown",
   "metadata": {},
   "source": [
    "<br>\n",
    "### **02 '문자', \"문자\"의 연산**\n",
    "1. 문자의 연결(사칙연산)\n",
    "1. [indexing]\n",
    "1. [slicing:]"
   ]
  },
  {
   "cell_type": "code",
   "execution_count": 6,
   "metadata": {},
   "outputs": [
    {
     "name": "stdout",
     "output_type": "stream",
     "text": [
      "0\n",
      "102\n",
      "대한민국2018평창올림픽gogo!!\n"
     ]
    }
   ],
   "source": [
    "# 사칙연산 중 '+'만 가능\n",
    "print('0')\n",
    "print(\"10\" + '2')\n",
    "print('대한민국'+'2018'+'평창올림픽'+'gogo!!')"
   ]
  },
  {
   "cell_type": "code",
   "execution_count": 1,
   "metadata": {},
   "outputs": [
    {
     "data": {
      "text/plain": [
       "str"
      ]
     },
     "execution_count": 1,
     "metadata": {},
     "output_type": "execute_result"
    }
   ],
   "source": [
    "code_str = '005390'\n",
    "type(code_str)"
   ]
  },
  {
   "cell_type": "code",
   "execution_count": 2,
   "metadata": {},
   "outputs": [
    {
     "data": {
      "text/plain": [
       "'트럼프 트럼프 트럼프 '"
      ]
     },
     "execution_count": 2,
     "metadata": {},
     "output_type": "execute_result"
    }
   ],
   "source": [
    "'트럼프 '*3"
   ]
  },
  {
   "cell_type": "code",
   "execution_count": 3,
   "metadata": {},
   "outputs": [
    {
     "data": {
      "text/plain": [
       "'--------------------------------------------------'"
      ]
     },
     "execution_count": 3,
     "metadata": {},
     "output_type": "execute_result"
    }
   ],
   "source": [
    "'-'*50"
   ]
  },
  {
   "cell_type": "code",
   "execution_count": 7,
   "metadata": {},
   "outputs": [
    {
     "name": "stdout",
     "output_type": "stream",
     "text": [
      "2\n",
      "$\n"
     ]
    }
   ],
   "source": [
    "# [indexing] : 특정 index 위치의 데이터를 추출\n",
    "# ex) 단어의 오타 수정시\n",
    "gogl = '20,000,000$'\n",
    "print(gogl[0])\n",
    "print(gogl[-1])"
   ]
  },
  {
   "cell_type": "code",
   "execution_count": 8,
   "metadata": {},
   "outputs": [
    {
     "data": {
      "text/plain": [
       "'20'"
      ]
     },
     "execution_count": 8,
     "metadata": {},
     "output_type": "execute_result"
    }
   ],
   "source": [
    "# [slicing :] 특정 범위를 출력 \n",
    "# ex) 단어의 일부분만 확인이 필요할 떄\n",
    "# [start_index : end_index]\n",
    "gogl[:2]     "
   ]
  },
  {
   "cell_type": "markdown",
   "metadata": {},
   "source": [
    "#### **QUIZ**\n",
    "'2018년 대한민국' 에서 '2018' 를 숫자로 뽑아내라...\n",
    "\n",
    "    start>>>\n",
    "    text = '2017년 대한민국'  \n",
    "\n",
    "    tips>>\n",
    "    1. [:slicing] 으로 '2017' string 을 추출\n",
    "    2. '2017' 를 숫자로 변환하라\n",
    "<br><br>"
   ]
  },
  {
   "cell_type": "markdown",
   "metadata": {},
   "source": [
    "### **03 문자와 숫자의 변환**\n",
    "1. type()\n",
    "1. str()\n",
    "1. int()\n",
    "1. float()"
   ]
  },
  {
   "cell_type": "code",
   "execution_count": 9,
   "metadata": {},
   "outputs": [
    {
     "data": {
      "text/plain": [
       "str"
      ]
     },
     "execution_count": 9,
     "metadata": {},
     "output_type": "execute_result"
    }
   ],
   "source": [
    "# 문자 <--> 숫자 변경\n",
    "# type()\n",
    "code_str = '005390'\n",
    "type(code_str)"
   ]
  },
  {
   "cell_type": "code",
   "execution_count": 10,
   "metadata": {},
   "outputs": [
    {
     "data": {
      "text/plain": [
       "6390"
      ]
     },
     "execution_count": 10,
     "metadata": {},
     "output_type": "execute_result"
    }
   ],
   "source": [
    "# int() : float/ string 을 integer 로 변환\n",
    "int(code_str) + 1000"
   ]
  },
  {
   "cell_type": "code",
   "execution_count": 11,
   "metadata": {},
   "outputs": [
    {
     "data": {
      "text/plain": [
       "int"
      ]
     },
     "execution_count": 11,
     "metadata": {},
     "output_type": "execute_result"
    }
   ],
   "source": [
    "# 숫자 <--> 문자\n",
    "code_int = 1234\n",
    "type(code_int)"
   ]
  },
  {
   "cell_type": "code",
   "execution_count": 12,
   "metadata": {},
   "outputs": [
    {
     "data": {
      "text/plain": [
       "1234.0"
      ]
     },
     "execution_count": 12,
     "metadata": {},
     "output_type": "execute_result"
    }
   ],
   "source": [
    "float(code_int)"
   ]
  },
  {
   "cell_type": "code",
   "execution_count": 13,
   "metadata": {},
   "outputs": [
    {
     "data": {
      "text/plain": [
       "'1234'"
      ]
     },
     "execution_count": 13,
     "metadata": {},
     "output_type": "execute_result"
    }
   ],
   "source": [
    "# integer to string\n",
    "str(code_int)"
   ]
  },
  {
   "cell_type": "markdown",
   "metadata": {},
   "source": [
    "<br><br>\n",
    "## **3 Data 객체 학습하기**\n",
    "1. 여러객체를 **_순차적으로 담을 수 있는_** [ list ]\n",
    "1. 여러객체를 **_임의의 주소값으로 담을 수 있는_** {dict}\n",
    "1. **_원본 DATABASE에서 추출하여 순차적으로 담긴_** (tuple,)"
   ]
  },
  {
   "cell_type": "markdown",
   "metadata": {},
   "source": [
    "<br>\n",
    "### **01 [ list ]**\n",
    "여러객체를 순차적으로 담는 객체로 자료관리 Basic !!!, \n",
    "\n",
    "다른 자료형을 학습할때 기준 (그만큼 활용범위가 넓다)\n",
    "1. .append()\n",
    "1. .insert()\n",
    "1. '+'"
   ]
  },
  {
   "cell_type": "markdown",
   "metadata": {},
   "source": [
    "### 객체.메소드함수(변수필요/불필요)\n",
    "객체 내부에 정의되어진 속성/ 함수를 호출하여 결과물 출력\n",
    "###  cf) Method \n",
    "지민의 메소드 연기, 지은이의 메소드 연기, 엘르페닝의 메소드 연기"
   ]
  },
  {
   "cell_type": "code",
   "execution_count": 14,
   "metadata": {},
   "outputs": [
    {
     "data": {
      "text/plain": [
       "5"
      ]
     },
     "execution_count": 14,
     "metadata": {},
     "output_type": "execute_result"
    }
   ],
   "source": [
    "# len() : 내부함수\n",
    "lists = [1,2,3,'회계','재무']\n",
    "len(lists)  "
   ]
  },
  {
   "cell_type": "code",
   "execution_count": 15,
   "metadata": {},
   "outputs": [
    {
     "data": {
      "text/plain": [
       "[1, 2, 3, '회계', '재무', 2017]"
      ]
     },
     "execution_count": 15,
     "metadata": {},
     "output_type": "execute_result"
    }
   ],
   "source": [
    "# .append() :  list의 메소드 함수 \n",
    "# 메소드 : list를 생성시 자동적 연결되는 추가 함수로, list객체에 종속\n",
    "lists.append(2017)  \n",
    "lists"
   ]
  },
  {
   "cell_type": "code",
   "execution_count": 16,
   "metadata": {},
   "outputs": [
    {
     "data": {
      "text/plain": [
       "[1, 2, 3, '회계', '재무', 2017, ['08-15', '22:00:30']]"
      ]
     },
     "execution_count": 16,
     "metadata": {},
     "output_type": "execute_result"
    }
   ],
   "source": [
    "lists.append(['08-15','22:00:30'])\n",
    "lists"
   ]
  },
  {
   "cell_type": "code",
   "execution_count": 17,
   "metadata": {},
   "outputs": [
    {
     "data": {
      "text/plain": [
       "[[100, 200, 300], 1, 2, 3, '회계', '재무', 2017, ['08-15', '22:00:30']]"
      ]
     },
     "execution_count": 17,
     "metadata": {},
     "output_type": "execute_result"
    }
   ],
   "source": [
    "# .insert() : 끼워넣기\n",
    "lists.insert(0, [100, 200, 300])\n",
    "lists"
   ]
  },
  {
   "cell_type": "code",
   "execution_count": 18,
   "metadata": {},
   "outputs": [
    {
     "name": "stdout",
     "output_type": "stream",
     "text": [
      "[100, 200, 300]\n",
      "['08-15', '22:00:30']\n"
     ]
    }
   ],
   "source": [
    "# indexing : 꼭! 찝어내기\n",
    "# cf) 위 String 의 indexing 과 비교하며 이해할 것!\n",
    "print(lists[0])   \n",
    "print(lists[-1])   # -1 은 맨 뒤에서 부터 카운팅"
   ]
  },
  {
   "cell_type": "code",
   "execution_count": 19,
   "metadata": {},
   "outputs": [
    {
     "name": "stdout",
     "output_type": "stream",
     "text": [
      "[3, '회계', '재무']\n",
      "[[100, 200, 300], 1, 2]\n",
      "[[100, 200, 300], 1, 2, 3, '회계', '재무']\n"
     ]
    }
   ],
   "source": [
    "# Slicing : 범위설정\n",
    "# cf) 위 String 의 Slicing 과 비교하며 이해할 것!\n",
    "print(lists[3:6])      # [start_index : end_index]\n",
    "print(lists[:3])\n",
    "print(lists[:-2])      # 파일이름의 확장자 구별시 활용"
   ]
  },
  {
   "cell_type": "code",
   "execution_count": 20,
   "metadata": {},
   "outputs": [
    {
     "data": {
      "text/plain": [
       "[1, 31, 51, 23, 19, 14, 4, 2, 5]"
      ]
     },
     "execution_count": 20,
     "metadata": {},
     "output_type": "execute_result"
    }
   ],
   "source": [
    "# 리스트 객체를 연결하여 1개 객체로 만들기\n",
    "# 주의!! >>  List 덧셈은 작동하지만, 뼬셈은 작동하지 않는다  << 주의!!!!\n",
    "lists_1 = [1,31,51,23]\n",
    "lists_2 = [19,14,4,2,5]\n",
    "list_num = lists_1 + lists_2\n",
    "list_num"
   ]
  },
  {
   "cell_type": "code",
   "execution_count": 21,
   "metadata": {},
   "outputs": [
    {
     "data": {
      "text/plain": [
       "[1, 2, 4, 5, 14, 19, 23, 31, 51]"
      ]
     },
     "execution_count": 21,
     "metadata": {},
     "output_type": "execute_result"
    }
   ],
   "source": [
    "list_num.sort()   # reverse() 함수대신 reverse=True 옵션을 활용\n",
    "list_num"
   ]
  },
  {
   "cell_type": "code",
   "execution_count": 22,
   "metadata": {},
   "outputs": [
    {
     "data": {
      "text/plain": [
       "['ABC', 'Python', 'java', 'oracle', 'python', 'vba']"
      ]
     },
     "execution_count": 22,
     "metadata": {},
     "output_type": "execute_result"
    }
   ],
   "source": [
    "list_string = ['python', 'java', 'Python', 'vba', 'oracle', 'ABC']\n",
    "list_string.sort()   # reverse() 함수대신 reverse=True 옵션을 활용\n",
    "list_string"
   ]
  },
  {
   "cell_type": "code",
   "execution_count": 23,
   "metadata": {},
   "outputs": [
    {
     "data": {
      "text/plain": [
       "['라틴어', '미국', '영어', '일본어', '중국어', '한글', '히브리어']"
      ]
     },
     "execution_count": 23,
     "metadata": {},
     "output_type": "execute_result"
    }
   ],
   "source": [
    "list_string = ['한글', '미국', '영어', '일본어', '중국어', '히브리어', '라틴어']\n",
    "list_string.sort()   # reverse() 함수대신 reverse=True 옵션을 활용\n",
    "list_string"
   ]
  },
  {
   "cell_type": "code",
   "execution_count": 24,
   "metadata": {},
   "outputs": [
    {
     "name": "stdout",
     "output_type": "stream",
     "text": [
      "라틴어\n",
      "미국\n",
      "영어\n",
      "일본어\n",
      "중국어\n",
      "한글\n",
      "히브리어\n"
     ]
    }
   ],
   "source": [
    "for txt in list_string:\n",
    "    print(txt)"
   ]
  },
  {
   "cell_type": "code",
   "execution_count": 25,
   "metadata": {},
   "outputs": [
    {
     "name": "stdout",
     "output_type": "stream",
     "text": [
      "0  번 index 데이터  라틴어\n",
      "1  번 index 데이터  미국\n",
      "2  번 index 데이터  영어\n",
      "3  번 index 데이터  일본어\n",
      "4  번 index 데이터  중국어\n",
      "5  번 index 데이터  한글\n",
      "6  번 index 데이터  히브리어\n"
     ]
    }
   ],
   "source": [
    "# enumerate() : 열거하다\n",
    "for no, txt in enumerate(list_string):\n",
    "    print(no, ' 번 index 데이터 ', txt)"
   ]
  },
  {
   "cell_type": "code",
   "execution_count": 26,
   "metadata": {},
   "outputs": [],
   "source": [
    "# List 내부 Data : 숫자, 문자 모두가능\n",
    "# List 내부 Index : 0,1,2,3,4....... (only Integer만 가능)\n",
    "\n",
    "#  장점 : 만들기가 쉽다\n",
    "#      : 인덱스 주소만 알면 검색과 활용이 쉽다.\n",
    "#      : matrix 구조를 활용하면 대용량 데이터도 처리가 가능하다\n",
    "\n",
    "#  단점 : 무조건 0부터 작업을 시작 (for 문을 활용시 주요한 특징)\n",
    "#      : for 반복문 사용시 매번 [list]를 반복검색해서 느려진다 (list가 1만개일떄 100번 반복시, 100만번 연산을 수행한다)"
   ]
  },
  {
   "cell_type": "markdown",
   "metadata": {},
   "source": [
    "#### **QUIZ 01**\n",
    "lists = [2017, '년', '대한민국'] 의 자료를 활용해서\n",
    "'2017년대한민국' 1개의 문자열로 변환해 보시오.\n",
    "\n",
    "    start>> \n",
    "    lists = [2017, '년', '대한민국']\n",
    "    \n",
    "    tips>>\n",
    "    1.lists[0] 의 인덱스를 활용해서 각각의 객체를 추출\n",
    "    2. 문자와 문자 객체를 + 를 통해서 1개로 합친다\n",
    "<br><br>"
   ]
  },
  {
   "cell_type": "markdown",
   "metadata": {},
   "source": [
    "#### **QUIZ 02**\n",
    "name =  ['한국항공우주', '대우조선해양'] , code = ['047810', '000300'] 를 이용해서\n",
    "\n",
    "['한국항공우주', '047810', '대우조선해양' ,'000300'] 객체를 만들어보자\n",
    "\n",
    "    start>>>\n",
    "    text = '2017년 대한민국'  \n",
    "\n",
    "    tips>>\n",
    "    1. .append()를 활용해서 객체를 연결한다  # 1개의 index 속에 쑤셔넣는다.\n",
    "    2. + 를 활용해서 순서를 바꿔서 연결한다   # 고유 index를 유지\n",
    "    \n",
    "<br><br>"
   ]
  },
  {
   "cell_type": "code",
   "execution_count": 27,
   "metadata": {},
   "outputs": [],
   "source": [
    "name = ['한국항공우주', '대우조선해양']\n",
    "code = ['047810', '000300']"
   ]
  },
  {
   "cell_type": "code",
   "execution_count": 28,
   "metadata": {},
   "outputs": [
    {
     "data": {
      "text/plain": [
       "['한국항공우주', '047810', ['대우조선해양', '000300']]"
      ]
     },
     "execution_count": 28,
     "metadata": {},
     "output_type": "execute_result"
    }
   ],
   "source": [
    "krx_code = [name[0]] + [code[0]]     # 고유한 주소값을 그대로 유지한다\n",
    "krx_code.append([name[1],code[1]])   # 1개 주소에 입력을 한다\n",
    "krx_code"
   ]
  },
  {
   "cell_type": "markdown",
   "metadata": {},
   "source": [
    "<br><br>\n",
    "### **02  { Dictionary_key :  _value } **\n",
    "1. **차원축소 자료형**\n",
    "1. List 의 index를 보완한 객체로, index를 '숫자'와 'String' 가능)  \n",
    "1. DataFrame 표를 만들 수 있는 기본포맷\n",
    "1. [대괄호] 의 1) 데이터기능, 2) 함수기능\n",
    "<br><img src=\"http://cfile7.uf.tistory.com/image/9975343359B7C46406CB43\" align='left'>"
   ]
  },
  {
   "cell_type": "code",
   "execution_count": 29,
   "metadata": {},
   "outputs": [
    {
     "data": {
      "text/plain": [
       "{'005390': '삼성전자', '035420': ['네이버', 'NAVER', 'Naver', 'naver']}"
      ]
     },
     "execution_count": 29,
     "metadata": {},
     "output_type": "execute_result"
    }
   ],
   "source": [
    "# List 생성 및 indexing\n",
    "dictionary = {'005390':'삼성전자', \n",
    "              '035420':['네이버','NAVER','Naver','naver']}\n",
    "dictionary"
   ]
  },
  {
   "cell_type": "code",
   "execution_count": 30,
   "metadata": {},
   "outputs": [
    {
     "data": {
      "text/plain": [
       "dict_keys(['005390', '035420'])"
      ]
     },
     "execution_count": 30,
     "metadata": {},
     "output_type": "execute_result"
    }
   ],
   "source": [
    "# key : index 를 대체하는 개념\n",
    "dictionary.keys()"
   ]
  },
  {
   "cell_type": "code",
   "execution_count": 31,
   "metadata": {},
   "outputs": [
    {
     "data": {
      "text/plain": [
       "dict_values(['삼성전자', ['네이버', 'NAVER', 'Naver', 'naver']])"
      ]
     },
     "execution_count": 31,
     "metadata": {},
     "output_type": "execute_result"
    }
   ],
   "source": [
    "dictionary.values()"
   ]
  },
  {
   "cell_type": "code",
   "execution_count": 32,
   "metadata": {},
   "outputs": [
    {
     "data": {
      "text/plain": [
       "['네이버', 'NAVER', 'Naver', 'naver']"
      ]
     },
     "execution_count": 32,
     "metadata": {},
     "output_type": "execute_result"
    }
   ],
   "source": [
    "# index로 데이터 추출\n",
    "# [] 의 데이터기능, 함수기능 \n",
    "# 1. [ list ] 데이터\n",
    "# 2. [ 인덱싱/ 슬라이싱 ] 조건 함수\n",
    "dictionary['035420']"
   ]
  },
  {
   "cell_type": "code",
   "execution_count": 33,
   "metadata": {},
   "outputs": [
    {
     "data": {
      "text/plain": [
       "{'000660': 'SK하이닉스',\n",
       " '005390': '삼성전자',\n",
       " '035420': ['네이버', 'NAVER', 'Naver', 'naver']}"
      ]
     },
     "execution_count": 33,
     "metadata": {},
     "output_type": "execute_result"
    }
   ],
   "source": [
    "# List 데이터 추가하기\n",
    "dictionary['000660'] = 'SK하이닉스'\n",
    "dictionary"
   ]
  },
  {
   "cell_type": "code",
   "execution_count": 34,
   "metadata": {},
   "outputs": [
    {
     "data": {
      "text/plain": [
       "dict_keys(['Debit', 'Credit'])"
      ]
     },
     "execution_count": 34,
     "metadata": {},
     "output_type": "execute_result"
    }
   ],
   "source": [
    "# Debit(차변) , Credit(대변)\n",
    "sheet = {'Debit':\n",
    "             {'Lease': 1_300_000, \n",
    "              'Cash' : 700_000 },\n",
    "         'Credit':\n",
    "             {'Cash' : 2_000_000}}\n",
    "\n",
    "sheet.keys()"
   ]
  },
  {
   "cell_type": "code",
   "execution_count": 35,
   "metadata": {},
   "outputs": [
    {
     "data": {
      "text/plain": [
       "{'Cash': 700000, 'Lease': 1300000}"
      ]
     },
     "execution_count": 35,
     "metadata": {},
     "output_type": "execute_result"
    }
   ],
   "source": [
    "sheet['Debit']"
   ]
  },
  {
   "cell_type": "code",
   "execution_count": 36,
   "metadata": {},
   "outputs": [
    {
     "data": {
      "text/plain": [
       "dict_keys(['Lease', 'Cash'])"
      ]
     },
     "execution_count": 36,
     "metadata": {},
     "output_type": "execute_result"
    }
   ],
   "source": [
    "sheet['Debit'].keys()"
   ]
  },
  {
   "cell_type": "code",
   "execution_count": 37,
   "metadata": {},
   "outputs": [
    {
     "data": {
      "text/plain": [
       "dict_values([1300000, 700000])"
      ]
     },
     "execution_count": 37,
     "metadata": {},
     "output_type": "execute_result"
    }
   ],
   "source": [
    "sheet['Debit'].values()"
   ]
  },
  {
   "cell_type": "code",
   "execution_count": 38,
   "metadata": {},
   "outputs": [
    {
     "name": "stdout",
     "output_type": "stream",
     "text": [
      "Debit {'Lease': 1300000, 'Cash': 700000}\n",
      "Credit {'Cash': 2000000}\n"
     ]
    }
   ],
   "source": [
    "# .items()\n",
    "# 메소드 : 객체에 종속된 함수\n",
    "# Key 값과, value를 함께 출력한다\n",
    "for idx, datum  in  sheet.items():\n",
    "    print(idx, datum)"
   ]
  },
  {
   "cell_type": "code",
   "execution_count": 39,
   "metadata": {},
   "outputs": [
    {
     "data": {
      "text/html": [
       "<div>\n",
       "<style scoped>\n",
       "    .dataframe tbody tr th:only-of-type {\n",
       "        vertical-align: middle;\n",
       "    }\n",
       "\n",
       "    .dataframe tbody tr th {\n",
       "        vertical-align: top;\n",
       "    }\n",
       "\n",
       "    .dataframe thead th {\n",
       "        text-align: right;\n",
       "    }\n",
       "</style>\n",
       "<table border=\"1\" class=\"dataframe\">\n",
       "  <thead>\n",
       "    <tr style=\"text-align: right;\">\n",
       "      <th></th>\n",
       "      <th>Credit</th>\n",
       "      <th>Debit</th>\n",
       "    </tr>\n",
       "  </thead>\n",
       "  <tbody>\n",
       "    <tr>\n",
       "      <th>Cash</th>\n",
       "      <td>2000000.0</td>\n",
       "      <td>700000</td>\n",
       "    </tr>\n",
       "    <tr>\n",
       "      <th>Lease</th>\n",
       "      <td>NaN</td>\n",
       "      <td>1300000</td>\n",
       "    </tr>\n",
       "  </tbody>\n",
       "</table>\n",
       "</div>"
      ],
      "text/plain": [
       "          Credit    Debit\n",
       "Cash   2000000.0   700000\n",
       "Lease        NaN  1300000"
      ]
     },
     "execution_count": 39,
     "metadata": {},
     "output_type": "execute_result"
    }
   ],
   "source": [
    "# DataFrame : Python에서 범용되는 표 데이터 type\n",
    "# key 값 : DataFrame의 컬럼명\n",
    "# key 종속된 key 값 : DataFrame의 index\n",
    "\n",
    "import pandas as pd\n",
    "pd.DataFrame(sheet)"
   ]
  },
  {
   "cell_type": "code",
   "execution_count": 40,
   "metadata": {},
   "outputs": [],
   "source": [
    "# dictionary = { key값 : value }\n",
    "\n",
    "# 장점 : 상대적으로 만들기가 쉽다\n",
    "#     : 검색이 빠르다, Key값이 일치하면 바로 결과를 출력\n",
    "#     : 1개 key 값에 value는 여러개도 가능 (value 값도  [list],{ dict} 모두 가능)\n",
    "\n",
    "# 단점 : 순서가 없어서 정렬을 할 수 없다.\n",
    "#     : key값의 오타로 비슷한 key 값들이 중복되어 존재할 가능성이 있다\n",
    "#     : key값과 value를 모두 알아야만 자료를 찾을 수 있다."
   ]
  },
  {
   "cell_type": "markdown",
   "metadata": {},
   "source": [
    "#### **QUIZ 01**\n",
    "dictionary = {'005390':'삼성전자', '035420':'네이버'} 자료를 통해서\n",
    "\n",
    "'005390'을 활용해서 '삼성전자'를 출력하라\n",
    "\n",
    "        start>> \n",
    "        dictionary = {'005390':'삼성전자', '035420':'네이버'}"
   ]
  },
  {
   "cell_type": "markdown",
   "metadata": {},
   "source": [
    "#### **QUIZ 02**\n",
    "dictionary = {'005390':'삼성전자', '035420':'네이버'} 자료를 통해서\n",
    "\n",
    "'030200' 코드인 'KT'를 추가하라\n",
    "\n",
    "        tips>>\n",
    "        1.딕셔너리 추가\n",
    "        dictionary ['key문자열'] = 'value 문자열'"
   ]
  },
  {
   "cell_type": "code",
   "execution_count": 41,
   "metadata": {},
   "outputs": [],
   "source": [
    "dictionary = {'005390':'삼성전자', '035420':'네이버'}"
   ]
  },
  {
   "cell_type": "markdown",
   "metadata": {},
   "source": [
    "<br><br>\n",
    "### **03  ( tuple)**\n",
    "원본 DataBase에서 추출한 데이터를 의미(SQL)로 생성 후에는 임의 수정이 불가능하다 !!"
   ]
  },
  {
   "cell_type": "code",
   "execution_count": 42,
   "metadata": {},
   "outputs": [
    {
     "data": {
      "text/plain": [
       "dict_items([('005390', '삼성전자'), ('035420', '네이버')])"
      ]
     },
     "execution_count": 42,
     "metadata": {},
     "output_type": "execute_result"
    }
   ],
   "source": [
    "dictionary = {'005390':'삼성전자', '035420':'네이버'}\n",
    "items      = dictionary.items()\n",
    "items"
   ]
  },
  {
   "cell_type": "code",
   "execution_count": 43,
   "metadata": {},
   "outputs": [
    {
     "data": {
      "text/plain": [
       "2"
      ]
     },
     "execution_count": 43,
     "metadata": {},
     "output_type": "execute_result"
    }
   ],
   "source": [
    "len(items)"
   ]
  },
  {
   "cell_type": "code",
   "execution_count": 44,
   "metadata": {},
   "outputs": [
    {
     "data": {
      "text/plain": [
       "[('005390', '삼성전자'), ('035420', '네이버')]"
      ]
     },
     "execution_count": 44,
     "metadata": {},
     "output_type": "execute_result"
    }
   ],
   "source": [
    "# [ list ] 객체로 변환해서 index을 활용한다\n",
    "items = list(items)\n",
    "items"
   ]
  },
  {
   "cell_type": "code",
   "execution_count": 45,
   "metadata": {},
   "outputs": [
    {
     "data": {
      "text/plain": [
       "('005390', '삼성전자')"
      ]
     },
     "execution_count": 45,
     "metadata": {},
     "output_type": "execute_result"
    }
   ],
   "source": [
    "samsung = items[0]\n",
    "samsung"
   ]
  },
  {
   "cell_type": "code",
   "execution_count": 46,
   "metadata": {},
   "outputs": [
    {
     "data": {
      "text/plain": [
       "tuple"
      ]
     },
     "execution_count": 46,
     "metadata": {},
     "output_type": "execute_result"
    }
   ],
   "source": [
    "type(samsung)"
   ]
  },
  {
   "cell_type": "code",
   "execution_count": 47,
   "metadata": {},
   "outputs": [
    {
     "name": "stdout",
     "output_type": "stream",
     "text": [
      "005390\n",
      "삼성전자\n"
     ]
    }
   ],
   "source": [
    "print(samsung[0])\n",
    "print(samsung[1]) "
   ]
  },
  {
   "cell_type": "code",
   "execution_count": 48,
   "metadata": {},
   "outputs": [
    {
     "ename": "TypeError",
     "evalue": "'tuple' object does not support item assignment",
     "output_type": "error",
     "traceback": [
      "\u001b[0;31m---------------------------------------------------------------------------\u001b[0m",
      "\u001b[0;31mTypeError\u001b[0m                                 Traceback (most recent call last)",
      "\u001b[0;32m<ipython-input-48-eaf1341eaa65>\u001b[0m in \u001b[0;36m<module>\u001b[0;34m()\u001b[0m\n\u001b[1;32m      3\u001b[0m \u001b[0;31m# samsung[0] = 'samsung'\u001b[0m\u001b[0;34m\u001b[0m\u001b[0;34m\u001b[0m\u001b[0m\n\u001b[1;32m      4\u001b[0m \u001b[0;34m\u001b[0m\u001b[0m\n\u001b[0;32m----> 5\u001b[0;31m \u001b[0msamsung\u001b[0m\u001b[0;34m[\u001b[0m\u001b[0;36m0\u001b[0m\u001b[0;34m]\u001b[0m \u001b[0;34m=\u001b[0m \u001b[0;34m'000660'\u001b[0m\u001b[0;34m\u001b[0m\u001b[0m\n\u001b[0m",
      "\u001b[0;31mTypeError\u001b[0m: 'tuple' object does not support item assignment"
     ]
    }
   ],
   "source": [
    "# tuple 은 입력 후 수정이 불가능하다\n",
    "# 고유한 값을 지정이 필요한 경우에만 활용\n",
    "# samsung[0] = 'samsung'\n",
    "samsung[0] = '000660'"
   ]
  }
 ],
 "metadata": {
  "kernelspec": {
   "display_name": "Python 3",
   "language": "python",
   "name": "python3"
  },
  "language_info": {
   "codemirror_mode": {
    "name": "ipython",
    "version": 3
   },
   "file_extension": ".py",
   "mimetype": "text/x-python",
   "name": "python",
   "nbconvert_exporter": "python",
   "pygments_lexer": "ipython3",
   "version": "3.6.3"
  }
 },
 "nbformat": 4,
 "nbformat_minor": 2
}
