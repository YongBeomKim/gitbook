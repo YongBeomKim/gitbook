{
 "cells": [
  {
   "cell_type": "markdown",
   "metadata": {},
   "source": [
    "<br>\n",
    "# ** 5 Python for Finance**\n",
    "파이썬을 활용한 금융분석"
   ]
  },
  {
   "cell_type": "markdown",
   "metadata": {},
   "source": [
    "<br><br>\n",
    "## <strong>1 금융 시계열 데이터\n",
    "1. 금융 데이터 수집하기\n",
    "1. 테이블 결측치 처리하기\n",
    "1. 정규화 처리하기"
   ]
  },
  {
   "cell_type": "markdown",
   "metadata": {},
   "source": [
    "<br>\n",
    "### **01 시계열 데이터 수집하기**\n",
    "! pip install git+https://github.com/pydata/pandas-datareader.git --upgrade\n",
    "1. https://github.com/pydata/pandas-datareader\n"
   ]
  },
  {
   "cell_type": "code",
   "execution_count": 12,
   "metadata": {},
   "outputs": [],
   "source": [
    "# %matplotlib inline\n",
    "\n",
    "# from pandas_datareader import get_data_yahoo\n",
    "\n",
    "# samsung = get_data_yahoo('005930.KS', '2017-01', '2018-01')\n",
    "# samsung.Close.plot()"
   ]
  },
  {
   "cell_type": "code",
   "execution_count": 13,
   "metadata": {},
   "outputs": [],
   "source": [
    "# samsung.head()"
   ]
  },
  {
   "cell_type": "code",
   "execution_count": 14,
   "metadata": {},
   "outputs": [],
   "source": [
    "# samsung['2017-07'].head()"
   ]
  },
  {
   "cell_type": "code",
   "execution_count": 1,
   "metadata": {},
   "outputs": [],
   "source": [
    "# from pandas_datareader import get_data_yahoo\n",
    "\n",
    "# start_date = '2013-01-01' \n",
    "# #startdate를 1996년으로 설정해두면 가장 오래된 데이터부터 전부 가져올 수 있다.\n",
    "\n",
    "# codes = ['GM', 'KO', '005930.KS', '031510.KQ']\n",
    "\n",
    "# result = {}\n",
    "# for code in codes:\n",
    "#     result[code] = get_data_yahoo(code, start_date).Close\n",
    "\n",
    "# import pandas as pd\n",
    "# prices = pd.DataFrame(result)\n",
    "# prices.head(3)"
   ]
  },
  {
   "cell_type": "code",
   "execution_count": 2,
   "metadata": {},
   "outputs": [],
   "source": [
    "# prices.to_csv('./data/stock_data.csv', encoding='ms949')\n",
    "# print('done')"
   ]
  },
  {
   "cell_type": "code",
   "execution_count": 15,
   "metadata": {},
   "outputs": [
    {
     "name": "stdout",
     "output_type": "stream",
     "text": [
      "<class 'pandas.core.frame.DataFrame'>\n",
      "DatetimeIndex: 1406 entries, 2013-01-02 to 2018-06-05\n",
      "Data columns (total 4 columns):\n",
      "000660.KS    1406 non-null float64\n",
      "005930.KS    1406 non-null float64\n",
      "GM           1406 non-null float64\n",
      "KO           1406 non-null float64\n",
      "dtypes: float64(4)\n",
      "memory usage: 54.9 KB\n"
     ]
    }
   ],
   "source": [
    "# 이 부분은 약 1분의 시간으로 고민을 한 뒤에 따라하도록 한다\n",
    "import pandas as pd\n",
    "import numpy as np\n",
    "prices = pd.read_csv('./data/stock_data.csv', encoding='ms949')\n",
    "prices = prices.set_index('Date')\n",
    "prices.index = pd.DatetimeIndex(prices.index)\n",
    "prices.info()"
   ]
  },
  {
   "cell_type": "markdown",
   "metadata": {},
   "source": [
    "<br><br><br>\n",
    "## ** 5 몬테카를로 시뮬레이션**\n",
    "1. 랜덤한 숫자묶음을 대입하여, **결정론적 모델**을 반복적으로 평가한다\n",
    "1. 결과들을 분석하여 **가장 가능성이 높은 하나**를 출력한다\n",
    "1. 모델이 복잡하고, **선형적이지 않으며**, 불확실한 파라미터 쌍을 1개 이상 포함하는 모델의 평가시 사용 (공식으로 바로 찾기 어려운 문제일수록 적합하다)"
   ]
  },
  {
   "cell_type": "markdown",
   "metadata": {},
   "source": [
    "<br>\n",
    "### **01 30명 중에 생일이 같은 사람들이 존재할 확률을 계산**\n",
    "1. 찾는 공식은 뭐가있지... 잘모르겠다\n",
    "1. 그럼 우선 해보고 판단해보자"
   ]
  },
  {
   "cell_type": "code",
   "execution_count": 89,
   "metadata": {},
   "outputs": [
    {
     "data": {
      "text/plain": [
       "46"
      ]
     },
     "execution_count": 89,
     "metadata": {},
     "output_type": "execute_result"
    }
   ],
   "source": [
    "import numpy as np\n",
    "np.random.randint(100) "
   ]
  },
  {
   "cell_type": "code",
   "execution_count": 90,
   "metadata": {},
   "outputs": [],
   "source": [
    "# 생일을 찾는 템플릿 만들기\n",
    "year = [0] * 365           # [0,0,0,...] : 0 을 365 개 갖는 list                  "
   ]
  },
  {
   "cell_type": "code",
   "execution_count": 91,
   "metadata": {},
   "outputs": [],
   "source": [
    "# 임의의 생일데이터를 템플릿에 기록하기\n",
    "new_Day        = np.random.randint(365)  \n",
    "year[new_Day] += 1     # 해당 index 에 1 을 입력\n",
    "have_SameBday  = False # 값 초기화"
   ]
  },
  {
   "cell_type": "code",
   "execution_count": 92,
   "metadata": {},
   "outputs": [
    {
     "data": {
      "text/plain": [
       "False"
      ]
     },
     "execution_count": 92,
     "metadata": {},
     "output_type": "execute_result"
    }
   ],
   "source": [
    "# 웨어서처럼 356개중 1개씩 찍는 작업을 30번 반복한다\n",
    "for i in range(30):\n",
    "    new_Day        = np.random.randint(365)  \n",
    "    year[new_Day] += 1     # 해당 index 에 1 을 입력\n",
    "have_SameBday  = False # 값 초기화\n",
    "have_SameBday"
   ]
  },
  {
   "cell_type": "code",
   "execution_count": 93,
   "metadata": {},
   "outputs": [
    {
     "data": {
      "text/plain": [
       "True"
      ]
     },
     "execution_count": 93,
     "metadata": {},
     "output_type": "execute_result"
    }
   ],
   "source": [
    "# 위의 반복결과 2번이상 찍힌점이 있는지를 확인한다\n",
    "for num in year:           # 전체 365개의 난수를 돌면서 \n",
    "    if num > 1:            # 30번 찍었을 때 2번 같은 위치 입력 : 2를 찾는다\n",
    "        have_SameBday = True\n",
    "have_SameBday"
   ]
  },
  {
   "cell_type": "code",
   "execution_count": 94,
   "metadata": {},
   "outputs": [
    {
     "data": {
      "text/plain": [
       "1"
      ]
     },
     "execution_count": 94,
     "metadata": {},
     "output_type": "execute_result"
    }
   ],
   "source": [
    "# 테스트 결과 이번에 난수로 뽑은 30명 중에는 같은 생일인 사람이 존재했다\n",
    "# 이번의 Test 결과를 저장한다\n",
    "SameBirth = 0\n",
    "if have_SameBday == True:\n",
    "    SameBirth += 1\n",
    "SameBirth"
   ]
  },
  {
   "cell_type": "code",
   "execution_count": 95,
   "metadata": {},
   "outputs": [
    {
     "name": "stdout",
     "output_type": "stream",
     "text": [
      "   0'th test 30 명중 2명의 생일이 같을확률 : 0.0001\n",
      " 999'th test 30 명중 2명의 생일이 같을확률 : 0.0716\n",
      "1998'th test 30 명중 2명의 생일이 같을확률 : 0.1444\n",
      "2997'th test 30 명중 2명의 생일이 같을확률 : 0.2134\n",
      "3996'th test 30 명중 2명의 생일이 같을확률 : 0.2834\n",
      "4995'th test 30 명중 2명의 생일이 같을확률 : 0.3515\n",
      "5994'th test 30 명중 2명의 생일이 같을확률 : 0.4223\n",
      "6993'th test 30 명중 2명의 생일이 같을확률 : 0.4928\n",
      "7992'th test 30 명중 2명의 생일이 같을확률 : 0.5609\n",
      "8991'th test 30 명중 2명의 생일이 같을확률 : 0.6336\n",
      "9990'th test 30 명중 2명의 생일이 같을확률 : 0.7028\n"
     ]
    }
   ],
   "source": [
    "# 위의실험을 25,000번 반복한다\n",
    "# 전체 365개의 list 인덱스 데이터를 생성한 뒤\n",
    "# 난수로 인덱스에 1을 1번씩 찍을 때, 2번 찍힌 점을 찾는다\n",
    "import numpy as np\n",
    "Trials    = 10000\n",
    "student   = 30\n",
    "SameBirth = 0                  # 생일이 같은 학생수 Counting 초기화\n",
    "\n",
    "for trial in range(Trials):\n",
    "    year = [0] * 365           # [0,0,0,...] : 0 을 365 개 갖는 list                  \n",
    "    \n",
    "    for i in range(student):\n",
    "        new_Day        = np.random.randint(365)  \n",
    "        year[new_Day] += 1     # 해당 index 에 1 을 입력\n",
    "        have_SameBday  = False # 값 초기화\n",
    "\n",
    "    for num in year:           # 전체 365개의 난수를 돌면서 \n",
    "        if num > 1:            # 30번 찍었을 때 2번 같은 위치 입력 : 2를 찾는다\n",
    "            have_SameBday = True\n",
    "\n",
    "    if have_SameBday == True:\n",
    "        SameBirth += 1\n",
    "    prob = float(SameBirth) / float(Trials)\n",
    "        \n",
    "    if trial % 999 == 0:\n",
    "        print(\"{:4}\\'th test {} 명중 2명의 생일이 같을확률 : {}\".format(trial, student, prob))"
   ]
  },
  {
   "cell_type": "code",
   "execution_count": 96,
   "metadata": {},
   "outputs": [],
   "source": [
    "# 실험결과 \n",
    "# 전체반 인원이 30명일때, 생일이 같은 사람이 존재할 확률은 70%가 된다"
   ]
  },
  {
   "cell_type": "markdown",
   "metadata": {},
   "source": [
    "<br>\n",
    "### **02 금융상품들의 포트폴리오 평가**\n",
    "예상 수익률과 변동성 계산"
   ]
  },
  {
   "cell_type": "code",
   "execution_count": 97,
   "metadata": {},
   "outputs": [
    {
     "name": "stdout",
     "output_type": "stream",
     "text": [
      "<class 'pandas.core.frame.DataFrame'>\n",
      "DatetimeIndex: 1406 entries, 2013-01-02 to 2018-06-05\n",
      "Data columns (total 4 columns):\n",
      "000660.KS    1406 non-null float64\n",
      "005930.KS    1406 non-null float64\n",
      "GM           1406 non-null float64\n",
      "KO           1406 non-null float64\n",
      "dtypes: float64(4)\n",
      "memory usage: 54.9 KB\n"
     ]
    }
   ],
   "source": [
    "# 이 부분은 약 1분의 시간으로 고민을 한 뒤에 따라하도록 한다\n",
    "import pandas as pd\n",
    "import numpy as np\n",
    "prices = pd.read_csv('./data/stock_data.csv', encoding='ms949')\n",
    "prices = prices.set_index('Date')\n",
    "prices.index = pd.DatetimeIndex(prices.index)\n",
    "prices.info()"
   ]
  },
  {
   "cell_type": "code",
   "execution_count": 98,
   "metadata": {},
   "outputs": [
    {
     "data": {
      "text/plain": [
       "(259, 4)"
      ]
     },
     "execution_count": 98,
     "metadata": {},
     "output_type": "execute_result"
    }
   ],
   "source": [
    "# 1년 데이터를 기준으로 계산한다\n",
    "prices = prices['2017']\n",
    "prices.shape"
   ]
  },
  {
   "cell_type": "code",
   "execution_count": 99,
   "metadata": {},
   "outputs": [
    {
     "data": {
      "text/plain": [
       "(260, 4)"
      ]
     },
     "execution_count": 99,
     "metadata": {},
     "output_type": "execute_result"
    }
   ],
   "source": [
    "prices = prices.resample('B').mean()\n",
    "prices.shape"
   ]
  },
  {
   "cell_type": "code",
   "execution_count": 100,
   "metadata": {},
   "outputs": [
    {
     "data": {
      "text/plain": [
       "000660.KS    0\n",
       "005930.KS    0\n",
       "GM           0\n",
       "KO           0\n",
       "dtype: int64"
      ]
     },
     "execution_count": 100,
     "metadata": {},
     "output_type": "execute_result"
    }
   ],
   "source": [
    "prices = prices.fillna(method='ffill')\n",
    "prices.isnull().sum()"
   ]
  },
  {
   "cell_type": "code",
   "execution_count": 101,
   "metadata": {},
   "outputs": [
    {
     "data": {
      "text/html": [
       "<div>\n",
       "<style scoped>\n",
       "    .dataframe tbody tr th:only-of-type {\n",
       "        vertical-align: middle;\n",
       "    }\n",
       "\n",
       "    .dataframe tbody tr th {\n",
       "        vertical-align: top;\n",
       "    }\n",
       "\n",
       "    .dataframe thead th {\n",
       "        text-align: right;\n",
       "    }\n",
       "</style>\n",
       "<table border=\"1\" class=\"dataframe\">\n",
       "  <thead>\n",
       "    <tr style=\"text-align: right;\">\n",
       "      <th></th>\n",
       "      <th>000660.KS</th>\n",
       "      <th>005930.KS</th>\n",
       "      <th>GM</th>\n",
       "      <th>KO</th>\n",
       "    </tr>\n",
       "    <tr>\n",
       "      <th>Date</th>\n",
       "      <th></th>\n",
       "      <th></th>\n",
       "      <th></th>\n",
       "      <th></th>\n",
       "    </tr>\n",
       "  </thead>\n",
       "  <tbody>\n",
       "    <tr>\n",
       "      <th>2017-12-27</th>\n",
       "      <td>75100.0</td>\n",
       "      <td>49360.0</td>\n",
       "      <td>41.310001</td>\n",
       "      <td>45.930000</td>\n",
       "    </tr>\n",
       "    <tr>\n",
       "      <th>2017-12-28</th>\n",
       "      <td>76500.0</td>\n",
       "      <td>50960.0</td>\n",
       "      <td>41.380001</td>\n",
       "      <td>45.720001</td>\n",
       "    </tr>\n",
       "    <tr>\n",
       "      <th>2017-12-29</th>\n",
       "      <td>76500.0</td>\n",
       "      <td>50960.0</td>\n",
       "      <td>40.990002</td>\n",
       "      <td>45.880001</td>\n",
       "    </tr>\n",
       "  </tbody>\n",
       "</table>\n",
       "</div>"
      ],
      "text/plain": [
       "            000660.KS  005930.KS         GM         KO\n",
       "Date                                                  \n",
       "2017-12-27    75100.0    49360.0  41.310001  45.930000\n",
       "2017-12-28    76500.0    50960.0  41.380001  45.720001\n",
       "2017-12-29    76500.0    50960.0  40.990002  45.880001"
      ]
     },
     "execution_count": 101,
     "metadata": {},
     "output_type": "execute_result"
    }
   ],
   "source": [
    "prices.sort_index(inplace=True)\n",
    "prices.tail(3)"
   ]
  },
  {
   "cell_type": "markdown",
   "metadata": {},
   "source": [
    "## **공분산 Cov(X,Y)  , $\\sigma$ **\n",
    "[참고 사이트](http://www.walterz.net/2017/08/09/%ED%86%B5%EA%B3%84%ED%95%99-%EB%B6%84%EC%82%B0-%ED%91%9C%EC%A4%80%ED%8E%B8%EC%B0%A8-%EA%B3%B5%EB%B6%84%EC%82%B0/)\n",
    "**두 자산이 주변 환경에 따라 얼마나 큰 차이로 변동**이 생기는지 측정할 때 사용되는 것이 공분산과 상관계수다.\n",
    "1. **표준편차**는 분산의 제곱근으로 구할 수 있으며 **한 가지 자산에 대한 위험**을 측정하는데 사용\n",
    "1. **공분산**은 **두 자산(또는 여럿)의 표준편차**를 이용하여 구할 수 있으며 두 자산에 대한 관계를 규명하는데 사용\n",
    "\n",
    "<img src=\"https://i0.wp.com/www.walterz.net/wp-content/uploads/2017/08/%EC%88%98%EC%8B%9D10.gif?resize=340%2C68\" align=\"left\">"
   ]
  },
  {
   "cell_type": "code",
   "execution_count": 102,
   "metadata": {},
   "outputs": [],
   "source": [
    "#  여러 종목의 운동을 비교하여 분산을 비교측정\n",
    "portfolio_rate     = [0.5, 0.2, 0.2, 0.1]\n",
    "weights            = np.asarray(portfolio_rate)  # Portfolio 분산비율을 : 'array'방식으로 변환"
   ]
  },
  {
   "cell_type": "code",
   "execution_count": 103,
   "metadata": {},
   "outputs": [
    {
     "data": {
      "text/plain": [
       "000660.KS    0.002207\n",
       "005930.KS    0.001439\n",
       "GM           0.000713\n",
       "KO           0.000407\n",
       "dtype: float64"
      ]
     },
     "execution_count": 103,
     "metadata": {},
     "output_type": "execute_result"
    }
   ],
   "source": [
    "# 일간 변동률과 일간 변동률의 평균계산\n",
    "returns            = prices.pct_change()         # 종가를 일간 변동률로 변환한다\n",
    "mean_daily_returns = returns.mean()              # 일간 변동률의 평균\n",
    "mean_daily_returns"
   ]
  },
  {
   "cell_type": "code",
   "execution_count": 104,
   "metadata": {},
   "outputs": [
    {
     "data": {
      "text/html": [
       "<div>\n",
       "<style scoped>\n",
       "    .dataframe tbody tr th:only-of-type {\n",
       "        vertical-align: middle;\n",
       "    }\n",
       "\n",
       "    .dataframe tbody tr th {\n",
       "        vertical-align: top;\n",
       "    }\n",
       "\n",
       "    .dataframe thead th {\n",
       "        text-align: right;\n",
       "    }\n",
       "</style>\n",
       "<table border=\"1\" class=\"dataframe\">\n",
       "  <thead>\n",
       "    <tr style=\"text-align: right;\">\n",
       "      <th></th>\n",
       "      <th>000660.KS</th>\n",
       "      <th>005930.KS</th>\n",
       "      <th>GM</th>\n",
       "      <th>KO</th>\n",
       "    </tr>\n",
       "  </thead>\n",
       "  <tbody>\n",
       "    <tr>\n",
       "      <th>000660.KS</th>\n",
       "      <td>0.000449</td>\n",
       "      <td>0.000171</td>\n",
       "      <td>4.143619e-06</td>\n",
       "      <td>1.137547e-05</td>\n",
       "    </tr>\n",
       "    <tr>\n",
       "      <th>005930.KS</th>\n",
       "      <td>0.000171</td>\n",
       "      <td>0.000215</td>\n",
       "      <td>4.691450e-06</td>\n",
       "      <td>2.635179e-06</td>\n",
       "    </tr>\n",
       "    <tr>\n",
       "      <th>GM</th>\n",
       "      <td>0.000004</td>\n",
       "      <td>0.000005</td>\n",
       "      <td>1.720720e-04</td>\n",
       "      <td>-3.718223e-07</td>\n",
       "    </tr>\n",
       "    <tr>\n",
       "      <th>KO</th>\n",
       "      <td>0.000011</td>\n",
       "      <td>0.000003</td>\n",
       "      <td>-3.718223e-07</td>\n",
       "      <td>3.200971e-05</td>\n",
       "    </tr>\n",
       "  </tbody>\n",
       "</table>\n",
       "</div>"
      ],
      "text/plain": [
       "           000660.KS  005930.KS            GM            KO\n",
       "000660.KS   0.000449   0.000171  4.143619e-06  1.137547e-05\n",
       "005930.KS   0.000171   0.000215  4.691450e-06  2.635179e-06\n",
       "GM          0.000004   0.000005  1.720720e-04 -3.718223e-07\n",
       "KO          0.000011   0.000003 -3.718223e-07  3.200971e-05"
      ]
     },
     "execution_count": 104,
     "metadata": {},
     "output_type": "execute_result"
    }
   ],
   "source": [
    "# DataFrame의 계산 : 일간 변동률의 공분산\n",
    "cov_returns        = returns.cov()               \n",
    "cov_returns"
   ]
  },
  {
   "cell_type": "code",
   "execution_count": 105,
   "metadata": {},
   "outputs": [
    {
     "data": {
      "text/plain": [
       "0.4"
      ]
     },
     "execution_count": 105,
     "metadata": {},
     "output_type": "execute_result"
    }
   ],
   "source": [
    "# 1. 포트폴리오의 연간 예상수익\n",
    "portfolio_return   = round(np.sum(\n",
    "    mean_daily_returns * weights) * 252, 2)   \n",
    "portfolio_return"
   ]
  },
  {
   "cell_type": "code",
   "execution_count": 106,
   "metadata": {},
   "outputs": [
    {
     "data": {
      "text/plain": [
       "array([2.60629334e-04, 1.29915719e-04, 3.73873122e-05, 9.34137903e-06])"
      ]
     },
     "execution_count": 106,
     "metadata": {},
     "output_type": "execute_result"
    }
   ],
   "source": [
    "# 2. 포트폴리오의 변동률 계산\n",
    "# 일간 데이터를 바탕으로 연간 변동률 계산\n",
    "# 공분산과 포트폴리오 분포를 내적으로 계산\n",
    "np.dot(cov_returns, weights)"
   ]
  },
  {
   "cell_type": "code",
   "execution_count": 107,
   "metadata": {},
   "outputs": [
    {
     "data": {
      "text/plain": [
       "0.00016470941129823193"
      ]
     },
     "execution_count": 107,
     "metadata": {},
     "output_type": "execute_result"
    }
   ],
   "source": [
    "np.dot(weights.T,  np.dot(cov_returns, weights)) "
   ]
  },
  {
   "cell_type": "code",
   "execution_count": 108,
   "metadata": {},
   "outputs": [
    {
     "data": {
      "text/plain": [
       "0.012833916444259404"
      ]
     },
     "execution_count": 108,
     "metadata": {},
     "output_type": "execute_result"
    }
   ],
   "source": [
    "# 제곱근 계산\n",
    "np.sqrt(np.dot(weights.T, np.dot(cov_returns, weights)) )"
   ]
  },
  {
   "cell_type": "code",
   "execution_count": 109,
   "metadata": {},
   "outputs": [
    {
     "data": {
      "text/plain": [
       "15.874507866387544"
      ]
     },
     "execution_count": 109,
     "metadata": {},
     "output_type": "execute_result"
    }
   ],
   "source": [
    "# 총 일수를 제곱근으로 계산\n",
    "np.sqrt(252)"
   ]
  },
  {
   "cell_type": "code",
   "execution_count": 110,
   "metadata": {},
   "outputs": [
    {
     "data": {
      "text/plain": [
       "0.2037321075509564"
      ]
     },
     "execution_count": 110,
     "metadata": {},
     "output_type": "execute_result"
    }
   ],
   "source": [
    "# 연데이터의 일평균 데이터의 제곱근을 \n",
    "np.sqrt(np.dot(weights.T, np.dot(cov_returns, weights)) ) * np.sqrt(252)"
   ]
  },
  {
   "cell_type": "code",
   "execution_count": 111,
   "metadata": {},
   "outputs": [
    {
     "data": {
      "text/plain": [
       "0.2"
      ]
     },
     "execution_count": 111,
     "metadata": {},
     "output_type": "execute_result"
    }
   ],
   "source": [
    "portfolio_std_dev  = round(np.sqrt(\n",
    "    np.dot(weights.T, \n",
    "           np.dot(cov_returns, weights)) ) * np.sqrt(252), 2) \n",
    "\n",
    "portfolio_std_dev"
   ]
  },
  {
   "cell_type": "code",
   "execution_count": 112,
   "metadata": {
    "scrolled": true
   },
   "outputs": [
    {
     "name": "stdout",
     "output_type": "stream",
     "text": [
      "[0.5, 0.2, 0.2, 0.1] 분산비율의 포트폴리오의 \n",
      "1) 연간 수익은 +-0.4 이고 \n",
      "2) 변동률은     0.2 이다\n"
     ]
    }
   ],
   "source": [
    "print('{} 분산비율의 포트폴리오의 \\n1) 연간 수익은 +-{} 이고 \\n2) 변동률은     {} 이다'.format(\n",
    "    portfolio_rate, portfolio_return, portfolio_std_dev))"
   ]
  },
  {
   "cell_type": "markdown",
   "metadata": {},
   "source": [
    "<br>\n",
    "### **03 몬테카를로 시뮬레이션을 활용한  포트폴리오 평가**\n",
    "난수를 활용하여 다양한 포트폴리오를 사프지수 Sharpe Ratio (return / volatility) 로 평가 "
   ]
  },
  {
   "cell_type": "markdown",
   "metadata": {},
   "source": [
    "## /=\n",
    "배열 array 데이터를 모두 균일하게 나눈다 : 전체합을 나눔"
   ]
  },
  {
   "cell_type": "code",
   "execution_count": 113,
   "metadata": {},
   "outputs": [
    {
     "name": "stdout",
     "output_type": "stream",
     "text": [
      "1.0\n",
      "1.0\n",
      "1.0\n",
      "1.0\n",
      "1.0\n",
      "1.0\n",
      "1.0\n",
      "1.0\n",
      "1.0\n",
      "1.0\n"
     ]
    }
   ],
   "source": [
    "for i in range(1, 50, 5):\n",
    "    i /= i\n",
    "    print(i)"
   ]
  },
  {
   "cell_type": "code",
   "execution_count": 114,
   "metadata": {},
   "outputs": [
    {
     "data": {
      "text/plain": [
       "array([0.34480096, 0.33769176, 0.18153085, 0.13597642])"
      ]
     },
     "execution_count": 114,
     "metadata": {},
     "output_type": "execute_result"
    }
   ],
   "source": [
    "# 난수생성기로 포트폴리오 분산비율 생성하기\n",
    "rand_num = np.random.random(4)\n",
    "rand_num /= np.sum(rand_num)\n",
    "rand_num"
   ]
  },
  {
   "cell_type": "markdown",
   "metadata": {},
   "source": [
    "### 샤프지수\n",
    "#### 종목의 초과수익률 / 해당펀드 전체 수익률 표준편차 \n",
    "위험에 대비한 수익률 비교분석\n",
    "샤프 지수(Sharpe Ratio)란 위험 자산에 투자함으로써 얻은 **초과 수익의 정도**를 나타내는 지표로 윌리엄 샤프(William F. Sharpe)교수가 펀드 평가를 위해 개발한 지수이다."
   ]
  },
  {
   "cell_type": "markdown",
   "metadata": {},
   "source": [
    "#### cf) 샤프지수 [개념설명](http://ecodemy.cafe24.com/sharinde.html)\n",
    "해당 포트폴리오 수익률에서 무위험 이자율(은행수익률을) 빼고, 이 값을 위험(표준편차)으로 나눈 값이다.<br> 돈을 잃을 위험을 \"1\"이라고 가정 할 때, 해당 포트폴리오가 안겨주는 초과수익률 (값이 클수록 좋다)로써,<br> 투자위험이 1 커질때 마다 기대가능한 시장 초과 추가수익률 값이다"
   ]
  },
  {
   "cell_type": "markdown",
   "metadata": {},
   "source": [
    "#### cf) 확률의 덧셈정리 [참고사이트](http://mathbang.net/114)\n",
    "확률(a) 또는 확률(b)가 일어날 확률 = (a)의 확률 + (b)의 확률"
   ]
  },
  {
   "cell_type": "code",
   "execution_count": 115,
   "metadata": {},
   "outputs": [],
   "source": [
    "returns            = prices.pct_change()       # 종가를 일간 변동률로 변환한다"
   ]
  },
  {
   "cell_type": "code",
   "execution_count": 116,
   "metadata": {},
   "outputs": [],
   "source": [
    "cov_returns        = returns.cov()             # 일간 변동률의 공분산\n",
    "mean_daily_returns = returns.mean()            # 일간 변동률의 평균"
   ]
  },
  {
   "cell_type": "code",
   "execution_count": 117,
   "metadata": {},
   "outputs": [],
   "source": [
    "# 몬테카를로 시뮬레이션을 활용한 최적의 비율 찾기 \n",
    "num_portfolios     = 25000                              # 몬테카를로 시뮬레이션 횟수를 정의한다\n",
    "results            = np.zeros((3 + len(prices.columns), # 시뮬레이션 결과값 저장 Zero Array\n",
    "                           num_portfolios))\n",
    "\n",
    "# Portfolio 분산비율\n",
    "for i in range(num_portfolios):\n",
    "    weights  = np.random.random(len(prices.columns))    # 난수 혼합비율을 생성\n",
    "    weights /= np.sum(weights)                 # 난수 전체의 합이 1이 되도록 Rebalance     \n",
    "    \n",
    "    portfolio_return  = np.sum(                # 포트폴리오 전체 연간 일평균 계산 : 확률의 덧셈정리\n",
    "        mean_daily_returns * weights) * 252       \n",
    "\n",
    "    portfolio_std_dev = np.sqrt(               # 포트폴리오 전체의 변동률 계산\n",
    "        np.dot(weights.T, np.dot(cov_returns, weights))) * np.sqrt(252)   \n",
    "\n",
    "    results[0,i] = portfolio_return            # 0번 인덱스 : 평균\n",
    "    results[1,i] = portfolio_std_dev           # 1번 인덱스 : 변동률\n",
    "    results[2,i] = results[0,i]/results[1,i]   # 2번 인덱스 : 사프지수\n",
    "\n",
    "    for j in range(len(weights)):              # 기업별 생성한 난수비율값 저장\n",
    "        results[j+3, i] = weights[j]           "
   ]
  },
  {
   "cell_type": "code",
   "execution_count": 118,
   "metadata": {},
   "outputs": [
    {
     "data": {
      "text/plain": [
       "array([[0.22591053, 0.2560479 , 0.35795732, ..., 0.24610171, 0.24945347,\n",
       "        0.19904868],\n",
       "       [0.10999987, 0.11657471, 0.1774667 , ..., 0.12364337, 0.11722199,\n",
       "        0.10053952],\n",
       "       [2.05373446, 2.19642749, 2.01703942, ..., 1.99041581, 2.12804327,\n",
       "        1.97980528],\n",
       "       ...,\n",
       "       [0.31345008, 0.2863158 , 0.3239707 , ..., 0.44038459, 0.33283982,\n",
       "        0.26677528],\n",
       "       [0.30957953, 0.17520275, 0.13880078, ..., 0.25587949, 0.26046261,\n",
       "        0.32022046],\n",
       "       [0.33752245, 0.39414907, 0.18357103, ..., 0.28343691, 0.31809861,\n",
       "        0.40782958]])"
      ]
     },
     "execution_count": 118,
     "metadata": {},
     "output_type": "execute_result"
    }
   ],
   "source": [
    "results"
   ]
  },
  {
   "cell_type": "code",
   "execution_count": 119,
   "metadata": {},
   "outputs": [
    {
     "data": {
      "text/html": [
       "<div>\n",
       "<style scoped>\n",
       "    .dataframe tbody tr th:only-of-type {\n",
       "        vertical-align: middle;\n",
       "    }\n",
       "\n",
       "    .dataframe tbody tr th {\n",
       "        vertical-align: top;\n",
       "    }\n",
       "\n",
       "    .dataframe thead th {\n",
       "        text-align: right;\n",
       "    }\n",
       "</style>\n",
       "<table border=\"1\" class=\"dataframe\">\n",
       "  <thead>\n",
       "    <tr style=\"text-align: right;\">\n",
       "      <th></th>\n",
       "      <th>수익평균(return)</th>\n",
       "      <th>주가변동성(stdev)</th>\n",
       "      <th>샤프지수(sharpe)</th>\n",
       "      <th>000660.KS</th>\n",
       "      <th>005930.KS</th>\n",
       "      <th>GM</th>\n",
       "      <th>KO</th>\n",
       "    </tr>\n",
       "  </thead>\n",
       "  <tbody>\n",
       "    <tr>\n",
       "      <th>0</th>\n",
       "      <td>0.225911</td>\n",
       "      <td>0.110000</td>\n",
       "      <td>2.053734</td>\n",
       "      <td>0.039448</td>\n",
       "      <td>0.313450</td>\n",
       "      <td>0.309580</td>\n",
       "      <td>0.337522</td>\n",
       "    </tr>\n",
       "    <tr>\n",
       "      <th>1</th>\n",
       "      <td>0.256048</td>\n",
       "      <td>0.116575</td>\n",
       "      <td>2.196427</td>\n",
       "      <td>0.144332</td>\n",
       "      <td>0.286316</td>\n",
       "      <td>0.175203</td>\n",
       "      <td>0.394149</td>\n",
       "    </tr>\n",
       "    <tr>\n",
       "      <th>2</th>\n",
       "      <td>0.357957</td>\n",
       "      <td>0.177467</td>\n",
       "      <td>2.017039</td>\n",
       "      <td>0.353657</td>\n",
       "      <td>0.323971</td>\n",
       "      <td>0.138801</td>\n",
       "      <td>0.183571</td>\n",
       "    </tr>\n",
       "  </tbody>\n",
       "</table>\n",
       "</div>"
      ],
      "text/plain": [
       "   수익평균(return)  주가변동성(stdev)  샤프지수(sharpe)  000660.KS  005930.KS        GM  \\\n",
       "0      0.225911      0.110000      2.053734   0.039448   0.313450  0.309580   \n",
       "1      0.256048      0.116575      2.196427   0.144332   0.286316  0.175203   \n",
       "2      0.357957      0.177467      2.017039   0.353657   0.323971  0.138801   \n",
       "\n",
       "         KO  \n",
       "0  0.337522  \n",
       "1  0.394149  \n",
       "2  0.183571  "
      ]
     },
     "execution_count": 119,
     "metadata": {},
     "output_type": "execute_result"
    }
   ],
   "source": [
    "# 포트폴리오 결과값들을 산점도로 시각화 한다\n",
    "results_frame = pd.DataFrame(results.T, \n",
    "                             columns = ['수익평균(return)','주가변동성(stdev)','샤프지수(sharpe)', \n",
    "                                        prices.columns[0], prices.columns[1], prices.columns[2], prices.columns[3]])\n",
    "results_frame.head(3)"
   ]
  },
  {
   "cell_type": "markdown",
   "metadata": {},
   "source": [
    "### 샤프지수 해석\n",
    "1. 보통 샤프 지수가 1 정도면 그럭저럭 괜찮은 펀드, 2 정도면 쓸만한 펀드 3 이상이면 아주 괜찮은 펀드로 볼 수 있다고 한다\n",
    "1. 주의할 점도 있다. 주식형 펀드의 경우 쓸만한 성적을 내고 있지만 샤프 지수는 1에 미치지 못하는 경우가 많기 때문이다.\n",
    "1. 때문에 1보다 크냐 적냐를 따지기 보다는 다른 펀드와의 상대적인 비교 용도로 사용하는 것이 좋을 것으로 생각 된다. <br>\n",
    "<img src=\"http://www.mysmp.com/files/u1/sharpe-ratio.png\" align=\"left\">"
   ]
  },
  {
   "cell_type": "code",
   "execution_count": 121,
   "metadata": {},
   "outputs": [
    {
     "data": {
      "text/plain": [
       "<matplotlib.colorbar.Colorbar at 0x7ff815f755f8>"
      ]
     },
     "execution_count": 121,
     "metadata": {},
     "output_type": "execute_result"
    },
    {
     "data": {
      "image/png": "[encoded data removed]",
      "text/plain": [
       "<Figure size 864x432 with 2 Axes>"
      ]
     },
     "metadata": {},
     "output_type": "display_data"
    }
   ],
   "source": [
    "%matplotlib inline\n",
    "import matplotlib.pyplot as plt\n",
    "plt.figure(figsize=(12,6))\n",
    "plt.scatter(results_frame['주가변동성(stdev)'],     # X축 : 변동률\n",
    "            results_frame['수익평균(return)'],      # Y축 : 연간 수익률 (일평균 * 252)\n",
    "            c = results_frame['샤프지수(sharpe)'])  # cmap = 'RdYlBu' (칼라 팔렛트) : 샤프지수\n",
    "plt.grid(); plt.colorbar()"
   ]
  },
  {
   "cell_type": "markdown",
   "metadata": {},
   "source": [
    "<br>\n",
    "### **04 몬테카를로 포트폴리오 최적값 계산**\n",
    "1. 샤프지수가 최대인 포트폴리오\n",
    "1. 표준편차가 최소인 포트폴리오 "
   ]
  },
  {
   "cell_type": "code",
   "execution_count": 122,
   "metadata": {},
   "outputs": [
    {
     "data": {
      "text/plain": [
       "18909"
      ]
     },
     "execution_count": 122,
     "metadata": {},
     "output_type": "execute_result"
    }
   ],
   "source": [
    "results_frame['샤프지수(sharpe)'].idxmax()"
   ]
  },
  {
   "cell_type": "code",
   "execution_count": 123,
   "metadata": {},
   "outputs": [
    {
     "data": {
      "text/plain": [
       "12938"
      ]
     },
     "execution_count": 123,
     "metadata": {},
     "output_type": "execute_result"
    }
   ],
   "source": [
    "results_frame['샤프지수(sharpe)'].idxmin()"
   ]
  },
  {
   "cell_type": "code",
   "execution_count": 124,
   "metadata": {},
   "outputs": [
    {
     "data": {
      "text/plain": [
       "수익평균(return)    0.248694\n",
       "주가변동성(stdev)    0.116056\n",
       "샤프지수(sharpe)    2.142878\n",
       "000660.KS       0.088347\n",
       "005930.KS       0.351703\n",
       "GM              0.188496\n",
       "KO              0.371454\n",
       "Name: 8056, dtype: float64"
      ]
     },
     "execution_count": 124,
     "metadata": {},
     "output_type": "execute_result"
    }
   ],
   "source": [
    "results_frame.iloc[8056, :]"
   ]
  },
  {
   "cell_type": "code",
   "execution_count": 125,
   "metadata": {},
   "outputs": [
    {
     "data": {
      "text/plain": [
       "수익평균(return)    0.225091\n",
       "주가변동성(stdev)    0.100254\n",
       "샤프지수(sharpe)    2.245202\n",
       "000660.KS       0.137873\n",
       "005930.KS       0.178451\n",
       "GM              0.175585\n",
       "KO              0.508091\n",
       "Name: 18909, dtype: float64"
      ]
     },
     "execution_count": 125,
     "metadata": {},
     "output_type": "execute_result"
    }
   ],
   "source": [
    "max_sharpe_port = results_frame.iloc[results_frame['샤프지수(sharpe)'].idxmax()]  # 사프지수 최대값인 인자값을 추출\n",
    "max_sharpe_port"
   ]
  },
  {
   "cell_type": "code",
   "execution_count": 126,
   "metadata": {},
   "outputs": [
    {
     "data": {
      "text/plain": [
       "수익평균(return)    0.143465\n",
       "주가변동성(stdev)    0.079107\n",
       "샤프지수(sharpe)    1.813556\n",
       "000660.KS       0.007963\n",
       "005930.KS       0.089587\n",
       "GM              0.180760\n",
       "KO              0.721691\n",
       "Name: 755, dtype: float64"
      ]
     },
     "execution_count": 126,
     "metadata": {},
     "output_type": "execute_result"
    }
   ],
   "source": [
    "min_vol_port    = results_frame.iloc[results_frame['주가변동성(stdev)'].idxmin()] # 표준편차가 최소인 인자값을 추출\n",
    "min_vol_port"
   ]
  },
  {
   "cell_type": "markdown",
   "metadata": {},
   "source": [
    "<br>\n",
    "### **05 몬테카를로 포트폴리오 최적값 시각화**\n",
    "1. 샤프지수가 최대인 포트폴리오\n",
    "1. 표준편차가 최소인 포트폴리오 "
   ]
  },
  {
   "cell_type": "code",
   "execution_count": 128,
   "metadata": {},
   "outputs": [
    {
     "data": {
      "text/plain": [
       "<matplotlib.collections.PathCollection at 0x7ff815e38cf8>"
      ]
     },
     "execution_count": 128,
     "metadata": {},
     "output_type": "execute_result"
    },
    {
     "data": {
      "image/png": "[encoded data removed]",
      "text/plain": [
       "<Figure size 864x432 with 2 Axes>"
      ]
     },
     "metadata": {},
     "output_type": "display_data"
    }
   ],
   "source": [
    "# create scatter plot coloured by Sharpe Ratio\n",
    "plt.figure(figsize=(12,6)); plt.grid()\n",
    "\n",
    "plt.scatter(results_frame['주가변동성(stdev)'], \n",
    "            results_frame['수익평균(return)'],\n",
    "            c = results_frame['샤프지수(sharpe)'])#,cmap = 'RdYlBu')\n",
    "\n",
    "plt.xlabel('Volatility')\n",
    "plt.ylabel('Returns')\n",
    "plt.colorbar()\n",
    "\n",
    "# 샤프지수가 최대인 위치에 별을 표시하기 : 빨간색\n",
    "plt.scatter(max_sharpe_port[1], max_sharpe_port[0],\n",
    "            marker = (5,1,0), color = 'r', s = 1000)\n",
    "\n",
    "# 포트폴리오 분산이 최소인 위치에 표시하기 : 녹색\n",
    "plt.scatter(min_vol_port[1],  min_vol_port[0],\n",
    "            marker = (5,1,0), color = 'g', s = 1000)"
   ]
  },
  {
   "cell_type": "markdown",
   "metadata": {},
   "source": [
    "<br>\n",
    "### **05 몬테카를로 포트폴리오 비율출력**\n",
    "1. 샤프지수가 최대인 포트폴리오\n",
    "1. 표준편차가 최소인 포트폴리오 "
   ]
  },
  {
   "cell_type": "code",
   "execution_count": 129,
   "metadata": {},
   "outputs": [
    {
     "name": "stdout",
     "output_type": "stream",
     "text": [
      "수익평균(return)    0.225091\n",
      "주가변동성(stdev)    0.100254\n",
      "샤프지수(sharpe)    2.245202\n",
      "000660.KS       0.137873\n",
      "005930.KS       0.178451\n",
      "GM              0.175585\n",
      "KO              0.508091\n",
      "Name: 18909, dtype: float64\n"
     ]
    }
   ],
   "source": [
    "# 사프지수 최대로 갖는 포트폴리오 비율 \t\n",
    "print(max_sharpe_port)"
   ]
  },
  {
   "cell_type": "code",
   "execution_count": 130,
   "metadata": {},
   "outputs": [
    {
     "name": "stdout",
     "output_type": "stream",
     "text": [
      "수익평균(return)    0.143465\n",
      "주가변동성(stdev)    0.079107\n",
      "샤프지수(sharpe)    1.813556\n",
      "000660.KS       0.007963\n",
      "005930.KS       0.089587\n",
      "GM              0.180760\n",
      "KO              0.721691\n",
      "Name: 755, dtype: float64\n"
     ]
    }
   ],
   "source": [
    "# 변동성을 최소로 갖는 포트폴리오 비율\n",
    "print(min_vol_port)"
   ]
  }
 ],
 "metadata": {
  "kernelspec": {
   "display_name": "Python 3",
   "language": "python",
   "name": "python3"
  },
  "language_info": {
   "codemirror_mode": {
    "name": "ipython",
    "version": 3
   },
   "file_extension": ".py",
   "mimetype": "text/x-python",
   "name": "python",
   "nbconvert_exporter": "python",
   "pygments_lexer": "ipython3",
   "version": "3.6.3"
  }
 },
 "nbformat": 4,
 "nbformat_minor": 2
}
