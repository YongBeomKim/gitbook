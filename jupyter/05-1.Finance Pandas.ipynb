{
 "cells": [
  {
   "cell_type": "markdown",
   "metadata": {},
   "source": [
    "<br>\n",
    "# ** 5 Python for Finance**\n",
    "파이썬을 활용한 금융분석"
   ]
  },
  {
   "cell_type": "markdown",
   "metadata": {},
   "source": [
    "### **review Data Datum**\n",
    "1. Datum(숫자, \"문자\"), Data([list], {dict}, (tuple,))\n",
    "1. (기본/외부/사용자) 모듈, 함수, 메소드\n",
    "1. []의 문자에서 활용( [index], [:slicing]), 함수를 활용{for : 반복, if :판단, enumerate() :순번 integer 출력}\n",
    "1. 재무제표 Web Crawling ==> type 변경 ==> 시각화\n",
    "1. ndarray, Series, Dataframe"
   ]
  },
  {
   "cell_type": "markdown",
   "metadata": {},
   "source": [
    "### **review Series**\n",
    "1. pd.Series( [ data ] , index = [ index ])\n",
    "1. series 사칙연산\n",
    "1. series [ Boolean 판단문 ]\n",
    "1. series.index = [ list ]\n",
    "1. series.isnull()\n",
    "1. series.drop()"
   ]
  },
  {
   "cell_type": "markdown",
   "metadata": {},
   "source": [
    "### **review DataFrame**\n",
    "1. pd.DataFrame( { columns :  [ data ] , columns :  [ data ] } )\n",
    "1. pd.to_datetime()\n",
    "1. df.rename( columns = { 기존 column , 새로운 column } )\n",
    "1. df.insert( 컬럼순서,  컬럼명 ,  data )\n",
    "1. df.column이름 &nbsp; | &nbsp; df['column이름']\n",
    "1. df [ index Slicing ]\n",
    "1. df.iloc[ index slicing,  column slicing ]\n",
    "1. df.reset_index()        :  index  -> column\n",
    "1. df.set_index( '컬럼명' ) :  column -> index\n",
    "1. df.sort_index()\n",
    "1. df.sort_value()\n",
    "1. df[ boolean 함수 ]\n",
    "1. df[ boolean 함수 ].column이름\n",
    "1. axis = 0 : index | axis = 1 : column\n",
    "1. df.drop( 'index이름'  , axis = 0 )\n",
    "1. df.drop( 'column이름' ,  axis = 1 )\n",
    "1. df.index.tolist()\n",
    "1. df.column.tolist()\n",
    "1. df.apply(lambda x: x ** 2)  \n",
    "1. pd.pivot_table(df,index = [], values = [], aggfunc = [], margins = True)"
   ]
  },
  {
   "cell_type": "markdown",
   "metadata": {},
   "source": [
    "### **review DataFrame static**\n",
    "1. .count()\n",
    "1. .describe()\n",
    "1. .min()     .max()\n",
    "1. .idxmin()  .idxmax()\n",
    "1. .quantile()   \n",
    "1. .sum()\n",
    "1. .mean()    .median()\n",
    "1. .var() 분산 .std() 정규분산\n",
    "1. .cumsum()  .cumprod()  누적 합    누적 곱\n",
    "1. .cummin()  .cummax()   누적최소값, 누적최대값"
   ]
  },
  {
   "cell_type": "markdown",
   "metadata": {},
   "source": [
    "### **review Series & DataFrame 결측치 제어하기**\n",
    "1. df.dropna()\n",
    "1. df.fillna(method='ffill',  limit=2)  # 결측치 대체\n",
    "1. df.fillna(df.mean()['컬럼명'])   \n",
    "1. Series.interpolate(method='time')    # 결측치 보간 (시계열적 특성을 부여가능)\n",
    "1. Series.interpolate(method='values', limit=1, limit_direction='backward') # 'forward','backward','both'"
   ]
  },
  {
   "cell_type": "markdown",
   "metadata": {},
   "source": [
    "### **review &nbsp; TimeSeries**\n",
    "1. from datetime import datetime\n",
    "1. pandas.date_range(end = '2017-07-01', periods=30, freq='BM')  \n",
    "1. pandas.date_range('2017/8/8 09:09:09', periods=5, normalize=True)\n",
    "1. [str(date.date()) &nbsp;&nbsp; for &nbsp;&nbsp; date &nbsp;&nbsp; in &nbsp;&nbsp; pd.date_range('2017/01/01', '2017/01/11')]"
   ]
  },
  {
   "cell_type": "markdown",
   "metadata": {},
   "source": [
    "<br><br>\n",
    "## <strong>1 금융 시계열 데이터\n",
    "1. 금융 데이터 수집하기\n",
    "1. 테이블 결측치 처리하기\n",
    "1. 정규화 처리하기"
   ]
  },
  {
   "cell_type": "markdown",
   "metadata": {},
   "source": [
    "<br>\n",
    "### **01 시계열 데이터 수집하기**\n",
    "! pip install git+https://github.com/pydata/pandas-datareader.git --upgrade\n",
    "1. https://github.com/pydata/pandas-datareader\n"
   ]
  },
  {
   "cell_type": "code",
   "execution_count": 12,
   "metadata": {},
   "outputs": [],
   "source": [
    "# %matplotlib inline\n",
    "\n",
    "# from pandas_datareader import get_data_yahoo\n",
    "\n",
    "# samsung = get_data_yahoo('005930.KS', '2017-01', '2018-01')\n",
    "# samsung.Close.plot()"
   ]
  },
  {
   "cell_type": "code",
   "execution_count": 13,
   "metadata": {},
   "outputs": [],
   "source": [
    "# samsung.head()"
   ]
  },
  {
   "cell_type": "code",
   "execution_count": 14,
   "metadata": {},
   "outputs": [],
   "source": [
    "# samsung['2017-07'].head()"
   ]
  },
  {
   "cell_type": "code",
   "execution_count": 1,
   "metadata": {},
   "outputs": [],
   "source": [
    "# from pandas_datareader import get_data_yahoo\n",
    "\n",
    "# start_date = '2013-01-01' \n",
    "# #startdate를 1996년으로 설정해두면 가장 오래된 데이터부터 전부 가져올 수 있다.\n",
    "\n",
    "# codes = ['GM', 'KO', '005930.KS', '031510.KQ']\n",
    "\n",
    "# result = {}\n",
    "# for code in codes:\n",
    "#     result[code] = get_data_yahoo(code, start_date).Close\n",
    "\n",
    "# import pandas as pd\n",
    "# prices = pd.DataFrame(result)\n",
    "# prices.head(3)"
   ]
  },
  {
   "cell_type": "code",
   "execution_count": 2,
   "metadata": {},
   "outputs": [],
   "source": [
    "# prices.to_csv('./data/stock_data.csv', encoding='ms949')\n",
    "# print('done')"
   ]
  },
  {
   "cell_type": "code",
   "execution_count": 15,
   "metadata": {},
   "outputs": [
    {
     "name": "stdout",
     "output_type": "stream",
     "text": [
      "<class 'pandas.core.frame.DataFrame'>\n",
      "DatetimeIndex: 1406 entries, 2013-01-02 to 2018-06-05\n",
      "Data columns (total 4 columns):\n",
      "000660.KS    1406 non-null float64\n",
      "005930.KS    1406 non-null float64\n",
      "GM           1406 non-null float64\n",
      "KO           1406 non-null float64\n",
      "dtypes: float64(4)\n",
      "memory usage: 54.9 KB\n"
     ]
    }
   ],
   "source": [
    "# 이 부분은 약 1분의 시간으로 고민을 한 뒤에 따라하도록 한다\n",
    "import pandas as pd\n",
    "import numpy as np\n",
    "prices = pd.read_csv('./data/stock_data.csv', encoding='ms949')\n",
    "prices = prices.set_index('Date')\n",
    "prices.index = pd.DatetimeIndex(prices.index)\n",
    "prices.info()"
   ]
  },
  {
   "cell_type": "markdown",
   "metadata": {},
   "source": [
    "<br>\n",
    "### **02 pandas를 활용한 데이터 정렬 및 보간법**\n",
    "1. DataFrame.fillna()\n",
    "2. Series.interpolate(method='values', limit=1, limit_direction='backward') # 'forward','backward','both'"
   ]
  },
  {
   "cell_type": "code",
   "execution_count": 16,
   "metadata": {},
   "outputs": [
    {
     "name": "stdout",
     "output_type": "stream",
     "text": [
      "000660.KS    0\n",
      "005930.KS    0\n",
      "GM           0\n",
      "KO           0\n",
      "dtype: int64\n"
     ]
    }
   ],
   "source": [
    "# 빠진 내용이 너무 많음에도 비교 데이터로 보간을 필요시\n",
    "# 고육지책\n",
    "print(prices.isnull().sum())\n",
    "# Series.interpolate()"
   ]
  },
  {
   "cell_type": "code",
   "execution_count": 17,
   "metadata": {},
   "outputs": [
    {
     "data": {
      "text/html": [
       "<div>\n",
       "<style scoped>\n",
       "    .dataframe tbody tr th:only-of-type {\n",
       "        vertical-align: middle;\n",
       "    }\n",
       "\n",
       "    .dataframe tbody tr th {\n",
       "        vertical-align: top;\n",
       "    }\n",
       "\n",
       "    .dataframe thead th {\n",
       "        text-align: right;\n",
       "    }\n",
       "</style>\n",
       "<table border=\"1\" class=\"dataframe\">\n",
       "  <thead>\n",
       "    <tr style=\"text-align: right;\">\n",
       "      <th></th>\n",
       "      <th>000660.KS</th>\n",
       "      <th>005930.KS</th>\n",
       "      <th>GM</th>\n",
       "      <th>KO</th>\n",
       "    </tr>\n",
       "    <tr>\n",
       "      <th>Date</th>\n",
       "      <th></th>\n",
       "      <th></th>\n",
       "      <th></th>\n",
       "      <th></th>\n",
       "    </tr>\n",
       "  </thead>\n",
       "  <tbody>\n",
       "    <tr>\n",
       "      <th>2018-06-01</th>\n",
       "      <td>91400.0</td>\n",
       "      <td>51300.0</td>\n",
       "      <td>43.200001</td>\n",
       "      <td>43.119999</td>\n",
       "    </tr>\n",
       "    <tr>\n",
       "      <th>2018-06-04</th>\n",
       "      <td>89800.0</td>\n",
       "      <td>51100.0</td>\n",
       "      <td>43.779999</td>\n",
       "      <td>43.490002</td>\n",
       "    </tr>\n",
       "    <tr>\n",
       "      <th>2018-06-05</th>\n",
       "      <td>90800.0</td>\n",
       "      <td>50500.0</td>\n",
       "      <td>43.779999</td>\n",
       "      <td>43.490002</td>\n",
       "    </tr>\n",
       "  </tbody>\n",
       "</table>\n",
       "</div>"
      ],
      "text/plain": [
       "            000660.KS  005930.KS         GM         KO\n",
       "Date                                                  \n",
       "2018-06-01    91400.0    51300.0  43.200001  43.119999\n",
       "2018-06-04    89800.0    51100.0  43.779999  43.490002\n",
       "2018-06-05    90800.0    50500.0  43.779999  43.490002"
      ]
     },
     "execution_count": 17,
     "metadata": {},
     "output_type": "execute_result"
    }
   ],
   "source": [
    "prices = prices.fillna(method='ffill')     # 중간에 Nan이 존재시, 직전의 가격을 덧붙인다\n",
    "prices = prices.dropna()                   # 이후에도 빈 부분이 있으면(맨앞/ 맨뒤) 전체적 연산을 위해 제거한다\n",
    "prices.tail(3)"
   ]
  },
  {
   "cell_type": "markdown",
   "metadata": {},
   "source": [
    "<br><br>\n",
    "## **2 금융 시계열 데이터 전처리**\n",
    "데이터 분석을 위한 전처리 방법"
   ]
  },
  {
   "cell_type": "markdown",
   "metadata": {},
   "source": [
    "<br>\n",
    "### **01 가격 차이가 큰 시계열 데이터 비교하기**\n",
    "데이터 정규화 / 비정규화"
   ]
  },
  {
   "cell_type": "code",
   "execution_count": 8,
   "metadata": {},
   "outputs": [
    {
     "data": {
      "text/plain": [
       "<matplotlib.axes._subplots.AxesSubplot at 0x7ff823b7c160>"
      ]
     },
     "execution_count": 8,
     "metadata": {},
     "output_type": "execute_result"
    },
    {
     "data": {
      "image/png": "[encoded data removed]",
      "text/plain": [
       "<Figure size 432x288 with 1 Axes>"
      ]
     },
     "metadata": {},
     "output_type": "display_data"
    }
   ],
   "source": [
    "%matplotlib inline\n",
    "prices.plot()"
   ]
  },
  {
   "cell_type": "code",
   "execution_count": 9,
   "metadata": {
    "scrolled": true
   },
   "outputs": [
    {
     "data": {
      "text/plain": [
       "Date\n",
       "2018-05-30    49500.0\n",
       "2018-05-31    50700.0\n",
       "2018-06-01    51300.0\n",
       "2018-06-04    51100.0\n",
       "2018-06-05    50600.0\n",
       "Name: 005930.KS, dtype: float64"
      ]
     },
     "execution_count": 9,
     "metadata": {},
     "output_type": "execute_result"
    }
   ],
   "source": [
    "price = prices['005930.KS']\n",
    "price[-5:]"
   ]
  },
  {
   "cell_type": "code",
   "execution_count": 10,
   "metadata": {},
   "outputs": [
    {
     "data": {
      "text/plain": [
       "DatetimeIndex(['2013-01-02', '2013-01-03', '2013-01-04', '2013-01-07',\n",
       "               '2013-01-08', '2013-01-09', '2013-01-10', '2013-01-11',\n",
       "               '2013-01-14', '2013-01-15',\n",
       "               ...\n",
       "               '2018-05-23', '2018-05-24', '2018-05-25', '2018-05-28',\n",
       "               '2018-05-29', '2018-05-30', '2018-05-31', '2018-06-01',\n",
       "               '2018-06-04', '2018-06-05'],\n",
       "              dtype='datetime64[ns]', name='Date', length=1406, freq=None)"
      ]
     },
     "execution_count": 10,
     "metadata": {},
     "output_type": "execute_result"
    }
   ],
   "source": [
    "price.index"
   ]
  },
  {
   "cell_type": "code",
   "execution_count": 11,
   "metadata": {},
   "outputs": [
    {
     "data": {
      "text/plain": [
       "DatetimeIndex(['2013-01-02', '2013-01-03', '2013-01-04', '2013-01-07',\n",
       "               '2013-01-08', '2013-01-09', '2013-01-10', '2013-01-11',\n",
       "               '2013-01-14', '2013-01-15',\n",
       "               ...\n",
       "               '2018-05-23', '2018-05-24', '2018-05-25', '2018-05-28',\n",
       "               '2018-05-29', '2018-05-30', '2018-05-31', '2018-06-01',\n",
       "               '2018-06-04', '2018-06-05'],\n",
       "              dtype='datetime64[ns]', name='Date', length=1406, freq=None)"
      ]
     },
     "execution_count": 11,
     "metadata": {},
     "output_type": "execute_result"
    }
   ],
   "source": [
    "price.index = pd.DatetimeIndex(price.index)\n",
    "price.index"
   ]
  },
  {
   "cell_type": "code",
   "execution_count": 12,
   "metadata": {},
   "outputs": [
    {
     "data": {
      "text/plain": [
       "0.10781250000000009"
      ]
     },
     "execution_count": 12,
     "metadata": {},
     "output_type": "execute_result"
    }
   ],
   "source": [
    "# 주가변화율 계산 (2013-08-03 ~ 2013-10-03)\n",
    "# 1 : 단위 투자비용 (ex) 주가 매입비용 )\n",
    "\n",
    "price[\"2013-10-03\"] / price[\"2013-08-01\"] -1"
   ]
  },
  {
   "cell_type": "code",
   "execution_count": 13,
   "metadata": {},
   "outputs": [],
   "source": [
    "# .pct_change() : 퍼센트 변화율을 계산\n",
    "# .cumprod()    : 일별 퍼센트 변화의 \"누적 곱\" 계산 (Cumulative Product)\n",
    "returns      = price.pct_change()\n",
    "# returns"
   ]
  },
  {
   "cell_type": "code",
   "execution_count": 14,
   "metadata": {},
   "outputs": [
    {
     "data": {
      "text/plain": [
       "Date\n",
       "2013-01-02         NaN\n",
       "2013-01-03   -0.020939\n",
       "2013-01-04   -0.011666\n",
       "2013-01-07   -0.003279\n",
       "2013-01-08   -0.013158\n",
       "Name: 005930.KS, dtype: float64"
      ]
     },
     "execution_count": 14,
     "metadata": {},
     "output_type": "execute_result"
    }
   ],
   "source": [
    "returns[:5]"
   ]
  },
  {
   "cell_type": "code",
   "execution_count": 15,
   "metadata": {},
   "outputs": [
    {
     "data": {
      "text/plain": [
       "<matplotlib.axes._subplots.AxesSubplot at 0x7ff825ea28d0>"
      ]
     },
     "execution_count": 15,
     "metadata": {},
     "output_type": "execute_result"
    },
    {
     "data": {
      "image/png": "[encoded data removed]",
      "text/plain": [
       "<Figure size 864x216 with 1 Axes>"
      ]
     },
     "metadata": {},
     "output_type": "display_data"
    }
   ],
   "source": [
    "ret_price    = (1 + returns).cumprod() # 1 + : 초기 1에서 부터 확률곱을 누적 (복리공식)\n",
    "ret_price[0] = 1\n",
    "\n",
    "%matplotlib inline\n",
    "ret_price.plot(figsize=(12,3))"
   ]
  },
  {
   "cell_type": "code",
   "execution_count": 16,
   "metadata": {},
   "outputs": [
    {
     "data": {
      "image/png": "[encoded data removed]",
      "text/plain": [
       "<Figure size 432x288 with 1 Axes>"
      ]
     },
     "metadata": {},
     "output_type": "display_data"
    }
   ],
   "source": [
    "for col in prices.columns:\n",
    "    pct_returns = prices[col].pct_change()\n",
    "    pct_returns = (1 + pct_returns).cumprod() # 1 + : 초기 1에서 부터 확률곱을 누적\n",
    "    pct_returns[0] = 1\n",
    "    pct_returns.plot(legend=True)"
   ]
  },
  {
   "cell_type": "markdown",
   "metadata": {},
   "source": [
    "<br>\n",
    "### **02 누적 수익률 계산 **\n",
    ".pct_change().cumprod()"
   ]
  },
  {
   "cell_type": "code",
   "execution_count": 17,
   "metadata": {
    "scrolled": false
   },
   "outputs": [
    {
     "data": {
      "text/plain": [
       "Date\n",
       "2016-01-01   -0.087302\n",
       "2016-02-01    0.024348\n",
       "2016-03-01    0.113752\n",
       "2016-04-01   -0.051067\n",
       "2016-05-01    0.037751\n",
       "2016-06-01    0.102941\n",
       "2016-07-01    0.080000\n",
       "2016-08-01    0.052632\n",
       "2016-09-01   -0.013580\n",
       "2016-10-01    0.025657\n",
       "2016-11-01    0.065284\n",
       "2016-12-01    0.032073\n",
       "Freq: MS, Name: 005930.KS, dtype: float64"
      ]
     },
     "execution_count": 17,
     "metadata": {},
     "output_type": "execute_result"
    }
   ],
   "source": [
    "# 특정기간의 누적 수익을 계산한다\n",
    "# 일간 데이터 -> 월갈 데이터로 줄인뒤 가격 변동률을 추출한다\n",
    "# 2012년도 1년 데이터만 추출\n",
    "month_returns = price.resample('MS').last().pct_change()\n",
    "month_returns['2016']"
   ]
  },
  {
   "cell_type": "code",
   "execution_count": 18,
   "metadata": {},
   "outputs": [
    {
     "data": {
      "text/plain": [
       "Date\n",
       "2016-01-01    0.794199\n",
       "2016-02-01    0.813536\n",
       "2016-03-01    0.906077\n",
       "2016-04-01    0.859807\n",
       "2016-05-01    0.892265\n",
       "2016-06-01    0.984116\n",
       "2016-07-01    1.062845\n",
       "2016-08-01    1.118785\n",
       "2016-09-01    1.103591\n",
       "2016-10-01    1.131906\n",
       "2016-11-01    1.205801\n",
       "2016-12-01    1.244475\n",
       "Freq: MS, Name: 005930.KS, dtype: float64"
      ]
     },
     "execution_count": 18,
     "metadata": {},
     "output_type": "execute_result"
    }
   ],
   "source": [
    "# 특정기간의 뭘별 백분율 누적곱 변화를 계산한다\n",
    "# 월초에 원금을 투입한 경우, 원금의 변화율\n",
    "m_ret = (1 + month_returns).cumprod()\n",
    "m_ret['2016']"
   ]
  },
  {
   "cell_type": "code",
   "execution_count": 19,
   "metadata": {},
   "outputs": [
    {
     "data": {
      "image/png": "[encoded data removed]",
      "text/plain": [
       "<Figure size 864x216 with 1 Axes>"
      ]
     },
     "metadata": {},
     "output_type": "display_data"
    }
   ],
   "source": [
    "import matplotlib.pyplot as plt\n",
    "m_ret.plot(figsize=(12,3))\n",
    "plt.axhline(y = 1, linestyle = '--', color = 'k')\n",
    "plt.show()"
   ]
  },
  {
   "cell_type": "markdown",
   "metadata": {},
   "source": [
    "<br>\n",
    "### **03 중간 배당데이터 추가하기**\n",
    "재귀적 연산"
   ]
  },
  {
   "cell_type": "code",
   "execution_count": 20,
   "metadata": {},
   "outputs": [
    {
     "data": {
      "text/plain": [
       "Date\n",
       "2013-01-01         NaN\n",
       "2013-02-01    0.066298\n",
       "2013-03-01   -0.011010\n",
       "2013-04-01   -0.004584\n",
       "2013-05-01    0.011842\n",
       "2013-06-01   -0.127438\n",
       "2013-07-01   -0.046200\n",
       "2013-08-01    0.068750\n",
       "2013-09-01   -0.000731\n",
       "2013-10-01    0.071690\n",
       "Freq: MS, Name: 005930.KS, dtype: float64"
      ]
     },
     "execution_count": 20,
     "metadata": {},
     "output_type": "execute_result"
    }
   ],
   "source": [
    "month_returns[:10]"
   ]
  },
  {
   "cell_type": "code",
   "execution_count": 21,
   "metadata": {},
   "outputs": [],
   "source": [
    "# 배당일에 배당 비율을 추가하는 경우\n",
    "month_returns['2013-03-01'] += 0.003"
   ]
  },
  {
   "cell_type": "code",
   "execution_count": 22,
   "metadata": {},
   "outputs": [
    {
     "name": "stdout",
     "output_type": "stream",
     "text": [
      "10000\n",
      "10001\n",
      "10002\n",
      "10003\n"
     ]
    }
   ],
   "source": [
    "# cf) 재귀적 연산 +=, -= : 자기 자신을 연산한 결과값을 자신에게 저장\n",
    "# (무슨 말이 이리도 꼬였니..)\n",
    "for i in range(4):\n",
    "    i += 10000     # i = i + 10000\n",
    "    print(i)"
   ]
  },
  {
   "cell_type": "markdown",
   "metadata": {},
   "source": [
    "<br><br>\n",
    "## **3 금융데이터  분석**\n",
    "pandas를 활용한 금융데이터 분석"
   ]
  },
  {
   "cell_type": "markdown",
   "metadata": {},
   "source": [
    "<br>\n",
    "### **01 Introduction**"
   ]
  },
  {
   "cell_type": "code",
   "execution_count": 23,
   "metadata": {},
   "outputs": [
    {
     "data": {
      "text/html": [
       "<div>\n",
       "<style scoped>\n",
       "    .dataframe tbody tr th:only-of-type {\n",
       "        vertical-align: middle;\n",
       "    }\n",
       "\n",
       "    .dataframe tbody tr th {\n",
       "        vertical-align: top;\n",
       "    }\n",
       "\n",
       "    .dataframe thead th {\n",
       "        text-align: right;\n",
       "    }\n",
       "</style>\n",
       "<table border=\"1\" class=\"dataframe\">\n",
       "  <thead>\n",
       "    <tr style=\"text-align: right;\">\n",
       "      <th></th>\n",
       "      <th>005930.KS</th>\n",
       "      <th>031510.KQ</th>\n",
       "      <th>GM</th>\n",
       "      <th>KO</th>\n",
       "    </tr>\n",
       "    <tr>\n",
       "      <th>Date</th>\n",
       "      <th></th>\n",
       "      <th></th>\n",
       "      <th></th>\n",
       "      <th></th>\n",
       "    </tr>\n",
       "  </thead>\n",
       "  <tbody>\n",
       "    <tr>\n",
       "      <th>2013-01-02</th>\n",
       "      <td>31520.0</td>\n",
       "      <td>2065.0</td>\n",
       "      <td>29.129999</td>\n",
       "      <td>37.599998</td>\n",
       "    </tr>\n",
       "    <tr>\n",
       "      <th>2013-01-03</th>\n",
       "      <td>30860.0</td>\n",
       "      <td>2050.0</td>\n",
       "      <td>29.820000</td>\n",
       "      <td>37.599998</td>\n",
       "    </tr>\n",
       "    <tr>\n",
       "      <th>2013-01-04</th>\n",
       "      <td>30500.0</td>\n",
       "      <td>2050.0</td>\n",
       "      <td>29.860001</td>\n",
       "      <td>37.660000</td>\n",
       "    </tr>\n",
       "  </tbody>\n",
       "</table>\n",
       "</div>"
      ],
      "text/plain": [
       "            005930.KS  031510.KQ         GM         KO\n",
       "Date                                                  \n",
       "2013-01-02    31520.0     2065.0  29.129999  37.599998\n",
       "2013-01-03    30860.0     2050.0  29.820000  37.599998\n",
       "2013-01-04    30500.0     2050.0  29.860001  37.660000"
      ]
     },
     "execution_count": 23,
     "metadata": {},
     "output_type": "execute_result"
    }
   ],
   "source": [
    "prices.head(3)"
   ]
  },
  {
   "cell_type": "code",
   "execution_count": 24,
   "metadata": {},
   "outputs": [
    {
     "data": {
      "text/html": [
       "<div>\n",
       "<style scoped>\n",
       "    .dataframe tbody tr th:only-of-type {\n",
       "        vertical-align: middle;\n",
       "    }\n",
       "\n",
       "    .dataframe tbody tr th {\n",
       "        vertical-align: top;\n",
       "    }\n",
       "\n",
       "    .dataframe thead th {\n",
       "        text-align: right;\n",
       "    }\n",
       "</style>\n",
       "<table border=\"1\" class=\"dataframe\">\n",
       "  <thead>\n",
       "    <tr style=\"text-align: right;\">\n",
       "      <th></th>\n",
       "      <th>005930.KS</th>\n",
       "      <th>031510.KQ</th>\n",
       "      <th>GM</th>\n",
       "      <th>KO</th>\n",
       "    </tr>\n",
       "  </thead>\n",
       "  <tbody>\n",
       "    <tr>\n",
       "      <th>count</th>\n",
       "      <td>1406.000000</td>\n",
       "      <td>1406.000000</td>\n",
       "      <td>1406.000000</td>\n",
       "      <td>1406.000000</td>\n",
       "    </tr>\n",
       "    <tr>\n",
       "      <th>mean</th>\n",
       "      <td>32589.082504</td>\n",
       "      <td>2994.182077</td>\n",
       "      <td>34.672653</td>\n",
       "      <td>42.095818</td>\n",
       "    </tr>\n",
       "    <tr>\n",
       "      <th>std</th>\n",
       "      <td>9575.569318</td>\n",
       "      <td>1205.789197</td>\n",
       "      <td>3.852245</td>\n",
       "      <td>2.409234</td>\n",
       "    </tr>\n",
       "    <tr>\n",
       "      <th>min</th>\n",
       "      <td>21340.000000</td>\n",
       "      <td>1820.000000</td>\n",
       "      <td>26.330000</td>\n",
       "      <td>36.840000</td>\n",
       "    </tr>\n",
       "    <tr>\n",
       "      <th>25%</th>\n",
       "      <td>25840.000000</td>\n",
       "      <td>2175.000000</td>\n",
       "      <td>31.750000</td>\n",
       "      <td>40.495001</td>\n",
       "    </tr>\n",
       "    <tr>\n",
       "      <th>50%</th>\n",
       "      <td>28540.000000</td>\n",
       "      <td>2335.000000</td>\n",
       "      <td>34.680000</td>\n",
       "      <td>41.990002</td>\n",
       "    </tr>\n",
       "    <tr>\n",
       "      <th>75%</th>\n",
       "      <td>38050.000000</td>\n",
       "      <td>3600.000000</td>\n",
       "      <td>36.830002</td>\n",
       "      <td>43.779999</td>\n",
       "    </tr>\n",
       "    <tr>\n",
       "      <th>max</th>\n",
       "      <td>57220.000000</td>\n",
       "      <td>7800.000000</td>\n",
       "      <td>46.480000</td>\n",
       "      <td>48.529999</td>\n",
       "    </tr>\n",
       "  </tbody>\n",
       "</table>\n",
       "</div>"
      ],
      "text/plain": [
       "          005930.KS    031510.KQ           GM           KO\n",
       "count   1406.000000  1406.000000  1406.000000  1406.000000\n",
       "mean   32589.082504  2994.182077    34.672653    42.095818\n",
       "std     9575.569318  1205.789197     3.852245     2.409234\n",
       "min    21340.000000  1820.000000    26.330000    36.840000\n",
       "25%    25840.000000  2175.000000    31.750000    40.495001\n",
       "50%    28540.000000  2335.000000    34.680000    41.990002\n",
       "75%    38050.000000  3600.000000    36.830002    43.779999\n",
       "max    57220.000000  7800.000000    46.480000    48.529999"
      ]
     },
     "execution_count": 24,
     "metadata": {},
     "output_type": "execute_result"
    }
   ],
   "source": [
    "prices.describe()"
   ]
  },
  {
   "cell_type": "code",
   "execution_count": 25,
   "metadata": {},
   "outputs": [
    {
     "data": {
      "text/html": [
       "<div>\n",
       "<style scoped>\n",
       "    .dataframe tbody tr th:only-of-type {\n",
       "        vertical-align: middle;\n",
       "    }\n",
       "\n",
       "    .dataframe tbody tr th {\n",
       "        vertical-align: top;\n",
       "    }\n",
       "\n",
       "    .dataframe thead th {\n",
       "        text-align: right;\n",
       "    }\n",
       "</style>\n",
       "<table border=\"1\" class=\"dataframe\">\n",
       "  <thead>\n",
       "    <tr style=\"text-align: right;\">\n",
       "      <th></th>\n",
       "      <th>005930.KS</th>\n",
       "      <th>031510.KQ</th>\n",
       "      <th>GM</th>\n",
       "      <th>KO</th>\n",
       "    </tr>\n",
       "  </thead>\n",
       "  <tbody>\n",
       "    <tr>\n",
       "      <th>mean</th>\n",
       "      <td>32589.082504</td>\n",
       "      <td>2994.182077</td>\n",
       "      <td>34.672653</td>\n",
       "      <td>42.095818</td>\n",
       "    </tr>\n",
       "    <tr>\n",
       "      <th>std</th>\n",
       "      <td>9575.569318</td>\n",
       "      <td>1205.789197</td>\n",
       "      <td>3.852245</td>\n",
       "      <td>2.409234</td>\n",
       "    </tr>\n",
       "  </tbody>\n",
       "</table>\n",
       "</div>"
      ],
      "text/plain": [
       "         005930.KS    031510.KQ         GM         KO\n",
       "mean  32589.082504  2994.182077  34.672653  42.095818\n",
       "std    9575.569318  1205.789197   3.852245   2.409234"
      ]
     },
     "execution_count": 25,
     "metadata": {},
     "output_type": "execute_result"
    }
   ],
   "source": [
    "prices.describe().loc[ ['mean', 'std'] ,:]"
   ]
  },
  {
   "cell_type": "code",
   "execution_count": 26,
   "metadata": {},
   "outputs": [
    {
     "data": {
      "text/plain": [
       "mean    32589.082504\n",
       "Name: 005930.KS, dtype: float64"
      ]
     },
     "execution_count": 26,
     "metadata": {},
     "output_type": "execute_result"
    }
   ],
   "source": [
    "price.agg(['mean'])"
   ]
  },
  {
   "cell_type": "code",
   "execution_count": 27,
   "metadata": {},
   "outputs": [
    {
     "data": {
      "text/html": [
       "<div>\n",
       "<style scoped>\n",
       "    .dataframe tbody tr th:only-of-type {\n",
       "        vertical-align: middle;\n",
       "    }\n",
       "\n",
       "    .dataframe tbody tr th {\n",
       "        vertical-align: top;\n",
       "    }\n",
       "\n",
       "    .dataframe thead th {\n",
       "        text-align: right;\n",
       "    }\n",
       "</style>\n",
       "<table border=\"1\" class=\"dataframe\">\n",
       "  <thead>\n",
       "    <tr style=\"text-align: right;\">\n",
       "      <th></th>\n",
       "      <th>005930.KS</th>\n",
       "      <th>031510.KQ</th>\n",
       "      <th>GM</th>\n",
       "      <th>KO</th>\n",
       "    </tr>\n",
       "  </thead>\n",
       "  <tbody>\n",
       "    <tr>\n",
       "      <th>mean</th>\n",
       "      <td>32589.082504</td>\n",
       "      <td>2994.182077</td>\n",
       "      <td>34.672653</td>\n",
       "      <td>42.095818</td>\n",
       "    </tr>\n",
       "    <tr>\n",
       "      <th>std</th>\n",
       "      <td>9575.569318</td>\n",
       "      <td>1205.789197</td>\n",
       "      <td>3.852245</td>\n",
       "      <td>2.409234</td>\n",
       "    </tr>\n",
       "  </tbody>\n",
       "</table>\n",
       "</div>"
      ],
      "text/plain": [
       "         005930.KS    031510.KQ         GM         KO\n",
       "mean  32589.082504  2994.182077  34.672653  42.095818\n",
       "std    9575.569318  1205.789197   3.852245   2.409234"
      ]
     },
     "execution_count": 27,
     "metadata": {},
     "output_type": "execute_result"
    }
   ],
   "source": [
    "# index 중 일부분만 출력\n",
    "prices.agg(['mean', 'std'])"
   ]
  },
  {
   "cell_type": "markdown",
   "metadata": {},
   "source": [
    "<br>\n",
    "### **02 주가간의 상관계수 분석**\n",
    ".corr"
   ]
  },
  {
   "cell_type": "code",
   "execution_count": 20,
   "metadata": {},
   "outputs": [
    {
     "data": {
      "text/html": [
       "<div>\n",
       "<style scoped>\n",
       "    .dataframe tbody tr th:only-of-type {\n",
       "        vertical-align: middle;\n",
       "    }\n",
       "\n",
       "    .dataframe tbody tr th {\n",
       "        vertical-align: top;\n",
       "    }\n",
       "\n",
       "    .dataframe thead th {\n",
       "        text-align: right;\n",
       "    }\n",
       "</style>\n",
       "<table border=\"1\" class=\"dataframe\">\n",
       "  <thead>\n",
       "    <tr style=\"text-align: right;\">\n",
       "      <th></th>\n",
       "      <th>000660.KS</th>\n",
       "      <th>005930.KS</th>\n",
       "      <th>GM</th>\n",
       "      <th>KO</th>\n",
       "    </tr>\n",
       "  </thead>\n",
       "  <tbody>\n",
       "    <tr>\n",
       "      <th>000660.KS</th>\n",
       "      <td>1.000000</td>\n",
       "      <td>0.227932</td>\n",
       "      <td>0.070426</td>\n",
       "      <td>0.028670</td>\n",
       "    </tr>\n",
       "    <tr>\n",
       "      <th>005930.KS</th>\n",
       "      <td>0.227932</td>\n",
       "      <td>1.000000</td>\n",
       "      <td>0.053770</td>\n",
       "      <td>0.022919</td>\n",
       "    </tr>\n",
       "    <tr>\n",
       "      <th>GM</th>\n",
       "      <td>0.070426</td>\n",
       "      <td>0.053770</td>\n",
       "      <td>1.000000</td>\n",
       "      <td>0.185511</td>\n",
       "    </tr>\n",
       "    <tr>\n",
       "      <th>KO</th>\n",
       "      <td>0.028670</td>\n",
       "      <td>0.022919</td>\n",
       "      <td>0.185511</td>\n",
       "      <td>1.000000</td>\n",
       "    </tr>\n",
       "  </tbody>\n",
       "</table>\n",
       "</div>"
      ],
      "text/plain": [
       "           000660.KS  005930.KS        GM        KO\n",
       "000660.KS   1.000000   0.227932  0.070426  0.028670\n",
       "005930.KS   0.227932   1.000000  0.053770  0.022919\n",
       "GM          0.070426   0.053770  1.000000  0.185511\n",
       "KO          0.028670   0.022919  0.185511  1.000000"
      ]
     },
     "execution_count": 20,
     "metadata": {},
     "output_type": "execute_result"
    }
   ],
   "source": [
    "prices_corr = prices.pct_change().corr(method=\"spearman\")  # 스피어만 상관계수\n",
    "prices_corr = prices.pct_change().corr(method=\"kendall\")   # 켄달타우 상관계수\n",
    "prices_corr"
   ]
  },
  {
   "cell_type": "code",
   "execution_count": 30,
   "metadata": {},
   "outputs": [
    {
     "data": {
      "text/plain": [
       "<matplotlib.axes._subplots.AxesSubplot at 0x7ff81824ccf8>"
      ]
     },
     "execution_count": 30,
     "metadata": {},
     "output_type": "execute_result"
    },
    {
     "data": {
      "image/png": "[encoded data removed]",
      "text/plain": [
       "<Figure size 432x288 with 2 Axes>"
      ]
     },
     "metadata": {},
     "output_type": "display_data"
    }
   ],
   "source": [
    "%matplotlib inline\n",
    "import seaborn as sns\n",
    "sns.heatmap(prices_corr)"
   ]
  }
 ],
 "metadata": {
  "kernelspec": {
   "display_name": "Python 3",
   "language": "python",
   "name": "python3"
  },
  "language_info": {
   "codemirror_mode": {
    "name": "ipython",
    "version": 3
   },
   "file_extension": ".py",
   "mimetype": "text/x-python",
   "name": "python",
   "nbconvert_exporter": "python",
   "pygments_lexer": "ipython3",
   "version": "3.6.3"
  }
 },
 "nbformat": 4,
 "nbformat_minor": 2
}
