{
 "cells": [
  {
   "cell_type": "markdown",
   "metadata": {},
   "source": [
    "# **7 주가예측방법**\n",
    "additional Method\n",
    "\n",
    "by 생활 속 문제를 통해 배워보는 머신러닝"
   ]
  },
  {
   "cell_type": "markdown",
   "metadata": {},
   "source": [
    "## 1. **기본적인 통계적 분석**\n",
    "1. Pandas를 활용\n",
    "1. statesmodels을 활용\n",
    "1. scikit-learn을 활용"
   ]
  },
  {
   "cell_type": "markdown",
   "metadata": {},
   "source": [
    "<br>\n",
    "### **01 Pandas Data Settings**\n",
    "판다스 데이터셋에 함수 적용하기"
   ]
  },
  {
   "cell_type": "markdown",
   "metadata": {},
   "source": [
    "### **Import DataSet**\n",
    "판다스 데이터셋에 함수 적용하기"
   ]
  },
  {
   "cell_type": "code",
   "execution_count": 1,
   "metadata": {},
   "outputs": [],
   "source": [
    "from sklearn.datasets import load_iris \n",
    "data = load_iris()"
   ]
  },
  {
   "cell_type": "code",
   "execution_count": 2,
   "metadata": {},
   "outputs": [
    {
     "data": {
      "text/html": [
       "<div>\n",
       "<style scoped>\n",
       "    .dataframe tbody tr th:only-of-type {\n",
       "        vertical-align: middle;\n",
       "    }\n",
       "\n",
       "    .dataframe tbody tr th {\n",
       "        vertical-align: top;\n",
       "    }\n",
       "\n",
       "    .dataframe thead th {\n",
       "        text-align: right;\n",
       "    }\n",
       "</style>\n",
       "<table border=\"1\" class=\"dataframe\">\n",
       "  <thead>\n",
       "    <tr style=\"text-align: right;\">\n",
       "      <th></th>\n",
       "      <th>sepal_length</th>\n",
       "      <th>sepal_width</th>\n",
       "      <th>petal_length</th>\n",
       "      <th>petal_width</th>\n",
       "      <th>class</th>\n",
       "    </tr>\n",
       "  </thead>\n",
       "  <tbody>\n",
       "    <tr>\n",
       "      <th>0</th>\n",
       "      <td>5.1</td>\n",
       "      <td>3.5</td>\n",
       "      <td>1.4</td>\n",
       "      <td>0.2</td>\n",
       "      <td>setosa</td>\n",
       "    </tr>\n",
       "    <tr>\n",
       "      <th>1</th>\n",
       "      <td>4.9</td>\n",
       "      <td>3.0</td>\n",
       "      <td>1.4</td>\n",
       "      <td>0.2</td>\n",
       "      <td>setosa</td>\n",
       "    </tr>\n",
       "    <tr>\n",
       "      <th>2</th>\n",
       "      <td>4.7</td>\n",
       "      <td>3.2</td>\n",
       "      <td>1.3</td>\n",
       "      <td>0.2</td>\n",
       "      <td>setosa</td>\n",
       "    </tr>\n",
       "  </tbody>\n",
       "</table>\n",
       "</div>"
      ],
      "text/plain": [
       "   sepal_length  sepal_width  petal_length  petal_width   class\n",
       "0           5.1          3.5           1.4          0.2  setosa\n",
       "1           4.9          3.0           1.4          0.2  setosa\n",
       "2           4.7          3.2           1.3          0.2  setosa"
      ]
     },
     "execution_count": 2,
     "metadata": {},
     "output_type": "execute_result"
    }
   ],
   "source": [
    "import pandas as pd\n",
    "df = pd.DataFrame(data.data)\n",
    "df.columns = ['sepal_length', 'sepal_width', 'petal_length', 'petal_width']\n",
    "df['class'] = [data.target_names[no]   for no in data.target]\n",
    "df.head(3)"
   ]
  },
  {
   "cell_type": "code",
   "execution_count": 3,
   "metadata": {},
   "outputs": [
    {
     "data": {
      "text/plain": [
       "array(['setosa', 'versicolor', 'virginica'], dtype='<U10')"
      ]
     },
     "execution_count": 3,
     "metadata": {},
     "output_type": "execute_result"
    }
   ],
   "source": [
    "data.target_names"
   ]
  },
  {
   "cell_type": "markdown",
   "metadata": {},
   "source": [
    "<br>\n",
    "### **02 map**\n",
    "**Series** 개별 객체를 **{dict}** 을 사용하여 치환한다"
   ]
  },
  {
   "cell_type": "code",
   "execution_count": 4,
   "metadata": {},
   "outputs": [],
   "source": [
    "txt_name = ['SET', 'VER', 'VIR']\n",
    "map_text = {txt : txt_name[no]  for no, txt in enumerate(data.target_names)}"
   ]
  },
  {
   "cell_type": "code",
   "execution_count": 5,
   "metadata": {},
   "outputs": [
    {
     "data": {
      "text/html": [
       "<div>\n",
       "<style scoped>\n",
       "    .dataframe tbody tr th:only-of-type {\n",
       "        vertical-align: middle;\n",
       "    }\n",
       "\n",
       "    .dataframe tbody tr th {\n",
       "        vertical-align: top;\n",
       "    }\n",
       "\n",
       "    .dataframe thead th {\n",
       "        text-align: right;\n",
       "    }\n",
       "</style>\n",
       "<table border=\"1\" class=\"dataframe\">\n",
       "  <thead>\n",
       "    <tr style=\"text-align: right;\">\n",
       "      <th></th>\n",
       "      <th>sepal_length</th>\n",
       "      <th>sepal_width</th>\n",
       "      <th>petal_length</th>\n",
       "      <th>petal_width</th>\n",
       "      <th>class</th>\n",
       "    </tr>\n",
       "  </thead>\n",
       "  <tbody>\n",
       "    <tr>\n",
       "      <th>0</th>\n",
       "      <td>5.1</td>\n",
       "      <td>3.5</td>\n",
       "      <td>1.4</td>\n",
       "      <td>0.2</td>\n",
       "      <td>SET</td>\n",
       "    </tr>\n",
       "    <tr>\n",
       "      <th>1</th>\n",
       "      <td>4.9</td>\n",
       "      <td>3.0</td>\n",
       "      <td>1.4</td>\n",
       "      <td>0.2</td>\n",
       "      <td>SET</td>\n",
       "    </tr>\n",
       "    <tr>\n",
       "      <th>2</th>\n",
       "      <td>4.7</td>\n",
       "      <td>3.2</td>\n",
       "      <td>1.3</td>\n",
       "      <td>0.2</td>\n",
       "      <td>SET</td>\n",
       "    </tr>\n",
       "  </tbody>\n",
       "</table>\n",
       "</div>"
      ],
      "text/plain": [
       "   sepal_length  sepal_width  petal_length  petal_width class\n",
       "0           5.1          3.5           1.4          0.2   SET\n",
       "1           4.9          3.0           1.4          0.2   SET\n",
       "2           4.7          3.2           1.3          0.2   SET"
      ]
     },
     "execution_count": 5,
     "metadata": {},
     "output_type": "execute_result"
    }
   ],
   "source": [
    "df['class'] = df['class'].map(map_text)\n",
    "df.head(3)"
   ]
  },
  {
   "cell_type": "markdown",
   "metadata": {},
   "source": [
    "<br>\n",
    "### **03 apply**\n",
    "**Series** 개별 객체를 **함수** 를 사용하여 치환한다"
   ]
  },
  {
   "cell_type": "code",
   "execution_count": 6,
   "metadata": {},
   "outputs": [
    {
     "data": {
      "text/html": [
       "<div>\n",
       "<style scoped>\n",
       "    .dataframe tbody tr th:only-of-type {\n",
       "        vertical-align: middle;\n",
       "    }\n",
       "\n",
       "    .dataframe tbody tr th {\n",
       "        vertical-align: top;\n",
       "    }\n",
       "\n",
       "    .dataframe thead th {\n",
       "        text-align: right;\n",
       "    }\n",
       "</style>\n",
       "<table border=\"1\" class=\"dataframe\">\n",
       "  <thead>\n",
       "    <tr style=\"text-align: right;\">\n",
       "      <th></th>\n",
       "      <th>sepal_length</th>\n",
       "      <th>sepal_width</th>\n",
       "      <th>petal_length</th>\n",
       "      <th>petal_width</th>\n",
       "      <th>class</th>\n",
       "    </tr>\n",
       "  </thead>\n",
       "  <tbody>\n",
       "    <tr>\n",
       "      <th>0</th>\n",
       "      <td>5.1</td>\n",
       "      <td>3.5</td>\n",
       "      <td>1.4</td>\n",
       "      <td>0.2</td>\n",
       "      <td>set</td>\n",
       "    </tr>\n",
       "    <tr>\n",
       "      <th>1</th>\n",
       "      <td>4.9</td>\n",
       "      <td>3.0</td>\n",
       "      <td>1.4</td>\n",
       "      <td>0.2</td>\n",
       "      <td>set</td>\n",
       "    </tr>\n",
       "    <tr>\n",
       "      <th>2</th>\n",
       "      <td>4.7</td>\n",
       "      <td>3.2</td>\n",
       "      <td>1.3</td>\n",
       "      <td>0.2</td>\n",
       "      <td>set</td>\n",
       "    </tr>\n",
       "  </tbody>\n",
       "</table>\n",
       "</div>"
      ],
      "text/plain": [
       "   sepal_length  sepal_width  petal_length  petal_width class\n",
       "0           5.1          3.5           1.4          0.2   set\n",
       "1           4.9          3.0           1.4          0.2   set\n",
       "2           4.7          3.2           1.3          0.2   set"
      ]
     },
     "execution_count": 6,
     "metadata": {},
     "output_type": "execute_result"
    }
   ],
   "source": [
    "df['class'] = df['class'].apply(lambda x : x.lower())\n",
    "df.head(3)"
   ]
  },
  {
   "cell_type": "code",
   "execution_count": 7,
   "metadata": {},
   "outputs": [
    {
     "data": {
      "text/plain": [
       "'TEXT'"
      ]
     },
     "execution_count": 7,
     "metadata": {},
     "output_type": "execute_result"
    }
   ],
   "source": [
    "'text'.upper()"
   ]
  },
  {
   "cell_type": "markdown",
   "metadata": {},
   "source": [
    "<br>\n",
    "### **04 applymap**\n",
    "**DataFrame** 전체 셀에 **함수** 를 적용한다"
   ]
  },
  {
   "cell_type": "code",
   "execution_count": 8,
   "metadata": {},
   "outputs": [
    {
     "data": {
      "text/plain": [
       "<function isinstance(obj, class_or_tuple, /)>"
      ]
     },
     "execution_count": 8,
     "metadata": {},
     "output_type": "execute_result"
    }
   ],
   "source": [
    "isinstance"
   ]
  },
  {
   "cell_type": "code",
   "execution_count": 9,
   "metadata": {
    "scrolled": true
   },
   "outputs": [
    {
     "data": {
      "text/html": [
       "<div>\n",
       "<style scoped>\n",
       "    .dataframe tbody tr th:only-of-type {\n",
       "        vertical-align: middle;\n",
       "    }\n",
       "\n",
       "    .dataframe tbody tr th {\n",
       "        vertical-align: top;\n",
       "    }\n",
       "\n",
       "    .dataframe thead th {\n",
       "        text-align: right;\n",
       "    }\n",
       "</style>\n",
       "<table border=\"1\" class=\"dataframe\">\n",
       "  <thead>\n",
       "    <tr style=\"text-align: right;\">\n",
       "      <th></th>\n",
       "      <th>sepal_length</th>\n",
       "      <th>sepal_width</th>\n",
       "      <th>petal_length</th>\n",
       "      <th>petal_width</th>\n",
       "      <th>class</th>\n",
       "    </tr>\n",
       "  </thead>\n",
       "  <tbody>\n",
       "    <tr>\n",
       "      <th>0</th>\n",
       "      <td>1.629241</td>\n",
       "      <td>1.252763</td>\n",
       "      <td>0.336472</td>\n",
       "      <td>-1.609438</td>\n",
       "      <td>set</td>\n",
       "    </tr>\n",
       "    <tr>\n",
       "      <th>1</th>\n",
       "      <td>1.589235</td>\n",
       "      <td>1.098612</td>\n",
       "      <td>0.336472</td>\n",
       "      <td>-1.609438</td>\n",
       "      <td>set</td>\n",
       "    </tr>\n",
       "    <tr>\n",
       "      <th>2</th>\n",
       "      <td>1.547563</td>\n",
       "      <td>1.163151</td>\n",
       "      <td>0.262364</td>\n",
       "      <td>-1.609438</td>\n",
       "      <td>set</td>\n",
       "    </tr>\n",
       "    <tr>\n",
       "      <th>3</th>\n",
       "      <td>1.526056</td>\n",
       "      <td>1.131402</td>\n",
       "      <td>0.405465</td>\n",
       "      <td>-1.609438</td>\n",
       "      <td>set</td>\n",
       "    </tr>\n",
       "    <tr>\n",
       "      <th>4</th>\n",
       "      <td>1.609438</td>\n",
       "      <td>1.280934</td>\n",
       "      <td>0.336472</td>\n",
       "      <td>-1.609438</td>\n",
       "      <td>set</td>\n",
       "    </tr>\n",
       "  </tbody>\n",
       "</table>\n",
       "</div>"
      ],
      "text/plain": [
       "   sepal_length  sepal_width  petal_length  petal_width class\n",
       "0      1.629241     1.252763      0.336472    -1.609438   set\n",
       "1      1.589235     1.098612      0.336472    -1.609438   set\n",
       "2      1.547563     1.163151      0.262364    -1.609438   set\n",
       "3      1.526056     1.131402      0.405465    -1.609438   set\n",
       "4      1.609438     1.280934      0.336472    -1.609438   set"
      ]
     },
     "execution_count": 9,
     "metadata": {},
     "output_type": "execute_result"
    }
   ],
   "source": [
    "# isinstance \n",
    "import numpy as np\n",
    "df.applymap(lambda v : np.log(v)  if isinstance(v, float)  else  v).head()"
   ]
  },
  {
   "cell_type": "markdown",
   "metadata": {},
   "source": [
    "<br>\n",
    "### **05 groupby**\n",
    "**DataFrame** 전체 셀에 **함수** 를 적용한다"
   ]
  },
  {
   "cell_type": "code",
   "execution_count": 10,
   "metadata": {},
   "outputs": [
    {
     "data": {
      "text/html": [
       "<div>\n",
       "<style scoped>\n",
       "    .dataframe tbody tr th:only-of-type {\n",
       "        vertical-align: middle;\n",
       "    }\n",
       "\n",
       "    .dataframe tbody tr th {\n",
       "        vertical-align: top;\n",
       "    }\n",
       "\n",
       "    .dataframe thead th {\n",
       "        text-align: right;\n",
       "    }\n",
       "</style>\n",
       "<table border=\"1\" class=\"dataframe\">\n",
       "  <thead>\n",
       "    <tr style=\"text-align: right;\">\n",
       "      <th></th>\n",
       "      <th>sepal_length</th>\n",
       "      <th>sepal_width</th>\n",
       "      <th>petal_length</th>\n",
       "      <th>petal_width</th>\n",
       "    </tr>\n",
       "    <tr>\n",
       "      <th>class</th>\n",
       "      <th></th>\n",
       "      <th></th>\n",
       "      <th></th>\n",
       "      <th></th>\n",
       "    </tr>\n",
       "  </thead>\n",
       "  <tbody>\n",
       "    <tr>\n",
       "      <th>set</th>\n",
       "      <td>5.006</td>\n",
       "      <td>3.418</td>\n",
       "      <td>1.464</td>\n",
       "      <td>0.244</td>\n",
       "    </tr>\n",
       "    <tr>\n",
       "      <th>ver</th>\n",
       "      <td>5.936</td>\n",
       "      <td>2.770</td>\n",
       "      <td>4.260</td>\n",
       "      <td>1.326</td>\n",
       "    </tr>\n",
       "    <tr>\n",
       "      <th>vir</th>\n",
       "      <td>6.588</td>\n",
       "      <td>2.974</td>\n",
       "      <td>5.552</td>\n",
       "      <td>2.026</td>\n",
       "    </tr>\n",
       "  </tbody>\n",
       "</table>\n",
       "</div>"
      ],
      "text/plain": [
       "       sepal_length  sepal_width  petal_length  petal_width\n",
       "class                                                      \n",
       "set           5.006        3.418         1.464        0.244\n",
       "ver           5.936        2.770         4.260        1.326\n",
       "vir           6.588        2.974         5.552        2.026"
      ]
     },
     "execution_count": 10,
     "metadata": {},
     "output_type": "execute_result"
    }
   ],
   "source": [
    "df.groupby('class').mean()"
   ]
  },
  {
   "cell_type": "code",
   "execution_count": 11,
   "metadata": {},
   "outputs": [
    {
     "data": {
      "text/html": [
       "<div>\n",
       "<style scoped>\n",
       "    .dataframe tbody tr th:only-of-type {\n",
       "        vertical-align: middle;\n",
       "    }\n",
       "\n",
       "    .dataframe tbody tr th {\n",
       "        vertical-align: top;\n",
       "    }\n",
       "\n",
       "    .dataframe thead th {\n",
       "        text-align: right;\n",
       "    }\n",
       "</style>\n",
       "<table border=\"1\" class=\"dataframe\">\n",
       "  <thead>\n",
       "    <tr style=\"text-align: right;\">\n",
       "      <th></th>\n",
       "      <th>class</th>\n",
       "      <th>set</th>\n",
       "      <th>ver</th>\n",
       "      <th>vir</th>\n",
       "    </tr>\n",
       "  </thead>\n",
       "  <tbody>\n",
       "    <tr>\n",
       "      <th rowspan=\"8\" valign=\"top\">petal_length</th>\n",
       "      <th>count</th>\n",
       "      <td>50.000000</td>\n",
       "      <td>50.000000</td>\n",
       "      <td>50.000000</td>\n",
       "    </tr>\n",
       "    <tr>\n",
       "      <th>mean</th>\n",
       "      <td>1.464000</td>\n",
       "      <td>4.260000</td>\n",
       "      <td>5.552000</td>\n",
       "    </tr>\n",
       "    <tr>\n",
       "      <th>std</th>\n",
       "      <td>0.173511</td>\n",
       "      <td>0.469911</td>\n",
       "      <td>0.551895</td>\n",
       "    </tr>\n",
       "    <tr>\n",
       "      <th>min</th>\n",
       "      <td>1.000000</td>\n",
       "      <td>3.000000</td>\n",
       "      <td>4.500000</td>\n",
       "    </tr>\n",
       "    <tr>\n",
       "      <th>25%</th>\n",
       "      <td>1.400000</td>\n",
       "      <td>4.000000</td>\n",
       "      <td>5.100000</td>\n",
       "    </tr>\n",
       "    <tr>\n",
       "      <th>50%</th>\n",
       "      <td>1.500000</td>\n",
       "      <td>4.350000</td>\n",
       "      <td>5.550000</td>\n",
       "    </tr>\n",
       "    <tr>\n",
       "      <th>75%</th>\n",
       "      <td>1.575000</td>\n",
       "      <td>4.600000</td>\n",
       "      <td>5.875000</td>\n",
       "    </tr>\n",
       "    <tr>\n",
       "      <th>max</th>\n",
       "      <td>1.900000</td>\n",
       "      <td>5.100000</td>\n",
       "      <td>6.900000</td>\n",
       "    </tr>\n",
       "    <tr>\n",
       "      <th rowspan=\"8\" valign=\"top\">petal_width</th>\n",
       "      <th>count</th>\n",
       "      <td>50.000000</td>\n",
       "      <td>50.000000</td>\n",
       "      <td>50.000000</td>\n",
       "    </tr>\n",
       "    <tr>\n",
       "      <th>mean</th>\n",
       "      <td>0.244000</td>\n",
       "      <td>1.326000</td>\n",
       "      <td>2.026000</td>\n",
       "    </tr>\n",
       "    <tr>\n",
       "      <th>std</th>\n",
       "      <td>0.107210</td>\n",
       "      <td>0.197753</td>\n",
       "      <td>0.274650</td>\n",
       "    </tr>\n",
       "    <tr>\n",
       "      <th>min</th>\n",
       "      <td>0.100000</td>\n",
       "      <td>1.000000</td>\n",
       "      <td>1.400000</td>\n",
       "    </tr>\n",
       "    <tr>\n",
       "      <th>25%</th>\n",
       "      <td>0.200000</td>\n",
       "      <td>1.200000</td>\n",
       "      <td>1.800000</td>\n",
       "    </tr>\n",
       "    <tr>\n",
       "      <th>50%</th>\n",
       "      <td>0.200000</td>\n",
       "      <td>1.300000</td>\n",
       "      <td>2.000000</td>\n",
       "    </tr>\n",
       "    <tr>\n",
       "      <th>75%</th>\n",
       "      <td>0.300000</td>\n",
       "      <td>1.500000</td>\n",
       "      <td>2.300000</td>\n",
       "    </tr>\n",
       "    <tr>\n",
       "      <th>max</th>\n",
       "      <td>0.600000</td>\n",
       "      <td>1.800000</td>\n",
       "      <td>2.500000</td>\n",
       "    </tr>\n",
       "    <tr>\n",
       "      <th rowspan=\"8\" valign=\"top\">sepal_length</th>\n",
       "      <th>count</th>\n",
       "      <td>50.000000</td>\n",
       "      <td>50.000000</td>\n",
       "      <td>50.000000</td>\n",
       "    </tr>\n",
       "    <tr>\n",
       "      <th>mean</th>\n",
       "      <td>5.006000</td>\n",
       "      <td>5.936000</td>\n",
       "      <td>6.588000</td>\n",
       "    </tr>\n",
       "    <tr>\n",
       "      <th>std</th>\n",
       "      <td>0.352490</td>\n",
       "      <td>0.516171</td>\n",
       "      <td>0.635880</td>\n",
       "    </tr>\n",
       "    <tr>\n",
       "      <th>min</th>\n",
       "      <td>4.300000</td>\n",
       "      <td>4.900000</td>\n",
       "      <td>4.900000</td>\n",
       "    </tr>\n",
       "    <tr>\n",
       "      <th>25%</th>\n",
       "      <td>4.800000</td>\n",
       "      <td>5.600000</td>\n",
       "      <td>6.225000</td>\n",
       "    </tr>\n",
       "    <tr>\n",
       "      <th>50%</th>\n",
       "      <td>5.000000</td>\n",
       "      <td>5.900000</td>\n",
       "      <td>6.500000</td>\n",
       "    </tr>\n",
       "    <tr>\n",
       "      <th>75%</th>\n",
       "      <td>5.200000</td>\n",
       "      <td>6.300000</td>\n",
       "      <td>6.900000</td>\n",
       "    </tr>\n",
       "    <tr>\n",
       "      <th>max</th>\n",
       "      <td>5.800000</td>\n",
       "      <td>7.000000</td>\n",
       "      <td>7.900000</td>\n",
       "    </tr>\n",
       "    <tr>\n",
       "      <th rowspan=\"8\" valign=\"top\">sepal_width</th>\n",
       "      <th>count</th>\n",
       "      <td>50.000000</td>\n",
       "      <td>50.000000</td>\n",
       "      <td>50.000000</td>\n",
       "    </tr>\n",
       "    <tr>\n",
       "      <th>mean</th>\n",
       "      <td>3.418000</td>\n",
       "      <td>2.770000</td>\n",
       "      <td>2.974000</td>\n",
       "    </tr>\n",
       "    <tr>\n",
       "      <th>std</th>\n",
       "      <td>0.381024</td>\n",
       "      <td>0.313798</td>\n",
       "      <td>0.322497</td>\n",
       "    </tr>\n",
       "    <tr>\n",
       "      <th>min</th>\n",
       "      <td>2.300000</td>\n",
       "      <td>2.000000</td>\n",
       "      <td>2.200000</td>\n",
       "    </tr>\n",
       "    <tr>\n",
       "      <th>25%</th>\n",
       "      <td>3.125000</td>\n",
       "      <td>2.525000</td>\n",
       "      <td>2.800000</td>\n",
       "    </tr>\n",
       "    <tr>\n",
       "      <th>50%</th>\n",
       "      <td>3.400000</td>\n",
       "      <td>2.800000</td>\n",
       "      <td>3.000000</td>\n",
       "    </tr>\n",
       "    <tr>\n",
       "      <th>75%</th>\n",
       "      <td>3.675000</td>\n",
       "      <td>3.000000</td>\n",
       "      <td>3.175000</td>\n",
       "    </tr>\n",
       "    <tr>\n",
       "      <th>max</th>\n",
       "      <td>4.400000</td>\n",
       "      <td>3.400000</td>\n",
       "      <td>3.800000</td>\n",
       "    </tr>\n",
       "  </tbody>\n",
       "</table>\n",
       "</div>"
      ],
      "text/plain": [
       "class                     set        ver        vir\n",
       "petal_length count  50.000000  50.000000  50.000000\n",
       "             mean    1.464000   4.260000   5.552000\n",
       "             std     0.173511   0.469911   0.551895\n",
       "             min     1.000000   3.000000   4.500000\n",
       "             25%     1.400000   4.000000   5.100000\n",
       "             50%     1.500000   4.350000   5.550000\n",
       "             75%     1.575000   4.600000   5.875000\n",
       "             max     1.900000   5.100000   6.900000\n",
       "petal_width  count  50.000000  50.000000  50.000000\n",
       "             mean    0.244000   1.326000   2.026000\n",
       "             std     0.107210   0.197753   0.274650\n",
       "             min     0.100000   1.000000   1.400000\n",
       "             25%     0.200000   1.200000   1.800000\n",
       "             50%     0.200000   1.300000   2.000000\n",
       "             75%     0.300000   1.500000   2.300000\n",
       "             max     0.600000   1.800000   2.500000\n",
       "sepal_length count  50.000000  50.000000  50.000000\n",
       "             mean    5.006000   5.936000   6.588000\n",
       "             std     0.352490   0.516171   0.635880\n",
       "             min     4.300000   4.900000   4.900000\n",
       "             25%     4.800000   5.600000   6.225000\n",
       "             50%     5.000000   5.900000   6.500000\n",
       "             75%     5.200000   6.300000   6.900000\n",
       "             max     5.800000   7.000000   7.900000\n",
       "sepal_width  count  50.000000  50.000000  50.000000\n",
       "             mean    3.418000   2.770000   2.974000\n",
       "             std     0.381024   0.313798   0.322497\n",
       "             min     2.300000   2.000000   2.200000\n",
       "             25%     3.125000   2.525000   2.800000\n",
       "             50%     3.400000   2.800000   3.000000\n",
       "             75%     3.675000   3.000000   3.175000\n",
       "             max     4.400000   3.400000   3.800000"
      ]
     },
     "execution_count": 11,
     "metadata": {},
     "output_type": "execute_result"
    }
   ],
   "source": [
    "df.groupby('class').describe().T"
   ]
  },
  {
   "cell_type": "code",
   "execution_count": 12,
   "metadata": {},
   "outputs": [
    {
     "data": {
      "text/html": [
       "<div>\n",
       "<style scoped>\n",
       "    .dataframe tbody tr th:only-of-type {\n",
       "        vertical-align: middle;\n",
       "    }\n",
       "\n",
       "    .dataframe tbody tr th {\n",
       "        vertical-align: top;\n",
       "    }\n",
       "\n",
       "    .dataframe thead th {\n",
       "        text-align: right;\n",
       "    }\n",
       "</style>\n",
       "<table border=\"1\" class=\"dataframe\">\n",
       "  <thead>\n",
       "    <tr style=\"text-align: right;\">\n",
       "      <th></th>\n",
       "      <th>class</th>\n",
       "    </tr>\n",
       "    <tr>\n",
       "      <th>petal_width</th>\n",
       "      <th></th>\n",
       "    </tr>\n",
       "  </thead>\n",
       "  <tbody>\n",
       "    <tr>\n",
       "      <th>0.1</th>\n",
       "      <td>[set]</td>\n",
       "    </tr>\n",
       "    <tr>\n",
       "      <th>0.2</th>\n",
       "      <td>[set]</td>\n",
       "    </tr>\n",
       "    <tr>\n",
       "      <th>0.3</th>\n",
       "      <td>[set]</td>\n",
       "    </tr>\n",
       "    <tr>\n",
       "      <th>0.4</th>\n",
       "      <td>[set]</td>\n",
       "    </tr>\n",
       "    <tr>\n",
       "      <th>0.5</th>\n",
       "      <td>[set]</td>\n",
       "    </tr>\n",
       "    <tr>\n",
       "      <th>0.6</th>\n",
       "      <td>[set]</td>\n",
       "    </tr>\n",
       "    <tr>\n",
       "      <th>1.0</th>\n",
       "      <td>[ver]</td>\n",
       "    </tr>\n",
       "    <tr>\n",
       "      <th>1.1</th>\n",
       "      <td>[ver]</td>\n",
       "    </tr>\n",
       "    <tr>\n",
       "      <th>1.2</th>\n",
       "      <td>[ver]</td>\n",
       "    </tr>\n",
       "    <tr>\n",
       "      <th>1.3</th>\n",
       "      <td>[ver]</td>\n",
       "    </tr>\n",
       "    <tr>\n",
       "      <th>1.4</th>\n",
       "      <td>[ver, vir]</td>\n",
       "    </tr>\n",
       "    <tr>\n",
       "      <th>1.5</th>\n",
       "      <td>[ver, vir]</td>\n",
       "    </tr>\n",
       "    <tr>\n",
       "      <th>1.6</th>\n",
       "      <td>[ver, vir]</td>\n",
       "    </tr>\n",
       "    <tr>\n",
       "      <th>1.7</th>\n",
       "      <td>[ver, vir]</td>\n",
       "    </tr>\n",
       "    <tr>\n",
       "      <th>1.8</th>\n",
       "      <td>[ver, vir]</td>\n",
       "    </tr>\n",
       "    <tr>\n",
       "      <th>1.9</th>\n",
       "      <td>[vir]</td>\n",
       "    </tr>\n",
       "    <tr>\n",
       "      <th>2.0</th>\n",
       "      <td>[vir]</td>\n",
       "    </tr>\n",
       "    <tr>\n",
       "      <th>2.1</th>\n",
       "      <td>[vir]</td>\n",
       "    </tr>\n",
       "    <tr>\n",
       "      <th>2.2</th>\n",
       "      <td>[vir]</td>\n",
       "    </tr>\n",
       "    <tr>\n",
       "      <th>2.3</th>\n",
       "      <td>[vir]</td>\n",
       "    </tr>\n",
       "    <tr>\n",
       "      <th>2.4</th>\n",
       "      <td>[vir]</td>\n",
       "    </tr>\n",
       "    <tr>\n",
       "      <th>2.5</th>\n",
       "      <td>[vir]</td>\n",
       "    </tr>\n",
       "  </tbody>\n",
       "</table>\n",
       "</div>"
      ],
      "text/plain": [
       "                  class\n",
       "petal_width            \n",
       "0.1               [set]\n",
       "0.2               [set]\n",
       "0.3               [set]\n",
       "0.4               [set]\n",
       "0.5               [set]\n",
       "0.6               [set]\n",
       "1.0               [ver]\n",
       "1.1               [ver]\n",
       "1.2               [ver]\n",
       "1.3               [ver]\n",
       "1.4          [ver, vir]\n",
       "1.5          [ver, vir]\n",
       "1.6          [ver, vir]\n",
       "1.7          [ver, vir]\n",
       "1.8          [ver, vir]\n",
       "1.9               [vir]\n",
       "2.0               [vir]\n",
       "2.1               [vir]\n",
       "2.2               [vir]\n",
       "2.3               [vir]\n",
       "2.4               [vir]\n",
       "2.5               [vir]"
      ]
     },
     "execution_count": 12,
     "metadata": {},
     "output_type": "execute_result"
    }
   ],
   "source": [
    "df.groupby('petal_width')['class'].unique().to_frame()"
   ]
  },
  {
   "cell_type": "code",
   "execution_count": 13,
   "metadata": {},
   "outputs": [
    {
     "name": "stderr",
     "output_type": "stream",
     "text": [
      "/home/markbaum/Python/python/lib/python3.6/site-packages/ipykernel_launcher.py:1: FutureWarning: using a dict on a Series for aggregation\n",
      "is deprecated and will be removed in a future version\n",
      "  \"\"\"Entry point for launching an IPython kernel.\n"
     ]
    },
    {
     "data": {
      "text/html": [
       "<div>\n",
       "<style scoped>\n",
       "    .dataframe tbody tr th:only-of-type {\n",
       "        vertical-align: middle;\n",
       "    }\n",
       "\n",
       "    .dataframe tbody tr th {\n",
       "        vertical-align: top;\n",
       "    }\n",
       "\n",
       "    .dataframe thead th {\n",
       "        text-align: right;\n",
       "    }\n",
       "</style>\n",
       "<table border=\"1\" class=\"dataframe\">\n",
       "  <thead>\n",
       "    <tr style=\"text-align: right;\">\n",
       "      <th></th>\n",
       "      <th>delta</th>\n",
       "      <th>max</th>\n",
       "      <th>min</th>\n",
       "    </tr>\n",
       "    <tr>\n",
       "      <th>class</th>\n",
       "      <th></th>\n",
       "      <th></th>\n",
       "      <th></th>\n",
       "    </tr>\n",
       "  </thead>\n",
       "  <tbody>\n",
       "    <tr>\n",
       "      <th>set</th>\n",
       "      <td>0.5</td>\n",
       "      <td>0.6</td>\n",
       "      <td>0.1</td>\n",
       "    </tr>\n",
       "    <tr>\n",
       "      <th>ver</th>\n",
       "      <td>0.8</td>\n",
       "      <td>1.8</td>\n",
       "      <td>1.0</td>\n",
       "    </tr>\n",
       "    <tr>\n",
       "      <th>vir</th>\n",
       "      <td>1.1</td>\n",
       "      <td>2.5</td>\n",
       "      <td>1.4</td>\n",
       "    </tr>\n",
       "  </tbody>\n",
       "</table>\n",
       "</div>"
      ],
      "text/plain": [
       "       delta  max  min\n",
       "class                 \n",
       "set      0.5  0.6  0.1\n",
       "ver      0.8  1.8  1.0\n",
       "vir      1.1  2.5  1.4"
      ]
     },
     "execution_count": 13,
     "metadata": {},
     "output_type": "execute_result"
    }
   ],
   "source": [
    "df.groupby('class')['petal_width']\\\n",
    "    .agg({'delta':lambda x : x.max() - x.min(), 'max':np.max, 'min':np.min})"
   ]
  },
  {
   "cell_type": "markdown",
   "metadata": {},
   "source": [
    "<br>\n",
    "### **06 Statsmodels**\n",
    "https://www.statsmodels.org/stable/examples/index.html\n",
    "1. 가장 통계에 적합한 모듈\n",
    "1. 해당 페이지의 예제만 활용하면 충분하다 (영어라서 문제..)"
   ]
  },
  {
   "cell_type": "code",
   "execution_count": 14,
   "metadata": {},
   "outputs": [
    {
     "data": {
      "text/plain": [
       "Text(0.5,1.2,'Setosa Sepal Width vs. Sepal Length')"
      ]
     },
     "execution_count": 14,
     "metadata": {},
     "output_type": "execute_result"
    },
    {
     "data": {
      "image/png": "[encoded data removed]",
      "text/plain": [
       "<matplotlib.figure.Figure at 0x7f7b5b3e1908>"
      ]
     },
     "metadata": {},
     "output_type": "display_data"
    }
   ],
   "source": [
    "# Setosa 품종의 꽃받침 길이와 너비관계를 선형회귀 모델을 만든다\n",
    "%matplotlib inline\n",
    "\n",
    "import matplotlib.pyplot as plt\n",
    "fig, ax = plt.subplots(figsize=(7,7))\n",
    "ax.scatter(df['sepal_width'][:50], df['sepal_length'][:50])\n",
    "ax.set_ylabel('Sepal Length')\n",
    "ax.set_xlabel('Sepal Width')\n",
    "ax.set_title('Setosa Sepal Width vs. Sepal Length', fontsize=14, y=1.2)"
   ]
  },
  {
   "cell_type": "code",
   "execution_count": 15,
   "metadata": {},
   "outputs": [
    {
     "name": "stderr",
     "output_type": "stream",
     "text": [
      "/home/markbaum/Python/python/lib/python3.6/site-packages/statsmodels/compat/pandas.py:56: FutureWarning: The pandas.core.datetools module is deprecated and will be removed in a future version. Please use the pandas.tseries module instead.\n",
      "  from pandas.core import datetools\n"
     ]
    }
   ],
   "source": [
    "# 데이터 분포를 살펴본결과 선형을 볼 수 있다\n",
    "# statsmodels 을 사용하여 선형회귀 모델로 검증한다\n",
    "import statsmodels.api as sm\n",
    "\n",
    "y = df['sepal_length'][:50]\n",
    "x = df['sepal_width'][:50]\n",
    "X = sm.add_constant(x)"
   ]
  },
  {
   "cell_type": "code",
   "execution_count": 16,
   "metadata": {},
   "outputs": [
    {
     "name": "stdout",
     "output_type": "stream",
     "text": [
      "                            OLS Regression Results                            \n",
      "==============================================================================\n",
      "Dep. Variable:           sepal_length   R-squared:                       0.558\n",
      "Model:                            OLS   Adj. R-squared:                  0.548\n",
      "Method:                 Least Squares   F-statistic:                     60.52\n",
      "Date:                Thu, 07 Jun 2018   Prob (F-statistic):           4.75e-10\n",
      "Time:                        15:01:44   Log-Likelihood:                 2.0879\n",
      "No. Observations:                  50   AIC:                           -0.1759\n",
      "Df Residuals:                      48   BIC:                             3.648\n",
      "Df Model:                           1                                         \n",
      "Covariance Type:            nonrobust                                         \n",
      "===============================================================================\n",
      "                  coef    std err          t      P>|t|      [0.025      0.975]\n",
      "-------------------------------------------------------------------------------\n",
      "const           2.6447      0.305      8.660      0.000       2.031       3.259\n",
      "sepal_width     0.6909      0.089      7.779      0.000       0.512       0.869\n",
      "==============================================================================\n",
      "Omnibus:                        0.252   Durbin-Watson:                   2.517\n",
      "Prob(Omnibus):                  0.882   Jarque-Bera (JB):                0.436\n",
      "Skew:                          -0.110   Prob(JB):                        0.804\n",
      "Kurtosis:                       2.599   Cond. No.                         34.0\n",
      "==============================================================================\n",
      "\n",
      "Warnings:\n",
      "[1] Standard Errors assume that the covariance matrix of the errors is correctly specified.\n"
     ]
    }
   ],
   "source": [
    "results = sm.OLS(y, X).fit()\n",
    "print(results.summary())"
   ]
  },
  {
   "cell_type": "code",
   "execution_count": 17,
   "metadata": {},
   "outputs": [],
   "source": [
    "# R-squared : R제곱이 큰만큼 모델의 신뢰성이 높다\n",
    "# 절편값(const) 은 2.6447 로 P-value값 표준편차값이 일정해 신뢰성이 높다. 대신 정규성은 낮음\n",
    "# 기울기(sepal_width) 는 0.6909 로 P-value 값과 신뢰구간이 좋아서 일정해 신뢰성 높다. 여기도 정규성은 낮다"
   ]
  },
  {
   "cell_type": "markdown",
   "metadata": {},
   "source": [
    " **둘 다 값이 작을 수록 올바른 모형에 가깝다.** [개념정리된 블로그](https://datascienceschool.net/view-notebook/bfe4438b46674c68a5ba6598147a5527/)\n",
    "### **AIC (Akaike Information Criterion)**\n",
    "AIC는 모형과 데이터의 확률 분포 사이의 Kullback-Leibler 수준을 가장 크게하기 위한 시도에서 나왔다\n",
    "$$ AIC = - 2 \\log L + 2K $$\n",
    "### **BIC (Bayesian Information Criterion)** \n",
    "BIC는 데이터가 exponential family라는 가정하에 주어진 데이터에서 모형의 likelihood를 측정하기 위한 값에서 유도되었다\n",
    "$$ BIC = − 2 \\log L + K \\log n $$"
   ]
  },
  {
   "cell_type": "markdown",
   "metadata": {},
   "source": [
    "### **Likelihood 우도값 개념** \n",
    "[우도의 개념과 추정](http://to302.phps.kr/wordpress/?p=63)\n",
    "1. 확률 : 특정한 포인트를 찍어서 계산을 한다\n",
    "1. 우도 : 특정한 관찰값이 이미 주어져 있고, 확률분포곡선 자체를 움직이면서 그 관찰값이 가장 잘 나오는 위치를 찾는 것이다\n",
    "1. 특정 확률분포를 사용해 우도를 구하고, 그 분포를 약간 이동시켜 계산하고… 반복하다가 그 우도가 최대로 결정되는 지점에서 멈추는 것이다. 어쩐지 프로그래밍 기초에서 나오는 것과 유사하다"
   ]
  },
  {
   "cell_type": "markdown",
   "metadata": {},
   "source": [
    "### **OLS(최소자승법)** \n",
    "[우도의 개념과 추정](http://to302.phps.kr/wordpress/?p=63)\n",
    "1. Sum of Square를 최소화하는 것이 가장 좋은 회귀직선이라 정한 것 뿐이지, 그게 정말 맞다고 누가 장담할 수 있나? \n",
    "1. 그렇게 하기로 한 것 뿐이지. 아니 – 넓게 말하면 최소자승법 역시 하나의 최대우도추정이라고 할 수도 있는 것이다."
   ]
  },
  {
   "cell_type": "markdown",
   "metadata": {},
   "source": [
    "## **이를 근거로 회귀식을 구현한다**"
   ]
  },
  {
   "cell_type": "code",
   "execution_count": 18,
   "metadata": {},
   "outputs": [
    {
     "data": {
      "text/plain": [
       "<matplotlib.legend.Legend at 0x7f7b55214940>"
      ]
     },
     "execution_count": 18,
     "metadata": {},
     "output_type": "execute_result"
    },
    {
     "data": {
      "image/png": "[encoded data removed]",
      "text/plain": [
       "<matplotlib.figure.Figure at 0x7f7b5525c9e8>"
      ]
     },
     "metadata": {},
     "output_type": "display_data"
    }
   ],
   "source": [
    "fig, ax = plt.subplots(figsize=(7,7))\n",
    "ax.plot(x, results.fittedvalues, label='regression line')\n",
    "ax.scatter(x, y, label='data point', color='r')\n",
    "ax.set_ylabel('Sepal Length')\n",
    "ax.set_xlabel('Sepal Width')\n",
    "ax.set_title('Setosa Sepal Width vs. Sepal Length', fontsize=14, y=1.02)\n",
    "ax.legend()"
   ]
  },
  {
   "cell_type": "markdown",
   "metadata": {},
   "source": [
    "<br>\n",
    "### **07 scikit-learn**\n",
    "http://scikit-learn.org/stable/tutorial/index.html"
   ]
  },
  {
   "cell_type": "code",
   "execution_count": 19,
   "metadata": {},
   "outputs": [
    {
     "name": "stderr",
     "output_type": "stream",
     "text": [
      "/home/markbaum/Python/python/lib/python3.6/site-packages/sklearn/cross_validation.py:41: DeprecationWarning: This module was deprecated in version 0.18 in favor of the model_selection module into which all the refactored classes and functions are moved. Also note that the interface of the new CV iterators are different from that of this module. This module will be removed in 0.20.\n",
      "  \"This module will be removed in 0.20.\", DeprecationWarning)\n"
     ]
    }
   ],
   "source": [
    "from sklearn.ensemble import RandomForestClassifier\n",
    "from sklearn.cross_validation import train_test_split"
   ]
  },
  {
   "cell_type": "code",
   "execution_count": 20,
   "metadata": {},
   "outputs": [
    {
     "data": {
      "text/plain": [
       "RandomForestClassifier(bootstrap=True, class_weight=None, criterion='gini',\n",
       "            max_depth=5, max_features='auto', max_leaf_nodes=None,\n",
       "            min_impurity_decrease=0.0, min_impurity_split=None,\n",
       "            min_samples_leaf=1, min_samples_split=2,\n",
       "            min_weight_fraction_leaf=0.0, n_estimators=10, n_jobs=1,\n",
       "            oob_score=False, random_state=None, verbose=0,\n",
       "            warm_start=False)"
      ]
     },
     "execution_count": 20,
     "metadata": {},
     "output_type": "execute_result"
    }
   ],
   "source": [
    "clf = RandomForestClassifier(max_depth=5, n_estimators=10)\n",
    "X = df.iloc[:,:4]\n",
    "y = df.iloc[:, 4]\n",
    "\n",
    "X_train, X_test, y_train, y_test = train_test_split(X, y, test_size=.3)\n",
    "clf.fit(X_train, y_train)"
   ]
  },
  {
   "cell_type": "code",
   "execution_count": 21,
   "metadata": {},
   "outputs": [
    {
     "data": {
      "text/html": [
       "<div>\n",
       "<style scoped>\n",
       "    .dataframe tbody tr th:only-of-type {\n",
       "        vertical-align: middle;\n",
       "    }\n",
       "\n",
       "    .dataframe tbody tr th {\n",
       "        vertical-align: top;\n",
       "    }\n",
       "\n",
       "    .dataframe thead th {\n",
       "        text-align: right;\n",
       "    }\n",
       "</style>\n",
       "<table border=\"1\" class=\"dataframe\">\n",
       "  <thead>\n",
       "    <tr style=\"text-align: right;\">\n",
       "      <th></th>\n",
       "      <th>predicted</th>\n",
       "      <th>actual</th>\n",
       "      <th>correct</th>\n",
       "    </tr>\n",
       "  </thead>\n",
       "  <tbody>\n",
       "    <tr>\n",
       "      <th>0</th>\n",
       "      <td>vir</td>\n",
       "      <td>vir</td>\n",
       "      <td>1</td>\n",
       "    </tr>\n",
       "    <tr>\n",
       "      <th>9</th>\n",
       "      <td>set</td>\n",
       "      <td>set</td>\n",
       "      <td>1</td>\n",
       "    </tr>\n",
       "    <tr>\n",
       "      <th>18</th>\n",
       "      <td>ver</td>\n",
       "      <td>ver</td>\n",
       "      <td>1</td>\n",
       "    </tr>\n",
       "    <tr>\n",
       "      <th>27</th>\n",
       "      <td>set</td>\n",
       "      <td>set</td>\n",
       "      <td>1</td>\n",
       "    </tr>\n",
       "    <tr>\n",
       "      <th>36</th>\n",
       "      <td>ver</td>\n",
       "      <td>ver</td>\n",
       "      <td>1</td>\n",
       "    </tr>\n",
       "  </tbody>\n",
       "</table>\n",
       "</div>"
      ],
      "text/plain": [
       "   predicted actual  correct\n",
       "0        vir    vir        1\n",
       "9        set    set        1\n",
       "18       ver    ver        1\n",
       "27       set    set        1\n",
       "36       ver    ver        1"
      ]
     },
     "execution_count": 21,
     "metadata": {},
     "output_type": "execute_result"
    }
   ],
   "source": [
    "y_predict = clf.predict(X_test)\n",
    "rf = pd.DataFrame(list(zip(y_predict, y_test)), columns=['predicted', 'actual'])\n",
    "rf['correct'] = rf.apply(lambda x : 1   if x['predicted'] == x['actual']   else 0, axis=1 )\n",
    "rf[::9]"
   ]
  },
  {
   "cell_type": "code",
   "execution_count": 22,
   "metadata": {},
   "outputs": [
    {
     "data": {
      "text/plain": [
       "0.9333333333333333"
      ]
     },
     "execution_count": 22,
     "metadata": {},
     "output_type": "execute_result"
    }
   ],
   "source": [
    "# 예측의 정확도 수치로 출력\n",
    "rf['correct'].sum() / rf['correct'].count()"
   ]
  },
  {
   "cell_type": "code",
   "execution_count": 23,
   "metadata": {},
   "outputs": [
    {
     "data": {
      "text/plain": [
       "([<matplotlib.axis.XTick at 0x7f7b5313c780>,\n",
       "  <matplotlib.axis.XTick at 0x7f7b5313ce10>,\n",
       "  <matplotlib.axis.XTick at 0x7f7b53146208>,\n",
       "  <matplotlib.axis.XTick at 0x7f7b530fadd8>],\n",
       " <a list of 4 Text xticklabel objects>)"
      ]
     },
     "execution_count": 23,
     "metadata": {},
     "output_type": "execute_result"
    },
    {
     "data": {
      "image/png": "[encoded data removed]",
      "text/plain": [
       "<matplotlib.figure.Figure at 0x7f7b53142438>"
      ]
     },
     "metadata": {},
     "output_type": "display_data"
    }
   ],
   "source": [
    "f_importances = clf.feature_importances_\n",
    "f_names = df.columns[:4]\n",
    "f_std = np.std( [ tree.feature_importances_ \n",
    "                  for tree in clf.estimators_ ],  axis = 0 )\n",
    "\n",
    "zz  = zip(f_importances, f_names, f_std)\n",
    "zzs = sorted(zz, key=lambda x: x[0], reverse=True)\n",
    "\n",
    "imps   = [x[0] for x in zzs]\n",
    "labels = [x[1] for x in zzs]\n",
    "errs   = [x[2] for x in zzs]\n",
    "\n",
    "plt.bar(range(len(f_importances)), \n",
    "        imps, color=\"r\", yerr=errs, align=\"center\")\n",
    "plt.xticks(range(len(f_importances)), labels)"
   ]
  },
  {
   "cell_type": "markdown",
   "metadata": {},
   "source": [
    "from sklearn.multiclass import OneVsRestClassifier\n",
    "from sklearn.svm import SVC\n",
    "from sklearn.cross_validation import train_test_split\n",
    "\n",
    "clf = OneVsRestClassifier(SVC(kernel='linear'))\n",
    "\n",
    "X = df.iloc[:,:4]\n",
    "y = np.array(df.iloc[:,4]).astype(str)\n",
    "X_train, X_test, y_train, y_test = train_test_split(X, y, test_size=.3)\n",
    "clf.fit(X_train,y_train)\n",
    "y_pred = clf.predict(X_test)\n",
    "rf     = pd.DataFrame(list(zip(y_pred, y_test)), columns=['predicted', 'actual'])\n",
    "rf['correct'] = rf.apply(lambda r: 1 if r['predicted'] == r['actual'] else 0, axis=1)  \n",
    "rf.head()"
   ]
  },
  {
   "cell_type": "code",
   "execution_count": 24,
   "metadata": {},
   "outputs": [
    {
     "data": {
      "text/plain": [
       "0.9333333333333333"
      ]
     },
     "execution_count": 24,
     "metadata": {},
     "output_type": "execute_result"
    }
   ],
   "source": [
    "rf['correct'].sum() / rf['correct'].count()"
   ]
  },
  {
   "cell_type": "markdown",
   "metadata": {},
   "source": [
    "<br><br>\n",
    "## **2 로지스틱 회귀를 이용하여 IPO 시장 예측하기**\n",
    "IPO 시장 예측하기"
   ]
  },
  {
   "cell_type": "code",
   "execution_count": 25,
   "metadata": {},
   "outputs": [],
   "source": [
    "# from pandas_datareader import get_data_yahoo\n",
    "# spy_data = get_data_yahoo('spy', '2000-01-01')\n",
    "# spy_data.to_csv('./data/spy_data.csv', encoding='ms949')"
   ]
  },
  {
   "cell_type": "code",
   "execution_count": 26,
   "metadata": {},
   "outputs": [
    {
     "name": "stdout",
     "output_type": "stream",
     "text": [
      "<class 'pandas.core.frame.DataFrame'>\n",
      "DatetimeIndex: 2122 entries, 2009-12-31 to 2018-06-06\n",
      "Data columns (total 6 columns):\n",
      "High         2122 non-null float64\n",
      "Low          2122 non-null float64\n",
      "Open         2122 non-null float64\n",
      "Close        2122 non-null float64\n",
      "Volume       2122 non-null float64\n",
      "Adj Close    2122 non-null float64\n",
      "dtypes: float64(6)\n",
      "memory usage: 116.0 KB\n"
     ]
    }
   ],
   "source": [
    "import pandas as pd\n",
    "spy_data = pd.read_csv('./data/spy_data.csv')\n",
    "spy_data = spy_data.set_index('Date')\n",
    "spy_data.index = pd.DatetimeIndex(spy_data.index)\n",
    "spy_data.info()"
   ]
  },
  {
   "cell_type": "code",
   "execution_count": 27,
   "metadata": {},
   "outputs": [
    {
     "data": {
      "text/html": [
       "<div>\n",
       "<style scoped>\n",
       "    .dataframe tbody tr th:only-of-type {\n",
       "        vertical-align: middle;\n",
       "    }\n",
       "\n",
       "    .dataframe tbody tr th {\n",
       "        vertical-align: top;\n",
       "    }\n",
       "\n",
       "    .dataframe thead th {\n",
       "        text-align: right;\n",
       "    }\n",
       "</style>\n",
       "<table border=\"1\" class=\"dataframe\">\n",
       "  <thead>\n",
       "    <tr style=\"text-align: right;\">\n",
       "      <th></th>\n",
       "      <th>High</th>\n",
       "      <th>Low</th>\n",
       "      <th>Open</th>\n",
       "      <th>Close</th>\n",
       "      <th>Volume</th>\n",
       "      <th>Adj Close</th>\n",
       "    </tr>\n",
       "    <tr>\n",
       "      <th>Date</th>\n",
       "      <th></th>\n",
       "      <th></th>\n",
       "      <th></th>\n",
       "      <th></th>\n",
       "      <th></th>\n",
       "      <th></th>\n",
       "    </tr>\n",
       "  </thead>\n",
       "  <tbody>\n",
       "    <tr>\n",
       "      <th>2009-12-31</th>\n",
       "      <td>112.800003</td>\n",
       "      <td>111.389999</td>\n",
       "      <td>112.769997</td>\n",
       "      <td>111.440002</td>\n",
       "      <td>90637900.0</td>\n",
       "      <td>94.356773</td>\n",
       "    </tr>\n",
       "    <tr>\n",
       "      <th>2010-01-04</th>\n",
       "      <td>113.389999</td>\n",
       "      <td>111.510002</td>\n",
       "      <td>112.370003</td>\n",
       "      <td>113.330002</td>\n",
       "      <td>118944600.0</td>\n",
       "      <td>95.957069</td>\n",
       "    </tr>\n",
       "    <tr>\n",
       "      <th>2010-01-05</th>\n",
       "      <td>113.680000</td>\n",
       "      <td>112.849998</td>\n",
       "      <td>113.260002</td>\n",
       "      <td>113.629997</td>\n",
       "      <td>111579900.0</td>\n",
       "      <td>96.211037</td>\n",
       "    </tr>\n",
       "    <tr>\n",
       "      <th>2010-01-06</th>\n",
       "      <td>113.989998</td>\n",
       "      <td>113.430000</td>\n",
       "      <td>113.519997</td>\n",
       "      <td>113.709999</td>\n",
       "      <td>116074400.0</td>\n",
       "      <td>96.278809</td>\n",
       "    </tr>\n",
       "    <tr>\n",
       "      <th>2010-01-07</th>\n",
       "      <td>114.330002</td>\n",
       "      <td>113.180000</td>\n",
       "      <td>113.500000</td>\n",
       "      <td>114.190002</td>\n",
       "      <td>131091100.0</td>\n",
       "      <td>96.685219</td>\n",
       "    </tr>\n",
       "  </tbody>\n",
       "</table>\n",
       "</div>"
      ],
      "text/plain": [
       "                  High         Low        Open       Close       Volume  \\\n",
       "Date                                                                      \n",
       "2009-12-31  112.800003  111.389999  112.769997  111.440002   90637900.0   \n",
       "2010-01-04  113.389999  111.510002  112.370003  113.330002  118944600.0   \n",
       "2010-01-05  113.680000  112.849998  113.260002  113.629997  111579900.0   \n",
       "2010-01-06  113.989998  113.430000  113.519997  113.709999  116074400.0   \n",
       "2010-01-07  114.330002  113.180000  113.500000  114.190002  131091100.0   \n",
       "\n",
       "            Adj Close  \n",
       "Date                   \n",
       "2009-12-31  94.356773  \n",
       "2010-01-04  95.957069  \n",
       "2010-01-05  96.211037  \n",
       "2010-01-06  96.278809  \n",
       "2010-01-07  96.685219  "
      ]
     },
     "execution_count": 27,
     "metadata": {},
     "output_type": "execute_result"
    }
   ],
   "source": [
    "\n",
    "spy_data.head()"
   ]
  },
  {
   "cell_type": "markdown",
   "metadata": {},
   "source": [
    "<br><br>\n",
    "## **3 머신러닝으로 주가예측**\n",
    "Red Queen의 경주 : 적에 가득찬 상황에서 변화에 뒤쳐지지 않기위해 경쟁에 참여하는 것으로, 백신을 개발하면 박테리아가 방어를 발전하는 경우를 의미한다"
   ]
  },
  {
   "cell_type": "markdown",
   "metadata": {},
   "source": [
    "<br>\n",
    "### **01 기본개념**\n",
    "Red Queen의 경주 : 적에 가득찬 상황에서 변화에 뒤쳐지지 않기위해 경쟁에 참여하는 것으로, 백신을 개발하면 박테리아가 방어를 발전하는 경우를 의미한다"
   ]
  },
  {
   "cell_type": "markdown",
   "metadata": {},
   "source": [
    "### 효율적 시장가설(efficient Market Hypothesis) 에 근어하여, 모든 정보가 주가에 적절하게 반영됨을 전제로 한다\n",
    "1. 약형 (weak form) : 일부 시장에 한해 기술적 분석이 유용하다\n",
    "1. 준강형 (semi-strong form) : 주식의 모든 공개정보가 편향되지 않게 가격에 반영된다\n",
    "1. 강형 (strong form) : 공개 비공개 모든 정보가 가격에 반영된다"
   ]
  },
  {
   "cell_type": "markdown",
   "metadata": {},
   "source": [
    "### 모멘텀 전략 Momentum Strategy\n",
    "1. 과거 가격데이터를 수익률에 따라 순위를 매기고서 상위 순위 주식을 매수하고, 일정기간후 매도 후 이를 반복한다\n",
    "1. 코스피 200 종목 중, 실적상위 25개의 종목을 매수 후 1년뒤 되파는 과정을 반복한다"
   ]
  },
  {
   "cell_type": "markdown",
   "metadata": {},
   "source": [
    "<br>\n",
    "### **02 주가 데이터 불러오기**\n",
    "get_data_yahoo"
   ]
  },
  {
   "cell_type": "code",
   "execution_count": 28,
   "metadata": {},
   "outputs": [
    {
     "name": "stdout",
     "output_type": "stream",
     "text": [
      "<class 'pandas.core.frame.DataFrame'>\n",
      "DatetimeIndex: 2122 entries, 2009-12-31 to 2018-06-06\n",
      "Data columns (total 6 columns):\n",
      "High         2122 non-null float64\n",
      "Low          2122 non-null float64\n",
      "Open         2122 non-null float64\n",
      "Close        2122 non-null float64\n",
      "Volume       2122 non-null float64\n",
      "Adj Close    2122 non-null float64\n",
      "dtypes: float64(6)\n",
      "memory usage: 116.0 KB\n"
     ]
    }
   ],
   "source": [
    "# from pandas_datareader import get_data_yahoo\n",
    "# spy_data = get_data_yahoo('SPY', '2010-01-01', '2018-06-06')\n",
    "# spy_data.to_csv('./data/spy_data.csv')\n",
    "\n",
    "import pandas as pd\n",
    "spy = pd.read_csv('./data/spy_data.csv')\n",
    "spy = spy.set_index('Date')\n",
    "spy.index = pd.DatetimeIndex(spy_data.index)\n",
    "spy.info()"
   ]
  },
  {
   "cell_type": "code",
   "execution_count": 29,
   "metadata": {},
   "outputs": [
    {
     "data": {
      "text/plain": [
       "<matplotlib.axes._subplots.AxesSubplot at 0x7f7b5311c860>"
      ]
     },
     "execution_count": 29,
     "metadata": {},
     "output_type": "execute_result"
    },
    {
     "data": {
      "image/png": "[encoded data removed]",
      "text/plain": [
       "<matplotlib.figure.Figure at 0x7f7b53108dd8>"
      ]
     },
     "metadata": {},
     "output_type": "display_data"
    }
   ],
   "source": [
    "spy_c = spy['Close']\n",
    "\n",
    "%matplotlib inline\n",
    "import matplotlib.pyplot as plt\n",
    "spy_c.plot(color='k', figsize=(11,5), grid=True)"
   ]
  },
  {
   "cell_type": "markdown",
   "metadata": {},
   "source": [
    "<br>\n",
    "### **03 거래 전략 개발하기 **\n",
    "일간 변동데이터 추출하기"
   ]
  },
  {
   "cell_type": "code",
   "execution_count": 30,
   "metadata": {},
   "outputs": [
    {
     "data": {
      "text/plain": [
       "112.7699966430664"
      ]
     },
     "execution_count": 30,
     "metadata": {},
     "output_type": "execute_result"
    }
   ],
   "source": [
    "# 최초 Open 가격\n",
    "first_open = spy['Open'].iloc[0]\n",
    "first_open"
   ]
  },
  {
   "cell_type": "code",
   "execution_count": 31,
   "metadata": {},
   "outputs": [
    {
     "data": {
      "text/plain": [
       "277.39999389648443"
      ]
     },
     "execution_count": 31,
     "metadata": {},
     "output_type": "execute_result"
    }
   ],
   "source": [
    "# 마지막 Close 종가\n",
    "last_close = spy['Close'].iloc[-1]\n",
    "last_close"
   ]
  },
  {
   "cell_type": "code",
   "execution_count": 32,
   "metadata": {},
   "outputs": [
    {
     "data": {
      "text/plain": [
       "164.62999725341803"
      ]
     },
     "execution_count": 32,
     "metadata": {},
     "output_type": "execute_result"
    }
   ],
   "source": [
    "# 전체 기간의 변화값\n",
    "last_close - first_open"
   ]
  },
  {
   "cell_type": "code",
   "execution_count": 33,
   "metadata": {},
   "outputs": [
    {
     "data": {
      "text/plain": [
       "61.29996490478476"
      ]
     },
     "execution_count": 33,
     "metadata": {},
     "output_type": "execute_result"
    }
   ],
   "source": [
    "# 일간 변화량을 별도의 컬럼으로 생성한다\n",
    "import pandas as pd\n",
    "spy['Daily Change'] = pd.Series(spy['Close'] - spy['Open'])\n",
    "spy['Daily Change'].sum()"
   ]
  },
  {
   "cell_type": "code",
   "execution_count": 34,
   "metadata": {},
   "outputs": [
    {
     "data": {
      "text/plain": [
       "1.2544524712059741"
      ]
     },
     "execution_count": 34,
     "metadata": {},
     "output_type": "execute_result"
    }
   ],
   "source": [
    "# 표준편차를 계산한다\n",
    "import numpy as np\n",
    "np.std(spy['Daily Change'])"
   ]
  },
  {
   "cell_type": "markdown",
   "metadata": {},
   "source": [
    "<br>\n",
    "### **03-2 거래 전략 개발하기**\n",
    "장외 시간거래 데이터를 추출한다"
   ]
  },
  {
   "cell_type": "code",
   "execution_count": 35,
   "metadata": {},
   "outputs": [
    {
     "data": {
      "text/plain": [
       "103.33003234863327"
      ]
     },
     "execution_count": 35,
     "metadata": {},
     "output_type": "execute_result"
    }
   ],
   "source": [
    "# 전날 종가와 당일 시초가 차이를 계산한다\n",
    "# 장외 시간매매 가격변화를 계산한다\n",
    "spy['Overnight Change'] = pd.Series(spy['Open'] - spy['Close'].shift(1))\n",
    "spy['Overnight Change'].sum()"
   ]
  },
  {
   "cell_type": "code",
   "execution_count": 36,
   "metadata": {},
   "outputs": [
    {
     "data": {
      "text/plain": [
       "0.9100947619719011"
      ]
     },
     "execution_count": 36,
     "metadata": {},
     "output_type": "execute_result"
    }
   ],
   "source": [
    "np.std(spy['Overnight Change'])"
   ]
  },
  {
   "cell_type": "code",
   "execution_count": 37,
   "metadata": {},
   "outputs": [],
   "source": [
    "# 결과해석\n",
    "# 평일 거래에 비해\n",
    "# 시간외 거래의 평균가격 상승률이 낮음을 알 수 있다"
   ]
  },
  {
   "cell_type": "markdown",
   "metadata": {},
   "source": [
    "<br>\n",
    "### **03-3 거래 전략 비교하기**\n",
    "1. 일일 수익률의 분석 (장마감 - 장마감)\n",
    "1. 당일 수익률의 분석 (장시작 - 장마감)\n",
    "1. 장외 수익률의 분석 (장마감 - 익일 장시장)"
   ]
  },
  {
   "cell_type": "markdown",
   "metadata": {},
   "source": [
    "<br>\n",
    "### **세가지 전략의 히스토그램 출력하기**\n",
    "시각화를 이용한 분석"
   ]
  },
  {
   "cell_type": "code",
   "execution_count": 38,
   "metadata": {},
   "outputs": [
    {
     "data": {
      "text/plain": [
       "<matplotlib.axes._subplots.AxesSubplot at 0x7f7b52b1a400>"
      ]
     },
     "execution_count": 38,
     "metadata": {},
     "output_type": "execute_result"
    },
    {
     "data": {
      "image/png": "[encoded data removed]",
      "text/plain": [
       "<matplotlib.figure.Figure at 0x7f7b52b17cf8>"
      ]
     },
     "metadata": {},
     "output_type": "display_data"
    }
   ],
   "source": [
    "# 당일과 전날의 종가비교\n",
    "# daily returns\n",
    "daily_rtn = ((spy['Close'] - spy['Close'].shift(1))/spy['Close'].shift(1))*100\n",
    "daily_rtn.hist(bins=50, color='lightblue', figsize=(12,4))"
   ]
  },
  {
   "cell_type": "code",
   "execution_count": 39,
   "metadata": {},
   "outputs": [
    {
     "data": {
      "text/plain": [
       "<matplotlib.axes._subplots.AxesSubplot at 0x7f7b52291550>"
      ]
     },
     "execution_count": 39,
     "metadata": {},
     "output_type": "execute_result"
    },
    {
     "data": {
      "image/png": "[encoded data removed]",
      "text/plain": [
       "<matplotlib.figure.Figure at 0x7f7b522de4a8>"
      ]
     },
     "metadata": {},
     "output_type": "display_data"
    }
   ],
   "source": [
    "# 당일의 시초가와 종가 비교\n",
    "# intra day returns\n",
    "id_rtn = ((spy['Close'] - spy['Open'])/spy['Open'])*100\n",
    "id_rtn.hist(bins=50, color='lightblue', figsize=(12,4))"
   ]
  },
  {
   "cell_type": "code",
   "execution_count": 40,
   "metadata": {},
   "outputs": [
    {
     "data": {
      "text/plain": [
       "<matplotlib.axes._subplots.AxesSubplot at 0x7f7b50a16240>"
      ]
     },
     "execution_count": 40,
     "metadata": {},
     "output_type": "execute_result"
    },
    {
     "data": {
      "image/png": "[encoded data removed]",
      "text/plain": [
       "<matplotlib.figure.Figure at 0x7f7b50a74470>"
      ]
     },
     "metadata": {},
     "output_type": "display_data"
    }
   ],
   "source": [
    "# 시간외 가격변화 비교\n",
    "# overnight returns\n",
    "on_rtn = ((spy['Open'] - spy['Close'].shift(1))/spy['Close'].shift(1))*100\n",
    "on_rtn.hist(bins=50, color='lightblue', figsize=(12,4))"
   ]
  },
  {
   "cell_type": "markdown",
   "metadata": {},
   "source": [
    "<br>\n",
    "### **04 다양한 금융지표를 사용한 거래 전략 비교하기**\n",
    "Sharpe ratio\n",
    "1. 일일 수익률의 분석 (장마감 - 장마감)\n",
    "1. 당일 수익률의 분석 (장시작 - 장마감)\n",
    "1. 장외 수익률의 분석 (장마감 - 익일 장시장)"
   ]
  },
  {
   "cell_type": "code",
   "execution_count": 41,
   "metadata": {},
   "outputs": [],
   "source": [
    "def get_stats(s, n=252):\n",
    "    import pandas as pd\n",
    "    s         = s.dropna()\n",
    "    cnt       = len(s)\n",
    "    wins      = len(s[s>0])\n",
    "    losses    = len(s[s<0])\n",
    "    evens     = len(s[s==0])\n",
    "    mean_Up   = round(s[s>0].mean(), 3)\n",
    "    mean_Down = round(s[s<0].mean(), 3)\n",
    "    win_rate  = round(wins/losses, 3)\n",
    "    mean_trd  = round(s.mean(), 3)\n",
    "    sd        = round(np.std(s), 3)\n",
    "    max_Down  = round(s.min(), 3)\n",
    "    max_Up    = round(s.max(), 3)\n",
    "    sharpe_r  = round((s.mean()/np.std(s))*np.sqrt(n), 4)\n",
    "    result    = [cnt, wins, losses, evens, win_rate, mean_Up, mean_Down,\n",
    "                mean_trd, sd, max_Down, max_Up, sharpe_r]\n",
    "    index_name = ['Trades','Wins', 'Losses', 'Breakeven', 'Win/Loss Ratio', 'Mean Win',\\\n",
    "                  'Mean Loss', 'Mean', 'Std Dev', 'Max Loss', 'Max Win', 'Sharpe Ratio']\n",
    "    return pd.Series(result, index=index_name)"
   ]
  },
  {
   "cell_type": "code",
   "execution_count": 42,
   "metadata": {},
   "outputs": [
    {
     "data": {
      "text/html": [
       "<div>\n",
       "<style scoped>\n",
       "    .dataframe tbody tr th:only-of-type {\n",
       "        vertical-align: middle;\n",
       "    }\n",
       "\n",
       "    .dataframe tbody tr th {\n",
       "        vertical-align: top;\n",
       "    }\n",
       "\n",
       "    .dataframe thead th {\n",
       "        text-align: right;\n",
       "    }\n",
       "</style>\n",
       "<table border=\"1\" class=\"dataframe\">\n",
       "  <thead>\n",
       "    <tr style=\"text-align: right;\">\n",
       "      <th></th>\n",
       "      <th>Trades</th>\n",
       "      <th>Wins</th>\n",
       "      <th>Losses</th>\n",
       "      <th>Breakeven</th>\n",
       "      <th>Win/Loss Ratio</th>\n",
       "      <th>Mean Win</th>\n",
       "      <th>Mean Loss</th>\n",
       "      <th>Mean</th>\n",
       "      <th>Std Dev</th>\n",
       "      <th>Max Loss</th>\n",
       "      <th>Max Win</th>\n",
       "      <th>Sharpe Ratio</th>\n",
       "    </tr>\n",
       "  </thead>\n",
       "  <tbody>\n",
       "    <tr>\n",
       "      <th>일간종가비교</th>\n",
       "      <td>2121.0</td>\n",
       "      <td>1164.0</td>\n",
       "      <td>948.0</td>\n",
       "      <td>9.0</td>\n",
       "      <td>1.228</td>\n",
       "      <td>0.632</td>\n",
       "      <td>-0.670</td>\n",
       "      <td>0.047</td>\n",
       "      <td>0.935</td>\n",
       "      <td>-6.512</td>\n",
       "      <td>4.650</td>\n",
       "      <td>0.8048</td>\n",
       "    </tr>\n",
       "    <tr>\n",
       "      <th>당일가격변화</th>\n",
       "      <td>2122.0</td>\n",
       "      <td>1160.0</td>\n",
       "      <td>945.0</td>\n",
       "      <td>17.0</td>\n",
       "      <td>1.228</td>\n",
       "      <td>0.478</td>\n",
       "      <td>-0.542</td>\n",
       "      <td>0.020</td>\n",
       "      <td>0.723</td>\n",
       "      <td>-4.196</td>\n",
       "      <td>3.683</td>\n",
       "      <td>0.4386</td>\n",
       "    </tr>\n",
       "    <tr>\n",
       "      <th>시간외거래</th>\n",
       "      <td>2121.0</td>\n",
       "      <td>1136.0</td>\n",
       "      <td>948.0</td>\n",
       "      <td>37.0</td>\n",
       "      <td>1.198</td>\n",
       "      <td>0.379</td>\n",
       "      <td>-0.395</td>\n",
       "      <td>0.027</td>\n",
       "      <td>0.561</td>\n",
       "      <td>-3.406</td>\n",
       "      <td>4.090</td>\n",
       "      <td>0.7547</td>\n",
       "    </tr>\n",
       "  </tbody>\n",
       "</table>\n",
       "</div>"
      ],
      "text/plain": [
       "        Trades    Wins  Losses  Breakeven  Win/Loss Ratio  Mean Win  \\\n",
       "일간종가비교  2121.0  1164.0   948.0        9.0           1.228     0.632   \n",
       "당일가격변화  2122.0  1160.0   945.0       17.0           1.228     0.478   \n",
       "시간외거래   2121.0  1136.0   948.0       37.0           1.198     0.379   \n",
       "\n",
       "        Mean Loss   Mean  Std Dev  Max Loss  Max Win  Sharpe Ratio  \n",
       "일간종가비교     -0.670  0.047    0.935    -6.512    4.650        0.8048  \n",
       "당일가격변화     -0.542  0.020    0.723    -4.196    3.683        0.4386  \n",
       "시간외거래      -0.395  0.027    0.561    -3.406    4.090        0.7547  "
      ]
     },
     "execution_count": 42,
     "metadata": {},
     "output_type": "execute_result"
    }
   ],
   "source": [
    "report_stock = pd.concat([get_stats(daily_rtn), get_stats(id_rtn), get_stats(on_rtn)], axis=1)\n",
    "report_stock.columns = ['일간종가비교', '당일가격변화', '시간외거래']\n",
    "report_stock.T"
   ]
  },
  {
   "cell_type": "code",
   "execution_count": 43,
   "metadata": {},
   "outputs": [],
   "source": [
    "# 결과해석\n",
    "# 표준편차와 평균수익률이 높은 전략을 선택한다\n",
    "# 비슷한 평균수익률을 갖는경우 샤프지수를 비교해서 전략을 선택한다\n",
    "# 돈 잃을 위험을 1을 기준으로, 초과 수익률을 측정한다\n",
    "\n",
    "# 이번 종목의 분석 결과에서는 \n",
    "# Mean Win, Std Dev, Sharp 모두 종가를 비교한 분석이 압도적으로 유리하다"
   ]
  },
  {
   "cell_type": "markdown",
   "metadata": {},
   "source": [
    "<br>\n",
    "### **05 주가분석 기간의 확대**\n",
    "장기간 데이터를 대상으로 주가분석을 시행하기"
   ]
  },
  {
   "cell_type": "code",
   "execution_count": 44,
   "metadata": {},
   "outputs": [
    {
     "name": "stdout",
     "output_type": "stream",
     "text": [
      "<class 'pandas.core.frame.DataFrame'>\n",
      "DatetimeIndex: 4637 entries, 1999-12-31 to 2018-06-06\n",
      "Data columns (total 6 columns):\n",
      "High         4637 non-null float64\n",
      "Low          4637 non-null float64\n",
      "Open         4637 non-null float64\n",
      "Close        4637 non-null float64\n",
      "Volume       4637 non-null float64\n",
      "Adj Close    4637 non-null float64\n",
      "dtypes: float64(6)\n",
      "memory usage: 253.6 KB\n"
     ]
    }
   ],
   "source": [
    "# from pandas_datareader import get_data_yahoo\n",
    "# spy = get_data_yahoo('SPY', '2000-01-01', '2018-06-06')\n",
    "# spy.to_csv('./data/spy_longperiod.csv')\n",
    "# spy.tail(3)\n",
    "\n",
    "import pandas as pd\n",
    "sp = pd.read_csv('./data/spy_longperiod.csv', index_col='Date')\n",
    "sp.index = pd.DatetimeIndex(sp.index)\n",
    "sp.info()"
   ]
  },
  {
   "cell_type": "code",
   "execution_count": 45,
   "metadata": {},
   "outputs": [
    {
     "data": {
      "text/plain": [
       "Text(0.5,1,'SPY')"
      ]
     },
     "execution_count": 45,
     "metadata": {},
     "output_type": "execute_result"
    },
    {
     "data": {
      "image/png": "[encoded data removed]",
      "text/plain": [
       "<matplotlib.figure.Figure at 0x7f7b508ea438>"
      ]
     },
     "metadata": {},
     "output_type": "display_data"
    }
   ],
   "source": [
    "fig, ax = plt.subplots(figsize=(9,4))\n",
    "sp['Close'].plot(color='k')\n",
    "plt.grid()\n",
    "plt.title(\"SPY\", fontsize=20)"
   ]
  },
  {
   "cell_type": "code",
   "execution_count": 46,
   "metadata": {},
   "outputs": [
    {
     "data": {
      "text/plain": [
       "130.52499389648443"
      ]
     },
     "execution_count": 46,
     "metadata": {},
     "output_type": "execute_result"
    }
   ],
   "source": [
    "# \n",
    "long_day_rtn = ((sp['Close'] - sp['Close'].shift(1))/sp['Close'].shift(1))*100\n",
    "(sp['Close'] - sp['Close'].shift(1)).sum()"
   ]
  },
  {
   "cell_type": "code",
   "execution_count": 47,
   "metadata": {},
   "outputs": [
    {
     "data": {
      "text/plain": [
       "-17.61116027832037"
      ]
     },
     "execution_count": 47,
     "metadata": {},
     "output_type": "execute_result"
    }
   ],
   "source": [
    "long_id_rtn = ((sp['Close'] - sp['Open'])/sp['Open'])*100\n",
    "(sp['Close'] - sp['Open']).sum()"
   ]
  },
  {
   "cell_type": "code",
   "execution_count": 48,
   "metadata": {},
   "outputs": [
    {
     "data": {
      "text/plain": [
       "148.167449951172"
      ]
     },
     "execution_count": 48,
     "metadata": {},
     "output_type": "execute_result"
    }
   ],
   "source": [
    "long_on_rtn = ((sp['Open'] - sp['Close'].shift(1))/sp['Close'].shift(1))*100\n",
    "(sp['Open'] - sp['Close'].shift(1)).sum()"
   ]
  },
  {
   "cell_type": "code",
   "execution_count": 49,
   "metadata": {},
   "outputs": [
    {
     "data": {
      "text/html": [
       "<div>\n",
       "<style scoped>\n",
       "    .dataframe tbody tr th:only-of-type {\n",
       "        vertical-align: middle;\n",
       "    }\n",
       "\n",
       "    .dataframe tbody tr th {\n",
       "        vertical-align: top;\n",
       "    }\n",
       "\n",
       "    .dataframe thead th {\n",
       "        text-align: right;\n",
       "    }\n",
       "</style>\n",
       "<table border=\"1\" class=\"dataframe\">\n",
       "  <thead>\n",
       "    <tr style=\"text-align: right;\">\n",
       "      <th></th>\n",
       "      <th>Trades</th>\n",
       "      <th>Wins</th>\n",
       "      <th>Losses</th>\n",
       "      <th>Breakeven</th>\n",
       "      <th>Win/Loss Ratio</th>\n",
       "      <th>Mean Win</th>\n",
       "      <th>Mean Loss</th>\n",
       "      <th>Mean</th>\n",
       "      <th>Std Dev</th>\n",
       "      <th>Max Loss</th>\n",
       "      <th>Max Win</th>\n",
       "      <th>Sharpe Ratio</th>\n",
       "    </tr>\n",
       "  </thead>\n",
       "  <tbody>\n",
       "    <tr>\n",
       "      <th>일간종가비교</th>\n",
       "      <td>4636.0</td>\n",
       "      <td>2487.0</td>\n",
       "      <td>2131.0</td>\n",
       "      <td>18.0</td>\n",
       "      <td>1.167</td>\n",
       "      <td>0.774</td>\n",
       "      <td>-0.858</td>\n",
       "      <td>0.021</td>\n",
       "      <td>1.219</td>\n",
       "      <td>-9.845</td>\n",
       "      <td>14.520</td>\n",
       "      <td>0.2753</td>\n",
       "    </tr>\n",
       "    <tr>\n",
       "      <th>당일가격변화</th>\n",
       "      <td>4637.0</td>\n",
       "      <td>2438.0</td>\n",
       "      <td>2163.0</td>\n",
       "      <td>36.0</td>\n",
       "      <td>1.127</td>\n",
       "      <td>0.646</td>\n",
       "      <td>-0.724</td>\n",
       "      <td>0.002</td>\n",
       "      <td>1.008</td>\n",
       "      <td>-8.991</td>\n",
       "      <td>8.435</td>\n",
       "      <td>0.0298</td>\n",
       "    </tr>\n",
       "    <tr>\n",
       "      <th>시간외거래</th>\n",
       "      <td>4636.0</td>\n",
       "      <td>2467.0</td>\n",
       "      <td>2106.0</td>\n",
       "      <td>63.0</td>\n",
       "      <td>1.171</td>\n",
       "      <td>0.415</td>\n",
       "      <td>-0.444</td>\n",
       "      <td>0.019</td>\n",
       "      <td>0.660</td>\n",
       "      <td>-8.322</td>\n",
       "      <td>6.068</td>\n",
       "      <td>0.4593</td>\n",
       "    </tr>\n",
       "  </tbody>\n",
       "</table>\n",
       "</div>"
      ],
      "text/plain": [
       "        Trades    Wins  Losses  Breakeven  Win/Loss Ratio  Mean Win  \\\n",
       "일간종가비교  4636.0  2487.0  2131.0       18.0           1.167     0.774   \n",
       "당일가격변화  4637.0  2438.0  2163.0       36.0           1.127     0.646   \n",
       "시간외거래   4636.0  2467.0  2106.0       63.0           1.171     0.415   \n",
       "\n",
       "        Mean Loss   Mean  Std Dev  Max Loss  Max Win  Sharpe Ratio  \n",
       "일간종가비교     -0.858  0.021    1.219    -9.845   14.520        0.2753  \n",
       "당일가격변화     -0.724  0.002    1.008    -8.991    8.435        0.0298  \n",
       "시간외거래      -0.444  0.019    0.660    -8.322    6.068        0.4593  "
      ]
     },
     "execution_count": 49,
     "metadata": {},
     "output_type": "execute_result"
    }
   ],
   "source": [
    "report_stock_long = pd.concat([get_stats(long_day_rtn), get_stats(long_id_rtn), get_stats(long_on_rtn)], axis=1)\n",
    "report_stock_long.columns = ['일간종가비교', '당일가격변화', '시간외거래']\n",
    "report_stock_long.T"
   ]
  },
  {
   "cell_type": "code",
   "execution_count": 50,
   "metadata": {},
   "outputs": [],
   "source": [
    "## 장기간을 분석한 결과 비교하기\n",
    "# 단순히 장중거래 SPY ETF에 투자시 손해를 볼 확률이 높다 \n",
    "# 평균과 표준편차는 종가비교가 유리하다\n",
    "# 하지만 Sharp Ratio를 비교한 결과 종가거래를한 경우가 수익률이 가장 양호한 결과를 보여준다"
   ]
  },
  {
   "cell_type": "markdown",
   "metadata": {},
   "source": [
    "<br>\n",
    "### **06 서포트 백터 회귀모델  만들기**\n",
    "장기간 데이터를 대상으로 주가분석을 시행하기"
   ]
  },
  {
   "cell_type": "markdown",
   "metadata": {},
   "source": [
    "#### **20일간의 종가비교를 위한 데이터 만들기**\n",
    "20일간의 비교데이터를 1줄로 만들기"
   ]
  },
  {
   "cell_type": "code",
   "execution_count": 51,
   "metadata": {},
   "outputs": [
    {
     "data": {
      "text/html": [
       "<div>\n",
       "<style scoped>\n",
       "    .dataframe tbody tr th:only-of-type {\n",
       "        vertical-align: middle;\n",
       "    }\n",
       "\n",
       "    .dataframe tbody tr th {\n",
       "        vertical-align: top;\n",
       "    }\n",
       "\n",
       "    .dataframe thead th {\n",
       "        text-align: right;\n",
       "    }\n",
       "</style>\n",
       "<table border=\"1\" class=\"dataframe\">\n",
       "  <thead>\n",
       "    <tr style=\"text-align: right;\">\n",
       "      <th></th>\n",
       "      <th>High</th>\n",
       "      <th>Low</th>\n",
       "      <th>Open</th>\n",
       "      <th>Close</th>\n",
       "      <th>Volume</th>\n",
       "      <th>Adj Close</th>\n",
       "      <th>Close Minus 1</th>\n",
       "      <th>Close Minus 2</th>\n",
       "      <th>Close Minus 3</th>\n",
       "      <th>Close Minus 4</th>\n",
       "      <th>...</th>\n",
       "      <th>Close Minus 11</th>\n",
       "      <th>Close Minus 12</th>\n",
       "      <th>Close Minus 13</th>\n",
       "      <th>Close Minus 14</th>\n",
       "      <th>Close Minus 15</th>\n",
       "      <th>Close Minus 16</th>\n",
       "      <th>Close Minus 17</th>\n",
       "      <th>Close Minus 18</th>\n",
       "      <th>Close Minus 19</th>\n",
       "      <th>Close Minus 20</th>\n",
       "    </tr>\n",
       "    <tr>\n",
       "      <th>Date</th>\n",
       "      <th></th>\n",
       "      <th></th>\n",
       "      <th></th>\n",
       "      <th></th>\n",
       "      <th></th>\n",
       "      <th></th>\n",
       "      <th></th>\n",
       "      <th></th>\n",
       "      <th></th>\n",
       "      <th></th>\n",
       "      <th></th>\n",
       "      <th></th>\n",
       "      <th></th>\n",
       "      <th></th>\n",
       "      <th></th>\n",
       "      <th></th>\n",
       "      <th></th>\n",
       "      <th></th>\n",
       "      <th></th>\n",
       "      <th></th>\n",
       "      <th></th>\n",
       "    </tr>\n",
       "  </thead>\n",
       "  <tbody>\n",
       "    <tr>\n",
       "      <th>1999-12-31</th>\n",
       "      <td>147.5000</td>\n",
       "      <td>146.250000</td>\n",
       "      <td>146.843704</td>\n",
       "      <td>146.8750</td>\n",
       "      <td>3172700.0</td>\n",
       "      <td>104.415031</td>\n",
       "      <td>NaN</td>\n",
       "      <td>NaN</td>\n",
       "      <td>NaN</td>\n",
       "      <td>NaN</td>\n",
       "      <td>...</td>\n",
       "      <td>NaN</td>\n",
       "      <td>NaN</td>\n",
       "      <td>NaN</td>\n",
       "      <td>NaN</td>\n",
       "      <td>NaN</td>\n",
       "      <td>NaN</td>\n",
       "      <td>NaN</td>\n",
       "      <td>NaN</td>\n",
       "      <td>NaN</td>\n",
       "      <td>NaN</td>\n",
       "    </tr>\n",
       "    <tr>\n",
       "      <th>2000-01-03</th>\n",
       "      <td>148.2500</td>\n",
       "      <td>143.875000</td>\n",
       "      <td>148.250000</td>\n",
       "      <td>145.4375</td>\n",
       "      <td>8164300.0</td>\n",
       "      <td>103.393074</td>\n",
       "      <td>146.8750</td>\n",
       "      <td>NaN</td>\n",
       "      <td>NaN</td>\n",
       "      <td>NaN</td>\n",
       "      <td>...</td>\n",
       "      <td>NaN</td>\n",
       "      <td>NaN</td>\n",
       "      <td>NaN</td>\n",
       "      <td>NaN</td>\n",
       "      <td>NaN</td>\n",
       "      <td>NaN</td>\n",
       "      <td>NaN</td>\n",
       "      <td>NaN</td>\n",
       "      <td>NaN</td>\n",
       "      <td>NaN</td>\n",
       "    </tr>\n",
       "    <tr>\n",
       "      <th>2000-01-04</th>\n",
       "      <td>144.0625</td>\n",
       "      <td>139.640594</td>\n",
       "      <td>143.531204</td>\n",
       "      <td>139.7500</td>\n",
       "      <td>8089800.0</td>\n",
       "      <td>99.349785</td>\n",
       "      <td>145.4375</td>\n",
       "      <td>146.875</td>\n",
       "      <td>NaN</td>\n",
       "      <td>NaN</td>\n",
       "      <td>...</td>\n",
       "      <td>NaN</td>\n",
       "      <td>NaN</td>\n",
       "      <td>NaN</td>\n",
       "      <td>NaN</td>\n",
       "      <td>NaN</td>\n",
       "      <td>NaN</td>\n",
       "      <td>NaN</td>\n",
       "      <td>NaN</td>\n",
       "      <td>NaN</td>\n",
       "      <td>NaN</td>\n",
       "    </tr>\n",
       "  </tbody>\n",
       "</table>\n",
       "<p>3 rows × 26 columns</p>\n",
       "</div>"
      ],
      "text/plain": [
       "                High         Low        Open     Close     Volume   Adj Close  \\\n",
       "Date                                                                            \n",
       "1999-12-31  147.5000  146.250000  146.843704  146.8750  3172700.0  104.415031   \n",
       "2000-01-03  148.2500  143.875000  148.250000  145.4375  8164300.0  103.393074   \n",
       "2000-01-04  144.0625  139.640594  143.531204  139.7500  8089800.0   99.349785   \n",
       "\n",
       "            Close Minus 1  Close Minus 2  Close Minus 3  Close Minus 4  \\\n",
       "Date                                                                     \n",
       "1999-12-31            NaN            NaN            NaN            NaN   \n",
       "2000-01-03       146.8750            NaN            NaN            NaN   \n",
       "2000-01-04       145.4375        146.875            NaN            NaN   \n",
       "\n",
       "                 ...        Close Minus 11  Close Minus 12  Close Minus 13  \\\n",
       "Date             ...                                                         \n",
       "1999-12-31       ...                   NaN             NaN             NaN   \n",
       "2000-01-03       ...                   NaN             NaN             NaN   \n",
       "2000-01-04       ...                   NaN             NaN             NaN   \n",
       "\n",
       "            Close Minus 14  Close Minus 15  Close Minus 16  Close Minus 17  \\\n",
       "Date                                                                         \n",
       "1999-12-31             NaN             NaN             NaN             NaN   \n",
       "2000-01-03             NaN             NaN             NaN             NaN   \n",
       "2000-01-04             NaN             NaN             NaN             NaN   \n",
       "\n",
       "            Close Minus 18  Close Minus 19  Close Minus 20  \n",
       "Date                                                        \n",
       "1999-12-31             NaN             NaN             NaN  \n",
       "2000-01-03             NaN             NaN             NaN  \n",
       "2000-01-04             NaN             NaN             NaN  \n",
       "\n",
       "[3 rows x 26 columns]"
      ]
     },
     "execution_count": 51,
     "metadata": {},
     "output_type": "execute_result"
    }
   ],
   "source": [
    "# 20일간의 종가를 비교한다\n",
    "for i in range(1, 21, 1):\n",
    "    sp.loc[:,'Close Minus ' + str(i)] = sp['Close'].shift(i)\n",
    "sp.head(3)"
   ]
  },
  {
   "cell_type": "code",
   "execution_count": 52,
   "metadata": {},
   "outputs": [
    {
     "data": {
      "text/html": [
       "<div>\n",
       "<style scoped>\n",
       "    .dataframe tbody tr th:only-of-type {\n",
       "        vertical-align: middle;\n",
       "    }\n",
       "\n",
       "    .dataframe tbody tr th {\n",
       "        vertical-align: top;\n",
       "    }\n",
       "\n",
       "    .dataframe thead th {\n",
       "        text-align: right;\n",
       "    }\n",
       "</style>\n",
       "<table border=\"1\" class=\"dataframe\">\n",
       "  <thead>\n",
       "    <tr style=\"text-align: right;\">\n",
       "      <th></th>\n",
       "      <th>Close</th>\n",
       "      <th>Close Minus 1</th>\n",
       "      <th>Close Minus 2</th>\n",
       "      <th>Close Minus 3</th>\n",
       "      <th>Close Minus 4</th>\n",
       "      <th>Close Minus 5</th>\n",
       "      <th>Close Minus 6</th>\n",
       "      <th>Close Minus 7</th>\n",
       "      <th>Close Minus 8</th>\n",
       "      <th>Close Minus 9</th>\n",
       "      <th>...</th>\n",
       "      <th>Close Minus 11</th>\n",
       "      <th>Close Minus 12</th>\n",
       "      <th>Close Minus 13</th>\n",
       "      <th>Close Minus 14</th>\n",
       "      <th>Close Minus 15</th>\n",
       "      <th>Close Minus 16</th>\n",
       "      <th>Close Minus 17</th>\n",
       "      <th>Close Minus 18</th>\n",
       "      <th>Close Minus 19</th>\n",
       "      <th>Close Minus 20</th>\n",
       "    </tr>\n",
       "    <tr>\n",
       "      <th>Date</th>\n",
       "      <th></th>\n",
       "      <th></th>\n",
       "      <th></th>\n",
       "      <th></th>\n",
       "      <th></th>\n",
       "      <th></th>\n",
       "      <th></th>\n",
       "      <th></th>\n",
       "      <th></th>\n",
       "      <th></th>\n",
       "      <th></th>\n",
       "      <th></th>\n",
       "      <th></th>\n",
       "      <th></th>\n",
       "      <th></th>\n",
       "      <th></th>\n",
       "      <th></th>\n",
       "      <th></th>\n",
       "      <th></th>\n",
       "      <th></th>\n",
       "      <th></th>\n",
       "    </tr>\n",
       "  </thead>\n",
       "  <tbody>\n",
       "    <tr>\n",
       "      <th>2000-01-31</th>\n",
       "      <td>139.5625</td>\n",
       "      <td>135.8750</td>\n",
       "      <td>140.2500</td>\n",
       "      <td>140.8125</td>\n",
       "      <td>141.9375</td>\n",
       "      <td>140.343704</td>\n",
       "      <td>144.437500</td>\n",
       "      <td>144.750000</td>\n",
       "      <td>147.0000</td>\n",
       "      <td>145.8125</td>\n",
       "      <td>...</td>\n",
       "      <td>145.000000</td>\n",
       "      <td>143.062500</td>\n",
       "      <td>144.5000</td>\n",
       "      <td>146.2500</td>\n",
       "      <td>145.75</td>\n",
       "      <td>137.75</td>\n",
       "      <td>140.00</td>\n",
       "      <td>139.75</td>\n",
       "      <td>145.4375</td>\n",
       "      <td>146.8750</td>\n",
       "    </tr>\n",
       "    <tr>\n",
       "      <th>2000-02-01</th>\n",
       "      <td>140.9375</td>\n",
       "      <td>139.5625</td>\n",
       "      <td>135.8750</td>\n",
       "      <td>140.2500</td>\n",
       "      <td>140.8125</td>\n",
       "      <td>141.937500</td>\n",
       "      <td>140.343704</td>\n",
       "      <td>144.437500</td>\n",
       "      <td>144.7500</td>\n",
       "      <td>147.0000</td>\n",
       "      <td>...</td>\n",
       "      <td>146.968704</td>\n",
       "      <td>145.000000</td>\n",
       "      <td>143.0625</td>\n",
       "      <td>144.5000</td>\n",
       "      <td>146.25</td>\n",
       "      <td>145.75</td>\n",
       "      <td>137.75</td>\n",
       "      <td>140.00</td>\n",
       "      <td>139.7500</td>\n",
       "      <td>145.4375</td>\n",
       "    </tr>\n",
       "    <tr>\n",
       "      <th>2000-02-02</th>\n",
       "      <td>141.0625</td>\n",
       "      <td>140.9375</td>\n",
       "      <td>139.5625</td>\n",
       "      <td>135.8750</td>\n",
       "      <td>140.2500</td>\n",
       "      <td>140.812500</td>\n",
       "      <td>141.937500</td>\n",
       "      <td>140.343704</td>\n",
       "      <td>144.4375</td>\n",
       "      <td>144.7500</td>\n",
       "      <td>...</td>\n",
       "      <td>145.812500</td>\n",
       "      <td>146.968704</td>\n",
       "      <td>145.0000</td>\n",
       "      <td>143.0625</td>\n",
       "      <td>144.50</td>\n",
       "      <td>146.25</td>\n",
       "      <td>145.75</td>\n",
       "      <td>137.75</td>\n",
       "      <td>140.0000</td>\n",
       "      <td>139.7500</td>\n",
       "    </tr>\n",
       "  </tbody>\n",
       "</table>\n",
       "<p>3 rows × 21 columns</p>\n",
       "</div>"
      ],
      "text/plain": [
       "               Close  Close Minus 1  Close Minus 2  Close Minus 3  \\\n",
       "Date                                                                \n",
       "2000-01-31  139.5625       135.8750       140.2500       140.8125   \n",
       "2000-02-01  140.9375       139.5625       135.8750       140.2500   \n",
       "2000-02-02  141.0625       140.9375       139.5625       135.8750   \n",
       "\n",
       "            Close Minus 4  Close Minus 5  Close Minus 6  Close Minus 7  \\\n",
       "Date                                                                     \n",
       "2000-01-31       141.9375     140.343704     144.437500     144.750000   \n",
       "2000-02-01       140.8125     141.937500     140.343704     144.437500   \n",
       "2000-02-02       140.2500     140.812500     141.937500     140.343704   \n",
       "\n",
       "            Close Minus 8  Close Minus 9       ...        Close Minus 11  \\\n",
       "Date                                           ...                         \n",
       "2000-01-31       147.0000       145.8125       ...            145.000000   \n",
       "2000-02-01       144.7500       147.0000       ...            146.968704   \n",
       "2000-02-02       144.4375       144.7500       ...            145.812500   \n",
       "\n",
       "            Close Minus 12  Close Minus 13  Close Minus 14  Close Minus 15  \\\n",
       "Date                                                                         \n",
       "2000-01-31      143.062500        144.5000        146.2500          145.75   \n",
       "2000-02-01      145.000000        143.0625        144.5000          146.25   \n",
       "2000-02-02      146.968704        145.0000        143.0625          144.50   \n",
       "\n",
       "            Close Minus 16  Close Minus 17  Close Minus 18  Close Minus 19  \\\n",
       "Date                                                                         \n",
       "2000-01-31          137.75          140.00          139.75        145.4375   \n",
       "2000-02-01          145.75          137.75          140.00        139.7500   \n",
       "2000-02-02          146.25          145.75          137.75        140.0000   \n",
       "\n",
       "            Close Minus 20  \n",
       "Date                        \n",
       "2000-01-31        146.8750  \n",
       "2000-02-01        145.4375  \n",
       "2000-02-02        139.7500  \n",
       "\n",
       "[3 rows x 21 columns]"
      ]
     },
     "execution_count": 52,
     "metadata": {},
     "output_type": "execute_result"
    }
   ],
   "source": [
    "# 이전의 20일간의 종가 비교내용을 1줄로 보여준다\n",
    "sp20 = sp[[x for x in sp.columns if 'Close Minus' in x or x == 'Close']].iloc[20:,]\n",
    "sp20.head(3)"
   ]
  },
  {
   "cell_type": "code",
   "execution_count": 53,
   "metadata": {},
   "outputs": [
    {
     "data": {
      "text/html": [
       "<div>\n",
       "<style scoped>\n",
       "    .dataframe tbody tr th:only-of-type {\n",
       "        vertical-align: middle;\n",
       "    }\n",
       "\n",
       "    .dataframe tbody tr th {\n",
       "        vertical-align: top;\n",
       "    }\n",
       "\n",
       "    .dataframe thead th {\n",
       "        text-align: right;\n",
       "    }\n",
       "</style>\n",
       "<table border=\"1\" class=\"dataframe\">\n",
       "  <thead>\n",
       "    <tr style=\"text-align: right;\">\n",
       "      <th></th>\n",
       "      <th>Close Minus 20</th>\n",
       "      <th>Close Minus 19</th>\n",
       "      <th>Close Minus 18</th>\n",
       "      <th>Close Minus 17</th>\n",
       "      <th>Close Minus 16</th>\n",
       "      <th>Close Minus 15</th>\n",
       "      <th>Close Minus 14</th>\n",
       "      <th>Close Minus 13</th>\n",
       "      <th>Close Minus 12</th>\n",
       "      <th>Close Minus 11</th>\n",
       "      <th>...</th>\n",
       "      <th>Close Minus 9</th>\n",
       "      <th>Close Minus 8</th>\n",
       "      <th>Close Minus 7</th>\n",
       "      <th>Close Minus 6</th>\n",
       "      <th>Close Minus 5</th>\n",
       "      <th>Close Minus 4</th>\n",
       "      <th>Close Minus 3</th>\n",
       "      <th>Close Minus 2</th>\n",
       "      <th>Close Minus 1</th>\n",
       "      <th>Close</th>\n",
       "    </tr>\n",
       "    <tr>\n",
       "      <th>Date</th>\n",
       "      <th></th>\n",
       "      <th></th>\n",
       "      <th></th>\n",
       "      <th></th>\n",
       "      <th></th>\n",
       "      <th></th>\n",
       "      <th></th>\n",
       "      <th></th>\n",
       "      <th></th>\n",
       "      <th></th>\n",
       "      <th></th>\n",
       "      <th></th>\n",
       "      <th></th>\n",
       "      <th></th>\n",
       "      <th></th>\n",
       "      <th></th>\n",
       "      <th></th>\n",
       "      <th></th>\n",
       "      <th></th>\n",
       "      <th></th>\n",
       "      <th></th>\n",
       "    </tr>\n",
       "  </thead>\n",
       "  <tbody>\n",
       "    <tr>\n",
       "      <th>2000-01-31</th>\n",
       "      <td>146.8750</td>\n",
       "      <td>145.4375</td>\n",
       "      <td>139.75</td>\n",
       "      <td>140.00</td>\n",
       "      <td>137.75</td>\n",
       "      <td>145.75</td>\n",
       "      <td>146.2500</td>\n",
       "      <td>144.5000</td>\n",
       "      <td>143.062500</td>\n",
       "      <td>145.000000</td>\n",
       "      <td>...</td>\n",
       "      <td>145.8125</td>\n",
       "      <td>147.0000</td>\n",
       "      <td>144.750000</td>\n",
       "      <td>144.437500</td>\n",
       "      <td>140.343704</td>\n",
       "      <td>141.9375</td>\n",
       "      <td>140.8125</td>\n",
       "      <td>140.2500</td>\n",
       "      <td>135.8750</td>\n",
       "      <td>139.5625</td>\n",
       "    </tr>\n",
       "    <tr>\n",
       "      <th>2000-02-01</th>\n",
       "      <td>145.4375</td>\n",
       "      <td>139.7500</td>\n",
       "      <td>140.00</td>\n",
       "      <td>137.75</td>\n",
       "      <td>145.75</td>\n",
       "      <td>146.25</td>\n",
       "      <td>144.5000</td>\n",
       "      <td>143.0625</td>\n",
       "      <td>145.000000</td>\n",
       "      <td>146.968704</td>\n",
       "      <td>...</td>\n",
       "      <td>147.0000</td>\n",
       "      <td>144.7500</td>\n",
       "      <td>144.437500</td>\n",
       "      <td>140.343704</td>\n",
       "      <td>141.937500</td>\n",
       "      <td>140.8125</td>\n",
       "      <td>140.2500</td>\n",
       "      <td>135.8750</td>\n",
       "      <td>139.5625</td>\n",
       "      <td>140.9375</td>\n",
       "    </tr>\n",
       "    <tr>\n",
       "      <th>2000-02-02</th>\n",
       "      <td>139.7500</td>\n",
       "      <td>140.0000</td>\n",
       "      <td>137.75</td>\n",
       "      <td>145.75</td>\n",
       "      <td>146.25</td>\n",
       "      <td>144.50</td>\n",
       "      <td>143.0625</td>\n",
       "      <td>145.0000</td>\n",
       "      <td>146.968704</td>\n",
       "      <td>145.812500</td>\n",
       "      <td>...</td>\n",
       "      <td>144.7500</td>\n",
       "      <td>144.4375</td>\n",
       "      <td>140.343704</td>\n",
       "      <td>141.937500</td>\n",
       "      <td>140.812500</td>\n",
       "      <td>140.2500</td>\n",
       "      <td>135.8750</td>\n",
       "      <td>139.5625</td>\n",
       "      <td>140.9375</td>\n",
       "      <td>141.0625</td>\n",
       "    </tr>\n",
       "  </tbody>\n",
       "</table>\n",
       "<p>3 rows × 21 columns</p>\n",
       "</div>"
      ],
      "text/plain": [
       "            Close Minus 20  Close Minus 19  Close Minus 18  Close Minus 17  \\\n",
       "Date                                                                         \n",
       "2000-01-31        146.8750        145.4375          139.75          140.00   \n",
       "2000-02-01        145.4375        139.7500          140.00          137.75   \n",
       "2000-02-02        139.7500        140.0000          137.75          145.75   \n",
       "\n",
       "            Close Minus 16  Close Minus 15  Close Minus 14  Close Minus 13  \\\n",
       "Date                                                                         \n",
       "2000-01-31          137.75          145.75        146.2500        144.5000   \n",
       "2000-02-01          145.75          146.25        144.5000        143.0625   \n",
       "2000-02-02          146.25          144.50        143.0625        145.0000   \n",
       "\n",
       "            Close Minus 12  Close Minus 11    ...     Close Minus 9  \\\n",
       "Date                                          ...                     \n",
       "2000-01-31      143.062500      145.000000    ...          145.8125   \n",
       "2000-02-01      145.000000      146.968704    ...          147.0000   \n",
       "2000-02-02      146.968704      145.812500    ...          144.7500   \n",
       "\n",
       "            Close Minus 8  Close Minus 7  Close Minus 6  Close Minus 5  \\\n",
       "Date                                                                     \n",
       "2000-01-31       147.0000     144.750000     144.437500     140.343704   \n",
       "2000-02-01       144.7500     144.437500     140.343704     141.937500   \n",
       "2000-02-02       144.4375     140.343704     141.937500     140.812500   \n",
       "\n",
       "            Close Minus 4  Close Minus 3  Close Minus 2  Close Minus 1  \\\n",
       "Date                                                                     \n",
       "2000-01-31       141.9375       140.8125       140.2500       135.8750   \n",
       "2000-02-01       140.8125       140.2500       135.8750       139.5625   \n",
       "2000-02-02       140.2500       135.8750       139.5625       140.9375   \n",
       "\n",
       "               Close  \n",
       "Date                  \n",
       "2000-01-31  139.5625  \n",
       "2000-02-01  140.9375  \n",
       "2000-02-02  141.0625  \n",
       "\n",
       "[3 rows x 21 columns]"
      ]
     },
     "execution_count": 53,
     "metadata": {},
     "output_type": "execute_result"
    }
   ],
   "source": [
    "sp20 = sp20.iloc[:, ::-1]\n",
    "sp20.head(3)"
   ]
  },
  {
   "cell_type": "markdown",
   "metadata": {},
   "source": [
    "#### **SVC를 활용하여 모델을 학습하기**\n",
    "Support Vector Machine"
   ]
  },
  {
   "cell_type": "code",
   "execution_count": 54,
   "metadata": {},
   "outputs": [],
   "source": [
    "## GitHub 소스내용\n",
    "## 데이터 셋 나누기\n",
    "# X_train = sp20[:-2000]\n",
    "# y_train = sp20['Close'].shift(-1)[:-2000]\n",
    "\n",
    "# X_test = sp20[-2000:-1000]\n",
    "# y_test = sp20['Close'].shift(-1)[-2000:-1000]\n",
    "# len(sp20)"
   ]
  },
  {
   "cell_type": "code",
   "execution_count": 55,
   "metadata": {},
   "outputs": [
    {
     "data": {
      "text/plain": [
       "4617"
      ]
     },
     "execution_count": 55,
     "metadata": {},
     "output_type": "execute_result"
    }
   ],
   "source": [
    "## Book 의 내용\n",
    "# 데이터 셋 나누기\n",
    "X_train = sp20[:-1500]\n",
    "y_train = sp20['Close'].shift(-1)[:-1500]\n",
    "\n",
    "X_test = sp20[-1500:]\n",
    "y_test = sp20['Close'].shift(-1)[-1500:]\n",
    "len(sp20)"
   ]
  },
  {
   "cell_type": "code",
   "execution_count": 56,
   "metadata": {},
   "outputs": [
    {
     "name": "stdout",
     "output_type": "stream",
     "text": [
      "(1500,)\n"
     ]
    },
    {
     "data": {
      "text/plain": [
       "array([135.48889369, 132.85928217, 133.42516324, 131.26916666,\n",
       "       132.07519674, 133.31918418, 133.02392063, 136.13882813,\n",
       "       136.45559241, 137.47949473])"
      ]
     },
     "execution_count": 56,
     "metadata": {},
     "output_type": "execute_result"
    }
   ],
   "source": [
    "from sklearn.svm import SVR\n",
    "\n",
    "clf   = SVR(kernel='linear')\n",
    "model = clf.fit(X_train, y_train)\n",
    "preds = model.predict(X_test)\n",
    "print(preds.shape)\n",
    "preds[:10]"
   ]
  },
  {
   "cell_type": "code",
   "execution_count": 57,
   "metadata": {},
   "outputs": [
    {
     "data": {
      "text/html": [
       "<div>\n",
       "<style scoped>\n",
       "    .dataframe tbody tr th:only-of-type {\n",
       "        vertical-align: middle;\n",
       "    }\n",
       "\n",
       "    .dataframe tbody tr th {\n",
       "        vertical-align: top;\n",
       "    }\n",
       "\n",
       "    .dataframe thead th {\n",
       "        text-align: right;\n",
       "    }\n",
       "</style>\n",
       "<table border=\"1\" class=\"dataframe\">\n",
       "  <thead>\n",
       "    <tr style=\"text-align: right;\">\n",
       "      <th></th>\n",
       "      <th>Next Day Close</th>\n",
       "      <th>Predicted Next Close</th>\n",
       "    </tr>\n",
       "    <tr>\n",
       "      <th>Date</th>\n",
       "      <th></th>\n",
       "      <th></th>\n",
       "    </tr>\n",
       "  </thead>\n",
       "  <tbody>\n",
       "    <tr>\n",
       "      <th>2012-06-20</th>\n",
       "      <td>132.440002</td>\n",
       "      <td>135.488894</td>\n",
       "    </tr>\n",
       "    <tr>\n",
       "      <th>2012-06-21</th>\n",
       "      <td>133.460007</td>\n",
       "      <td>132.859282</td>\n",
       "    </tr>\n",
       "    <tr>\n",
       "      <th>2012-06-22</th>\n",
       "      <td>131.320007</td>\n",
       "      <td>133.425163</td>\n",
       "    </tr>\n",
       "  </tbody>\n",
       "</table>\n",
       "</div>"
      ],
      "text/plain": [
       "            Next Day Close  Predicted Next Close\n",
       "Date                                            \n",
       "2012-06-20      132.440002            135.488894\n",
       "2012-06-21      133.460007            132.859282\n",
       "2012-06-22      131.320007            133.425163"
      ]
     },
     "execution_count": 57,
     "metadata": {},
     "output_type": "execute_result"
    }
   ],
   "source": [
    "# SVC 모델로 예측한 값과, 실제값을 비교한다\n",
    "tf = pd.DataFrame(list(zip(y_test, preds)), \n",
    "                  columns = ['Next Day Close', 'Predicted Next Close'], \n",
    "                  index   = y_test.index)\n",
    "tf.head(3)"
   ]
  },
  {
   "cell_type": "code",
   "execution_count": 58,
   "metadata": {},
   "outputs": [
    {
     "data": {
      "text/plain": [
       "<matplotlib.axes._subplots.AxesSubplot at 0x7f7b4f2f85c0>"
      ]
     },
     "execution_count": 58,
     "metadata": {},
     "output_type": "execute_result"
    },
    {
     "data": {
      "image/png": "[encoded data removed]",
      "text/plain": [
       "<matplotlib.figure.Figure at 0x7f7b5083dfd0>"
      ]
     },
     "metadata": {},
     "output_type": "display_data"
    }
   ],
   "source": [
    "tf.iloc[-150:,:].plot(figsize=(14,5), grid=True)"
   ]
  },
  {
   "cell_type": "markdown",
   "metadata": {},
   "source": [
    "#### **SVC 모델을 평가하기**\n",
    "Support Vector Machine"
   ]
  },
  {
   "cell_type": "code",
   "execution_count": 59,
   "metadata": {},
   "outputs": [],
   "source": [
    "# # GitHub Codes\n",
    "# cdc = sp[['Close']].iloc[-2000:-1000]\n",
    "# ndo = sp[['Open']].iloc[-2000:-1000].shift(-1)"
   ]
  },
  {
   "cell_type": "code",
   "execution_count": 60,
   "metadata": {},
   "outputs": [],
   "source": [
    "# Book Codes\n",
    "cdc = sp[['Close']].iloc[-1500:]\n",
    "ndo = sp[['Open']].iloc[-1500:].shift(-1)"
   ]
  },
  {
   "cell_type": "code",
   "execution_count": 61,
   "metadata": {},
   "outputs": [
    {
     "data": {
      "text/html": [
       "<div>\n",
       "<style scoped>\n",
       "    .dataframe tbody tr th:only-of-type {\n",
       "        vertical-align: middle;\n",
       "    }\n",
       "\n",
       "    .dataframe tbody tr th {\n",
       "        vertical-align: top;\n",
       "    }\n",
       "\n",
       "    .dataframe thead th {\n",
       "        text-align: right;\n",
       "    }\n",
       "</style>\n",
       "<table border=\"1\" class=\"dataframe\">\n",
       "  <thead>\n",
       "    <tr style=\"text-align: right;\">\n",
       "      <th></th>\n",
       "      <th>Next Day Close</th>\n",
       "      <th>Predicted Next Close</th>\n",
       "      <th>Current Day Close</th>\n",
       "      <th>Next Day Open</th>\n",
       "    </tr>\n",
       "    <tr>\n",
       "      <th>Date</th>\n",
       "      <th></th>\n",
       "      <th></th>\n",
       "      <th></th>\n",
       "      <th></th>\n",
       "    </tr>\n",
       "  </thead>\n",
       "  <tbody>\n",
       "    <tr>\n",
       "      <th>2012-06-20</th>\n",
       "      <td>132.440002</td>\n",
       "      <td>135.488894</td>\n",
       "      <td>135.479996</td>\n",
       "      <td>135.639999</td>\n",
       "    </tr>\n",
       "    <tr>\n",
       "      <th>2012-06-21</th>\n",
       "      <td>133.460007</td>\n",
       "      <td>132.859282</td>\n",
       "      <td>132.440002</td>\n",
       "      <td>133.130005</td>\n",
       "    </tr>\n",
       "    <tr>\n",
       "      <th>2012-06-22</th>\n",
       "      <td>131.320007</td>\n",
       "      <td>133.425163</td>\n",
       "      <td>133.460007</td>\n",
       "      <td>132.050003</td>\n",
       "    </tr>\n",
       "  </tbody>\n",
       "</table>\n",
       "</div>"
      ],
      "text/plain": [
       "            Next Day Close  Predicted Next Close  Current Day Close  \\\n",
       "Date                                                                  \n",
       "2012-06-20      132.440002            135.488894         135.479996   \n",
       "2012-06-21      133.460007            132.859282         132.440002   \n",
       "2012-06-22      131.320007            133.425163         133.460007   \n",
       "\n",
       "            Next Day Open  \n",
       "Date                       \n",
       "2012-06-20     135.639999  \n",
       "2012-06-21     133.130005  \n",
       "2012-06-22     132.050003  "
      ]
     },
     "execution_count": 61,
     "metadata": {},
     "output_type": "execute_result"
    }
   ],
   "source": [
    "# 전략 : 다음날 종가가 상승이 예측되면, 당일 매수를 한다\n",
    "tf1 = pd.merge(tf,  cdc, left_index=True, right_index=True)\n",
    "tf2 = pd.merge(tf1, ndo, left_index=True, right_index=True)\n",
    "tf2.columns = ['Next Day Close', 'Predicted Next Close', 'Current Day Close', 'Next Day Open']\n",
    "tf2.head(3)"
   ]
  },
  {
   "cell_type": "code",
   "execution_count": 62,
   "metadata": {},
   "outputs": [
    {
     "data": {
      "text/html": [
       "<div>\n",
       "<style scoped>\n",
       "    .dataframe tbody tr th:only-of-type {\n",
       "        vertical-align: middle;\n",
       "    }\n",
       "\n",
       "    .dataframe tbody tr th {\n",
       "        vertical-align: top;\n",
       "    }\n",
       "\n",
       "    .dataframe thead th {\n",
       "        text-align: right;\n",
       "    }\n",
       "</style>\n",
       "<table border=\"1\" class=\"dataframe\">\n",
       "  <thead>\n",
       "    <tr style=\"text-align: right;\">\n",
       "      <th></th>\n",
       "      <th>Next Day Close</th>\n",
       "      <th>Predicted Next Close</th>\n",
       "      <th>Current Day Close</th>\n",
       "      <th>Next Day Open</th>\n",
       "      <th>Signal</th>\n",
       "      <th>PnL</th>\n",
       "    </tr>\n",
       "    <tr>\n",
       "      <th>Date</th>\n",
       "      <th></th>\n",
       "      <th></th>\n",
       "      <th></th>\n",
       "      <th></th>\n",
       "      <th></th>\n",
       "      <th></th>\n",
       "    </tr>\n",
       "  </thead>\n",
       "  <tbody>\n",
       "    <tr>\n",
       "      <th>2012-06-20</th>\n",
       "      <td>132.440002</td>\n",
       "      <td>135.488894</td>\n",
       "      <td>135.479996</td>\n",
       "      <td>135.639999</td>\n",
       "      <td>1</td>\n",
       "      <td>-2.359184</td>\n",
       "    </tr>\n",
       "    <tr>\n",
       "      <th>2012-06-21</th>\n",
       "      <td>133.460007</td>\n",
       "      <td>132.859282</td>\n",
       "      <td>132.440002</td>\n",
       "      <td>133.130005</td>\n",
       "      <td>1</td>\n",
       "      <td>0.247879</td>\n",
       "    </tr>\n",
       "    <tr>\n",
       "      <th>2012-06-22</th>\n",
       "      <td>131.320007</td>\n",
       "      <td>133.425163</td>\n",
       "      <td>133.460007</td>\n",
       "      <td>132.050003</td>\n",
       "      <td>0</td>\n",
       "      <td>0.000000</td>\n",
       "    </tr>\n",
       "  </tbody>\n",
       "</table>\n",
       "</div>"
      ],
      "text/plain": [
       "            Next Day Close  Predicted Next Close  Current Day Close  \\\n",
       "Date                                                                  \n",
       "2012-06-20      132.440002            135.488894         135.479996   \n",
       "2012-06-21      133.460007            132.859282         132.440002   \n",
       "2012-06-22      131.320007            133.425163         133.460007   \n",
       "\n",
       "            Next Day Open  Signal       PnL  \n",
       "Date                                         \n",
       "2012-06-20     135.639999       1 -2.359184  \n",
       "2012-06-21     133.130005       1  0.247879  \n",
       "2012-06-22     132.050003       0  0.000000  "
      ]
     },
     "execution_count": 62,
     "metadata": {},
     "output_type": "execute_result"
    }
   ],
   "source": [
    "# 이익 손해 시그널을 표기한다\n",
    "def get_signal(r):\n",
    "    if r['Predicted Next Close'] > r['Next Day Open'] + 1: return 0\n",
    "    else: return 1\n",
    "\n",
    "# 이익률 손해율 시그널을 표시한다\n",
    "def get_ret(r):\n",
    "    if r['Signal'] == 1:\n",
    "        return ((r['Next Day Close'] - r['Next Day Open'])/r['Next Day Open']) * 100\n",
    "    else: return 0\n",
    "\n",
    "tf2['Signal'] = tf2.apply(get_signal, axis=1)\n",
    "tf2['PnL']    = tf2.apply(get_ret,    axis=1)\n",
    "tf2.head(3)"
   ]
  },
  {
   "cell_type": "code",
   "execution_count": 63,
   "metadata": {},
   "outputs": [
    {
     "data": {
      "text/plain": [
       "46.28010559081986"
      ]
     },
     "execution_count": 63,
     "metadata": {},
     "output_type": "execute_result"
    }
   ],
   "source": [
    "(tf2[tf2['Signal']==1]['Next Day Close'] - tf2[tf2['Signal']==1]['Next Day Open']).sum()"
   ]
  },
  {
   "cell_type": "code",
   "execution_count": 64,
   "metadata": {},
   "outputs": [
    {
     "data": {
      "text/plain": [
       "43.400085449218665"
      ]
     },
     "execution_count": 64,
     "metadata": {},
     "output_type": "execute_result"
    }
   ],
   "source": [
    "(sp['Close'].iloc[-2000:-1000] - sp['Open'].iloc[-2000:-1000]).sum()"
   ]
  },
  {
   "cell_type": "code",
   "execution_count": 65,
   "metadata": {},
   "outputs": [
    {
     "data": {
      "text/plain": [
       "Trades            1000.0000\n",
       "Wins               568.0000\n",
       "Losses             428.0000\n",
       "Breakeven            4.0000\n",
       "Win/Loss Ratio       1.3270\n",
       "Mean Win             0.4950\n",
       "Mean Loss           -0.5800\n",
       "Mean                 0.0330\n",
       "Std Dev              0.7390\n",
       "Max Loss            -3.9770\n",
       "Max Win              3.6830\n",
       "Sharpe Ratio         0.7069\n",
       "dtype: float64"
      ]
     },
     "execution_count": 65,
     "metadata": {},
     "output_type": "execute_result"
    }
   ],
   "source": [
    "get_stats((sp['Close'].iloc[-2000:-1000] - sp['Open'].iloc[-2000:-1000])/sp['Open'].iloc[-2000:-1000] * 100)"
   ]
  },
  {
   "cell_type": "code",
   "execution_count": 66,
   "metadata": {},
   "outputs": [
    {
     "data": {
      "text/plain": [
       "Trades            1499.0000\n",
       "Wins               747.0000\n",
       "Losses             598.0000\n",
       "Breakeven          154.0000\n",
       "Win/Loss Ratio       1.2490\n",
       "Mean Win             0.3950\n",
       "Mean Loss           -0.4450\n",
       "Mean                 0.0190\n",
       "Std Dev              0.5680\n",
       "Max Loss            -4.1960\n",
       "Max Win              2.2060\n",
       "Sharpe Ratio         0.5403\n",
       "dtype: float64"
      ]
     },
     "execution_count": 66,
     "metadata": {},
     "output_type": "execute_result"
    }
   ],
   "source": [
    "get_stats(tf2['PnL'])\n",
    "\n",
    "# 분석결과 \n",
    "# 상승에 비해 하락값도 커서 전략이 좋지않다"
   ]
  },
  {
   "cell_type": "markdown",
   "metadata": {},
   "source": [
    "<br>\n",
    "### **07 동적 시간 워핑 모델링 서포트 백터 회귀모델  만들기**\n",
    "장기간 데이터를 대상으로 주가분석을 시행하기"
   ]
  },
  {
   "cell_type": "markdown",
   "metadata": {},
   "source": [
    "#### **평균 회귀적 추세경향을 분석 해보자**\n",
    "Mean Reversion"
   ]
  },
  {
   "cell_type": "code",
   "execution_count": 67,
   "metadata": {},
   "outputs": [],
   "source": [
    "from scipy.spatial.distance import euclidean"
   ]
  },
  {
   "cell_type": "code",
   "execution_count": 68,
   "metadata": {},
   "outputs": [],
   "source": [
    "from data.fastdtw import fastdtw"
   ]
  },
  {
   "cell_type": "code",
   "execution_count": 69,
   "metadata": {},
   "outputs": [],
   "source": [
    "def dtw_dist(x,y):\n",
    "    distance, path = fastdtw(x, y, dist=euclidean)\n",
    "    return distance"
   ]
  },
  {
   "cell_type": "code",
   "execution_count": 71,
   "metadata": {},
   "outputs": [
    {
     "data": {
      "text/plain": [
       "927"
      ]
     },
     "execution_count": 71,
     "metadata": {},
     "output_type": "execute_result"
    }
   ],
   "source": [
    "tseries = []\n",
    "tlen = 5\n",
    "for i in range(tlen, len(sp), tlen):\n",
    "    pctc = sp['Close'].iloc[i-tlen:i].pct_change()[1:].values * 100\n",
    "    res = sp['Close'].iloc[i-tlen:i+1].pct_change()[-1] * 100\n",
    "    tseries.append((pctc, res))\n",
    "len(tseries)"
   ]
  },
  {
   "cell_type": "code",
   "execution_count": 72,
   "metadata": {},
   "outputs": [
    {
     "data": {
      "text/plain": [
       "(array([-0.9787234 , -3.91061453,  0.17889088, -1.60714286]),\n",
       " 5.807622504537213)"
      ]
     },
     "execution_count": 72,
     "metadata": {},
     "output_type": "execute_result"
    }
   ],
   "source": [
    "tseries[0]"
   ]
  },
  {
   "cell_type": "code",
   "execution_count": 74,
   "metadata": {},
   "outputs": [],
   "source": [
    "dist_pairs = []\n",
    "for i in range(len(tseries)):\n",
    "    for j in range(len(tseries)):\n",
    "        dist = dtw_dist(tseries[i][0], tseries[j][0])\n",
    "        dist_pairs.append((i,j,dist,tseries[i][1], tseries[j][1]))"
   ]
  },
  {
   "cell_type": "code",
   "execution_count": 75,
   "metadata": {},
   "outputs": [],
   "source": [
    "dist_frame = pd.DataFrame(dist_pairs, columns=['A','B','Dist', 'A Ret', 'B Ret'])"
   ]
  },
  {
   "cell_type": "code",
   "execution_count": 76,
   "metadata": {},
   "outputs": [],
   "source": [
    "sf = dist_frame[dist_frame['Dist']>0].sort_values(['A','B']).reset_index(drop=1)"
   ]
  },
  {
   "cell_type": "code",
   "execution_count": 77,
   "metadata": {},
   "outputs": [],
   "source": [
    "sfe = sf[sf['A']<sf['B']]"
   ]
  },
  {
   "cell_type": "code",
   "execution_count": 78,
   "metadata": {},
   "outputs": [
    {
     "data": {
      "text/html": [
       "<div>\n",
       "<style scoped>\n",
       "    .dataframe tbody tr th:only-of-type {\n",
       "        vertical-align: middle;\n",
       "    }\n",
       "\n",
       "    .dataframe tbody tr th {\n",
       "        vertical-align: top;\n",
       "    }\n",
       "\n",
       "    .dataframe thead th {\n",
       "        text-align: right;\n",
       "    }\n",
       "</style>\n",
       "<table border=\"1\" class=\"dataframe\">\n",
       "  <thead>\n",
       "    <tr style=\"text-align: right;\">\n",
       "      <th></th>\n",
       "      <th>A</th>\n",
       "      <th>B</th>\n",
       "      <th>Dist</th>\n",
       "      <th>A Ret</th>\n",
       "      <th>B Ret</th>\n",
       "    </tr>\n",
       "  </thead>\n",
       "  <tbody>\n",
       "    <tr>\n",
       "      <th>958</th>\n",
       "      <td>1</td>\n",
       "      <td>33</td>\n",
       "      <td>0.625540</td>\n",
       "      <td>1.357727</td>\n",
       "      <td>0.102594</td>\n",
       "    </tr>\n",
       "    <tr>\n",
       "      <th>4689</th>\n",
       "      <td>5</td>\n",
       "      <td>60</td>\n",
       "      <td>0.819511</td>\n",
       "      <td>0.585849</td>\n",
       "      <td>2.034602</td>\n",
       "    </tr>\n",
       "    <tr>\n",
       "      <th>20522</th>\n",
       "      <td>22</td>\n",
       "      <td>151</td>\n",
       "      <td>0.730117</td>\n",
       "      <td>0.211372</td>\n",
       "      <td>-0.032236</td>\n",
       "    </tr>\n",
       "    <tr>\n",
       "      <th>21004</th>\n",
       "      <td>22</td>\n",
       "      <td>633</td>\n",
       "      <td>0.738643</td>\n",
       "      <td>0.211372</td>\n",
       "      <td>0.501370</td>\n",
       "    </tr>\n",
       "    <tr>\n",
       "      <th>24174</th>\n",
       "      <td>26</td>\n",
       "      <td>99</td>\n",
       "      <td>0.899151</td>\n",
       "      <td>0.980628</td>\n",
       "      <td>-1.465515</td>\n",
       "    </tr>\n",
       "    <tr>\n",
       "      <th>24258</th>\n",
       "      <td>26</td>\n",
       "      <td>183</td>\n",
       "      <td>0.799945</td>\n",
       "      <td>0.980628</td>\n",
       "      <td>1.340695</td>\n",
       "    </tr>\n",
       "    <tr>\n",
       "      <th>24264</th>\n",
       "      <td>26</td>\n",
       "      <td>189</td>\n",
       "      <td>0.638684</td>\n",
       "      <td>0.980628</td>\n",
       "      <td>0.352712</td>\n",
       "    </tr>\n",
       "    <tr>\n",
       "      <th>24267</th>\n",
       "      <td>26</td>\n",
       "      <td>192</td>\n",
       "      <td>0.827140</td>\n",
       "      <td>0.980628</td>\n",
       "      <td>-0.216998</td>\n",
       "    </tr>\n",
       "    <tr>\n",
       "      <th>24288</th>\n",
       "      <td>26</td>\n",
       "      <td>213</td>\n",
       "      <td>0.644299</td>\n",
       "      <td>0.980628</td>\n",
       "      <td>-0.320981</td>\n",
       "    </tr>\n",
       "    <tr>\n",
       "      <th>24308</th>\n",
       "      <td>26</td>\n",
       "      <td>233</td>\n",
       "      <td>0.970981</td>\n",
       "      <td>0.980628</td>\n",
       "      <td>-0.825481</td>\n",
       "    </tr>\n",
       "    <tr>\n",
       "      <th>24310</th>\n",
       "      <td>26</td>\n",
       "      <td>235</td>\n",
       "      <td>0.630512</td>\n",
       "      <td>0.980628</td>\n",
       "      <td>0.202771</td>\n",
       "    </tr>\n",
       "    <tr>\n",
       "      <th>24323</th>\n",
       "      <td>26</td>\n",
       "      <td>248</td>\n",
       "      <td>0.941828</td>\n",
       "      <td>0.980628</td>\n",
       "      <td>0.074506</td>\n",
       "    </tr>\n",
       "    <tr>\n",
       "      <th>24329</th>\n",
       "      <td>26</td>\n",
       "      <td>254</td>\n",
       "      <td>0.723777</td>\n",
       "      <td>0.980628</td>\n",
       "      <td>0.000000</td>\n",
       "    </tr>\n",
       "    <tr>\n",
       "      <th>24353</th>\n",
       "      <td>26</td>\n",
       "      <td>278</td>\n",
       "      <td>0.883086</td>\n",
       "      <td>0.980628</td>\n",
       "      <td>-0.583280</td>\n",
       "    </tr>\n",
       "    <tr>\n",
       "      <th>24368</th>\n",
       "      <td>26</td>\n",
       "      <td>293</td>\n",
       "      <td>0.937335</td>\n",
       "      <td>0.980628</td>\n",
       "      <td>-0.130855</td>\n",
       "    </tr>\n",
       "    <tr>\n",
       "      <th>24369</th>\n",
       "      <td>26</td>\n",
       "      <td>294</td>\n",
       "      <td>0.974844</td>\n",
       "      <td>0.980628</td>\n",
       "      <td>0.340527</td>\n",
       "    </tr>\n",
       "    <tr>\n",
       "      <th>24375</th>\n",
       "      <td>26</td>\n",
       "      <td>300</td>\n",
       "      <td>0.831699</td>\n",
       "      <td>0.980628</td>\n",
       "      <td>-1.017672</td>\n",
       "    </tr>\n",
       "    <tr>\n",
       "      <th>24392</th>\n",
       "      <td>26</td>\n",
       "      <td>317</td>\n",
       "      <td>0.707056</td>\n",
       "      <td>0.980628</td>\n",
       "      <td>-0.813879</td>\n",
       "    </tr>\n",
       "    <tr>\n",
       "      <th>24409</th>\n",
       "      <td>26</td>\n",
       "      <td>334</td>\n",
       "      <td>0.673309</td>\n",
       "      <td>0.980628</td>\n",
       "      <td>0.061267</td>\n",
       "    </tr>\n",
       "    <tr>\n",
       "      <th>24411</th>\n",
       "      <td>26</td>\n",
       "      <td>336</td>\n",
       "      <td>0.930398</td>\n",
       "      <td>0.980628</td>\n",
       "      <td>0.007559</td>\n",
       "    </tr>\n",
       "    <tr>\n",
       "      <th>24412</th>\n",
       "      <td>26</td>\n",
       "      <td>337</td>\n",
       "      <td>0.785315</td>\n",
       "      <td>0.980628</td>\n",
       "      <td>-0.482982</td>\n",
       "    </tr>\n",
       "    <tr>\n",
       "      <th>24417</th>\n",
       "      <td>26</td>\n",
       "      <td>342</td>\n",
       "      <td>0.814636</td>\n",
       "      <td>0.980628</td>\n",
       "      <td>0.310801</td>\n",
       "    </tr>\n",
       "    <tr>\n",
       "      <th>24420</th>\n",
       "      <td>26</td>\n",
       "      <td>345</td>\n",
       "      <td>0.496918</td>\n",
       "      <td>0.980628</td>\n",
       "      <td>0.257107</td>\n",
       "    </tr>\n",
       "    <tr>\n",
       "      <th>24430</th>\n",
       "      <td>26</td>\n",
       "      <td>355</td>\n",
       "      <td>0.710347</td>\n",
       "      <td>0.980628</td>\n",
       "      <td>0.598261</td>\n",
       "    </tr>\n",
       "    <tr>\n",
       "      <th>24440</th>\n",
       "      <td>26</td>\n",
       "      <td>365</td>\n",
       "      <td>0.972562</td>\n",
       "      <td>0.980628</td>\n",
       "      <td>0.949621</td>\n",
       "    </tr>\n",
       "    <tr>\n",
       "      <th>24443</th>\n",
       "      <td>26</td>\n",
       "      <td>368</td>\n",
       "      <td>0.701232</td>\n",
       "      <td>0.980628</td>\n",
       "      <td>0.019877</td>\n",
       "    </tr>\n",
       "    <tr>\n",
       "      <th>24463</th>\n",
       "      <td>26</td>\n",
       "      <td>388</td>\n",
       "      <td>0.610086</td>\n",
       "      <td>0.980628</td>\n",
       "      <td>0.591362</td>\n",
       "    </tr>\n",
       "    <tr>\n",
       "      <th>24492</th>\n",
       "      <td>26</td>\n",
       "      <td>417</td>\n",
       "      <td>0.947045</td>\n",
       "      <td>0.980628</td>\n",
       "      <td>0.925389</td>\n",
       "    </tr>\n",
       "    <tr>\n",
       "      <th>24566</th>\n",
       "      <td>26</td>\n",
       "      <td>491</td>\n",
       "      <td>0.711512</td>\n",
       "      <td>0.980628</td>\n",
       "      <td>-0.204310</td>\n",
       "    </tr>\n",
       "    <tr>\n",
       "      <th>24589</th>\n",
       "      <td>26</td>\n",
       "      <td>514</td>\n",
       "      <td>0.808119</td>\n",
       "      <td>0.980628</td>\n",
       "      <td>0.068191</td>\n",
       "    </tr>\n",
       "    <tr>\n",
       "      <th>...</th>\n",
       "      <td>...</td>\n",
       "      <td>...</td>\n",
       "      <td>...</td>\n",
       "      <td>...</td>\n",
       "      <td>...</td>\n",
       "    </tr>\n",
       "    <tr>\n",
       "      <th>825990</th>\n",
       "      <td>891</td>\n",
       "      <td>925</td>\n",
       "      <td>0.936237</td>\n",
       "      <td>0.020050</td>\n",
       "      <td>-1.150103</td>\n",
       "    </tr>\n",
       "    <tr>\n",
       "      <th>826885</th>\n",
       "      <td>892</td>\n",
       "      <td>894</td>\n",
       "      <td>0.674631</td>\n",
       "      <td>0.351504</td>\n",
       "      <td>0.121740</td>\n",
       "    </tr>\n",
       "    <tr>\n",
       "      <th>826886</th>\n",
       "      <td>892</td>\n",
       "      <td>895</td>\n",
       "      <td>0.732251</td>\n",
       "      <td>0.351504</td>\n",
       "      <td>0.516045</td>\n",
       "    </tr>\n",
       "    <tr>\n",
       "      <th>826888</th>\n",
       "      <td>892</td>\n",
       "      <td>897</td>\n",
       "      <td>0.590597</td>\n",
       "      <td>0.351504</td>\n",
       "      <td>0.333870</td>\n",
       "    </tr>\n",
       "    <tr>\n",
       "      <th>826893</th>\n",
       "      <td>892</td>\n",
       "      <td>902</td>\n",
       "      <td>0.695928</td>\n",
       "      <td>0.351504</td>\n",
       "      <td>0.301302</td>\n",
       "    </tr>\n",
       "    <tr>\n",
       "      <th>826895</th>\n",
       "      <td>892</td>\n",
       "      <td>904</td>\n",
       "      <td>0.621845</td>\n",
       "      <td>0.351504</td>\n",
       "      <td>-0.119624</td>\n",
       "    </tr>\n",
       "    <tr>\n",
       "      <th>828738</th>\n",
       "      <td>894</td>\n",
       "      <td>895</td>\n",
       "      <td>0.727413</td>\n",
       "      <td>0.121740</td>\n",
       "      <td>0.516045</td>\n",
       "    </tr>\n",
       "    <tr>\n",
       "      <th>828739</th>\n",
       "      <td>894</td>\n",
       "      <td>896</td>\n",
       "      <td>0.954834</td>\n",
       "      <td>0.121740</td>\n",
       "      <td>0.817618</td>\n",
       "    </tr>\n",
       "    <tr>\n",
       "      <th>828740</th>\n",
       "      <td>894</td>\n",
       "      <td>897</td>\n",
       "      <td>0.528167</td>\n",
       "      <td>0.121740</td>\n",
       "      <td>0.333870</td>\n",
       "    </tr>\n",
       "    <tr>\n",
       "      <th>828741</th>\n",
       "      <td>894</td>\n",
       "      <td>898</td>\n",
       "      <td>0.735947</td>\n",
       "      <td>0.121740</td>\n",
       "      <td>-0.030994</td>\n",
       "    </tr>\n",
       "    <tr>\n",
       "      <th>828747</th>\n",
       "      <td>894</td>\n",
       "      <td>904</td>\n",
       "      <td>0.561223</td>\n",
       "      <td>0.121740</td>\n",
       "      <td>-0.119624</td>\n",
       "    </tr>\n",
       "    <tr>\n",
       "      <th>828768</th>\n",
       "      <td>894</td>\n",
       "      <td>925</td>\n",
       "      <td>0.387312</td>\n",
       "      <td>0.121740</td>\n",
       "      <td>-1.150103</td>\n",
       "    </tr>\n",
       "    <tr>\n",
       "      <th>829666</th>\n",
       "      <td>895</td>\n",
       "      <td>897</td>\n",
       "      <td>0.631601</td>\n",
       "      <td>0.516045</td>\n",
       "      <td>0.333870</td>\n",
       "    </tr>\n",
       "    <tr>\n",
       "      <th>829667</th>\n",
       "      <td>895</td>\n",
       "      <td>898</td>\n",
       "      <td>0.623826</td>\n",
       "      <td>0.516045</td>\n",
       "      <td>-0.030994</td>\n",
       "    </tr>\n",
       "    <tr>\n",
       "      <th>829672</th>\n",
       "      <td>895</td>\n",
       "      <td>903</td>\n",
       "      <td>0.923954</td>\n",
       "      <td>0.516045</td>\n",
       "      <td>0.634123</td>\n",
       "    </tr>\n",
       "    <tr>\n",
       "      <th>829673</th>\n",
       "      <td>895</td>\n",
       "      <td>904</td>\n",
       "      <td>0.801945</td>\n",
       "      <td>0.516045</td>\n",
       "      <td>-0.119624</td>\n",
       "    </tr>\n",
       "    <tr>\n",
       "      <th>830592</th>\n",
       "      <td>896</td>\n",
       "      <td>897</td>\n",
       "      <td>0.704121</td>\n",
       "      <td>0.817618</td>\n",
       "      <td>0.333870</td>\n",
       "    </tr>\n",
       "    <tr>\n",
       "      <th>830599</th>\n",
       "      <td>896</td>\n",
       "      <td>904</td>\n",
       "      <td>0.887547</td>\n",
       "      <td>0.817618</td>\n",
       "      <td>-0.119624</td>\n",
       "    </tr>\n",
       "    <tr>\n",
       "      <th>830607</th>\n",
       "      <td>896</td>\n",
       "      <td>912</td>\n",
       "      <td>0.698508</td>\n",
       "      <td>0.817618</td>\n",
       "      <td>1.593934</td>\n",
       "    </tr>\n",
       "    <tr>\n",
       "      <th>830610</th>\n",
       "      <td>896</td>\n",
       "      <td>915</td>\n",
       "      <td>0.972285</td>\n",
       "      <td>0.817618</td>\n",
       "      <td>-0.290905</td>\n",
       "    </tr>\n",
       "    <tr>\n",
       "      <th>830620</th>\n",
       "      <td>896</td>\n",
       "      <td>925</td>\n",
       "      <td>0.868020</td>\n",
       "      <td>0.817618</td>\n",
       "      <td>-1.150103</td>\n",
       "    </tr>\n",
       "    <tr>\n",
       "      <th>831523</th>\n",
       "      <td>897</td>\n",
       "      <td>902</td>\n",
       "      <td>0.839207</td>\n",
       "      <td>0.333870</td>\n",
       "      <td>0.301302</td>\n",
       "    </tr>\n",
       "    <tr>\n",
       "      <th>831525</th>\n",
       "      <td>897</td>\n",
       "      <td>904</td>\n",
       "      <td>0.358469</td>\n",
       "      <td>0.333870</td>\n",
       "      <td>-0.119624</td>\n",
       "    </tr>\n",
       "    <tr>\n",
       "      <th>831533</th>\n",
       "      <td>897</td>\n",
       "      <td>912</td>\n",
       "      <td>0.899890</td>\n",
       "      <td>0.333870</td>\n",
       "      <td>1.593934</td>\n",
       "    </tr>\n",
       "    <tr>\n",
       "      <th>831546</th>\n",
       "      <td>897</td>\n",
       "      <td>925</td>\n",
       "      <td>0.828001</td>\n",
       "      <td>0.333870</td>\n",
       "      <td>-1.150103</td>\n",
       "    </tr>\n",
       "    <tr>\n",
       "      <th>836155</th>\n",
       "      <td>902</td>\n",
       "      <td>904</td>\n",
       "      <td>0.776584</td>\n",
       "      <td>0.301302</td>\n",
       "      <td>-0.119624</td>\n",
       "    </tr>\n",
       "    <tr>\n",
       "      <th>837082</th>\n",
       "      <td>903</td>\n",
       "      <td>905</td>\n",
       "      <td>0.772157</td>\n",
       "      <td>0.634123</td>\n",
       "      <td>0.632516</td>\n",
       "    </tr>\n",
       "    <tr>\n",
       "      <th>837089</th>\n",
       "      <td>903</td>\n",
       "      <td>912</td>\n",
       "      <td>0.684383</td>\n",
       "      <td>0.634123</td>\n",
       "      <td>1.593934</td>\n",
       "    </tr>\n",
       "    <tr>\n",
       "      <th>845426</th>\n",
       "      <td>912</td>\n",
       "      <td>915</td>\n",
       "      <td>0.429267</td>\n",
       "      <td>1.593934</td>\n",
       "      <td>-0.290905</td>\n",
       "    </tr>\n",
       "    <tr>\n",
       "      <th>856548</th>\n",
       "      <td>924</td>\n",
       "      <td>925</td>\n",
       "      <td>0.688179</td>\n",
       "      <td>0.751855</td>\n",
       "      <td>-1.150103</td>\n",
       "    </tr>\n",
       "  </tbody>\n",
       "</table>\n",
       "<p>4031 rows × 5 columns</p>\n",
       "</div>"
      ],
      "text/plain": [
       "          A    B      Dist     A Ret     B Ret\n",
       "958       1   33  0.625540  1.357727  0.102594\n",
       "4689      5   60  0.819511  0.585849  2.034602\n",
       "20522    22  151  0.730117  0.211372 -0.032236\n",
       "21004    22  633  0.738643  0.211372  0.501370\n",
       "24174    26   99  0.899151  0.980628 -1.465515\n",
       "24258    26  183  0.799945  0.980628  1.340695\n",
       "24264    26  189  0.638684  0.980628  0.352712\n",
       "24267    26  192  0.827140  0.980628 -0.216998\n",
       "24288    26  213  0.644299  0.980628 -0.320981\n",
       "24308    26  233  0.970981  0.980628 -0.825481\n",
       "24310    26  235  0.630512  0.980628  0.202771\n",
       "24323    26  248  0.941828  0.980628  0.074506\n",
       "24329    26  254  0.723777  0.980628  0.000000\n",
       "24353    26  278  0.883086  0.980628 -0.583280\n",
       "24368    26  293  0.937335  0.980628 -0.130855\n",
       "24369    26  294  0.974844  0.980628  0.340527\n",
       "24375    26  300  0.831699  0.980628 -1.017672\n",
       "24392    26  317  0.707056  0.980628 -0.813879\n",
       "24409    26  334  0.673309  0.980628  0.061267\n",
       "24411    26  336  0.930398  0.980628  0.007559\n",
       "24412    26  337  0.785315  0.980628 -0.482982\n",
       "24417    26  342  0.814636  0.980628  0.310801\n",
       "24420    26  345  0.496918  0.980628  0.257107\n",
       "24430    26  355  0.710347  0.980628  0.598261\n",
       "24440    26  365  0.972562  0.980628  0.949621\n",
       "24443    26  368  0.701232  0.980628  0.019877\n",
       "24463    26  388  0.610086  0.980628  0.591362\n",
       "24492    26  417  0.947045  0.980628  0.925389\n",
       "24566    26  491  0.711512  0.980628 -0.204310\n",
       "24589    26  514  0.808119  0.980628  0.068191\n",
       "...     ...  ...       ...       ...       ...\n",
       "825990  891  925  0.936237  0.020050 -1.150103\n",
       "826885  892  894  0.674631  0.351504  0.121740\n",
       "826886  892  895  0.732251  0.351504  0.516045\n",
       "826888  892  897  0.590597  0.351504  0.333870\n",
       "826893  892  902  0.695928  0.351504  0.301302\n",
       "826895  892  904  0.621845  0.351504 -0.119624\n",
       "828738  894  895  0.727413  0.121740  0.516045\n",
       "828739  894  896  0.954834  0.121740  0.817618\n",
       "828740  894  897  0.528167  0.121740  0.333870\n",
       "828741  894  898  0.735947  0.121740 -0.030994\n",
       "828747  894  904  0.561223  0.121740 -0.119624\n",
       "828768  894  925  0.387312  0.121740 -1.150103\n",
       "829666  895  897  0.631601  0.516045  0.333870\n",
       "829667  895  898  0.623826  0.516045 -0.030994\n",
       "829672  895  903  0.923954  0.516045  0.634123\n",
       "829673  895  904  0.801945  0.516045 -0.119624\n",
       "830592  896  897  0.704121  0.817618  0.333870\n",
       "830599  896  904  0.887547  0.817618 -0.119624\n",
       "830607  896  912  0.698508  0.817618  1.593934\n",
       "830610  896  915  0.972285  0.817618 -0.290905\n",
       "830620  896  925  0.868020  0.817618 -1.150103\n",
       "831523  897  902  0.839207  0.333870  0.301302\n",
       "831525  897  904  0.358469  0.333870 -0.119624\n",
       "831533  897  912  0.899890  0.333870  1.593934\n",
       "831546  897  925  0.828001  0.333870 -1.150103\n",
       "836155  902  904  0.776584  0.301302 -0.119624\n",
       "837082  903  905  0.772157  0.634123  0.632516\n",
       "837089  903  912  0.684383  0.634123  1.593934\n",
       "845426  912  915  0.429267  1.593934 -0.290905\n",
       "856548  924  925  0.688179  0.751855 -1.150103\n",
       "\n",
       "[4031 rows x 5 columns]"
      ]
     },
     "execution_count": 78,
     "metadata": {},
     "output_type": "execute_result"
    }
   ],
   "source": [
    "winf = sfe[(sfe['Dist']<=1)&(sfe['A Ret']>0)]\n",
    "winf"
   ]
  },
  {
   "cell_type": "code",
   "execution_count": 79,
   "metadata": {},
   "outputs": [
    {
     "data": {
      "text/plain": [
       "[<matplotlib.lines.Line2D at 0x7f7b48297ac8>]"
      ]
     },
     "execution_count": 79,
     "metadata": {},
     "output_type": "execute_result"
    },
    {
     "data": {
      "image/png": "[encoded data removed]",
      "text/plain": [
       "<matplotlib.figure.Figure at 0x7f7b4f2a6b00>"
      ]
     },
     "metadata": {},
     "output_type": "display_data"
    }
   ],
   "source": [
    "plt.plot(np.arange(4), tseries[6][0])"
   ]
  },
  {
   "cell_type": "code",
   "execution_count": 80,
   "metadata": {},
   "outputs": [
    {
     "data": {
      "text/plain": [
       "[<matplotlib.lines.Line2D at 0x7f7b481fb470>]"
      ]
     },
     "execution_count": 80,
     "metadata": {},
     "output_type": "execute_result"
    },
    {
     "data": {
      "image/png": "[encoded data removed]",
      "text/plain": [
       "<matplotlib.figure.Figure at 0x7f7b4823d9b0>"
      ]
     },
     "metadata": {},
     "output_type": "display_data"
    }
   ],
   "source": [
    "plt.plot(np.arange(4), tseries[598][0])"
   ]
  },
  {
   "cell_type": "code",
   "execution_count": 84,
   "metadata": {},
   "outputs": [
    {
     "data": {
      "text/plain": [
       "Trades            560.0000\n",
       "Wins              296.0000\n",
       "Losses            264.0000\n",
       "Breakeven           0.0000\n",
       "Win/Loss Ratio      1.1210\n",
       "Mean Win            0.4760\n",
       "Mean Loss          -0.4720\n",
       "Mean                0.0300\n",
       "Std Dev             0.6580\n",
       "Max Loss           -2.7530\n",
       "Max Win             2.6820\n",
       "Sharpe Ratio        0.7125\n",
       "dtype: float64"
      ]
     },
     "execution_count": 84,
     "metadata": {},
     "output_type": "execute_result"
    }
   ],
   "source": [
    "excluded = {}\n",
    "return_list = []\n",
    "def get_returns(r):\n",
    "    if excluded.get(r['A']) is None:\n",
    "        return_list.append(r['B Ret'])\n",
    "        if r['B Ret'] < 0:\n",
    "            excluded.update({r['A']:1})\n",
    "\n",
    "winf.apply(get_returns, axis=1);\n",
    "get_stats(pd.Series(return_list))"
   ]
  },
  {
   "cell_type": "code",
   "execution_count": null,
   "metadata": {},
   "outputs": [],
   "source": []
  }
 ],
 "metadata": {
  "kernelspec": {
   "display_name": "Python 3",
   "language": "python",
   "name": "python3"
  },
  "language_info": {
   "codemirror_mode": {
    "name": "ipython",
    "version": 3
   },
   "file_extension": ".py",
   "mimetype": "text/x-python",
   "name": "python",
   "nbconvert_exporter": "python",
   "pygments_lexer": "ipython3",
   "version": "3.6.3"
  }
 },
 "nbformat": 4,
 "nbformat_minor": 2
}
