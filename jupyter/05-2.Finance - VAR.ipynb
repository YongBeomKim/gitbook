{
 "cells": [
  {
   "cell_type": "markdown",
   "metadata": {},
   "source": [
    "<br>\n",
    "# ** 5 Python for Finance**\n",
    "파이썬을 활용한 금융분석"
   ]
  },
  {
   "cell_type": "markdown",
   "metadata": {},
   "source": [
    "<br><br>\n",
    "## <strong>1 금융 시계열 데이터\n",
    "1. 금융 데이터 수집하기\n",
    "1. 테이블 결측치 처리하기\n",
    "1. 정규화 처리하기"
   ]
  },
  {
   "cell_type": "markdown",
   "metadata": {},
   "source": [
    "<br>\n",
    "### **01 시계열 데이터 수집하기**\n",
    "! pip install git+https://github.com/pydata/pandas-datareader.git --upgrade\n",
    "1. https://github.com/pydata/pandas-datareader\n"
   ]
  },
  {
   "cell_type": "code",
   "execution_count": 1,
   "metadata": {},
   "outputs": [],
   "source": [
    "# %matplotlib inline\n",
    "\n",
    "# from pandas_datareader import get_data_yahoo\n",
    "\n",
    "# samsung = get_data_yahoo('005930.KS', '2017-01', '2018-01')\n",
    "# samsung.Close.plot()"
   ]
  },
  {
   "cell_type": "code",
   "execution_count": 2,
   "metadata": {},
   "outputs": [],
   "source": [
    "# samsung.head()"
   ]
  },
  {
   "cell_type": "code",
   "execution_count": 3,
   "metadata": {},
   "outputs": [],
   "source": [
    "# samsung['2017-07'].head()"
   ]
  },
  {
   "cell_type": "code",
   "execution_count": 4,
   "metadata": {},
   "outputs": [],
   "source": [
    "# from pandas_datareader import get_data_yahoo\n",
    "\n",
    "# start_date = '2013-01-01' \n",
    "# #startdate를 1996년으로 설정해두면 가장 오래된 데이터부터 전부 가져올 수 있다.\n",
    "\n",
    "# codes = ['GM', 'KO', '005930.KS', '031510.KQ']\n",
    "\n",
    "# result = {}\n",
    "# for code in codes:\n",
    "#     result[code] = get_data_yahoo(code, start_date).Close\n",
    "\n",
    "# import pandas as pd\n",
    "# prices = pd.DataFrame(result)\n",
    "# prices.head(3)"
   ]
  },
  {
   "cell_type": "code",
   "execution_count": 5,
   "metadata": {},
   "outputs": [],
   "source": [
    "# prices.to_csv('./data/stock_data.csv', encoding='ms949')\n",
    "# print('done')"
   ]
  },
  {
   "cell_type": "code",
   "execution_count": 6,
   "metadata": {},
   "outputs": [
    {
     "name": "stdout",
     "output_type": "stream",
     "text": [
      "<class 'pandas.core.frame.DataFrame'>\n",
      "DatetimeIndex: 1406 entries, 2013-01-02 to 2018-06-05\n",
      "Data columns (total 4 columns):\n",
      "000660.KS    1406 non-null float64\n",
      "005930.KS    1406 non-null float64\n",
      "GM           1406 non-null float64\n",
      "KO           1406 non-null float64\n",
      "dtypes: float64(4)\n",
      "memory usage: 54.9 KB\n"
     ]
    }
   ],
   "source": [
    "# 이 부분은 약 1분의 시간으로 고민을 한 뒤에 따라하도록 한다\n",
    "import pandas as pd\n",
    "import numpy as np\n",
    "prices = pd.read_csv('./data/stock_data.csv', encoding='ms949')\n",
    "prices = prices.set_index('Date')\n",
    "prices.index = pd.DatetimeIndex(prices.index)\n",
    "prices.info()"
   ]
  },
  {
   "cell_type": "markdown",
   "metadata": {},
   "source": [
    "<br>\n",
    "### **02 주가간의 상관계수 분석**\n",
    ".corr"
   ]
  },
  {
   "cell_type": "code",
   "execution_count": 7,
   "metadata": {},
   "outputs": [
    {
     "data": {
      "text/html": [
       "<div>\n",
       "<style scoped>\n",
       "    .dataframe tbody tr th:only-of-type {\n",
       "        vertical-align: middle;\n",
       "    }\n",
       "\n",
       "    .dataframe tbody tr th {\n",
       "        vertical-align: top;\n",
       "    }\n",
       "\n",
       "    .dataframe thead th {\n",
       "        text-align: right;\n",
       "    }\n",
       "</style>\n",
       "<table border=\"1\" class=\"dataframe\">\n",
       "  <thead>\n",
       "    <tr style=\"text-align: right;\">\n",
       "      <th></th>\n",
       "      <th>000660.KS</th>\n",
       "      <th>005930.KS</th>\n",
       "      <th>GM</th>\n",
       "      <th>KO</th>\n",
       "    </tr>\n",
       "  </thead>\n",
       "  <tbody>\n",
       "    <tr>\n",
       "      <th>000660.KS</th>\n",
       "      <td>1.000000</td>\n",
       "      <td>0.227932</td>\n",
       "      <td>0.070426</td>\n",
       "      <td>0.028670</td>\n",
       "    </tr>\n",
       "    <tr>\n",
       "      <th>005930.KS</th>\n",
       "      <td>0.227932</td>\n",
       "      <td>1.000000</td>\n",
       "      <td>0.053770</td>\n",
       "      <td>0.022919</td>\n",
       "    </tr>\n",
       "    <tr>\n",
       "      <th>GM</th>\n",
       "      <td>0.070426</td>\n",
       "      <td>0.053770</td>\n",
       "      <td>1.000000</td>\n",
       "      <td>0.185511</td>\n",
       "    </tr>\n",
       "    <tr>\n",
       "      <th>KO</th>\n",
       "      <td>0.028670</td>\n",
       "      <td>0.022919</td>\n",
       "      <td>0.185511</td>\n",
       "      <td>1.000000</td>\n",
       "    </tr>\n",
       "  </tbody>\n",
       "</table>\n",
       "</div>"
      ],
      "text/plain": [
       "           000660.KS  005930.KS        GM        KO\n",
       "000660.KS   1.000000   0.227932  0.070426  0.028670\n",
       "005930.KS   0.227932   1.000000  0.053770  0.022919\n",
       "GM          0.070426   0.053770  1.000000  0.185511\n",
       "KO          0.028670   0.022919  0.185511  1.000000"
      ]
     },
     "execution_count": 7,
     "metadata": {},
     "output_type": "execute_result"
    }
   ],
   "source": [
    "prices_corr = prices.pct_change().corr(method=\"spearman\")  # 스피어만 상관계수\n",
    "prices_corr = prices.pct_change().corr(method=\"kendall\")   # 켄달타우 상관계수\n",
    "prices_corr"
   ]
  },
  {
   "cell_type": "code",
   "execution_count": 8,
   "metadata": {},
   "outputs": [
    {
     "data": {
      "text/plain": [
       "<matplotlib.axes._subplots.AxesSubplot at 0x7fac48b75668>"
      ]
     },
     "execution_count": 8,
     "metadata": {},
     "output_type": "execute_result"
    },
    {
     "data": {
      "image/png": "[encoded data removed]",
      "text/plain": [
       "<matplotlib.figure.Figure at 0x7fac8057c358>"
      ]
     },
     "metadata": {},
     "output_type": "display_data"
    }
   ],
   "source": [
    "%matplotlib inline\n",
    "import seaborn as sns\n",
    "sns.heatmap(prices_corr)"
   ]
  },
  {
   "cell_type": "code",
   "execution_count": 9,
   "metadata": {},
   "outputs": [],
   "source": [
    "# 상관계수란?\n",
    "# 두 변수간의 방향성의 일치도를 -1 ~ 1 사이의 값으로 계산\n",
    "# 공분산을 각각의 표준편차로 나눈 값"
   ]
  },
  {
   "cell_type": "markdown",
   "metadata": {},
   "source": [
    "# **_2 Day 금융분석 내용 실습_**\n",
    "**python for finance**"
   ]
  },
  {
   "cell_type": "markdown",
   "metadata": {},
   "source": [
    "## Save Date to CSV\n",
    "1. 데이터 프레임 자료를 CSV로 저장하기\n",
    "1. 저장할때 이제부턴 전처리가 중요하다"
   ]
  },
  {
   "cell_type": "code",
   "execution_count": 10,
   "metadata": {},
   "outputs": [],
   "source": [
    "## Review & 데이터 저장및 활용"
   ]
  },
  {
   "cell_type": "code",
   "execution_count": 11,
   "metadata": {},
   "outputs": [],
   "source": [
    "# # 이 내용은 따라해보세요 먼저 실습해서 보여주기\n",
    "# from pandas_datareader import get_data_yahoo\n",
    "# start_date = '2013-01-01' \n",
    "# codes = ['GM', 'KO', '005930.KS', '000660.KS']\n",
    "# result = {}\n",
    "# for code in codes:\n",
    "#     result[code] = get_data_yahoo(code, start_date).Close\n",
    "# import pandas as pd\n",
    "# prices = pd.DataFrame(result)\n",
    "# prices.head(3)"
   ]
  },
  {
   "cell_type": "code",
   "execution_count": 12,
   "metadata": {},
   "outputs": [],
   "source": [
    "# prices.info()"
   ]
  },
  {
   "cell_type": "code",
   "execution_count": 13,
   "metadata": {},
   "outputs": [],
   "source": [
    "# prices.isnull().sum()"
   ]
  },
  {
   "cell_type": "code",
   "execution_count": 14,
   "metadata": {},
   "outputs": [],
   "source": [
    "# prices = prices.fillna(method='ffill')\n",
    "# prices.isnull().sum()"
   ]
  },
  {
   "cell_type": "code",
   "execution_count": 15,
   "metadata": {},
   "outputs": [],
   "source": [
    "# prices = prices.dropna()\n",
    "# prices.info()"
   ]
  },
  {
   "cell_type": "code",
   "execution_count": 16,
   "metadata": {},
   "outputs": [],
   "source": [
    "# # # 새로운 내용\n",
    "# prices.to_csv('./data/stock_data.csv', encoding='ms949')\n",
    "# print('done')"
   ]
  },
  {
   "cell_type": "code",
   "execution_count": 17,
   "metadata": {},
   "outputs": [],
   "source": [
    "## 지난번 수업 복습 및 데이터 적용\n",
    "# pd.read_csv()"
   ]
  },
  {
   "cell_type": "code",
   "execution_count": 18,
   "metadata": {},
   "outputs": [
    {
     "name": "stdout",
     "output_type": "stream",
     "text": [
      "<class 'pandas.core.frame.DataFrame'>\n",
      "DatetimeIndex: 1406 entries, 2013-01-02 to 2018-06-05\n",
      "Data columns (total 4 columns):\n",
      "000660.KS    1406 non-null float64\n",
      "005930.KS    1406 non-null float64\n",
      "GM           1406 non-null float64\n",
      "KO           1406 non-null float64\n",
      "dtypes: float64(4)\n",
      "memory usage: 54.9 KB\n"
     ]
    }
   ],
   "source": [
    "# 이 부분은 약 1분의 시간으로 고민을 한 뒤에 따라하도록 한다\n",
    "import pandas as pd\n",
    "import numpy as np\n",
    "prices = pd.read_csv('./data/stock_data.csv', encoding='ms949')\n",
    "prices = prices.set_index('Date')\n",
    "prices.index = pd.DatetimeIndex(prices.index)\n",
    "prices.info()"
   ]
  },
  {
   "cell_type": "code",
   "execution_count": 19,
   "metadata": {},
   "outputs": [
    {
     "data": {
      "text/plain": [
       "000660.KS    0\n",
       "005930.KS    0\n",
       "GM           0\n",
       "KO           0\n",
       "dtype: int64"
      ]
     },
     "execution_count": 19,
     "metadata": {},
     "output_type": "execute_result"
    }
   ],
   "source": [
    "prices.isnull().sum()"
   ]
  },
  {
   "cell_type": "markdown",
   "metadata": {},
   "source": [
    "<br>\n",
    "### **03 Value At Risk**\n",
    "**일일 손실확률**과 **표준편차**를 사용하여, 해당 종목의 오차범위내 최대 손실가능 금액을 계산한다 [code link](https://www.quantstart.com/articles/Value-at-Risk-VaR-for-Algorithmic-Trading-Risk-Management-Part-I)\n",
    "\n",
    "    Variance-Covariance calculation of daily Value-at-Risk\n",
    "    using confidence level c, with mean of returns mu\n",
    "    and standard deviation of returns sigma, on a portfolio\n",
    "    of value P."
   ]
  },
  {
   "cell_type": "code",
   "execution_count": 20,
   "metadata": {},
   "outputs": [],
   "source": [
    "code   = prices.columns[0]\n",
    "price  = prices[code].pct_change()"
   ]
  },
  {
   "cell_type": "markdown",
   "metadata": {},
   "source": [
    "### 금융 용어 정리\n",
    "[참고블로그](https://m.blog.naver.com/PostView.nhn?blogId=hyoungwk&logNo=10073916047&proxyReferer=https%3A%2F%2Fwww.google.com%2F)"
   ]
  },
  {
   "cell_type": "code",
   "execution_count": 21,
   "metadata": {},
   "outputs": [],
   "source": [
    "# 1,000,000 원 (초기자금)\n",
    "P    = 1e6                     "
   ]
  },
  {
   "cell_type": "code",
   "execution_count": 22,
   "metadata": {},
   "outputs": [],
   "source": [
    "# 99% 신뢰구간 (confidence interval)\n",
    "c    = 0.99                    "
   ]
  },
  {
   "cell_type": "code",
   "execution_count": 23,
   "metadata": {},
   "outputs": [
    {
     "data": {
      "text/plain": [
       "0.0010858922070207386"
      ]
     },
     "execution_count": 23,
     "metadata": {},
     "output_type": "execute_result"
    }
   ],
   "source": [
    "# mu : 가격변화 평균값\n",
    "# 통계학 : 모집단의 모평균\n",
    "mu     = np.mean(price)\n",
    "mu"
   ]
  },
  {
   "cell_type": "code",
   "execution_count": 24,
   "metadata": {},
   "outputs": [
    {
     "data": {
      "text/plain": [
       "0.02057999225011458"
      ]
     },
     "execution_count": 24,
     "metadata": {},
     "output_type": "execute_result"
    }
   ],
   "source": [
    "# sigma : 가격의 변화량 (고정 변동성)\n",
    "# 통계학 : 모집단의 모분산 (sigma의 제곱)\n",
    "# 통계학 : 표본집단에서는 표본분산 s 제곱으로 표본분산의 제곱근이 \"표준편차\" 이다)\n",
    "sigma  = np.std(price)\n",
    "sigma"
   ]
  },
  {
   "cell_type": "markdown",
   "metadata": {},
   "source": [
    "## 분산\n",
    "[정리된 블로그](http://openuiz.blogspot.com/2016/12/blog-post.html)\n",
    "1. '편차'는 각 값이 평균에서의 거리\n",
    "1. 편차들의 평균을 '분산' ('분산된 정도'를 의미)\n",
    "1. '분산'을 직접 계산하면 음수가 나오므로 기하평균을 사용하여 양수값의 공식을 만든다\n"
   ]
  },
  {
   "cell_type": "markdown",
   "metadata": {},
   "source": [
    "## 평균의 종류\n",
    "1. 산술평균 (극단값에 취약하다)\n",
    "1. 조화평균\n",
    "1. 기하평균\n",
    "1. 제곱평균 (변화율이 가장 적다)"
   ]
  },
  {
   "cell_type": "markdown",
   "metadata": {},
   "source": [
    "## 공분산\n",
    "1. 각 요소가 대응되는 상대요소에 대한 영향력\n",
    "1. X와 Y의 요소별 편차차이값의 평균\n",
    "1. $+$ 면 양의관계, $-$ 는 음의관계, 0 은 관계가 없다\n",
    "1. 절대값의 크기는 제한되어 있지 않다. 따라서 상관관계가 등장하게 되는 이유다\n",
    "1. 분산은 자신과 자신의 공분산 값이다"
   ]
  },
  {
   "cell_type": "markdown",
   "metadata": {},
   "source": [
    "## 결정계수 R^2\n",
    "1. 상관계수 값을 제곱해서 나온 값\n",
    "1. 회귀분석의 정확도를 판단하는 값으로 클수록 회귀성이 높음을 알 수 있다\n",
    "1. 결정계수 공식은 선형, 비선형에 따라 공식이 차이가 있다"
   ]
  },
  {
   "cell_type": "code",
   "execution_count": 25,
   "metadata": {},
   "outputs": [],
   "source": [
    "# 정규분포 모델을 활용\n",
    "from scipy.stats import norm\n",
    "c = 0.99"
   ]
  },
  {
   "cell_type": "markdown",
   "metadata": {},
   "source": [
    "## 신뢰구간\n",
    "#### 구글에서 standard normal distribution 이미지를 검색\n",
    "\n",
    "[출처](https://medium.com/@youngji/%EC%B6%94%EC%A0%95-estimation-b8e4f7fb3e6c)\n",
    "1. 데이터의 **표본평균, 중간값** 에서는 측정하지 못하는 **구간별 확률** 및 **확률별 결과값** 을 계산 가능하다\n",
    "1. 정규모델의 기본정의 0 ~ 1 사이의 값을 갖는 **독립된 배반사건**의 확률별 분포를 시각화\n",
    "1. **독립** : 다음 사건에 이전 사건이 영향을 미치지 않는다\n",
    "1. **배반사건** : 앞/뒤, 남/녀, 단지 2개의 결과만 갖는 사건\n",
    "\n",
    "<img src=\"https://cdn-images-1.medium.com/max/1600/1*_WNdwbD53fq92NHEu6XoDQ.png\" align=\"left\" width='500'>"
   ]
  },
  {
   "cell_type": "code",
   "execution_count": 26,
   "metadata": {},
   "outputs": [
    {
     "data": {
      "text/plain": [
       "-0.046790329011810294"
      ]
     },
     "execution_count": 26,
     "metadata": {},
     "output_type": "execute_result"
    }
   ],
   "source": [
    "# alpha : 시장의 Beta(Kospi지수/nasdaq500)를 1로 가정하고, 해당종목의 초과 수익률을 계산한다\n",
    "# alpha : 통계학 유의수준 ( 표본 - 샘플의 변동성 )\n",
    "# alpha 초기값은 0 이다\n",
    "\n",
    "# Percent point function\n",
    "alpha  = norm.ppf( 1-c , mu , sigma )\n",
    "alpha"
   ]
  },
  {
   "cell_type": "markdown",
   "metadata": {},
   "source": [
    "## 평균과 표준편차\n",
    "<img src=\"http://slidesplayer.org/slide/11273696/61/images/43/%E2%85%A4.+%EC%A0%95%EA%B7%9C%EB%B6%84%ED%8F%AC%EC%99%80+%ED%91%9C%EC%A4%80%ED%8E%B8%EC%B0%A8+%ED%8F%89%EA%B7%A0%EA%B3%BC+%ED%91%9C%EC%A4%80%ED%8E%B8%EC%B0%A8+%EC%9C%84%EC%9D%98+%EB%8D%B0%EC%9D%B4%ED%83%80%EB%8A%94+%EC%95%84%EB%9E%98%EC%9D%98+%EC%A0%95%EA%B7%9C%EB%B6%84%ED%8F%AC+%EA%B7%B8%EB%9E%98%ED%94%84+%ED%98%95%ED%83%9C%EB%A1%9C+%ED%91%9C%EC%8B%9C%EB%90%9C%EB%8B%A4..jpg\" align=\"left\" width=\"500\">"
   ]
  },
  {
   "cell_type": "code",
   "execution_count": 27,
   "metadata": {},
   "outputs": [],
   "source": [
    "# Beta 베타 (베타 계수라고도 함)는 일정 기간 동안 관련 벤치 마크의 성과를 비교하여 특정 보안의 변동성을 측정\n",
    "# Beta 기본값은 1 이다 (시장이 움직일 떄 보안가격이 함께 움직인다)"
   ]
  },
  {
   "cell_type": "markdown",
   "metadata": {},
   "source": [
    "Scipy \n",
    "## scipy.stats import norm\n",
    "https://docs.scipy.org/doc/scipy/reference/generated/scipy.stats.norm.html\n",
    "\n",
    "1. **norm.ppf** : Percent point function (inverse of cdf — percentiles).\n",
    "1. **norm.cdf** : cdf(x, loc=0, scale=1) Cumulative distribution function."
   ]
  },
  {
   "cell_type": "code",
   "execution_count": 28,
   "metadata": {},
   "outputs": [
    {
     "data": {
      "text/plain": [
       "(0.99, '000660.KS', 46790.33, 4.68)"
      ]
     },
     "execution_count": 28,
     "metadata": {},
     "output_type": "execute_result"
    }
   ],
   "source": [
    "# var 계산\n",
    "var    = P - P * ( alpha + 1 )\n",
    "c, code, round(var, 2), round(var/P * 100, 2)"
   ]
  },
  {
   "cell_type": "code",
   "execution_count": 29,
   "metadata": {},
   "outputs": [
    {
     "data": {
      "text/plain": [
       "(0.9, '000660.KS', 25288.43, 2.53)"
      ]
     },
     "execution_count": 29,
     "metadata": {},
     "output_type": "execute_result"
    }
   ],
   "source": [
    "# 신뢰구간이 90% 일떄 Var\n",
    "# 직접 치면서 생각하기\n",
    "c = 0.9\n",
    "alpha  = norm.ppf( 1-c , mu , sigma )\n",
    "var    = P - P * ( alpha + 1 )\n",
    "c, code, round(var, 2), round(var/P * 100, 2)"
   ]
  },
  {
   "cell_type": "markdown",
   "metadata": {},
   "source": [
    "## VaR 함수정리"
   ]
  },
  {
   "cell_type": "code",
   "execution_count": 30,
   "metadata": {},
   "outputs": [
    {
     "data": {
      "text/html": [
       "<div>\n",
       "<style scoped>\n",
       "    .dataframe tbody tr th:only-of-type {\n",
       "        vertical-align: middle;\n",
       "    }\n",
       "\n",
       "    .dataframe tbody tr th {\n",
       "        vertical-align: top;\n",
       "    }\n",
       "\n",
       "    .dataframe thead th {\n",
       "        text-align: right;\n",
       "    }\n",
       "</style>\n",
       "<table border=\"1\" class=\"dataframe\">\n",
       "  <thead>\n",
       "    <tr style=\"text-align: right;\">\n",
       "      <th></th>\n",
       "      <th>Code</th>\n",
       "      <th>신뢰구간</th>\n",
       "      <th>최대손실금액 (Value at Risk)</th>\n",
       "      <th>리스크 비율</th>\n",
       "    </tr>\n",
       "  </thead>\n",
       "  <tbody>\n",
       "    <tr>\n",
       "      <th>3</th>\n",
       "      <td>KO</td>\n",
       "      <td>0.99</td>\n",
       "      <td>20098.42</td>\n",
       "      <td>2.01</td>\n",
       "    </tr>\n",
       "    <tr>\n",
       "      <th>2</th>\n",
       "      <td>GM</td>\n",
       "      <td>0.99</td>\n",
       "      <td>35409.47</td>\n",
       "      <td>3.54</td>\n",
       "    </tr>\n",
       "    <tr>\n",
       "      <th>1</th>\n",
       "      <td>005930.KS</td>\n",
       "      <td>0.99</td>\n",
       "      <td>36216.11</td>\n",
       "      <td>3.62</td>\n",
       "    </tr>\n",
       "    <tr>\n",
       "      <th>0</th>\n",
       "      <td>000660.KS</td>\n",
       "      <td>0.99</td>\n",
       "      <td>46790.33</td>\n",
       "      <td>4.68</td>\n",
       "    </tr>\n",
       "  </tbody>\n",
       "</table>\n",
       "</div>"
      ],
      "text/plain": [
       "        Code  신뢰구간  최대손실금액 (Value at Risk)  리스크 비율\n",
       "3         KO  0.99                20098.42    2.01\n",
       "2         GM  0.99                35409.47    3.54\n",
       "1  005930.KS  0.99                36216.11    3.62\n",
       "0  000660.KS  0.99                46790.33    4.68"
      ]
     },
     "execution_count": 30,
     "metadata": {},
     "output_type": "execute_result"
    }
   ],
   "source": [
    "def var_cov_var(P, c, prices):\n",
    "    import numpy as np\n",
    "    import pandas as pd\n",
    "    from scipy.stats import norm\n",
    "    \n",
    "    result = []\n",
    "    codes = prices.columns\n",
    "    for code in codes:\n",
    "        price  = prices[code].pct_change()\n",
    "        mu     = np.mean(price)\n",
    "        sigma  = np.std(price)\n",
    "        alpha  = norm.ppf( 1-c , mu , sigma )\n",
    "        var    = P - P * ( alpha + 1 )\n",
    "        result.append([code, c, round(var, 2), round(var/P * 100, 2)])\n",
    "\n",
    "    df         = pd.DataFrame(result)\n",
    "    df.columns = ['Code' ,'신뢰구간', '최대손실금액 (Value at Risk)', '리스크 비율']\n",
    "    df         = df.sort_values('리스크 비율', ascending=True)\n",
    "    return df\n",
    "\n",
    "P    = 1e6                     # 1,000,000 원 (초기자금)\n",
    "c    = 0.99                    # 99% 신뢰구간 (confidence interval)\n",
    "df = var_cov_var(P,c,prices)\n",
    "df"
   ]
  },
  {
   "cell_type": "code",
   "execution_count": 31,
   "metadata": {},
   "outputs": [],
   "source": [
    "# 리스크 비율이 다름은 무엇을 의미하나??\n",
    "# 결과해석 : 정규성 검정을 함께 대략 짐작 가능하다"
   ]
  },
  {
   "cell_type": "markdown",
   "metadata": {},
   "source": [
    "## 단점 \n",
    "1. 특정한 확률적 신뢰도하에서 특정시간내 발생가능한 손실가능금액을 추정한다\n",
    "1. VaR은 계산이 쉽고 직관적인 결과값을 도출 가능해서 널리 사용된다.(실무에서 사용하기에 용이하다)\n",
    "1. 단점은 tail Risk (long tail 현상) 을 제대로 파악 못하기 때문에 비난을 받는다"
   ]
  }
 ],
 "metadata": {
  "kernelspec": {
   "display_name": "Python 3",
   "language": "python",
   "name": "python3"
  },
  "language_info": {
   "codemirror_mode": {
    "name": "ipython",
    "version": 3
   },
   "file_extension": ".py",
   "mimetype": "text/x-python",
   "name": "python",
   "nbconvert_exporter": "python",
   "pygments_lexer": "ipython3",
   "version": "3.6.3"
  }
 },
 "nbformat": 4,
 "nbformat_minor": 2
}
