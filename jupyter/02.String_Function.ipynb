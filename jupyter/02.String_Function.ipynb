{
 "cells": [
  {
   "cell_type": "markdown",
   "metadata": {},
   "source": [
    "# **_2. String & functions_**\n",
    "**금융데이터를 활용한 파이썬 기초 객체**\n"
   ]
  },
  {
   "cell_type": "markdown",
   "metadata": {},
   "source": [
    "<br><br>\n",
    "## **1 String 데이터 다루기**\n",
    "파이썬 내장함수의 활용 | [출처](https://wikidocs.net/13)"
   ]
  },
  {
   "cell_type": "markdown",
   "metadata": {},
   "source": [
    "<br>\n",
    "### **01 .replace(), .split().find()**\n",
    "파이썬 내장 메소드로, 이를 많이 쓰는게 빠르고 호환성에도 좋다"
   ]
  },
  {
   "cell_type": "code",
   "execution_count": 1,
   "metadata": {},
   "outputs": [
    {
     "data": {
      "text/plain": [
       "'Financial R-studio coding is easy to learn by this class'"
      ]
     },
     "execution_count": 1,
     "metadata": {},
     "output_type": "execute_result"
    }
   ],
   "source": [
    "text = \"Financial Python coding is easy to learn by this class\"\n",
    "text.replace('Python', 'R-studio')"
   ]
  },
  {
   "cell_type": "code",
   "execution_count": 2,
   "metadata": {},
   "outputs": [
    {
     "data": {
      "text/plain": [
       "['Financial Python coding ', ' easy to learn by th', ' class']"
      ]
     },
     "execution_count": 2,
     "metadata": {},
     "output_type": "execute_result"
    }
   ],
   "source": [
    "text.split('is')"
   ]
  },
  {
   "cell_type": "code",
   "execution_count": 3,
   "metadata": {},
   "outputs": [
    {
     "data": {
      "text/plain": [
       "24"
      ]
     },
     "execution_count": 3,
     "metadata": {},
     "output_type": "execute_result"
    }
   ],
   "source": [
    "text.find('is')"
   ]
  },
  {
   "cell_type": "code",
   "execution_count": 4,
   "metadata": {},
   "outputs": [
    {
     "data": {
      "text/plain": [
       "-1"
      ]
     },
     "execution_count": 4,
     "metadata": {},
     "output_type": "execute_result"
    }
   ],
   "source": [
    "text.find('Java')  # 없는 글자를 찾으면 '-1'을 출력한다"
   ]
  },
  {
   "cell_type": "markdown",
   "metadata": {},
   "source": [
    "### **02 .format()**\n",
    "1. 책에보면 %s, %d 등도 있지만, 그냥 .format() 하나만 쓰자!!\n",
    "1. { 인덱스 주소(숫자, 문자 모두가능) : format 설정값 }\n",
    "1. format 의 String 설정값\n",
    "    1. <10 : 왼쪽에서 부터 10개 공간값 설정\n",
    "    1. \\>10 : 오른쪽에서 부터 10개 공간값 설정\n",
    "    1. ^10 : 전체 10개 공간에서 가운데 정렬\n",
    "    1. 기호내용^10 : 빈 공간을 기호내용으로 채움 \n",
    "\n",
    "1. format 의 float() 설정값 (소숫점 자릿수 설정)\n",
    "    1. integer(정수) : 출력할 숫자갯수\n",
    "    1. 0.4f : 소숫점 자릿수 정의\n",
    "    1. 10.4f : 자릿수 를 10으로 맞춘다"
   ]
  },
  {
   "cell_type": "code",
   "execution_count": 5,
   "metadata": {},
   "outputs": [
    {
     "data": {
      "text/plain": [
       "'2017 년도의 재무제표'"
      ]
     },
     "execution_count": 5,
     "metadata": {},
     "output_type": "execute_result"
    }
   ],
   "source": [
    "# 문자와 숫자간의 호환이 안되어서 다양한 포맷의 활용시 어렵다\n",
    "# 용도 : 때문에 단일한 포맷의 데이터만 추출할 때 효과적\n",
    "# (연산결과 숫자만 추출할 때에는, 문자출력을 감시 가능해서 유용)\n",
    "# 하지만 이러한 경우는 개인이 특정 알고리즘을 짜서 연구 가능한 레벨에서나\n",
    "# 식별의 의미가 존재하는 내용이다\n",
    "'%d 년도의 %s' %(2017, '재무제표')"
   ]
  },
  {
   "cell_type": "code",
   "execution_count": 6,
   "metadata": {},
   "outputs": [
    {
     "data": {
      "text/plain": [
       "datetime.date(2018, 5, 31)"
      ]
     },
     "execution_count": 6,
     "metadata": {},
     "output_type": "execute_result"
    }
   ],
   "source": [
    "from datetime import datetime\n",
    "date  = datetime.now().date()\n",
    "date   # datetime 함수의 결과를 출력"
   ]
  },
  {
   "cell_type": "code",
   "execution_count": 7,
   "metadata": {},
   "outputs": [
    {
     "data": {
      "text/plain": [
       "'2018-05-31'"
      ]
     },
     "execution_count": 7,
     "metadata": {},
     "output_type": "execute_result"
    }
   ],
   "source": [
    "# str() : 숫자, 다름함수결과  등을 문자로 변환 출력\n",
    "str(date)"
   ]
  },
  {
   "cell_type": "code",
   "execution_count": 8,
   "metadata": {},
   "outputs": [
    {
     "data": {
      "text/plain": [
       "'오늘의 날짜는 2018-05-31 로 수업의 내용은 파이썬 기초 입니다. 당신의 오늘 점수는 80.12312312424 입니다'"
      ]
     },
     "execution_count": 8,
     "metadata": {},
     "output_type": "execute_result"
    }
   ],
   "source": [
    "# (Default) : 순서대로 인덱스를 맞춰서 입력된다\n",
    "text = \"오늘의 날짜는 {} 로 수업의 내용은 {} 입니다. 당신의 오늘 점수는 {} 입니다\"\n",
    "text.format(date, '파이썬 기초', 80.12312312424)"
   ]
  },
  {
   "cell_type": "code",
   "execution_count": 9,
   "metadata": {},
   "outputs": [
    {
     "data": {
      "text/plain": [
       "'오늘의 날짜는 2018-05-31 로 수업의 내용은 파이썬 기초 입니다. 당신의 오늘 점수는 파이썬 기초 입니다'"
      ]
     },
     "execution_count": 9,
     "metadata": {},
     "output_type": "execute_result"
    }
   ],
   "source": [
    "# format( , , ) : 내부의 인덱스 값을 연결한다\n",
    "text = \"오늘의 날짜는 {0} 로 수업의 내용은 {1} 입니다. 당신의 오늘 점수는 {1} 입니다\"\n",
    "text.format(date, '파이썬 기초', 80.12312312424)"
   ]
  },
  {
   "cell_type": "code",
   "execution_count": 10,
   "metadata": {},
   "outputs": [
    {
     "data": {
      "text/plain": [
       "'오늘의 날짜는 2018-05-31 로 수업의 내용은 파이썬 입니다. 당신의 오늘 점수는 1280.1 입니다'"
      ]
     },
     "execution_count": 10,
     "metadata": {},
     "output_type": "execute_result"
    }
   ],
   "source": [
    "# : .글자수\n",
    "text = \"오늘의 날짜는 {} 로 수업의 내용은 {:.3} 입니다. 당신의 오늘 점수는 {:.5} 입니다\"\n",
    "text.format(date, '파이썬 기초', 1280.12312312424)"
   ]
  },
  {
   "cell_type": "code",
   "execution_count": 11,
   "metadata": {},
   "outputs": [
    {
     "data": {
      "text/plain": [
       "'오늘의 날짜는 2018-05-31 로 수업의 내용은     파이썬 기초 입니다. 당신의 오늘 점수는 1280.123 입니다'"
      ]
     },
     "execution_count": 11,
     "metadata": {},
     "output_type": "execute_result"
    }
   ],
   "source": [
    "# : < 10 : 왼쪽정렬, 글자 자릿수\n",
    "# : .3f  : 소숫점 자릿수\n",
    "text = \"오늘의 날짜는 {} 로 수업의 내용은 {:>10} 입니다. 당신의 오늘 점수는 {:.3f} 입니다\"\n",
    "text.format(date, '파이썬 기초', 1280.12312312424)"
   ]
  },
  {
   "cell_type": "code",
   "execution_count": 12,
   "metadata": {},
   "outputs": [
    {
     "data": {
      "text/plain": [
       "'오늘의 날짜는 2018-05-31 로 수업의 내용은 파이썬 기초     입니다. 당신의 오늘 점수는   1280.123 입니다'"
      ]
     },
     "execution_count": 12,
     "metadata": {},
     "output_type": "execute_result"
    }
   ],
   "source": [
    "# 종합적인 적용 가능\n",
    "text = \"오늘의 날짜는 {} 로 수업의 내용은 {:<10} 입니다. 당신의 오늘 점수는 {:10.3f} 입니다\"\n",
    "text.format(date, '파이썬 기초', 1280.12312312424)"
   ]
  },
  {
   "cell_type": "markdown",
   "metadata": {},
   "source": [
    "### **03 regrex**\n",
    "http://www.nextree.co.kr/p4327/\n",
    "1. '\\n' : 줄바꿈 처리\n",
    "1. '\\t' : tap 공간 여백처리"
   ]
  },
  {
   "cell_type": "code",
   "execution_count": 13,
   "metadata": {},
   "outputs": [
    {
     "name": "stdout",
     "output_type": "stream",
     "text": [
      " 강원도는 {} 시장님과 {} 운영위원장 \t 님의  \n",
      "지원 적분에 성공적으로 열리게 되었습니다\n"
     ]
    }
   ],
   "source": [
    "text = \"\"\" 강원도는 {} 시장님과 {} 운영위원장 \\t 님의  \\n지원 적분에 성공적으로 열리게 되었습니다\"\"\"\n",
    "print(text)"
   ]
  },
  {
   "cell_type": "code",
   "execution_count": 14,
   "metadata": {},
   "outputs": [
    {
     "name": "stdout",
     "output_type": "stream",
     "text": [
      " 강원도는 위대하신 김용범 시장님과 영도자 김용범 운영위원장 \t 님의  \n",
      "지원 적분에 성공적으로 열리게 되었습니다\n"
     ]
    }
   ],
   "source": [
    "print(text.format('위대하신 김용범', '영도자 김용범'))"
   ]
  },
  {
   "cell_type": "markdown",
   "metadata": {},
   "source": [
    "<br>\n",
    "### **04 기타 string 관련 메소드 들**\n",
    "1. 아.. 이런게있구나 알아두는 정도\n",
    "1. 다양한 전처리는 .. import re 를 통한 정규식을 더 많이 쓴다\n",
    "1. (java, javascript등에서도 통용) ('정규표현식'의 문법에 익숙하므로)\n",
    "1. .count()\n",
    "1. .find()\n",
    "1. .index()\n",
    "1. .join()\n",
    "1. .strip()   # 모든 공백제거\n",
    "1. .lstrip()  # 왼쪽 공백만 제거\n",
    "1. .rstrip()  # 오른쪽 공백만 제거"
   ]
  },
  {
   "cell_type": "markdown",
   "metadata": {},
   "source": [
    "<br><br>\n",
    "## **2 Function 함수**\n",
    "1. 파이썬 내장함수\n",
    "1. 파이썬 사용자함수 ( def:, class:)\n",
    "1. 파이썬 외부함수  (미리 설치를 필요로 한다 $ pip install 모듈 )"
   ]
  },
  {
   "cell_type": "markdown",
   "metadata": {},
   "source": [
    "<br>\n",
    "1. 조건문 : **if**  ==> true/ false (boolean)\n",
    "1. 반복문 : **while, for** ==>  함수를 반복적 실행\n",
    "1. 함수 : 사칙연산, 내장함수, 외부모듈함수, 메소드\n",
    "위의 개념들을 통해서 코드를 분해해서 해석을 하는 노력을 하자"
   ]
  },
  {
   "cell_type": "markdown",
   "metadata": {},
   "source": [
    "<br>\n",
    "### **01 if 판단문**\n",
    "if 판단 후, True/ False 결과값을 지정한다"
   ]
  },
  {
   "cell_type": "code",
   "execution_count": 15,
   "metadata": {},
   "outputs": [
    {
     "name": "stdout",
     "output_type": "stream",
     "text": [
      "5보다 크다\n"
     ]
    }
   ],
   "source": [
    "a = 10\n",
    "if a > 5 :\n",
    "    print('5보다 크다')"
   ]
  },
  {
   "cell_type": "code",
   "execution_count": 16,
   "metadata": {},
   "outputs": [
    {
     "name": "stdout",
     "output_type": "stream",
     "text": [
      "5보다 크다\n",
      "next\n"
     ]
    }
   ],
   "source": [
    "a = 10\n",
    "if a > 5 :\n",
    "    print('5보다 크다')\n",
    "print('next')"
   ]
  },
  {
   "cell_type": "code",
   "execution_count": 17,
   "metadata": {},
   "outputs": [
    {
     "name": "stdout",
     "output_type": "stream",
     "text": [
      "5보다 크지않다\n"
     ]
    }
   ],
   "source": [
    "a = 4\n",
    "if a > 5 :\n",
    "    print('5보다 크다')\n",
    "else :\n",
    "    print('5보다 크지않다')"
   ]
  },
  {
   "cell_type": "code",
   "execution_count": 18,
   "metadata": {},
   "outputs": [
    {
     "name": "stdout",
     "output_type": "stream",
     "text": [
      "5\n"
     ]
    }
   ],
   "source": [
    "a = 5\n",
    "if a > 5 :\n",
    "    print('5보다 크다')\n",
    "elif a == 5 :\n",
    "    print('5')\n",
    "else:\n",
    "    print('5보다 크지않다')"
   ]
  },
  {
   "cell_type": "markdown",
   "metadata": {},
   "source": [
    "<br>\n",
    "### **02 for 반복문**\n",
    "**Python 작업장의 컨베이어벨트**\n",
    "1. format : &nbsp;&nbsp; for &nbsp;&nbsp; 객체명 &nbsp;&nbsp; in &nbsp;&nbsp; 가져올 DB목록:"
   ]
  },
  {
   "cell_type": "code",
   "execution_count": 19,
   "metadata": {},
   "outputs": [
    {
     "data": {
      "text/plain": [
       "range(0, 10)"
      ]
     },
     "execution_count": 19,
     "metadata": {},
     "output_type": "execute_result"
    }
   ],
   "source": [
    "range(10)"
   ]
  },
  {
   "cell_type": "code",
   "execution_count": 20,
   "metadata": {},
   "outputs": [
    {
     "name": "stdout",
     "output_type": "stream",
     "text": [
      "0\n",
      "1\n",
      "2\n",
      "3\n",
      "4\n",
      "5\n",
      "6\n",
      "7\n",
      "8\n",
      "9\n"
     ]
    }
   ],
   "source": [
    "for i in range(10):\n",
    "    print(i)"
   ]
  },
  {
   "cell_type": "code",
   "execution_count": 21,
   "metadata": {},
   "outputs": [
    {
     "name": "stdout",
     "output_type": "stream",
     "text": [
      "0\n",
      "2\n",
      "4\n",
      "6\n",
      "8\n"
     ]
    }
   ],
   "source": [
    "for i in range(10):\n",
    "    if i % 2 == 0:\n",
    "        print(i)"
   ]
  },
  {
   "cell_type": "code",
   "execution_count": 22,
   "metadata": {},
   "outputs": [
    {
     "name": "stdout",
     "output_type": "stream",
     "text": [
      "짝수 0\n",
      "홀수 1\n",
      "짝수 2\n",
      "홀수 3\n",
      "짝수 4\n",
      "홀수 5\n",
      "짝수 6\n",
      "홀수 7\n",
      "짝수 8\n",
      "홀수 9\n"
     ]
    }
   ],
   "source": [
    "for i in range(10):\n",
    "    if i % 2 == 0:\n",
    "        print('짝수',i)\n",
    "    elif i % 2 == 1:\n",
    "        print('홀수',i)"
   ]
  },
  {
   "cell_type": "code",
   "execution_count": 23,
   "metadata": {},
   "outputs": [
    {
     "name": "stdout",
     "output_type": "stream",
     "text": [
      "짝수 0\n",
      "홀수 1\n",
      "짝수 2\n",
      "홀수 3\n",
      "짝수 4\n",
      "홀수 5\n",
      "짝수 6\n",
      "홀수 7\n",
      "짝수 8\n",
      "홀수 9\n"
     ]
    }
   ],
   "source": [
    "for i in range(10):\n",
    "    if i % 2 == 0:\n",
    "        print('짝수',i)\n",
    "    elif i % 2 == 1:\n",
    "        print('홀수',i)\n",
    "    else :\n",
    "        print('초기값', i)"
   ]
  },
  {
   "cell_type": "code",
   "execution_count": 24,
   "metadata": {},
   "outputs": [
    {
     "name": "stdout",
     "output_type": "stream",
     "text": [
      "이번에 소개할 기업은 삼성 입니다\n",
      "이번에 소개할 기업은 LG 입니다\n",
      "이번에 소개할 기업은 대우 입니다\n",
      "이번에 소개할 기업은 한진 입니다\n",
      "이번에 소개할 기업은 하림 입니다\n"
     ]
    }
   ],
   "source": [
    "company_list = ['삼성', 'LG', '대우', '한진', '하림']\n",
    "text         = '이번에 소개할 기업은 {} 입니다'\n",
    "\n",
    "for comp in company_list:\n",
    "    print(text.format(comp))"
   ]
  },
  {
   "cell_type": "markdown",
   "metadata": {},
   "source": [
    "<br>\n",
    "### **03 [list 함수] : for 반복문의 활용 **\n",
    "[list Data 선언] 내부에 반복문('for'), 판단문('if')을 사용 가능\n",
    "1. for 반복실행결과, 여러개의 결과를 출력한다\n",
    "1. 규칙에 근거한 파이썬 : 다른 언어에 비해 작업결과가 간결해 지는 장점이 극대화된 예"
   ]
  },
  {
   "cell_type": "code",
   "execution_count": 25,
   "metadata": {},
   "outputs": [
    {
     "data": {
      "text/plain": [
       "[0, 1, 2, 3, 4, 5, 6, 7, 8, 9]"
      ]
     },
     "execution_count": 25,
     "metadata": {},
     "output_type": "execute_result"
    }
   ],
   "source": [
    "# 반복을 담기위해서, [list] 객체를 활용\n",
    "result = []\n",
    "for i in range(10):\n",
    "    result.append(i)\n",
    "result"
   ]
  },
  {
   "cell_type": "code",
   "execution_count": 26,
   "metadata": {},
   "outputs": [
    {
     "data": {
      "text/plain": [
       "[0, 1, 2, 3, 4, 5, 6, 7, 8, 9]"
      ]
     },
     "execution_count": 26,
     "metadata": {},
     "output_type": "execute_result"
    }
   ],
   "source": [
    "result = [i   for i in range(10)]\n",
    "result"
   ]
  },
  {
   "cell_type": "code",
   "execution_count": 27,
   "metadata": {},
   "outputs": [
    {
     "data": {
      "text/plain": [
       "[1, 3, 5, 7, 9]"
      ]
     },
     "execution_count": 27,
     "metadata": {},
     "output_type": "execute_result"
    }
   ],
   "source": [
    "# % : 나머지 값의 조건문\n",
    "result = [i   for i in range(10)  if i%2==1 ]\n",
    "result"
   ]
  },
  {
   "cell_type": "markdown",
   "metadata": {},
   "source": [
    "## Quiz\n",
    "1~10 까지 숫자중 짝수만 모인 List 객체를 생성하시요\n",
    "<br><br><br><br>"
   ]
  },
  {
   "cell_type": "markdown",
   "metadata": {},
   "source": [
    "<br>\n",
    "### **04 {dict 함수} : for 반복문의 활용 **\n",
    "for 반복실행결과, 여러개의 결과를 출력한다\n",
    "\n",
    "{ key값 : value값  Data 선언] 내부에 반복문('for'), 판단문('if')을 사용 가능"
   ]
  },
  {
   "cell_type": "code",
   "execution_count": 28,
   "metadata": {},
   "outputs": [
    {
     "data": {
      "text/plain": [
       "{0: 0, 1: 1, 2: 2, 3: 3, 4: 4, 5: 5, 6: 6, 7: 7, 8: 8, 9: 9}"
      ]
     },
     "execution_count": 28,
     "metadata": {},
     "output_type": "execute_result"
    }
   ],
   "source": [
    "# { key : value    for  객체  in  데이터 }\n",
    "# [ 객체            for  객체  in  데이터 ]\n",
    "{  i : i    for i in range(10) }"
   ]
  },
  {
   "cell_type": "code",
   "execution_count": 29,
   "metadata": {},
   "outputs": [
    {
     "data": {
      "text/plain": [
       "{'a': 12, 'b': 32, 'c': 41, 'd': 55}"
      ]
     },
     "execution_count": 29,
     "metadata": {},
     "output_type": "execute_result"
    }
   ],
   "source": [
    "k = ['a', 'b', 'c', 'd']\n",
    "v = [12, 32, 41, 55]\n",
    "{ k[i] : v[i]         for i in range(len(k)) }"
   ]
  },
  {
   "cell_type": "code",
   "execution_count": 30,
   "metadata": {},
   "outputs": [
    {
     "data": {
      "text/plain": [
       "{'a': 12, 'b': 32, 'c': 41, 'd': 55}"
      ]
     },
     "execution_count": 30,
     "metadata": {},
     "output_type": "execute_result"
    }
   ],
   "source": [
    "k = ['a', 'b', 'c', 'd']\n",
    "v = [12, 32, 41, 55]\n",
    "{ key : v[no]         for no, key in enumerate(k) }"
   ]
  },
  {
   "cell_type": "markdown",
   "metadata": {},
   "source": [
    "## Quiz\n",
    "name = ['삼성전자','SK하이닉스']<br>\n",
    "code = [\"005930\", \"000660\"] <br>\n",
    "사용하여  {'삼성전자':\"005930\", 'SK하이닉스':\"000660\"} 를 생성해보자\n",
    "<br><br>\n",
    "**Tips)** 둘중 하나를 기준삼아서 주소값을 출력하고, 개별객체의 내용을 순서대로 담는다\n",
    "<br><br><br>"
   ]
  },
  {
   "cell_type": "code",
   "execution_count": 31,
   "metadata": {},
   "outputs": [],
   "source": [
    "name = ['삼성전자','SK하이닉스']\n",
    "code = [\"005930\", \"000660\"]"
   ]
  },
  {
   "cell_type": "markdown",
   "metadata": {},
   "source": [
    "<br><br>\n",
    "## **3 사용자 함수와 Class**\n",
    "1. def\n",
    "1. class"
   ]
  },
  {
   "cell_type": "markdown",
   "metadata": {},
   "source": [
    "<br>\n",
    "### **01 사용자 함수 기본형태**\n",
    "함수와 매개변수 이해하기"
   ]
  },
  {
   "cell_type": "code",
   "execution_count": 32,
   "metadata": {},
   "outputs": [
    {
     "data": {
      "text/plain": [
       "3"
      ]
     },
     "execution_count": 32,
     "metadata": {},
     "output_type": "execute_result"
    }
   ],
   "source": [
    "# test_sum 이라는 객체에 함수기능을 저장\n",
    "# 때문에 부수적으로 변수를 필요로 한다\n",
    "def test_sum(a, b):\n",
    "    return a + b\n",
    "\n",
    "test_sum(1, 2)"
   ]
  },
  {
   "cell_type": "code",
   "execution_count": 33,
   "metadata": {},
   "outputs": [
    {
     "data": {
      "text/plain": [
       "3"
      ]
     },
     "execution_count": 33,
     "metadata": {},
     "output_type": "execute_result"
    }
   ],
   "source": [
    "# 1 Type Hinting (파라미터의 타입정보 입력) : Python 3.5 이상에서 지원\n",
    "def test_sum( a:float, b:float ) -> float :\n",
    "    return a + b\n",
    "\n",
    "# Shift + Tab : 함수의 설명을 본다\n",
    "test_sum(1, 2)"
   ]
  },
  {
   "cell_type": "code",
   "execution_count": 34,
   "metadata": {},
   "outputs": [
    {
     "data": {
      "text/plain": [
       "7"
      ]
     },
     "execution_count": 34,
     "metadata": {},
     "output_type": "execute_result"
    }
   ],
   "source": [
    "# 함수형 매개변수\n",
    "# 1 매개변수로 활용할 함수를 정의\n",
    "def add_plus1(number):\n",
    "    return number + 1\n",
    "\n",
    "# 2 매개변수에 별도표시 없이, \"함수형 매개변수\"를 활용가능\n",
    "def add_with_transform(left:float, right:float, transform_func):\n",
    "    return transform_func(left) + transform_func(right)\n",
    "\n",
    "add_with_transform(2, 3, add_plus1)"
   ]
  },
  {
   "cell_type": "code",
   "execution_count": 35,
   "metadata": {},
   "outputs": [
    {
     "name": "stdout",
     "output_type": "stream",
     "text": [
      "8\n"
     ]
    },
    {
     "data": {
      "text/plain": [
       "6"
      ]
     },
     "execution_count": 35,
     "metadata": {},
     "output_type": "execute_result"
    }
   ],
   "source": [
    "# lambda : 익명함수\n",
    "# 별도의 메모리에 저장되지 않아서, 재활용에 용이하다 \n",
    "# 반복적 작업에 상당한 성능효과가 있어서 모든 언어에 다 적용\n",
    "lambda_plus = lambda x : x + 1  \n",
    "\n",
    "print(lambda_plus(7))\n",
    "add_with_transform(1, 3, lambda_plus)"
   ]
  },
  {
   "cell_type": "markdown",
   "metadata": {},
   "source": [
    "<br>\n",
    "### **02 사용자 클래스 만들기**\n",
    "1. 함수들을 묶는 집합을 정의 가능하다\n",
    "1. 클래스는 함수와 달리 바로 쓰지 못하고, **'인스턴스'** 중간객체에 클래스 내용을 저장한 뒤 이를 끌어다 사용한다"
   ]
  },
  {
   "cell_type": "code",
   "execution_count": 36,
   "metadata": {},
   "outputs": [
    {
     "data": {
      "text/plain": [
       "'Michal Jackson'"
      ]
     },
     "execution_count": 36,
     "metadata": {},
     "output_type": "execute_result"
    }
   ],
   "source": [
    "# 클래스 내부 변수설정 및 메서드\n",
    "# 'self' : 인스턴스 생성시 클래스 인스턴스 내부의 전역변수\n",
    "class Diva:\n",
    "    \n",
    "    version = \"Singer\"                   # 클래스 내부 매개변수 (재활용 불가능)\n",
    "\n",
    "    def __init__(self, name = \"Michal Jackson\"):  # __init__는 인스턴스를 생성않고 초기화를 담당 (보조적 역활)\n",
    "        self.name = name                # self : 인스턴스 생성시 매개변수 (class 내 공유)\n",
    "                                         \n",
    "    def song(self, title = \"song\"):     # 클래스 내부 \"매개변수\"를 재활용\n",
    "        print(self.name + \"  is sing the \" + title)\n",
    "        \n",
    "    def medley(self):\n",
    "        self.song()                     # 클래스 내부 \"함수\"를 재활용\n",
    "        self.song(\"second song\")\n",
    "\n",
    "singer = Diva()\n",
    "singer.name"
   ]
  },
  {
   "cell_type": "code",
   "execution_count": 37,
   "metadata": {},
   "outputs": [
    {
     "data": {
      "text/plain": [
       "'Singer'"
      ]
     },
     "execution_count": 37,
     "metadata": {},
     "output_type": "execute_result"
    }
   ],
   "source": [
    "# 클래스 활용\n",
    "singer = Diva(\"BTS\")  # 인스턴스 생성 \n",
    "singer.version          # 인스턴스 매개변수를 호출"
   ]
  },
  {
   "cell_type": "code",
   "execution_count": 38,
   "metadata": {},
   "outputs": [
    {
     "name": "stdout",
     "output_type": "stream",
     "text": [
      "BTS  is sing the song\n",
      "BTS  is sing the World is Beautiful\n"
     ]
    }
   ],
   "source": [
    "singer.song()\n",
    "singer.song(\"World is Beautiful\")"
   ]
  },
  {
   "cell_type": "code",
   "execution_count": 39,
   "metadata": {},
   "outputs": [
    {
     "name": "stdout",
     "output_type": "stream",
     "text": [
      "Michal Jackson  is sing the World is Beautiful\n"
     ]
    }
   ],
   "source": [
    "# 기본값 출력\n",
    "singer = Diva()\n",
    "singer.song(\"World is Beautiful\")"
   ]
  },
  {
   "cell_type": "markdown",
   "metadata": {},
   "source": [
    "<br><br>\n",
    "## **3 마무리**\n",
    "1. 여러객체를 **_순차적으로 담을 수 있는_** [ list ]\n",
    "1. 여러객체를 **_임의의 주소값으로 담을 수 있는_** {dict}\n",
    "1. **_원본 DATABASE에서 추출하여 순차적으로 담긴_** (tuple,)"
   ]
  },
  {
   "cell_type": "markdown",
   "metadata": {},
   "source": [
    "<br>\n",
    "1. 파이썬 코딩의 기본 3요소 : Data,  2.함수,  3.연결부호\n",
    "1. 함수에서 연결부호 : Python 기본함수 그리고 메서드, 이를 응용한 Pandas 함수와 메서드\n",
    "1. 객체에서 연결부호 : \"문자\", '문자', 숫자, [list], {dict : }, (tuple, )\n",
    "1. Python 기본함수 : 판단문, 반복문, 함수문\n",
    "\n",
    "<img src=\"http://cfile3.uf.tistory.com/image/275AF04159577681118067\" align=\"left\">"
   ]
  },
  {
   "cell_type": "code",
   "execution_count": 40,
   "metadata": {},
   "outputs": [],
   "source": [
    "### 복습\n",
    "# len()\n",
    "# type()\n",
    "# int()\n",
    "# float()\n",
    "# str()\n",
    "# list() : {dict}, (tuple) --> [list]\n",
    "# dict() : "
   ]
  },
  {
   "cell_type": "code",
   "execution_count": 41,
   "metadata": {},
   "outputs": [],
   "source": [
    "### 숫자 \n",
    "# integer(정수) : index, slicing, counting\n",
    "# float(실수) : 연산\n",
    "\n",
    "### 문자\n",
    "# 'datum' :  문자와 문자의 사칙연산,  Indexing/ Slicing,  Counting....\n",
    "# data  :  매개변수\n",
    "\n",
    "# [ list ]   :  integer index 값이 숨어있다. (0 ~ -1)\n",
    "# { key : value }"
   ]
  }
 ],
 "metadata": {
  "kernelspec": {
   "display_name": "Python 3",
   "language": "python",
   "name": "python3"
  },
  "language_info": {
   "codemirror_mode": {
    "name": "ipython",
    "version": 3
   },
   "file_extension": ".py",
   "mimetype": "text/x-python",
   "name": "python",
   "nbconvert_exporter": "python",
   "pygments_lexer": "ipython3",
   "version": "3.6.4"
  }
 },
 "nbformat": 4,
 "nbformat_minor": 2
}
