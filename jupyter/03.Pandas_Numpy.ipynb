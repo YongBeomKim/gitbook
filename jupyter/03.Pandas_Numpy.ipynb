{
 "cells": [
  {
   "cell_type": "markdown",
   "metadata": {},
   "source": [
    "# **_3 Pandas 모듈과 패키지_**\n",
    "**금융데이터를 활용한 파이썬 기초**\n",
    "\n",
    "언의의 내용과 개념을 있는 그대로 받아들이고 이해하려고 노력하자"
   ]
  },
  {
   "cell_type": "markdown",
   "metadata": {},
   "source": [
    "<br>\n",
    "### **review Python Data & Datum**\n",
    "Python 기본문법 - 기본문법 등을 아래의 3가지 서랍속에 체계적 정리하기 \n",
    "1. Datum &nbsp;&nbsp; : &nbsp;&nbsp; 숫자, &nbsp;\"문자\" \n",
    "1. Data &nbsp;&nbsp; : &nbsp; [list], &nbsp; {dict}, &nbsp; (tuple,)\n",
    "1. Function : indent, 모듈, 클래스, 함수, 메소드(추가 입력값 필요, 추가 입력값 불필요)\n",
    "1. []의 함수적 활용 \n",
    "    1. 색인기능 [index], [:slicing])\n",
    "    1. 함수를 활용하여 데이터 생성 &nbsp; [ &nbsp; datum &nbsp;&nbsp; 1) for : 반복, 2) if :판단, 3) enumerate() :순번 integer 출력 ]\n",
    "1. {}의 함수적 활용 \n",
    "    1. 함수를 활용하여 데이터 생성 &nbsp; { &nbsp; key &nbsp; : &nbsp; value &nbsp;&nbsp; 1) for : 반복, 2) if :판단, 3) enumerate() :순번 integer 출력}\n",
    "1. 연결기호 : ', \", '=',  [], {}, () (개별적 쓰임새와 숨은 의미들이 정해져 있다)"
   ]
  },
  {
   "cell_type": "markdown",
   "metadata": {},
   "source": [
    "<br>\n",
    "### ** I Python 활용**\n",
    "jupyter notebook\n",
    "1. 파이썬 반응결과를 Javascript로 웹브라우저에서 구현한다\n",
    "1. https://notebooks.azure.com/ : 무료가입후 바로 사용가능, 외부 데이터 수집등 제약이 있다\n",
    "1. https://docs.aws.amazon.com/ko_kr/dlami/latest/devguide/setup-jupyter-start-server.html : 설치가 어렵지만 AWS 무료 가입후 설치 가능\n",
    "1. 대신 cell 단위로 작업결과를 확인함으로써, 부분 부분적인 디버깅이 가능\n",
    "1. 상대적 작은 size 작업에 용이하다\n",
    "1. 여러 파일들을 함께 관리하기에는 부족한 점이 있다 (PyCharm, Sublime Text을 같이 활용하여 극복)"
   ]
  },
  {
   "cell_type": "markdown",
   "metadata": {},
   "source": [
    "<br>\n",
    "### **'%' Magic Keyword**\n",
    "1. **_%who_** : 현재까지 메모리에 올려진 객체들 확인\n",
    "1. **_%reset_** : 메모리 초기화\n",
    "1. **_%matplotlib inline_** : matplotlib 시각화를 Cell 내부에 포함해서 출력한다\n",
    "1. **_%debug_** : 최근 예외상황 및 아래행의 대화형 디버그 진입\n",
    "1. **_%pdb_** : 예외가 발생하면 자동으로 debug 진입\n",
    "1. **_%time_** : 단일 statement 실행시간\n",
    "1. **_%timtit_** : 여러번 statement 평균 실행시간"
   ]
  },
  {
   "cell_type": "markdown",
   "metadata": {},
   "source": [
    "<br>\n",
    "#### **PREVIEW 2**\n",
    "pandas 로 http://finance.daum.net/quote/all.daum?nil_stock=refresh 의 전종목 시세를 수집하기"
   ]
  },
  {
   "cell_type": "code",
   "execution_count": 1,
   "metadata": {},
   "outputs": [
    {
     "data": {
      "text/html": [
       "<div>\n",
       "<style scoped>\n",
       "    .dataframe tbody tr th:only-of-type {\n",
       "        vertical-align: middle;\n",
       "    }\n",
       "\n",
       "    .dataframe tbody tr th {\n",
       "        vertical-align: top;\n",
       "    }\n",
       "\n",
       "    .dataframe thead th {\n",
       "        text-align: right;\n",
       "    }\n",
       "</style>\n",
       "<table border=\"1\" class=\"dataframe\">\n",
       "  <thead>\n",
       "    <tr style=\"text-align: right;\">\n",
       "      <th></th>\n",
       "      <th>종목명</th>\n",
       "      <th>현재가</th>\n",
       "      <th>등락률</th>\n",
       "      <th>종목명</th>\n",
       "      <th>현재가</th>\n",
       "      <th>등락률</th>\n",
       "    </tr>\n",
       "  </thead>\n",
       "  <tbody>\n",
       "    <tr>\n",
       "      <th>2</th>\n",
       "      <td>GS건설</td>\n",
       "      <td>49050</td>\n",
       "      <td>+1.98%</td>\n",
       "      <td>HDC아이콘트롤스</td>\n",
       "      <td>18200</td>\n",
       "      <td>-1.62%</td>\n",
       "    </tr>\n",
       "    <tr>\n",
       "      <th>3</th>\n",
       "      <td>계룡건설</td>\n",
       "      <td>33100</td>\n",
       "      <td>+1.85%</td>\n",
       "      <td>고려개발</td>\n",
       "      <td>7640</td>\n",
       "      <td>-3.29%</td>\n",
       "    </tr>\n",
       "    <tr>\n",
       "      <th>4</th>\n",
       "      <td>금호산업</td>\n",
       "      <td>13550</td>\n",
       "      <td>-0.73%</td>\n",
       "      <td>금호산업우</td>\n",
       "      <td>37500</td>\n",
       "      <td>+29.98%</td>\n",
       "    </tr>\n",
       "  </tbody>\n",
       "</table>\n",
       "</div>"
      ],
      "text/plain": [
       "0   종목명    현재가     등락률        종목명    현재가      등락률\n",
       "2  GS건설  49050  +1.98%  HDC아이콘트롤스  18200   -1.62%\n",
       "3  계룡건설  33100  +1.85%       고려개발   7640   -3.29%\n",
       "4  금호산업  13550  -0.73%      금호산업우  37500  +29.98%"
      ]
     },
     "execution_count": 1,
     "metadata": {},
     "output_type": "execute_result"
    }
   ],
   "source": [
    "# http://finance.daum.net/quote/all.daum?nil_stock=refresh\n",
    "# 현재 종가데이터 수집하기\n",
    "def total_table():\n",
    "    import pandas as pd\n",
    "    url         = \"http://finance.daum.net/quote/all.daum?nil_stock=refresh\"\n",
    "    toplist     = pd.read_html(url)\n",
    "    result      = [table  for i, table in enumerate(toplist)   if i >0]\n",
    "    df          = pd.concat(result, axis=0).dropna()\n",
    "    df.columns  = df.iloc[0,:]\n",
    "    df          = df.drop(df.index[0])\n",
    "    return df\n",
    "\n",
    "df = total_table()\n",
    "df.head(3)"
   ]
  },
  {
   "cell_type": "code",
   "execution_count": 2,
   "metadata": {},
   "outputs": [
    {
     "name": "stdout",
     "output_type": "stream",
     "text": [
      "Variable      Type         Data/Info\n",
      "------------------------------------\n",
      "df            DataFrame    0         종목명      현재가   <...>n\\n[442 rows x 6 columns]\n",
      "total_table   function     <function total_table at 0xb42cff60>\n"
     ]
    }
   ],
   "source": [
    "%whos"
   ]
  },
  {
   "cell_type": "markdown",
   "metadata": {},
   "source": [
    "<br>\n",
    "## **1 Pandas  &nbsp;&nbsp; & &nbsp;&nbsp; Numpy**\n",
    "- **numpy** : 엑셀의 내부 함수 모음 ( pandas의 메소드 함수역활)\n",
    " - **pandas** : 엑셀의 단축키 , sheets 등 부가기능 모음\n",
    " - 함께 뒤 섞여서 활용\n",
    "<br>\n",
    "</br><img src = \"http://pbpython.com/images/pandas-dataframe-shadow.png\" align=\"left\" width='800'>"
   ]
  },
  {
   "cell_type": "code",
   "execution_count": 3,
   "metadata": {},
   "outputs": [],
   "source": [
    "#### 모듈의 요약\n",
    "# 파이썬은 내장함수만 구현 가능한 프로그램\n",
    "# 이를 활용하여 Wes McKinney가 작성한 함수들의 묶음이 Pandas\n",
    "# Pandas라는 이름으로 함수들을 묶어서 https://pandas.pydata.org/ 공개\n",
    "# pip 프로그램으로 Python 관련 폴더에 함수들의 *.py 파일들을 자동으로 복붙한다\n",
    "# import c:/python/site-package/pandas/pandas.py.. 로 복잡하게 열지 않고\n",
    "# import pandas... 만으로 해당 파일을 메모리에 올린다"
   ]
  },
  {
   "cell_type": "code",
   "execution_count": 4,
   "metadata": {},
   "outputs": [],
   "source": [
    "#### 메서드의 요약\n",
    "# 송강호의 메소드 연기, 강소라의 메소드 연기, '용엄마'의 메소드 연기....\n",
    "# 메소드 : 배우의 생각과 감정을 배역에 완전히 몰입시켜 연기하는 기법\n",
    "# 메소드는 주체마다 다르게 정의가 된다 (주체에 종속되는 변수들)\n",
    "# python 기본 메소드\n",
    "# pandas 관련 메소드 (python 기본 메소드를 응용해서 제작한다)"
   ]
  },
  {
   "cell_type": "code",
   "execution_count": 5,
   "metadata": {},
   "outputs": [],
   "source": [
    "#### Python 기본 함수, 메소드들을 잘 알면 배울 내용들이 쉽게 유추 및 정리가 가능하다\n",
    "# 모듈을 만들 때, 기본 함수/메소드를 응용해서 만든다\n",
    "# 개별 모듈에서 기본 함수/메소드의 공통점을 정리/확인한 뒤\n",
    "# 각 각에만 특징적으로 정리된 내용들만 요약 정리하면, 쉽게 진도를 나아갈 수 있다\n",
    "# 말이 쉽지...."
   ]
  },
  {
   "cell_type": "markdown",
   "metadata": {
    "collapsed": true
   },
   "source": [
    "<br>\n",
    "## **2 'Series'  in Pandas**\n",
    "1. **DataFrame** : 전체 표\n",
    "1. **Series(일련, 연속 ,한벌의)** : 전체 표중 1줄을 추출 (가로/세로) 한 객체로 [list] 의 확장된 포맷\n",
    "1. 표를 생성 후 편집 수정 및 **'시각화'** 를 위한 데이터\n",
    "1. **[list]와** 공통적인 속성을 복습을 하면서 유추를 하고, 다른 몇가지 특징만 외우면 된다"
   ]
  },
  {
   "cell_type": "markdown",
   "metadata": {},
   "source": [
    "<br>\n",
    "### **01 [ list ] 와 비교**\n",
    "list 를 바탕으로 Series 이해하기"
   ]
  },
  {
   "cell_type": "code",
   "execution_count": 6,
   "metadata": {},
   "outputs": [
    {
     "data": {
      "text/plain": [
       "[4, 2, -1, 1, -2, -3, 4, 5]"
      ]
     },
     "execution_count": 6,
     "metadata": {},
     "output_type": "execute_result"
    }
   ],
   "source": [
    "lists = [4,2,-1,1,-2,-3,4,5]\n",
    "lists"
   ]
  },
  {
   "cell_type": "code",
   "execution_count": 7,
   "metadata": {},
   "outputs": [
    {
     "data": {
      "text/plain": [
       "0    4\n",
       "1    2\n",
       "2   -1\n",
       "3    1\n",
       "4   -2\n",
       "5   -3\n",
       "6    4\n",
       "7    5\n",
       "dtype: int64"
      ]
     },
     "execution_count": 7,
     "metadata": {},
     "output_type": "execute_result"
    }
   ],
   "source": [
    "import pandas as pd\n",
    "data = pd.Series(lists)\n",
    "data\n",
    "# index 가 옆에 노출되었을 뿐 내용과 개념은 동일!!!\n",
    "# 그럼에도 왜 쓰냐?? - 1) DataFrame의 .메소드 확장기능을 사용가능\n",
    "#                   2) Matrix 등의 연산시 \"30배 속도\"가 향상 (C++로 내부 연산이 처리된다)\n",
    "#                   3) matplotlib 모듈등과도 연동이 쉽다"
   ]
  },
  {
   "cell_type": "code",
   "execution_count": 8,
   "metadata": {},
   "outputs": [
    {
     "data": {
      "text/plain": [
       "RangeIndex(start=0, stop=8, step=1)"
      ]
     },
     "execution_count": 8,
     "metadata": {},
     "output_type": "execute_result"
    }
   ],
   "source": [
    "data.index"
   ]
  },
  {
   "cell_type": "code",
   "execution_count": 9,
   "metadata": {},
   "outputs": [
    {
     "data": {
      "text/plain": [
       "array([ 4,  2, -1,  1, -2, -3,  4,  5], dtype=int64)"
      ]
     },
     "execution_count": 9,
     "metadata": {},
     "output_type": "execute_result"
    }
   ],
   "source": [
    "data.values"
   ]
  },
  {
   "cell_type": "code",
   "execution_count": 10,
   "metadata": {},
   "outputs": [
    {
     "data": {
      "text/plain": [
       "<matplotlib.axes._subplots.AxesSubplot at 0xac77f590>"
      ]
     },
     "execution_count": 10,
     "metadata": {},
     "output_type": "execute_result"
    },
    {
     "data": {
      "image/png": "[encoded data removed]",
      "text/plain": [
       "<Figure size 432x288 with 1 Axes>"
      ]
     },
     "metadata": {},
     "output_type": "display_data"
    }
   ],
   "source": [
    "%matplotlib inline\n",
    "data.plot(kind='bar')"
   ]
  },
  {
   "cell_type": "markdown",
   "metadata": {},
   "source": [
    "<br>\n",
    "### ** 02 { dict } 와 비교**\n",
    "dict 를 바탕으로 Series 이해하기"
   ]
  },
  {
   "cell_type": "code",
   "execution_count": 11,
   "metadata": {},
   "outputs": [
    {
     "data": {
      "text/plain": [
       "seoul    4\n",
       "dajun    7\n",
       "daegu   -5\n",
       "busan    3\n",
       "dtype: int64"
      ]
     },
     "execution_count": 11,
     "metadata": {},
     "output_type": "execute_result"
    }
   ],
   "source": [
    "# index 에 임의의 이름을 부여 가능\n",
    "# 그러면서도 순서 속성은 그대로 유지\n",
    "data = pd.Series([4, 7, -5, 3], \n",
    "                 index = ['seoul', 'dajun', 'daegu','busan'])\n",
    "data"
   ]
  },
  {
   "cell_type": "code",
   "execution_count": 12,
   "metadata": {},
   "outputs": [
    {
     "data": {
      "text/plain": [
       "busan    3\n",
       "daegu   -5\n",
       "dajun    7\n",
       "seoul    4\n",
       "dtype: int64"
      ]
     },
     "execution_count": 12,
     "metadata": {},
     "output_type": "execute_result"
    }
   ],
   "source": [
    "# dict 데이터를 Series로 변환\n",
    "dict_data = {'seoul':4, 'dajun':7, 'daegu':-5, 'busan':3}\n",
    "pd.Series(dict_data)"
   ]
  },
  {
   "cell_type": "code",
   "execution_count": 13,
   "metadata": {},
   "outputs": [
    {
     "data": {
      "text/plain": [
       "Index(['seoul', 'dajun', 'daegu', 'busan'], dtype='object')"
      ]
     },
     "execution_count": 13,
     "metadata": {},
     "output_type": "execute_result"
    }
   ],
   "source": [
    "data.index"
   ]
  },
  {
   "cell_type": "code",
   "execution_count": 14,
   "metadata": {},
   "outputs": [
    {
     "data": {
      "text/plain": [
       "4"
      ]
     },
     "execution_count": 14,
     "metadata": {},
     "output_type": "execute_result"
    }
   ],
   "source": [
    "data['seoul']"
   ]
  },
  {
   "cell_type": "markdown",
   "metadata": {},
   "source": [
    "### **03 Series 의 함수적 속성**\n",
    "1. 사칙연산 : 모든 index에 연산을 순차적으로 적용한다\n",
    "1. [ boolean 조건함수 ] "
   ]
  },
  {
   "cell_type": "code",
   "execution_count": 15,
   "metadata": {},
   "outputs": [
    {
     "data": {
      "text/plain": [
       "seoul     8\n",
       "dajun    14\n",
       "daegu   -10\n",
       "busan     6\n",
       "dtype: int64"
      ]
     },
     "execution_count": 15,
     "metadata": {},
     "output_type": "execute_result"
    }
   ],
   "source": [
    "data * 2"
   ]
  },
  {
   "cell_type": "code",
   "execution_count": 16,
   "metadata": {},
   "outputs": [
    {
     "data": {
      "text/plain": [
       "dajun    7\n",
       "dtype: int64"
      ]
     },
     "execution_count": 16,
     "metadata": {},
     "output_type": "execute_result"
    }
   ],
   "source": [
    "data [ data > 5 ]"
   ]
  },
  {
   "cell_type": "code",
   "execution_count": 17,
   "metadata": {},
   "outputs": [
    {
     "data": {
      "text/plain": [
       "seoul    False\n",
       "dajun    False\n",
       "daegu    False\n",
       "busan    False\n",
       "dtype: bool"
      ]
     },
     "execution_count": 17,
     "metadata": {},
     "output_type": "execute_result"
    }
   ],
   "source": [
    "# Series 가 제공하는 다양한 메소드를 활용가능\n",
    "data.isnull()"
   ]
  },
  {
   "cell_type": "code",
   "execution_count": 18,
   "metadata": {},
   "outputs": [
    {
     "data": {
      "text/plain": [
       "busan   -2.0\n",
       "daegu   -2.0\n",
       "dajun    3.0\n",
       "seoul    NaN\n",
       "dtype: float64"
      ]
     },
     "execution_count": 18,
     "metadata": {},
     "output_type": "execute_result"
    }
   ],
   "source": [
    "# [list] 의 덧셈은 연결이지만, \n",
    "# index 특징이 고정된 series는 주소간의 데이터 연산결과를 출력한다\n",
    "data2 = pd.Series([-4, 3, -5], \n",
    "                  index = ['dajun', 'daegu','busan'])\n",
    "data + data2"
   ]
  },
  {
   "cell_type": "code",
   "execution_count": 19,
   "metadata": {},
   "outputs": [
    {
     "data": {
      "text/plain": [
       "1   -4\n",
       "2    3\n",
       "3   -5\n",
       "dtype: int64"
      ]
     },
     "execution_count": 19,
     "metadata": {},
     "output_type": "execute_result"
    }
   ],
   "source": [
    "# index만 번경도 가능하다\n",
    "data2.index = [1,2,3]\n",
    "data2"
   ]
  },
  {
   "cell_type": "markdown",
   "metadata": {},
   "source": [
    "#### **Quiz**\n",
    "    range() 로 10부터 1까지 1씩 감소하는 [ list ] 를 만들고\n",
    "    이를 Series 로 변환한 뒤, \n",
    "    line 차트로 시각화를 하라\n",
    "    \n",
    "hint : **range(10,0,-1)**"
   ]
  },
  {
   "cell_type": "code",
   "execution_count": 20,
   "metadata": {},
   "outputs": [],
   "source": [
    "# [ i    for i in range(10,0,-1)]"
   ]
  },
  {
   "cell_type": "markdown",
   "metadata": {
    "collapsed": true
   },
   "source": [
    "<br>\n",
    "## **3 'DataFrame'  in Pandas** \n",
    "Excel Sheet 의 모든 것!!!\n",
    "<br><br></br>\n",
    "### **01 Table 생성**\n",
    "Series , list --> DataFrame"
   ]
  },
  {
   "cell_type": "code",
   "execution_count": 21,
   "metadata": {
    "scrolled": true
   },
   "outputs": [
    {
     "data": {
      "text/html": [
       "<div>\n",
       "<style scoped>\n",
       "    .dataframe tbody tr th:only-of-type {\n",
       "        vertical-align: middle;\n",
       "    }\n",
       "\n",
       "    .dataframe tbody tr th {\n",
       "        vertical-align: top;\n",
       "    }\n",
       "\n",
       "    .dataframe thead th {\n",
       "        text-align: right;\n",
       "    }\n",
       "</style>\n",
       "<table border=\"1\" class=\"dataframe\">\n",
       "  <thead>\n",
       "    <tr style=\"text-align: right;\">\n",
       "      <th></th>\n",
       "      <th>0</th>\n",
       "    </tr>\n",
       "  </thead>\n",
       "  <tbody>\n",
       "    <tr>\n",
       "      <th>seoul</th>\n",
       "      <td>4</td>\n",
       "    </tr>\n",
       "    <tr>\n",
       "      <th>dajun</th>\n",
       "      <td>7</td>\n",
       "    </tr>\n",
       "    <tr>\n",
       "      <th>daegu</th>\n",
       "      <td>-5</td>\n",
       "    </tr>\n",
       "    <tr>\n",
       "      <th>busan</th>\n",
       "      <td>3</td>\n",
       "    </tr>\n",
       "  </tbody>\n",
       "</table>\n",
       "</div>"
      ],
      "text/plain": [
       "       0\n",
       "seoul  4\n",
       "dajun  7\n",
       "daegu -5\n",
       "busan  3"
      ]
     },
     "execution_count": 21,
     "metadata": {},
     "output_type": "execute_result"
    }
   ],
   "source": [
    "# Series 형태의 DataFrame도 가능,\n",
    "# 데이터 내용은 동일하고 단지 담는 그릇이 다르다 \n",
    "# 차이점은 화면에 표시되는 내용과, 적용되는 Method 들이 다르다\n",
    "import pandas as pd\n",
    "pd.DataFrame(data)"
   ]
  },
  {
   "cell_type": "code",
   "execution_count": 22,
   "metadata": {},
   "outputs": [
    {
     "name": "stderr",
     "output_type": "stream",
     "text": [
      "/home/erdos/python/django/lib/python3.6/site-packages/pandas/core/indexes/api.py:87: RuntimeWarning: '<' not supported between instances of 'str' and 'int', sort order is undefined for incomparable objects\n",
      "  result = result.union(other)\n"
     ]
    },
    {
     "data": {
      "text/html": [
       "<div>\n",
       "<style scoped>\n",
       "    .dataframe tbody tr th:only-of-type {\n",
       "        vertical-align: middle;\n",
       "    }\n",
       "\n",
       "    .dataframe tbody tr th {\n",
       "        vertical-align: top;\n",
       "    }\n",
       "\n",
       "    .dataframe thead th {\n",
       "        text-align: right;\n",
       "    }\n",
       "</style>\n",
       "<table border=\"1\" class=\"dataframe\">\n",
       "  <thead>\n",
       "    <tr style=\"text-align: right;\">\n",
       "      <th></th>\n",
       "      <th>first_col</th>\n",
       "      <th>second_col</th>\n",
       "      <th>third_col</th>\n",
       "    </tr>\n",
       "  </thead>\n",
       "  <tbody>\n",
       "    <tr>\n",
       "      <th>seoul</th>\n",
       "      <td>4.0</td>\n",
       "      <td>NaN</td>\n",
       "      <td>10</td>\n",
       "    </tr>\n",
       "    <tr>\n",
       "      <th>dajun</th>\n",
       "      <td>7.0</td>\n",
       "      <td>NaN</td>\n",
       "      <td>9</td>\n",
       "    </tr>\n",
       "    <tr>\n",
       "      <th>daegu</th>\n",
       "      <td>-5.0</td>\n",
       "      <td>NaN</td>\n",
       "      <td>8</td>\n",
       "    </tr>\n",
       "    <tr>\n",
       "      <th>busan</th>\n",
       "      <td>3.0</td>\n",
       "      <td>NaN</td>\n",
       "      <td>7</td>\n",
       "    </tr>\n",
       "    <tr>\n",
       "      <th>1</th>\n",
       "      <td>NaN</td>\n",
       "      <td>-4.0</td>\n",
       "      <td>6</td>\n",
       "    </tr>\n",
       "    <tr>\n",
       "      <th>2</th>\n",
       "      <td>NaN</td>\n",
       "      <td>3.0</td>\n",
       "      <td>5</td>\n",
       "    </tr>\n",
       "    <tr>\n",
       "      <th>3</th>\n",
       "      <td>NaN</td>\n",
       "      <td>-5.0</td>\n",
       "      <td>7</td>\n",
       "    </tr>\n",
       "  </tbody>\n",
       "</table>\n",
       "</div>"
      ],
      "text/plain": [
       "       first_col  second_col  third_col\n",
       "seoul        4.0         NaN         10\n",
       "dajun        7.0         NaN          9\n",
       "daegu       -5.0         NaN          8\n",
       "busan        3.0         NaN          7\n",
       "1            NaN        -4.0          6\n",
       "2            NaN         3.0          5\n",
       "3            NaN        -5.0          7"
      ]
     },
     "execution_count": 22,
     "metadata": {},
     "output_type": "execute_result"
    }
   ],
   "source": [
    "# 합집합 결과를 출력한다\n",
    "data3 = [10,9,8,7,6,5,7]\n",
    "df = pd.DataFrame( {'first_col' : data, \n",
    "                    'second_col': data2, \n",
    "                    'third_col' : data3} )\n",
    "df\n",
    "\n",
    "# Series, list 여러개를 1개의 Table로 구성하기\n",
    "# 객체가 Series : index 가 일치하지 않아도 조합이 가능 (자동조절)            ex) data, data2\n",
    "# 객체가 list   : index '길이'가 맞이야만 조합이 가능 (순서는 그대로 삽입)    ex) data3\n",
    "#              : 컬럼의 모든 데이터를 일괄 처리에 용이 (주로 전처리 작업에 활용)"
   ]
  },
  {
   "cell_type": "markdown",
   "metadata": {},
   "source": [
    "<br>\n",
    "### **02 Index**\n",
    "DataFrame 의 기본 틀 수정하기\n",
    "1. .reset_index() : 순차적인 index로 새롭게 재정의 하기\n",
    "1. .rename(columns={원본:수정}\n",
    "1. .set_index(컬럼명)"
   ]
  },
  {
   "cell_type": "code",
   "execution_count": 23,
   "metadata": {},
   "outputs": [
    {
     "data": {
      "text/html": [
       "<div>\n",
       "<style scoped>\n",
       "    .dataframe tbody tr th:only-of-type {\n",
       "        vertical-align: middle;\n",
       "    }\n",
       "\n",
       "    .dataframe tbody tr th {\n",
       "        vertical-align: top;\n",
       "    }\n",
       "\n",
       "    .dataframe thead th {\n",
       "        text-align: right;\n",
       "    }\n",
       "</style>\n",
       "<table border=\"1\" class=\"dataframe\">\n",
       "  <thead>\n",
       "    <tr style=\"text-align: right;\">\n",
       "      <th></th>\n",
       "      <th>index</th>\n",
       "      <th>first_col</th>\n",
       "      <th>second_col</th>\n",
       "      <th>third_col</th>\n",
       "    </tr>\n",
       "  </thead>\n",
       "  <tbody>\n",
       "    <tr>\n",
       "      <th>0</th>\n",
       "      <td>seoul</td>\n",
       "      <td>4.0</td>\n",
       "      <td>NaN</td>\n",
       "      <td>10</td>\n",
       "    </tr>\n",
       "    <tr>\n",
       "      <th>1</th>\n",
       "      <td>dajun</td>\n",
       "      <td>7.0</td>\n",
       "      <td>NaN</td>\n",
       "      <td>9</td>\n",
       "    </tr>\n",
       "    <tr>\n",
       "      <th>2</th>\n",
       "      <td>daegu</td>\n",
       "      <td>-5.0</td>\n",
       "      <td>NaN</td>\n",
       "      <td>8</td>\n",
       "    </tr>\n",
       "    <tr>\n",
       "      <th>3</th>\n",
       "      <td>busan</td>\n",
       "      <td>3.0</td>\n",
       "      <td>NaN</td>\n",
       "      <td>7</td>\n",
       "    </tr>\n",
       "    <tr>\n",
       "      <th>4</th>\n",
       "      <td>1</td>\n",
       "      <td>NaN</td>\n",
       "      <td>-4.0</td>\n",
       "      <td>6</td>\n",
       "    </tr>\n",
       "    <tr>\n",
       "      <th>5</th>\n",
       "      <td>2</td>\n",
       "      <td>NaN</td>\n",
       "      <td>3.0</td>\n",
       "      <td>5</td>\n",
       "    </tr>\n",
       "    <tr>\n",
       "      <th>6</th>\n",
       "      <td>3</td>\n",
       "      <td>NaN</td>\n",
       "      <td>-5.0</td>\n",
       "      <td>7</td>\n",
       "    </tr>\n",
       "  </tbody>\n",
       "</table>\n",
       "</div>"
      ],
      "text/plain": [
       "   index  first_col  second_col  third_col\n",
       "0  seoul        4.0         NaN         10\n",
       "1  dajun        7.0         NaN          9\n",
       "2  daegu       -5.0         NaN          8\n",
       "3  busan        3.0         NaN          7\n",
       "4      1        NaN        -4.0          6\n",
       "5      2        NaN         3.0          5\n",
       "6      3        NaN        -5.0          7"
      ]
     },
     "execution_count": 23,
     "metadata": {},
     "output_type": "execute_result"
    }
   ],
   "source": [
    "# index 01 : index to Column\n",
    "df = df.reset_index()\n",
    "df"
   ]
  },
  {
   "cell_type": "code",
   "execution_count": 24,
   "metadata": {
    "scrolled": true
   },
   "outputs": [
    {
     "data": {
      "text/html": [
       "<div>\n",
       "<style scoped>\n",
       "    .dataframe tbody tr th:only-of-type {\n",
       "        vertical-align: middle;\n",
       "    }\n",
       "\n",
       "    .dataframe tbody tr th {\n",
       "        vertical-align: top;\n",
       "    }\n",
       "\n",
       "    .dataframe thead th {\n",
       "        text-align: right;\n",
       "    }\n",
       "</style>\n",
       "<table border=\"1\" class=\"dataframe\">\n",
       "  <thead>\n",
       "    <tr style=\"text-align: right;\">\n",
       "      <th></th>\n",
       "      <th>city</th>\n",
       "      <th>first_col</th>\n",
       "      <th>second_col</th>\n",
       "      <th>third_col</th>\n",
       "    </tr>\n",
       "  </thead>\n",
       "  <tbody>\n",
       "    <tr>\n",
       "      <th>0</th>\n",
       "      <td>seoul</td>\n",
       "      <td>4.0</td>\n",
       "      <td>NaN</td>\n",
       "      <td>10</td>\n",
       "    </tr>\n",
       "    <tr>\n",
       "      <th>1</th>\n",
       "      <td>dajun</td>\n",
       "      <td>7.0</td>\n",
       "      <td>NaN</td>\n",
       "      <td>9</td>\n",
       "    </tr>\n",
       "    <tr>\n",
       "      <th>2</th>\n",
       "      <td>daegu</td>\n",
       "      <td>-5.0</td>\n",
       "      <td>NaN</td>\n",
       "      <td>8</td>\n",
       "    </tr>\n",
       "    <tr>\n",
       "      <th>3</th>\n",
       "      <td>busan</td>\n",
       "      <td>3.0</td>\n",
       "      <td>NaN</td>\n",
       "      <td>7</td>\n",
       "    </tr>\n",
       "    <tr>\n",
       "      <th>4</th>\n",
       "      <td>1</td>\n",
       "      <td>NaN</td>\n",
       "      <td>-4.0</td>\n",
       "      <td>6</td>\n",
       "    </tr>\n",
       "    <tr>\n",
       "      <th>5</th>\n",
       "      <td>2</td>\n",
       "      <td>NaN</td>\n",
       "      <td>3.0</td>\n",
       "      <td>5</td>\n",
       "    </tr>\n",
       "    <tr>\n",
       "      <th>6</th>\n",
       "      <td>3</td>\n",
       "      <td>NaN</td>\n",
       "      <td>-5.0</td>\n",
       "      <td>7</td>\n",
       "    </tr>\n",
       "  </tbody>\n",
       "</table>\n",
       "</div>"
      ],
      "text/plain": [
       "    city  first_col  second_col  third_col\n",
       "0  seoul        4.0         NaN         10\n",
       "1  dajun        7.0         NaN          9\n",
       "2  daegu       -5.0         NaN          8\n",
       "3  busan        3.0         NaN          7\n",
       "4      1        NaN        -4.0          6\n",
       "5      2        NaN         3.0          5\n",
       "6      3        NaN        -5.0          7"
      ]
     },
     "execution_count": 24,
     "metadata": {},
     "output_type": "execute_result"
    }
   ],
   "source": [
    "# index 02 :  Column  to index\n",
    "df = df.rename(columns={'index':'city'})\n",
    "df"
   ]
  },
  {
   "cell_type": "code",
   "execution_count": 25,
   "metadata": {},
   "outputs": [
    {
     "data": {
      "text/html": [
       "<div>\n",
       "<style scoped>\n",
       "    .dataframe tbody tr th:only-of-type {\n",
       "        vertical-align: middle;\n",
       "    }\n",
       "\n",
       "    .dataframe tbody tr th {\n",
       "        vertical-align: top;\n",
       "    }\n",
       "\n",
       "    .dataframe thead th {\n",
       "        text-align: right;\n",
       "    }\n",
       "</style>\n",
       "<table border=\"1\" class=\"dataframe\">\n",
       "  <thead>\n",
       "    <tr style=\"text-align: right;\">\n",
       "      <th></th>\n",
       "      <th>first_col</th>\n",
       "      <th>second_col</th>\n",
       "      <th>third_col</th>\n",
       "    </tr>\n",
       "    <tr>\n",
       "      <th>city</th>\n",
       "      <th></th>\n",
       "      <th></th>\n",
       "      <th></th>\n",
       "    </tr>\n",
       "  </thead>\n",
       "  <tbody>\n",
       "    <tr>\n",
       "      <th>seoul</th>\n",
       "      <td>4.0</td>\n",
       "      <td>NaN</td>\n",
       "      <td>10</td>\n",
       "    </tr>\n",
       "    <tr>\n",
       "      <th>dajun</th>\n",
       "      <td>7.0</td>\n",
       "      <td>NaN</td>\n",
       "      <td>9</td>\n",
       "    </tr>\n",
       "    <tr>\n",
       "      <th>daegu</th>\n",
       "      <td>-5.0</td>\n",
       "      <td>NaN</td>\n",
       "      <td>8</td>\n",
       "    </tr>\n",
       "    <tr>\n",
       "      <th>busan</th>\n",
       "      <td>3.0</td>\n",
       "      <td>NaN</td>\n",
       "      <td>7</td>\n",
       "    </tr>\n",
       "    <tr>\n",
       "      <th>1</th>\n",
       "      <td>NaN</td>\n",
       "      <td>-4.0</td>\n",
       "      <td>6</td>\n",
       "    </tr>\n",
       "    <tr>\n",
       "      <th>2</th>\n",
       "      <td>NaN</td>\n",
       "      <td>3.0</td>\n",
       "      <td>5</td>\n",
       "    </tr>\n",
       "    <tr>\n",
       "      <th>3</th>\n",
       "      <td>NaN</td>\n",
       "      <td>-5.0</td>\n",
       "      <td>7</td>\n",
       "    </tr>\n",
       "  </tbody>\n",
       "</table>\n",
       "</div>"
      ],
      "text/plain": [
       "       first_col  second_col  third_col\n",
       "city                                   \n",
       "seoul        4.0         NaN         10\n",
       "dajun        7.0         NaN          9\n",
       "daegu       -5.0         NaN          8\n",
       "busan        3.0         NaN          7\n",
       "1            NaN        -4.0          6\n",
       "2            NaN         3.0          5\n",
       "3            NaN        -5.0          7"
      ]
     },
     "execution_count": 25,
     "metadata": {},
     "output_type": "execute_result"
    }
   ],
   "source": [
    "df = df.set_index('city')\n",
    "df"
   ]
  },
  {
   "cell_type": "code",
   "execution_count": 26,
   "metadata": {},
   "outputs": [
    {
     "data": {
      "text/html": [
       "<div>\n",
       "<style scoped>\n",
       "    .dataframe tbody tr th:only-of-type {\n",
       "        vertical-align: middle;\n",
       "    }\n",
       "\n",
       "    .dataframe tbody tr th {\n",
       "        vertical-align: top;\n",
       "    }\n",
       "\n",
       "    .dataframe thead th {\n",
       "        text-align: right;\n",
       "    }\n",
       "</style>\n",
       "<table border=\"1\" class=\"dataframe\">\n",
       "  <thead>\n",
       "    <tr style=\"text-align: right;\">\n",
       "      <th></th>\n",
       "      <th>first_col</th>\n",
       "      <th>second_col</th>\n",
       "      <th>third_col</th>\n",
       "    </tr>\n",
       "    <tr>\n",
       "      <th>city</th>\n",
       "      <th></th>\n",
       "      <th></th>\n",
       "      <th></th>\n",
       "    </tr>\n",
       "  </thead>\n",
       "  <tbody>\n",
       "    <tr>\n",
       "      <th>seoul</th>\n",
       "      <td>4.0</td>\n",
       "      <td>NaN</td>\n",
       "      <td>10</td>\n",
       "    </tr>\n",
       "    <tr>\n",
       "      <th>dajun</th>\n",
       "      <td>7.0</td>\n",
       "      <td>NaN</td>\n",
       "      <td>9</td>\n",
       "    </tr>\n",
       "    <tr>\n",
       "      <th>daegu</th>\n",
       "      <td>-5.0</td>\n",
       "      <td>NaN</td>\n",
       "      <td>8</td>\n",
       "    </tr>\n",
       "    <tr>\n",
       "      <th>1</th>\n",
       "      <td>NaN</td>\n",
       "      <td>-4.0</td>\n",
       "      <td>6</td>\n",
       "    </tr>\n",
       "    <tr>\n",
       "      <th>2</th>\n",
       "      <td>NaN</td>\n",
       "      <td>3.0</td>\n",
       "      <td>5</td>\n",
       "    </tr>\n",
       "    <tr>\n",
       "      <th>3</th>\n",
       "      <td>NaN</td>\n",
       "      <td>-5.0</td>\n",
       "      <td>7</td>\n",
       "    </tr>\n",
       "  </tbody>\n",
       "</table>\n",
       "</div>"
      ],
      "text/plain": [
       "       first_col  second_col  third_col\n",
       "city                                   \n",
       "seoul        4.0         NaN         10\n",
       "dajun        7.0         NaN          9\n",
       "daegu       -5.0         NaN          8\n",
       "1            NaN        -4.0          6\n",
       "2            NaN         3.0          5\n",
       "3            NaN        -5.0          7"
      ]
     },
     "execution_count": 26,
     "metadata": {},
     "output_type": "execute_result"
    }
   ],
   "source": [
    "# index 삭제\n",
    "df.drop('busan', axis = 0)"
   ]
  },
  {
   "cell_type": "markdown",
   "metadata": {
    "collapsed": true
   },
   "source": [
    "####  **_인덱스의 수정...  Solution_**\n",
    "1. index 를 [ list ] 로 추출 후, 수정한 뒤 수정된 list 를 index 로 덧붙인다.\n",
    "1. https://stackoverflow.com/questions/40427943/how-do-i-change-a-single-index-value-in-pandas-dataframe"
   ]
  },
  {
   "cell_type": "code",
   "execution_count": 27,
   "metadata": {},
   "outputs": [
    {
     "data": {
      "text/plain": [
       "['seoul', 'dajun', 'daegu', 'busan', 'Jeju', 2, 3]"
      ]
     },
     "execution_count": 27,
     "metadata": {},
     "output_type": "execute_result"
    }
   ],
   "source": [
    "df_index    = df.index.tolist()\n",
    "df_index[4] = 'Jeju'\n",
    "df_index"
   ]
  },
  {
   "cell_type": "code",
   "execution_count": 28,
   "metadata": {},
   "outputs": [
    {
     "data": {
      "text/html": [
       "<div>\n",
       "<style scoped>\n",
       "    .dataframe tbody tr th:only-of-type {\n",
       "        vertical-align: middle;\n",
       "    }\n",
       "\n",
       "    .dataframe tbody tr th {\n",
       "        vertical-align: top;\n",
       "    }\n",
       "\n",
       "    .dataframe thead th {\n",
       "        text-align: right;\n",
       "    }\n",
       "</style>\n",
       "<table border=\"1\" class=\"dataframe\">\n",
       "  <thead>\n",
       "    <tr style=\"text-align: right;\">\n",
       "      <th></th>\n",
       "      <th>first_col</th>\n",
       "      <th>second_col</th>\n",
       "      <th>third_col</th>\n",
       "    </tr>\n",
       "  </thead>\n",
       "  <tbody>\n",
       "    <tr>\n",
       "      <th>seoul</th>\n",
       "      <td>4.0</td>\n",
       "      <td>NaN</td>\n",
       "      <td>10</td>\n",
       "    </tr>\n",
       "    <tr>\n",
       "      <th>dajun</th>\n",
       "      <td>7.0</td>\n",
       "      <td>NaN</td>\n",
       "      <td>9</td>\n",
       "    </tr>\n",
       "    <tr>\n",
       "      <th>daegu</th>\n",
       "      <td>-5.0</td>\n",
       "      <td>NaN</td>\n",
       "      <td>8</td>\n",
       "    </tr>\n",
       "    <tr>\n",
       "      <th>busan</th>\n",
       "      <td>3.0</td>\n",
       "      <td>NaN</td>\n",
       "      <td>7</td>\n",
       "    </tr>\n",
       "    <tr>\n",
       "      <th>Jeju</th>\n",
       "      <td>NaN</td>\n",
       "      <td>-4.0</td>\n",
       "      <td>6</td>\n",
       "    </tr>\n",
       "    <tr>\n",
       "      <th>2</th>\n",
       "      <td>NaN</td>\n",
       "      <td>3.0</td>\n",
       "      <td>5</td>\n",
       "    </tr>\n",
       "    <tr>\n",
       "      <th>3</th>\n",
       "      <td>NaN</td>\n",
       "      <td>-5.0</td>\n",
       "      <td>7</td>\n",
       "    </tr>\n",
       "  </tbody>\n",
       "</table>\n",
       "</div>"
      ],
      "text/plain": [
       "       first_col  second_col  third_col\n",
       "seoul        4.0         NaN         10\n",
       "dajun        7.0         NaN          9\n",
       "daegu       -5.0         NaN          8\n",
       "busan        3.0         NaN          7\n",
       "Jeju         NaN        -4.0          6\n",
       "2            NaN         3.0          5\n",
       "3            NaN        -5.0          7"
      ]
     },
     "execution_count": 28,
     "metadata": {},
     "output_type": "execute_result"
    }
   ],
   "source": [
    "df.index = df_index\n",
    "df"
   ]
  },
  {
   "cell_type": "markdown",
   "metadata": {},
   "source": [
    "<br>\n",
    "### **03 Columns**\n",
    "DataFrame 의 Columns 바꾸기 및 재정렬"
   ]
  },
  {
   "cell_type": "code",
   "execution_count": 29,
   "metadata": {},
   "outputs": [
    {
     "name": "stderr",
     "output_type": "stream",
     "text": [
      "/home/erdos/python/django/lib/python3.6/site-packages/ipykernel_launcher.py:2: SettingWithCopyWarning: \n",
      "A value is trying to be set on a copy of a slice from a DataFrame\n",
      "\n",
      "See the caveats in the documentation: http://pandas.pydata.org/pandas-docs/stable/indexing.html#indexing-view-versus-copy\n",
      "  \n"
     ]
    },
    {
     "data": {
      "text/html": [
       "<div>\n",
       "<style scoped>\n",
       "    .dataframe tbody tr th:only-of-type {\n",
       "        vertical-align: middle;\n",
       "    }\n",
       "\n",
       "    .dataframe tbody tr th {\n",
       "        vertical-align: top;\n",
       "    }\n",
       "\n",
       "    .dataframe thead th {\n",
       "        text-align: right;\n",
       "    }\n",
       "</style>\n",
       "<table border=\"1\" class=\"dataframe\">\n",
       "  <thead>\n",
       "    <tr style=\"text-align: right;\">\n",
       "      <th></th>\n",
       "      <th>first_col</th>\n",
       "      <th>second_col</th>\n",
       "      <th>third_col</th>\n",
       "    </tr>\n",
       "  </thead>\n",
       "  <tbody>\n",
       "    <tr>\n",
       "      <th>seoul</th>\n",
       "      <td>4.0</td>\n",
       "      <td>NaN</td>\n",
       "      <td>10</td>\n",
       "    </tr>\n",
       "    <tr>\n",
       "      <th>dajun</th>\n",
       "      <td>7.0</td>\n",
       "      <td>NaN</td>\n",
       "      <td>9</td>\n",
       "    </tr>\n",
       "    <tr>\n",
       "      <th>daegu</th>\n",
       "      <td>-5.0</td>\n",
       "      <td>7.0</td>\n",
       "      <td>8</td>\n",
       "    </tr>\n",
       "    <tr>\n",
       "      <th>busan</th>\n",
       "      <td>3.0</td>\n",
       "      <td>NaN</td>\n",
       "      <td>7</td>\n",
       "    </tr>\n",
       "    <tr>\n",
       "      <th>Jeju</th>\n",
       "      <td>NaN</td>\n",
       "      <td>-4.0</td>\n",
       "      <td>6</td>\n",
       "    </tr>\n",
       "    <tr>\n",
       "      <th>2</th>\n",
       "      <td>NaN</td>\n",
       "      <td>3.0</td>\n",
       "      <td>5</td>\n",
       "    </tr>\n",
       "    <tr>\n",
       "      <th>3</th>\n",
       "      <td>NaN</td>\n",
       "      <td>-5.0</td>\n",
       "      <td>7</td>\n",
       "    </tr>\n",
       "  </tbody>\n",
       "</table>\n",
       "</div>"
      ],
      "text/plain": [
       "       first_col  second_col  third_col\n",
       "seoul        4.0         NaN         10\n",
       "dajun        7.0         NaN          9\n",
       "daegu       -5.0         7.0          8\n",
       "busan        3.0         NaN          7\n",
       "Jeju         NaN        -4.0          6\n",
       "2            NaN         3.0          5\n",
       "3            NaN        -5.0          7"
      ]
     },
     "execution_count": 29,
     "metadata": {},
     "output_type": "execute_result"
    }
   ],
   "source": [
    "# Cell의 내용 바꾸기\n",
    "df.second_col['daegu'] = 7   # second_col : 컬럼, 'daegu' : index\n",
    "df"
   ]
  },
  {
   "cell_type": "code",
   "execution_count": 30,
   "metadata": {},
   "outputs": [
    {
     "data": {
      "text/html": [
       "<div>\n",
       "<style scoped>\n",
       "    .dataframe tbody tr th:only-of-type {\n",
       "        vertical-align: middle;\n",
       "    }\n",
       "\n",
       "    .dataframe tbody tr th {\n",
       "        vertical-align: top;\n",
       "    }\n",
       "\n",
       "    .dataframe thead th {\n",
       "        text-align: right;\n",
       "    }\n",
       "</style>\n",
       "<table border=\"1\" class=\"dataframe\">\n",
       "  <thead>\n",
       "    <tr style=\"text-align: right;\">\n",
       "      <th></th>\n",
       "      <th>index</th>\n",
       "      <th>보건소</th>\n",
       "      <th>경찰서</th>\n",
       "      <th>도서관</th>\n",
       "    </tr>\n",
       "  </thead>\n",
       "  <tbody>\n",
       "    <tr>\n",
       "      <th>0</th>\n",
       "      <td>seoul</td>\n",
       "      <td>4.0</td>\n",
       "      <td>NaN</td>\n",
       "      <td>10</td>\n",
       "    </tr>\n",
       "    <tr>\n",
       "      <th>1</th>\n",
       "      <td>dajun</td>\n",
       "      <td>7.0</td>\n",
       "      <td>NaN</td>\n",
       "      <td>9</td>\n",
       "    </tr>\n",
       "    <tr>\n",
       "      <th>2</th>\n",
       "      <td>daegu</td>\n",
       "      <td>-5.0</td>\n",
       "      <td>7.0</td>\n",
       "      <td>8</td>\n",
       "    </tr>\n",
       "    <tr>\n",
       "      <th>3</th>\n",
       "      <td>busan</td>\n",
       "      <td>3.0</td>\n",
       "      <td>NaN</td>\n",
       "      <td>7</td>\n",
       "    </tr>\n",
       "    <tr>\n",
       "      <th>4</th>\n",
       "      <td>Jeju</td>\n",
       "      <td>NaN</td>\n",
       "      <td>-4.0</td>\n",
       "      <td>6</td>\n",
       "    </tr>\n",
       "    <tr>\n",
       "      <th>5</th>\n",
       "      <td>2</td>\n",
       "      <td>NaN</td>\n",
       "      <td>3.0</td>\n",
       "      <td>5</td>\n",
       "    </tr>\n",
       "    <tr>\n",
       "      <th>6</th>\n",
       "      <td>3</td>\n",
       "      <td>NaN</td>\n",
       "      <td>-5.0</td>\n",
       "      <td>7</td>\n",
       "    </tr>\n",
       "  </tbody>\n",
       "</table>\n",
       "</div>"
      ],
      "text/plain": [
       "   index  보건소  경찰서  도서관\n",
       "0  seoul  4.0  NaN   10\n",
       "1  dajun  7.0  NaN    9\n",
       "2  daegu -5.0  7.0    8\n",
       "3  busan  3.0  NaN    7\n",
       "4   Jeju  NaN -4.0    6\n",
       "5      2  NaN  3.0    5\n",
       "6      3  NaN -5.0    7"
      ]
     },
     "execution_count": 30,
     "metadata": {},
     "output_type": "execute_result"
    }
   ],
   "source": [
    "# 컬럼명 변경하기\n",
    "df = df.reset_index()\n",
    "df.rename(columns={ 'level_0'   : '도시명',\n",
    "                   'first_col'  : '보건소',\n",
    "                   'second_col' : '경찰서', \n",
    "                   'third_col'  : '도서관'}) #, inplace=True)"
   ]
  },
  {
   "cell_type": "code",
   "execution_count": 31,
   "metadata": {},
   "outputs": [
    {
     "data": {
      "text/plain": [
       "{'first_col': '도시명',\n",
       " 'index': 'index',\n",
       " 'second_col': 'index',\n",
       " 'third_col': '보건소'}"
      ]
     },
     "execution_count": 31,
     "metadata": {},
     "output_type": "execute_result"
    }
   ],
   "source": [
    "# 컬럼명 변경하기 2\n",
    "rename = ['index', '도시명', 'index', '보건소', '경찰서', '도서관']\n",
    "result = {}\n",
    "{ col : rename[no]     for no, col in enumerate(df.columns)}"
   ]
  },
  {
   "cell_type": "code",
   "execution_count": 32,
   "metadata": {},
   "outputs": [
    {
     "data": {
      "text/html": [
       "<div>\n",
       "<style scoped>\n",
       "    .dataframe tbody tr th:only-of-type {\n",
       "        vertical-align: middle;\n",
       "    }\n",
       "\n",
       "    .dataframe tbody tr th {\n",
       "        vertical-align: top;\n",
       "    }\n",
       "\n",
       "    .dataframe thead th {\n",
       "        text-align: right;\n",
       "    }\n",
       "</style>\n",
       "<table border=\"1\" class=\"dataframe\">\n",
       "  <thead>\n",
       "    <tr style=\"text-align: right;\">\n",
       "      <th></th>\n",
       "      <th>index</th>\n",
       "      <th>first_col</th>\n",
       "      <th>second_col</th>\n",
       "      <th>third_col</th>\n",
       "    </tr>\n",
       "  </thead>\n",
       "  <tbody>\n",
       "    <tr>\n",
       "      <th>0</th>\n",
       "      <td>seoul</td>\n",
       "      <td>4.0</td>\n",
       "      <td>NaN</td>\n",
       "      <td>10</td>\n",
       "    </tr>\n",
       "    <tr>\n",
       "      <th>1</th>\n",
       "      <td>dajun</td>\n",
       "      <td>7.0</td>\n",
       "      <td>NaN</td>\n",
       "      <td>9</td>\n",
       "    </tr>\n",
       "    <tr>\n",
       "      <th>2</th>\n",
       "      <td>daegu</td>\n",
       "      <td>-5.0</td>\n",
       "      <td>7.0</td>\n",
       "      <td>8</td>\n",
       "    </tr>\n",
       "    <tr>\n",
       "      <th>3</th>\n",
       "      <td>busan</td>\n",
       "      <td>3.0</td>\n",
       "      <td>NaN</td>\n",
       "      <td>7</td>\n",
       "    </tr>\n",
       "    <tr>\n",
       "      <th>4</th>\n",
       "      <td>Jeju</td>\n",
       "      <td>NaN</td>\n",
       "      <td>-4.0</td>\n",
       "      <td>6</td>\n",
       "    </tr>\n",
       "    <tr>\n",
       "      <th>5</th>\n",
       "      <td>2</td>\n",
       "      <td>NaN</td>\n",
       "      <td>3.0</td>\n",
       "      <td>5</td>\n",
       "    </tr>\n",
       "    <tr>\n",
       "      <th>6</th>\n",
       "      <td>3</td>\n",
       "      <td>NaN</td>\n",
       "      <td>-5.0</td>\n",
       "      <td>7</td>\n",
       "    </tr>\n",
       "  </tbody>\n",
       "</table>\n",
       "</div>"
      ],
      "text/plain": [
       "   index  first_col  second_col  third_col\n",
       "0  seoul        4.0         NaN         10\n",
       "1  dajun        7.0         NaN          9\n",
       "2  daegu       -5.0         7.0          8\n",
       "3  busan        3.0         NaN          7\n",
       "4   Jeju        NaN        -4.0          6\n",
       "5      2        NaN         3.0          5\n",
       "6      3        NaN        -5.0          7"
      ]
     },
     "execution_count": 32,
     "metadata": {},
     "output_type": "execute_result"
    }
   ],
   "source": [
    "# 변경한 컬럼명 적용하기\n",
    "df.rename(columns = result)"
   ]
  },
  {
   "cell_type": "code",
   "execution_count": 33,
   "metadata": {},
   "outputs": [
    {
     "data": {
      "text/html": [
       "<div>\n",
       "<style scoped>\n",
       "    .dataframe tbody tr th:only-of-type {\n",
       "        vertical-align: middle;\n",
       "    }\n",
       "\n",
       "    .dataframe tbody tr th {\n",
       "        vertical-align: top;\n",
       "    }\n",
       "\n",
       "    .dataframe thead th {\n",
       "        text-align: right;\n",
       "    }\n",
       "</style>\n",
       "<table border=\"1\" class=\"dataframe\">\n",
       "  <thead>\n",
       "    <tr style=\"text-align: right;\">\n",
       "      <th></th>\n",
       "      <th>index</th>\n",
       "      <th>first_col</th>\n",
       "      <th>second_col</th>\n",
       "      <th>third_col</th>\n",
       "      <th>Year</th>\n",
       "    </tr>\n",
       "  </thead>\n",
       "  <tbody>\n",
       "    <tr>\n",
       "      <th>0</th>\n",
       "      <td>seoul</td>\n",
       "      <td>4.0</td>\n",
       "      <td>NaN</td>\n",
       "      <td>10</td>\n",
       "      <td>2018</td>\n",
       "    </tr>\n",
       "    <tr>\n",
       "      <th>1</th>\n",
       "      <td>dajun</td>\n",
       "      <td>7.0</td>\n",
       "      <td>NaN</td>\n",
       "      <td>9</td>\n",
       "      <td>2018</td>\n",
       "    </tr>\n",
       "    <tr>\n",
       "      <th>2</th>\n",
       "      <td>daegu</td>\n",
       "      <td>-5.0</td>\n",
       "      <td>7.0</td>\n",
       "      <td>8</td>\n",
       "      <td>2018</td>\n",
       "    </tr>\n",
       "    <tr>\n",
       "      <th>3</th>\n",
       "      <td>busan</td>\n",
       "      <td>3.0</td>\n",
       "      <td>NaN</td>\n",
       "      <td>7</td>\n",
       "      <td>2018</td>\n",
       "    </tr>\n",
       "    <tr>\n",
       "      <th>4</th>\n",
       "      <td>Jeju</td>\n",
       "      <td>NaN</td>\n",
       "      <td>-4.0</td>\n",
       "      <td>6</td>\n",
       "      <td>2018</td>\n",
       "    </tr>\n",
       "    <tr>\n",
       "      <th>5</th>\n",
       "      <td>2</td>\n",
       "      <td>NaN</td>\n",
       "      <td>3.0</td>\n",
       "      <td>5</td>\n",
       "      <td>2018</td>\n",
       "    </tr>\n",
       "    <tr>\n",
       "      <th>6</th>\n",
       "      <td>3</td>\n",
       "      <td>NaN</td>\n",
       "      <td>-5.0</td>\n",
       "      <td>7</td>\n",
       "      <td>2018</td>\n",
       "    </tr>\n",
       "  </tbody>\n",
       "</table>\n",
       "</div>"
      ],
      "text/plain": [
       "   index  first_col  second_col  third_col  Year\n",
       "0  seoul        4.0         NaN         10  2018\n",
       "1  dajun        7.0         NaN          9  2018\n",
       "2  daegu       -5.0         7.0          8  2018\n",
       "3  busan        3.0         NaN          7  2018\n",
       "4   Jeju        NaN        -4.0          6  2018\n",
       "5      2        NaN         3.0          5  2018\n",
       "6      3        NaN        -5.0          7  2018"
      ]
     },
     "execution_count": 33,
     "metadata": {},
     "output_type": "execute_result"
    }
   ],
   "source": [
    "# column 추가 \n",
    "# {dict} 에서 데이터 생성과 '규칙'이 동일하다\n",
    "# 단일 객체로 column 채우며 생성\n",
    "df['Year'] = '2018'\n",
    "df"
   ]
  },
  {
   "cell_type": "code",
   "execution_count": 34,
   "metadata": {},
   "outputs": [
    {
     "data": {
      "text/html": [
       "<div>\n",
       "<style scoped>\n",
       "    .dataframe tbody tr th:only-of-type {\n",
       "        vertical-align: middle;\n",
       "    }\n",
       "\n",
       "    .dataframe tbody tr th {\n",
       "        vertical-align: top;\n",
       "    }\n",
       "\n",
       "    .dataframe thead th {\n",
       "        text-align: right;\n",
       "    }\n",
       "</style>\n",
       "<table border=\"1\" class=\"dataframe\">\n",
       "  <thead>\n",
       "    <tr style=\"text-align: right;\">\n",
       "      <th></th>\n",
       "      <th>index</th>\n",
       "      <th>first_col</th>\n",
       "      <th>second_col</th>\n",
       "      <th>third_col</th>\n",
       "    </tr>\n",
       "  </thead>\n",
       "  <tbody>\n",
       "    <tr>\n",
       "      <th>0</th>\n",
       "      <td>seoul</td>\n",
       "      <td>4.0</td>\n",
       "      <td>NaN</td>\n",
       "      <td>10</td>\n",
       "    </tr>\n",
       "    <tr>\n",
       "      <th>1</th>\n",
       "      <td>dajun</td>\n",
       "      <td>7.0</td>\n",
       "      <td>NaN</td>\n",
       "      <td>9</td>\n",
       "    </tr>\n",
       "    <tr>\n",
       "      <th>2</th>\n",
       "      <td>daegu</td>\n",
       "      <td>-5.0</td>\n",
       "      <td>7.0</td>\n",
       "      <td>8</td>\n",
       "    </tr>\n",
       "    <tr>\n",
       "      <th>3</th>\n",
       "      <td>busan</td>\n",
       "      <td>3.0</td>\n",
       "      <td>NaN</td>\n",
       "      <td>7</td>\n",
       "    </tr>\n",
       "    <tr>\n",
       "      <th>4</th>\n",
       "      <td>Jeju</td>\n",
       "      <td>NaN</td>\n",
       "      <td>-4.0</td>\n",
       "      <td>6</td>\n",
       "    </tr>\n",
       "    <tr>\n",
       "      <th>5</th>\n",
       "      <td>2</td>\n",
       "      <td>NaN</td>\n",
       "      <td>3.0</td>\n",
       "      <td>5</td>\n",
       "    </tr>\n",
       "    <tr>\n",
       "      <th>6</th>\n",
       "      <td>3</td>\n",
       "      <td>NaN</td>\n",
       "      <td>-5.0</td>\n",
       "      <td>7</td>\n",
       "    </tr>\n",
       "  </tbody>\n",
       "</table>\n",
       "</div>"
      ],
      "text/plain": [
       "   index  first_col  second_col  third_col\n",
       "0  seoul        4.0         NaN         10\n",
       "1  dajun        7.0         NaN          9\n",
       "2  daegu       -5.0         7.0          8\n",
       "3  busan        3.0         NaN          7\n",
       "4   Jeju        NaN        -4.0          6\n",
       "5      2        NaN         3.0          5\n",
       "6      3        NaN        -5.0          7"
      ]
     },
     "execution_count": 34,
     "metadata": {},
     "output_type": "execute_result"
    }
   ],
   "source": [
    "# column 삭제\n",
    "df = df.drop('Year', axis = 1)\n",
    "df"
   ]
  },
  {
   "cell_type": "code",
   "execution_count": 35,
   "metadata": {},
   "outputs": [
    {
     "data": {
      "text/html": [
       "<div>\n",
       "<style scoped>\n",
       "    .dataframe tbody tr th:only-of-type {\n",
       "        vertical-align: middle;\n",
       "    }\n",
       "\n",
       "    .dataframe tbody tr th {\n",
       "        vertical-align: top;\n",
       "    }\n",
       "\n",
       "    .dataframe thead th {\n",
       "        text-align: right;\n",
       "    }\n",
       "</style>\n",
       "<table border=\"1\" class=\"dataframe\">\n",
       "  <thead>\n",
       "    <tr style=\"text-align: right;\">\n",
       "      <th></th>\n",
       "      <th>Year</th>\n",
       "      <th>index</th>\n",
       "      <th>first_col</th>\n",
       "      <th>second_col</th>\n",
       "      <th>third_col</th>\n",
       "    </tr>\n",
       "  </thead>\n",
       "  <tbody>\n",
       "    <tr>\n",
       "      <th>0</th>\n",
       "      <td>2018</td>\n",
       "      <td>seoul</td>\n",
       "      <td>4.0</td>\n",
       "      <td>NaN</td>\n",
       "      <td>10</td>\n",
       "    </tr>\n",
       "    <tr>\n",
       "      <th>1</th>\n",
       "      <td>2018</td>\n",
       "      <td>dajun</td>\n",
       "      <td>7.0</td>\n",
       "      <td>NaN</td>\n",
       "      <td>9</td>\n",
       "    </tr>\n",
       "    <tr>\n",
       "      <th>2</th>\n",
       "      <td>2018</td>\n",
       "      <td>daegu</td>\n",
       "      <td>-5.0</td>\n",
       "      <td>7.0</td>\n",
       "      <td>8</td>\n",
       "    </tr>\n",
       "    <tr>\n",
       "      <th>3</th>\n",
       "      <td>2018</td>\n",
       "      <td>busan</td>\n",
       "      <td>3.0</td>\n",
       "      <td>NaN</td>\n",
       "      <td>7</td>\n",
       "    </tr>\n",
       "    <tr>\n",
       "      <th>4</th>\n",
       "      <td>2018</td>\n",
       "      <td>Jeju</td>\n",
       "      <td>NaN</td>\n",
       "      <td>-4.0</td>\n",
       "      <td>6</td>\n",
       "    </tr>\n",
       "    <tr>\n",
       "      <th>5</th>\n",
       "      <td>2018</td>\n",
       "      <td>2</td>\n",
       "      <td>NaN</td>\n",
       "      <td>3.0</td>\n",
       "      <td>5</td>\n",
       "    </tr>\n",
       "    <tr>\n",
       "      <th>6</th>\n",
       "      <td>2018</td>\n",
       "      <td>3</td>\n",
       "      <td>NaN</td>\n",
       "      <td>-5.0</td>\n",
       "      <td>7</td>\n",
       "    </tr>\n",
       "  </tbody>\n",
       "</table>\n",
       "</div>"
      ],
      "text/plain": [
       "   Year  index  first_col  second_col  third_col\n",
       "0  2018  seoul        4.0         NaN         10\n",
       "1  2018  dajun        7.0         NaN          9\n",
       "2  2018  daegu       -5.0         7.0          8\n",
       "3  2018  busan        3.0         NaN          7\n",
       "4  2018   Jeju        NaN        -4.0          6\n",
       "5  2018      2        NaN         3.0          5\n",
       "6  2018      3        NaN        -5.0          7"
      ]
     },
     "execution_count": 35,
     "metadata": {},
     "output_type": "execute_result"
    }
   ],
   "source": [
    "# column 추가 2\n",
    "# 동일한 객체로 column 채우며 생성\n",
    "\n",
    "df.insert(0, 'Year', '2018')\n",
    "df"
   ]
  },
  {
   "cell_type": "code",
   "execution_count": 36,
   "metadata": {
    "scrolled": true
   },
   "outputs": [
    {
     "data": {
      "text/html": [
       "<div>\n",
       "<style scoped>\n",
       "    .dataframe tbody tr th:only-of-type {\n",
       "        vertical-align: middle;\n",
       "    }\n",
       "\n",
       "    .dataframe tbody tr th {\n",
       "        vertical-align: top;\n",
       "    }\n",
       "\n",
       "    .dataframe thead th {\n",
       "        text-align: right;\n",
       "    }\n",
       "</style>\n",
       "<table border=\"1\" class=\"dataframe\">\n",
       "  <thead>\n",
       "    <tr style=\"text-align: right;\">\n",
       "      <th></th>\n",
       "      <th>Year</th>\n",
       "      <th>month</th>\n",
       "      <th>index</th>\n",
       "      <th>first_col</th>\n",
       "      <th>second_col</th>\n",
       "      <th>third_col</th>\n",
       "    </tr>\n",
       "  </thead>\n",
       "  <tbody>\n",
       "    <tr>\n",
       "      <th>0</th>\n",
       "      <td>2018</td>\n",
       "      <td>04</td>\n",
       "      <td>seoul</td>\n",
       "      <td>4.0</td>\n",
       "      <td>NaN</td>\n",
       "      <td>10</td>\n",
       "    </tr>\n",
       "    <tr>\n",
       "      <th>1</th>\n",
       "      <td>2018</td>\n",
       "      <td>04</td>\n",
       "      <td>dajun</td>\n",
       "      <td>7.0</td>\n",
       "      <td>NaN</td>\n",
       "      <td>9</td>\n",
       "    </tr>\n",
       "    <tr>\n",
       "      <th>2</th>\n",
       "      <td>2018</td>\n",
       "      <td>04</td>\n",
       "      <td>daegu</td>\n",
       "      <td>-5.0</td>\n",
       "      <td>7.0</td>\n",
       "      <td>8</td>\n",
       "    </tr>\n",
       "    <tr>\n",
       "      <th>3</th>\n",
       "      <td>2018</td>\n",
       "      <td>04</td>\n",
       "      <td>busan</td>\n",
       "      <td>3.0</td>\n",
       "      <td>NaN</td>\n",
       "      <td>7</td>\n",
       "    </tr>\n",
       "    <tr>\n",
       "      <th>4</th>\n",
       "      <td>2018</td>\n",
       "      <td>04</td>\n",
       "      <td>Jeju</td>\n",
       "      <td>NaN</td>\n",
       "      <td>-4.0</td>\n",
       "      <td>6</td>\n",
       "    </tr>\n",
       "    <tr>\n",
       "      <th>5</th>\n",
       "      <td>2018</td>\n",
       "      <td>04</td>\n",
       "      <td>2</td>\n",
       "      <td>NaN</td>\n",
       "      <td>3.0</td>\n",
       "      <td>5</td>\n",
       "    </tr>\n",
       "    <tr>\n",
       "      <th>6</th>\n",
       "      <td>2018</td>\n",
       "      <td>04</td>\n",
       "      <td>3</td>\n",
       "      <td>NaN</td>\n",
       "      <td>-5.0</td>\n",
       "      <td>7</td>\n",
       "    </tr>\n",
       "  </tbody>\n",
       "</table>\n",
       "</div>"
      ],
      "text/plain": [
       "   Year month  index  first_col  second_col  third_col\n",
       "0  2018    04  seoul        4.0         NaN         10\n",
       "1  2018    04  dajun        7.0         NaN          9\n",
       "2  2018    04  daegu       -5.0         7.0          8\n",
       "3  2018    04  busan        3.0         NaN          7\n",
       "4  2018    04   Jeju        NaN        -4.0          6\n",
       "5  2018    04      2        NaN         3.0          5\n",
       "6  2018    04      3        NaN        -5.0          7"
      ]
     },
     "execution_count": 36,
     "metadata": {},
     "output_type": "execute_result"
    }
   ],
   "source": [
    "# column 생성2\n",
    "# 동일한 객체로 column 채우며 생성\n",
    "df.insert(1,'month', '04')\n",
    "df"
   ]
  },
  {
   "cell_type": "markdown",
   "metadata": {},
   "source": [
    "<br>\n",
    "### **04 Sorting**\n",
    "데이터 정렬하기"
   ]
  },
  {
   "cell_type": "code",
   "execution_count": 37,
   "metadata": {},
   "outputs": [
    {
     "data": {
      "text/html": [
       "<div>\n",
       "<style scoped>\n",
       "    .dataframe tbody tr th:only-of-type {\n",
       "        vertical-align: middle;\n",
       "    }\n",
       "\n",
       "    .dataframe tbody tr th {\n",
       "        vertical-align: top;\n",
       "    }\n",
       "\n",
       "    .dataframe thead th {\n",
       "        text-align: right;\n",
       "    }\n",
       "</style>\n",
       "<table border=\"1\" class=\"dataframe\">\n",
       "  <thead>\n",
       "    <tr style=\"text-align: right;\">\n",
       "      <th></th>\n",
       "      <th>Year</th>\n",
       "      <th>month</th>\n",
       "      <th>index</th>\n",
       "      <th>first_col</th>\n",
       "      <th>second_col</th>\n",
       "      <th>third_col</th>\n",
       "    </tr>\n",
       "  </thead>\n",
       "  <tbody>\n",
       "    <tr>\n",
       "      <th>6</th>\n",
       "      <td>2018</td>\n",
       "      <td>04</td>\n",
       "      <td>3</td>\n",
       "      <td>NaN</td>\n",
       "      <td>-5.0</td>\n",
       "      <td>7</td>\n",
       "    </tr>\n",
       "    <tr>\n",
       "      <th>5</th>\n",
       "      <td>2018</td>\n",
       "      <td>04</td>\n",
       "      <td>2</td>\n",
       "      <td>NaN</td>\n",
       "      <td>3.0</td>\n",
       "      <td>5</td>\n",
       "    </tr>\n",
       "    <tr>\n",
       "      <th>4</th>\n",
       "      <td>2018</td>\n",
       "      <td>04</td>\n",
       "      <td>Jeju</td>\n",
       "      <td>NaN</td>\n",
       "      <td>-4.0</td>\n",
       "      <td>6</td>\n",
       "    </tr>\n",
       "    <tr>\n",
       "      <th>3</th>\n",
       "      <td>2018</td>\n",
       "      <td>04</td>\n",
       "      <td>busan</td>\n",
       "      <td>3.0</td>\n",
       "      <td>NaN</td>\n",
       "      <td>7</td>\n",
       "    </tr>\n",
       "    <tr>\n",
       "      <th>2</th>\n",
       "      <td>2018</td>\n",
       "      <td>04</td>\n",
       "      <td>daegu</td>\n",
       "      <td>-5.0</td>\n",
       "      <td>7.0</td>\n",
       "      <td>8</td>\n",
       "    </tr>\n",
       "    <tr>\n",
       "      <th>1</th>\n",
       "      <td>2018</td>\n",
       "      <td>04</td>\n",
       "      <td>dajun</td>\n",
       "      <td>7.0</td>\n",
       "      <td>NaN</td>\n",
       "      <td>9</td>\n",
       "    </tr>\n",
       "    <tr>\n",
       "      <th>0</th>\n",
       "      <td>2018</td>\n",
       "      <td>04</td>\n",
       "      <td>seoul</td>\n",
       "      <td>4.0</td>\n",
       "      <td>NaN</td>\n",
       "      <td>10</td>\n",
       "    </tr>\n",
       "  </tbody>\n",
       "</table>\n",
       "</div>"
      ],
      "text/plain": [
       "   Year month  index  first_col  second_col  third_col\n",
       "6  2018    04      3        NaN        -5.0          7\n",
       "5  2018    04      2        NaN         3.0          5\n",
       "4  2018    04   Jeju        NaN        -4.0          6\n",
       "3  2018    04  busan        3.0         NaN          7\n",
       "2  2018    04  daegu       -5.0         7.0          8\n",
       "1  2018    04  dajun        7.0         NaN          9\n",
       "0  2018    04  seoul        4.0         NaN         10"
      ]
     },
     "execution_count": 37,
     "metadata": {},
     "output_type": "execute_result"
    }
   ],
   "source": [
    "# .sort_index( axis =  )  # 인덱스를 기준으로 정렬\n",
    "# axis = 0 : index\n",
    "# axis = 1 : column\n",
    "df.sort_index(axis = 0, ascending=False)"
   ]
  },
  {
   "cell_type": "code",
   "execution_count": 38,
   "metadata": {},
   "outputs": [
    {
     "data": {
      "text/html": [
       "<div>\n",
       "<style scoped>\n",
       "    .dataframe tbody tr th:only-of-type {\n",
       "        vertical-align: middle;\n",
       "    }\n",
       "\n",
       "    .dataframe tbody tr th {\n",
       "        vertical-align: top;\n",
       "    }\n",
       "\n",
       "    .dataframe thead th {\n",
       "        text-align: right;\n",
       "    }\n",
       "</style>\n",
       "<table border=\"1\" class=\"dataframe\">\n",
       "  <thead>\n",
       "    <tr style=\"text-align: right;\">\n",
       "      <th></th>\n",
       "      <th>Year</th>\n",
       "      <th>month</th>\n",
       "      <th>index</th>\n",
       "      <th>first_col</th>\n",
       "      <th>second_col</th>\n",
       "      <th>third_col</th>\n",
       "    </tr>\n",
       "  </thead>\n",
       "  <tbody>\n",
       "    <tr>\n",
       "      <th>5</th>\n",
       "      <td>2018</td>\n",
       "      <td>04</td>\n",
       "      <td>2</td>\n",
       "      <td>NaN</td>\n",
       "      <td>3.0</td>\n",
       "      <td>5</td>\n",
       "    </tr>\n",
       "    <tr>\n",
       "      <th>4</th>\n",
       "      <td>2018</td>\n",
       "      <td>04</td>\n",
       "      <td>Jeju</td>\n",
       "      <td>NaN</td>\n",
       "      <td>-4.0</td>\n",
       "      <td>6</td>\n",
       "    </tr>\n",
       "    <tr>\n",
       "      <th>3</th>\n",
       "      <td>2018</td>\n",
       "      <td>04</td>\n",
       "      <td>busan</td>\n",
       "      <td>3.0</td>\n",
       "      <td>NaN</td>\n",
       "      <td>7</td>\n",
       "    </tr>\n",
       "    <tr>\n",
       "      <th>6</th>\n",
       "      <td>2018</td>\n",
       "      <td>04</td>\n",
       "      <td>3</td>\n",
       "      <td>NaN</td>\n",
       "      <td>-5.0</td>\n",
       "      <td>7</td>\n",
       "    </tr>\n",
       "    <tr>\n",
       "      <th>2</th>\n",
       "      <td>2018</td>\n",
       "      <td>04</td>\n",
       "      <td>daegu</td>\n",
       "      <td>-5.0</td>\n",
       "      <td>7.0</td>\n",
       "      <td>8</td>\n",
       "    </tr>\n",
       "    <tr>\n",
       "      <th>1</th>\n",
       "      <td>2018</td>\n",
       "      <td>04</td>\n",
       "      <td>dajun</td>\n",
       "      <td>7.0</td>\n",
       "      <td>NaN</td>\n",
       "      <td>9</td>\n",
       "    </tr>\n",
       "    <tr>\n",
       "      <th>0</th>\n",
       "      <td>2018</td>\n",
       "      <td>04</td>\n",
       "      <td>seoul</td>\n",
       "      <td>4.0</td>\n",
       "      <td>NaN</td>\n",
       "      <td>10</td>\n",
       "    </tr>\n",
       "  </tbody>\n",
       "</table>\n",
       "</div>"
      ],
      "text/plain": [
       "   Year month  index  first_col  second_col  third_col\n",
       "5  2018    04      2        NaN         3.0          5\n",
       "4  2018    04   Jeju        NaN        -4.0          6\n",
       "3  2018    04  busan        3.0         NaN          7\n",
       "6  2018    04      3        NaN        -5.0          7\n",
       "2  2018    04  daegu       -5.0         7.0          8\n",
       "1  2018    04  dajun        7.0         NaN          9\n",
       "0  2018    04  seoul        4.0         NaN         10"
      ]
     },
     "execution_count": 38,
     "metadata": {},
     "output_type": "execute_result"
    }
   ],
   "source": [
    "# .sort_values( by = '컬럼명')\n",
    "# 특정 컬럼의 데이터를 정렬\n",
    "df.sort_values(by='third_col')"
   ]
  },
  {
   "cell_type": "markdown",
   "metadata": {},
   "source": [
    "<br>\n",
    "### **05 Series 를 활용한 시계열 데이터 다루기**\n",
    "1. pd.date_range(시작일, 종료일) : 시계열 데이터\n",
    "1. .date : 날짜만 추출\n",
    "1. https://stackoverflow.com/questions/25478773/creating-a-list-with-data-from-a-dataframe-index-in-python"
   ]
  },
  {
   "cell_type": "code",
   "execution_count": 39,
   "metadata": {},
   "outputs": [
    {
     "data": {
      "text/plain": [
       "DatetimeIndex(['2017-07-01', '2017-07-02', '2017-07-03', '2017-07-04',\n",
       "               '2017-07-05', '2017-07-06', '2017-07-07'],\n",
       "              dtype='datetime64[ns]', freq='D')"
      ]
     },
     "execution_count": 39,
     "metadata": {},
     "output_type": "execute_result"
    }
   ],
   "source": [
    "import pandas as pd\n",
    "date_list = pd.date_range('2017-7-1','2017-7-7')\n",
    "date_list"
   ]
  },
  {
   "cell_type": "code",
   "execution_count": 40,
   "metadata": {},
   "outputs": [
    {
     "data": {
      "text/plain": [
       "['2017-07-01 00:00:00',\n",
       " '2017-07-02 00:00:00',\n",
       " '2017-07-03 00:00:00',\n",
       " '2017-07-04 00:00:00',\n",
       " '2017-07-05 00:00:00',\n",
       " '2017-07-06 00:00:00',\n",
       " '2017-07-07 00:00:00']"
      ]
     },
     "execution_count": 40,
     "metadata": {},
     "output_type": "execute_result"
    }
   ],
   "source": [
    "[ str(date)  for date in date_list ]"
   ]
  },
  {
   "cell_type": "code",
   "execution_count": 41,
   "metadata": {},
   "outputs": [
    {
     "data": {
      "text/plain": [
       "[datetime.date(2017, 7, 1),\n",
       " datetime.date(2017, 7, 2),\n",
       " datetime.date(2017, 7, 3),\n",
       " datetime.date(2017, 7, 4),\n",
       " datetime.date(2017, 7, 5),\n",
       " datetime.date(2017, 7, 6),\n",
       " datetime.date(2017, 7, 7)]"
      ]
     },
     "execution_count": 41,
     "metadata": {},
     "output_type": "execute_result"
    }
   ],
   "source": [
    "[ ts.date() for ts in date_list ]  # a list of datetime.date's"
   ]
  },
  {
   "cell_type": "code",
   "execution_count": 42,
   "metadata": {},
   "outputs": [
    {
     "data": {
      "text/plain": [
       "['2017-07-01',\n",
       " '2017-07-02',\n",
       " '2017-07-03',\n",
       " '2017-07-04',\n",
       " '2017-07-05',\n",
       " '2017-07-06',\n",
       " '2017-07-07']"
      ]
     },
     "execution_count": 42,
     "metadata": {},
     "output_type": "execute_result"
    }
   ],
   "source": [
    "date_list = [ str(ts.date()) for ts in date_list ]  # a list of datetime.date's\n",
    "date_list"
   ]
  },
  {
   "cell_type": "code",
   "execution_count": 43,
   "metadata": {},
   "outputs": [
    {
     "data": {
      "text/html": [
       "<div>\n",
       "<style scoped>\n",
       "    .dataframe tbody tr th:only-of-type {\n",
       "        vertical-align: middle;\n",
       "    }\n",
       "\n",
       "    .dataframe tbody tr th {\n",
       "        vertical-align: top;\n",
       "    }\n",
       "\n",
       "    .dataframe thead th {\n",
       "        text-align: right;\n",
       "    }\n",
       "</style>\n",
       "<table border=\"1\" class=\"dataframe\">\n",
       "  <thead>\n",
       "    <tr style=\"text-align: right;\">\n",
       "      <th></th>\n",
       "      <th>Date</th>\n",
       "      <th>Year</th>\n",
       "      <th>month</th>\n",
       "      <th>index</th>\n",
       "      <th>first_col</th>\n",
       "      <th>second_col</th>\n",
       "      <th>third_col</th>\n",
       "    </tr>\n",
       "  </thead>\n",
       "  <tbody>\n",
       "    <tr>\n",
       "      <th>0</th>\n",
       "      <td>2017-07-01</td>\n",
       "      <td>2018</td>\n",
       "      <td>04</td>\n",
       "      <td>seoul</td>\n",
       "      <td>4.0</td>\n",
       "      <td>NaN</td>\n",
       "      <td>10</td>\n",
       "    </tr>\n",
       "    <tr>\n",
       "      <th>1</th>\n",
       "      <td>2017-07-02</td>\n",
       "      <td>2018</td>\n",
       "      <td>04</td>\n",
       "      <td>dajun</td>\n",
       "      <td>7.0</td>\n",
       "      <td>NaN</td>\n",
       "      <td>9</td>\n",
       "    </tr>\n",
       "    <tr>\n",
       "      <th>2</th>\n",
       "      <td>2017-07-03</td>\n",
       "      <td>2018</td>\n",
       "      <td>04</td>\n",
       "      <td>daegu</td>\n",
       "      <td>-5.0</td>\n",
       "      <td>7.0</td>\n",
       "      <td>8</td>\n",
       "    </tr>\n",
       "    <tr>\n",
       "      <th>3</th>\n",
       "      <td>2017-07-04</td>\n",
       "      <td>2018</td>\n",
       "      <td>04</td>\n",
       "      <td>busan</td>\n",
       "      <td>3.0</td>\n",
       "      <td>NaN</td>\n",
       "      <td>7</td>\n",
       "    </tr>\n",
       "    <tr>\n",
       "      <th>4</th>\n",
       "      <td>2017-07-05</td>\n",
       "      <td>2018</td>\n",
       "      <td>04</td>\n",
       "      <td>Jeju</td>\n",
       "      <td>NaN</td>\n",
       "      <td>-4.0</td>\n",
       "      <td>6</td>\n",
       "    </tr>\n",
       "    <tr>\n",
       "      <th>5</th>\n",
       "      <td>2017-07-06</td>\n",
       "      <td>2018</td>\n",
       "      <td>04</td>\n",
       "      <td>2</td>\n",
       "      <td>NaN</td>\n",
       "      <td>3.0</td>\n",
       "      <td>5</td>\n",
       "    </tr>\n",
       "    <tr>\n",
       "      <th>6</th>\n",
       "      <td>2017-07-07</td>\n",
       "      <td>2018</td>\n",
       "      <td>04</td>\n",
       "      <td>3</td>\n",
       "      <td>NaN</td>\n",
       "      <td>-5.0</td>\n",
       "      <td>7</td>\n",
       "    </tr>\n",
       "  </tbody>\n",
       "</table>\n",
       "</div>"
      ],
      "text/plain": [
       "         Date  Year month  index  first_col  second_col  third_col\n",
       "0  2017-07-01  2018    04  seoul        4.0         NaN         10\n",
       "1  2017-07-02  2018    04  dajun        7.0         NaN          9\n",
       "2  2017-07-03  2018    04  daegu       -5.0         7.0          8\n",
       "3  2017-07-04  2018    04  busan        3.0         NaN          7\n",
       "4  2017-07-05  2018    04   Jeju        NaN        -4.0          6\n",
       "5  2017-07-06  2018    04      2        NaN         3.0          5\n",
       "6  2017-07-07  2018    04      3        NaN        -5.0          7"
      ]
     },
     "execution_count": 43,
     "metadata": {},
     "output_type": "execute_result"
    }
   ],
   "source": [
    "# [ list ] 객체로 column을 채우며 생성\n",
    "# 단 '자료의 길이' 가 동일해야 한다 (아니면 오류가 발생!!!)\n",
    "df.insert(0,'Date',date_list)\n",
    "df"
   ]
  },
  {
   "cell_type": "markdown",
   "metadata": {},
   "source": [
    "#### Quiz\n",
    "    아래 테이블에서 'Today' 란 컬럼에 '오늘의 날짜'를 입력하는 테이블로 수정하시요"
   ]
  },
  {
   "cell_type": "code",
   "execution_count": 44,
   "metadata": {},
   "outputs": [
    {
     "data": {
      "text/html": [
       "<div>\n",
       "<style scoped>\n",
       "    .dataframe tbody tr th:only-of-type {\n",
       "        vertical-align: middle;\n",
       "    }\n",
       "\n",
       "    .dataframe tbody tr th {\n",
       "        vertical-align: top;\n",
       "    }\n",
       "\n",
       "    .dataframe thead th {\n",
       "        text-align: right;\n",
       "    }\n",
       "</style>\n",
       "<table border=\"1\" class=\"dataframe\">\n",
       "  <thead>\n",
       "    <tr style=\"text-align: right;\">\n",
       "      <th></th>\n",
       "      <th>Answer</th>\n",
       "      <th>Data</th>\n",
       "      <th>Qusetion</th>\n",
       "    </tr>\n",
       "  </thead>\n",
       "  <tbody>\n",
       "    <tr>\n",
       "      <th>0</th>\n",
       "      <td>X</td>\n",
       "      <td>1</td>\n",
       "      <td>A</td>\n",
       "    </tr>\n",
       "    <tr>\n",
       "      <th>1</th>\n",
       "      <td>Y</td>\n",
       "      <td>2</td>\n",
       "      <td>B</td>\n",
       "    </tr>\n",
       "    <tr>\n",
       "      <th>2</th>\n",
       "      <td>Z</td>\n",
       "      <td>3</td>\n",
       "      <td>C</td>\n",
       "    </tr>\n",
       "    <tr>\n",
       "      <th>3</th>\n",
       "      <td>Q</td>\n",
       "      <td>4</td>\n",
       "      <td>D</td>\n",
       "    </tr>\n",
       "    <tr>\n",
       "      <th>4</th>\n",
       "      <td>P</td>\n",
       "      <td>5</td>\n",
       "      <td>E</td>\n",
       "    </tr>\n",
       "  </tbody>\n",
       "</table>\n",
       "</div>"
      ],
      "text/plain": [
       "  Answer  Data Qusetion\n",
       "0      X     1        A\n",
       "1      Y     2        B\n",
       "2      Z     3        C\n",
       "3      Q     4        D\n",
       "4      P     5        E"
      ]
     },
     "execution_count": 44,
     "metadata": {},
     "output_type": "execute_result"
    }
   ],
   "source": [
    "pd.DataFrame({'Data':[1,2,3,4,5],\n",
    "             'Qusetion':['A','B','C','D','E'],\n",
    "             'Answer':['X', 'Y', 'Z','Q','P']})"
   ]
  },
  {
   "cell_type": "markdown",
   "metadata": {
    "collapsed": true
   },
   "source": [
    "<br>\n",
    "## **4 Numpy  &nbsp; with &nbsp; pandas Series & DataFrame**\n",
    "DataFrame 데이터 생성 및 가공하기 : Data & Datum 가공하기 개념들 복/붙\n",
    "1. Slicing\n",
    "1. Indexing\n",
    "1. Sort()\n",
    "\n",
    "<br>\n",
    "### **01 ndarray : 다차원 array**"
   ]
  },
  {
   "cell_type": "code",
   "execution_count": 45,
   "metadata": {},
   "outputs": [
    {
     "data": {
      "text/plain": [
       "<matplotlib.axes._subplots.AxesSubplot at 0xac558790>"
      ]
     },
     "execution_count": 45,
     "metadata": {},
     "output_type": "execute_result"
    },
    {
     "data": {
      "image/png": "[encoded data removed]",
      "text/plain": [
       "<Figure size 432x288 with 1 Axes>"
      ]
     },
     "metadata": {},
     "output_type": "display_data"
    }
   ],
   "source": [
    "# 1차원 데이터 생성하기 : 난수의 활용\n",
    "import pandas as pd\n",
    "import numpy as np\n",
    "\n",
    "data = np.random.rand(9)  # 0 ~ 1 정규분포 난수 추출하기\n",
    "data = pd.Series(data)\n",
    "data.plot()"
   ]
  },
  {
   "cell_type": "code",
   "execution_count": 46,
   "metadata": {
    "scrolled": true
   },
   "outputs": [
    {
     "name": "stdout",
     "output_type": "stream",
     "text": [
      "<class 'numpy.ndarray'> \n",
      " [[0.32283216 0.06631688 0.66390982 0.78264358 0.97592987]\n",
      " [0.79039967 0.37218454 0.60983208 0.3341962  0.7744094 ]\n",
      " [0.50552548 0.90709231 0.59352017 0.89127062 0.30831324]\n",
      " [0.21051488 0.29164449 0.93623924 0.41933112 0.62674445]\n",
      " [0.52999448 0.27390042 0.51287199 0.93908673 0.23196836]\n",
      " [0.4168567  0.37735825 0.83894292 0.07894747 0.76254729]]\n"
     ]
    }
   ],
   "source": [
    "# 다차원 Matrix를 생성\n",
    "ndarray_data = np.random.rand(30).reshape(6,5)\n",
    "print(type(ndarray_data), '\\n', ndarray_data)"
   ]
  },
  {
   "cell_type": "code",
   "execution_count": 47,
   "metadata": {},
   "outputs": [
    {
     "data": {
      "text/html": [
       "<div>\n",
       "<style scoped>\n",
       "    .dataframe tbody tr th:only-of-type {\n",
       "        vertical-align: middle;\n",
       "    }\n",
       "\n",
       "    .dataframe tbody tr th {\n",
       "        vertical-align: top;\n",
       "    }\n",
       "\n",
       "    .dataframe thead th {\n",
       "        text-align: right;\n",
       "    }\n",
       "</style>\n",
       "<table border=\"1\" class=\"dataframe\">\n",
       "  <thead>\n",
       "    <tr style=\"text-align: right;\">\n",
       "      <th></th>\n",
       "      <th>Kospi</th>\n",
       "      <th>Kosdq</th>\n",
       "      <th>MSFT</th>\n",
       "      <th>Nasdaq</th>\n",
       "      <th>China</th>\n",
       "    </tr>\n",
       "  </thead>\n",
       "  <tbody>\n",
       "    <tr>\n",
       "      <th>2012</th>\n",
       "      <td>0.322832</td>\n",
       "      <td>0.066317</td>\n",
       "      <td>0.663910</td>\n",
       "      <td>0.782644</td>\n",
       "      <td>0.975930</td>\n",
       "    </tr>\n",
       "    <tr>\n",
       "      <th>2013</th>\n",
       "      <td>0.790400</td>\n",
       "      <td>0.372185</td>\n",
       "      <td>0.609832</td>\n",
       "      <td>0.334196</td>\n",
       "      <td>0.774409</td>\n",
       "    </tr>\n",
       "    <tr>\n",
       "      <th>2014</th>\n",
       "      <td>0.505525</td>\n",
       "      <td>0.907092</td>\n",
       "      <td>0.593520</td>\n",
       "      <td>0.891271</td>\n",
       "      <td>0.308313</td>\n",
       "    </tr>\n",
       "    <tr>\n",
       "      <th>2015</th>\n",
       "      <td>0.210515</td>\n",
       "      <td>0.291644</td>\n",
       "      <td>0.936239</td>\n",
       "      <td>0.419331</td>\n",
       "      <td>0.626744</td>\n",
       "    </tr>\n",
       "    <tr>\n",
       "      <th>2016</th>\n",
       "      <td>0.529994</td>\n",
       "      <td>0.273900</td>\n",
       "      <td>0.512872</td>\n",
       "      <td>0.939087</td>\n",
       "      <td>0.231968</td>\n",
       "    </tr>\n",
       "    <tr>\n",
       "      <th>2017</th>\n",
       "      <td>0.416857</td>\n",
       "      <td>0.377358</td>\n",
       "      <td>0.838943</td>\n",
       "      <td>0.078947</td>\n",
       "      <td>0.762547</td>\n",
       "    </tr>\n",
       "  </tbody>\n",
       "</table>\n",
       "</div>"
      ],
      "text/plain": [
       "         Kospi     Kosdq      MSFT    Nasdaq     China\n",
       "2012  0.322832  0.066317  0.663910  0.782644  0.975930\n",
       "2013  0.790400  0.372185  0.609832  0.334196  0.774409\n",
       "2014  0.505525  0.907092  0.593520  0.891271  0.308313\n",
       "2015  0.210515  0.291644  0.936239  0.419331  0.626744\n",
       "2016  0.529994  0.273900  0.512872  0.939087  0.231968\n",
       "2017  0.416857  0.377358  0.838943  0.078947  0.762547"
      ]
     },
     "execution_count": 47,
     "metadata": {},
     "output_type": "execute_result"
    }
   ],
   "source": [
    "df = pd.DataFrame(ndarray_data,\n",
    "             columns=['Kospi','Kosdq','MSFT','Nasdaq','China'],\n",
    "             index = ['2012','2013','2014','2015','2016','2017'])\n",
    "df"
   ]
  },
  {
   "cell_type": "code",
   "execution_count": 48,
   "metadata": {},
   "outputs": [
    {
     "data": {
      "text/plain": [
       "Index(['Kospi', 'Kosdq', 'MSFT', 'Nasdaq', 'China'], dtype='object')"
      ]
     },
     "execution_count": 48,
     "metadata": {},
     "output_type": "execute_result"
    }
   ],
   "source": [
    "df.columns"
   ]
  },
  {
   "cell_type": "code",
   "execution_count": 49,
   "metadata": {},
   "outputs": [
    {
     "data": {
      "text/plain": [
       "['Kospi', 'Kosdq', 'MSFT', 'Nasdaq', 'China']"
      ]
     },
     "execution_count": 49,
     "metadata": {},
     "output_type": "execute_result"
    }
   ],
   "source": [
    "df.columns.tolist()"
   ]
  },
  {
   "cell_type": "code",
   "execution_count": 50,
   "metadata": {},
   "outputs": [
    {
     "data": {
      "text/plain": [
       "Index(['2012', '2013', '2014', '2015', '2016', '2017'], dtype='object')"
      ]
     },
     "execution_count": 50,
     "metadata": {},
     "output_type": "execute_result"
    }
   ],
   "source": [
    "df.index"
   ]
  },
  {
   "cell_type": "code",
   "execution_count": 51,
   "metadata": {},
   "outputs": [
    {
     "data": {
      "text/plain": [
       "['2012', '2013', '2014', '2015', '2016', '2017']"
      ]
     },
     "execution_count": 51,
     "metadata": {},
     "output_type": "execute_result"
    }
   ],
   "source": [
    "df.index.tolist()"
   ]
  },
  {
   "cell_type": "markdown",
   "metadata": {},
   "source": [
    "<br>\n",
    "### **02 DataFrame 의 컬럼 데이터 인덱싱**\n",
    "DataFrame ==> **Series**"
   ]
  },
  {
   "cell_type": "code",
   "execution_count": 52,
   "metadata": {},
   "outputs": [
    {
     "data": {
      "text/plain": [
       "2012    0.066317\n",
       "2013    0.372185\n",
       "2014    0.907092\n",
       "2015    0.291644\n",
       "2016    0.273900\n",
       "2017    0.377358\n",
       "Name: Kosdq, dtype: float64"
      ]
     },
     "execution_count": 52,
     "metadata": {},
     "output_type": "execute_result"
    }
   ],
   "source": [
    "# DataFrame 에서 Column이 가장 중요\n",
    "# df 의 메서드(함수) 로 '컬럼이름'을 사용가능\n",
    "df.Kosdq"
   ]
  },
  {
   "cell_type": "code",
   "execution_count": 53,
   "metadata": {},
   "outputs": [
    {
     "data": {
      "text/plain": [
       "2012    0.322832\n",
       "2013    0.790400\n",
       "2014    0.505525\n",
       "2015    0.210515\n",
       "2016    0.529994\n",
       "2017    0.416857\n",
       "Name: Kospi, dtype: float64"
      ]
     },
     "execution_count": 53,
     "metadata": {},
     "output_type": "execute_result"
    }
   ],
   "source": [
    "# df[ 컬럼명 ] 해당 column 의 자료를 출력\n",
    "df['Kospi']"
   ]
  },
  {
   "cell_type": "markdown",
   "metadata": {},
   "source": [
    "<br>\n",
    "### **03 DataFrame 의 Row 데이터 인덱싱**\n",
    "DataFrame 부분 편집하기"
   ]
  },
  {
   "cell_type": "code",
   "execution_count": 54,
   "metadata": {},
   "outputs": [
    {
     "data": {
      "text/html": [
       "<div>\n",
       "<style scoped>\n",
       "    .dataframe tbody tr th:only-of-type {\n",
       "        vertical-align: middle;\n",
       "    }\n",
       "\n",
       "    .dataframe tbody tr th {\n",
       "        vertical-align: top;\n",
       "    }\n",
       "\n",
       "    .dataframe thead th {\n",
       "        text-align: right;\n",
       "    }\n",
       "</style>\n",
       "<table border=\"1\" class=\"dataframe\">\n",
       "  <thead>\n",
       "    <tr style=\"text-align: right;\">\n",
       "      <th></th>\n",
       "      <th>Kospi</th>\n",
       "      <th>Kosdq</th>\n",
       "      <th>MSFT</th>\n",
       "      <th>Nasdaq</th>\n",
       "      <th>China</th>\n",
       "    </tr>\n",
       "  </thead>\n",
       "  <tbody>\n",
       "    <tr>\n",
       "      <th>2012</th>\n",
       "      <td>0.322832</td>\n",
       "      <td>0.066317</td>\n",
       "      <td>0.663910</td>\n",
       "      <td>0.782644</td>\n",
       "      <td>0.975930</td>\n",
       "    </tr>\n",
       "    <tr>\n",
       "      <th>2013</th>\n",
       "      <td>0.790400</td>\n",
       "      <td>0.372185</td>\n",
       "      <td>0.609832</td>\n",
       "      <td>0.334196</td>\n",
       "      <td>0.774409</td>\n",
       "    </tr>\n",
       "    <tr>\n",
       "      <th>2014</th>\n",
       "      <td>0.505525</td>\n",
       "      <td>0.907092</td>\n",
       "      <td>0.593520</td>\n",
       "      <td>0.891271</td>\n",
       "      <td>0.308313</td>\n",
       "    </tr>\n",
       "  </tbody>\n",
       "</table>\n",
       "</div>"
      ],
      "text/plain": [
       "         Kospi     Kosdq      MSFT    Nasdaq     China\n",
       "2012  0.322832  0.066317  0.663910  0.782644  0.975930\n",
       "2013  0.790400  0.372185  0.609832  0.334196  0.774409\n",
       "2014  0.505525  0.907092  0.593520  0.891271  0.308313"
      ]
     },
     "execution_count": 54,
     "metadata": {},
     "output_type": "execute_result"
    }
   ],
   "source": [
    "# df[ :slicing] 은 index 만 영향 \n",
    "# slicing - string 의 문법들이 그대로 적용\n",
    "df[:3]"
   ]
  },
  {
   "cell_type": "markdown",
   "metadata": {},
   "source": [
    "<br>\n",
    "### **04 DataFrame 의 [Row : column]  데이터 인덱싱**\n",
    "1. .loc[ row : column ] : 인덱스 이름을 사용\n",
    "1. .iloc[ row : column ] : 인덱스 주소값 0~ 숫자만 가능"
   ]
  },
  {
   "cell_type": "code",
   "execution_count": 55,
   "metadata": {},
   "outputs": [
    {
     "data": {
      "text/html": [
       "<div>\n",
       "<style scoped>\n",
       "    .dataframe tbody tr th:only-of-type {\n",
       "        vertical-align: middle;\n",
       "    }\n",
       "\n",
       "    .dataframe tbody tr th {\n",
       "        vertical-align: top;\n",
       "    }\n",
       "\n",
       "    .dataframe thead th {\n",
       "        text-align: right;\n",
       "    }\n",
       "</style>\n",
       "<table border=\"1\" class=\"dataframe\">\n",
       "  <thead>\n",
       "    <tr style=\"text-align: right;\">\n",
       "      <th></th>\n",
       "      <th>Kospi</th>\n",
       "      <th>Kosdq</th>\n",
       "      <th>MSFT</th>\n",
       "      <th>Nasdaq</th>\n",
       "      <th>China</th>\n",
       "    </tr>\n",
       "  </thead>\n",
       "  <tbody>\n",
       "    <tr>\n",
       "      <th>2012</th>\n",
       "      <td>0.322832</td>\n",
       "      <td>0.066317</td>\n",
       "      <td>0.663910</td>\n",
       "      <td>0.782644</td>\n",
       "      <td>0.975930</td>\n",
       "    </tr>\n",
       "    <tr>\n",
       "      <th>2013</th>\n",
       "      <td>0.790400</td>\n",
       "      <td>0.372185</td>\n",
       "      <td>0.609832</td>\n",
       "      <td>0.334196</td>\n",
       "      <td>0.774409</td>\n",
       "    </tr>\n",
       "    <tr>\n",
       "      <th>2014</th>\n",
       "      <td>0.505525</td>\n",
       "      <td>0.907092</td>\n",
       "      <td>0.593520</td>\n",
       "      <td>0.891271</td>\n",
       "      <td>0.308313</td>\n",
       "    </tr>\n",
       "    <tr>\n",
       "      <th>2015</th>\n",
       "      <td>0.210515</td>\n",
       "      <td>0.291644</td>\n",
       "      <td>0.936239</td>\n",
       "      <td>0.419331</td>\n",
       "      <td>0.626744</td>\n",
       "    </tr>\n",
       "    <tr>\n",
       "      <th>2016</th>\n",
       "      <td>0.529994</td>\n",
       "      <td>0.273900</td>\n",
       "      <td>0.512872</td>\n",
       "      <td>0.939087</td>\n",
       "      <td>0.231968</td>\n",
       "    </tr>\n",
       "    <tr>\n",
       "      <th>2017</th>\n",
       "      <td>0.416857</td>\n",
       "      <td>0.377358</td>\n",
       "      <td>0.838943</td>\n",
       "      <td>0.078947</td>\n",
       "      <td>0.762547</td>\n",
       "    </tr>\n",
       "  </tbody>\n",
       "</table>\n",
       "</div>"
      ],
      "text/plain": [
       "         Kospi     Kosdq      MSFT    Nasdaq     China\n",
       "2012  0.322832  0.066317  0.663910  0.782644  0.975930\n",
       "2013  0.790400  0.372185  0.609832  0.334196  0.774409\n",
       "2014  0.505525  0.907092  0.593520  0.891271  0.308313\n",
       "2015  0.210515  0.291644  0.936239  0.419331  0.626744\n",
       "2016  0.529994  0.273900  0.512872  0.939087  0.231968\n",
       "2017  0.416857  0.377358  0.838943  0.078947  0.762547"
      ]
     },
     "execution_count": 55,
     "metadata": {},
     "output_type": "execute_result"
    }
   ],
   "source": [
    "# Index LOCation \n",
    "df.iloc[ : , : ]"
   ]
  },
  {
   "cell_type": "code",
   "execution_count": 56,
   "metadata": {},
   "outputs": [
    {
     "data": {
      "text/html": [
       "<div>\n",
       "<style scoped>\n",
       "    .dataframe tbody tr th:only-of-type {\n",
       "        vertical-align: middle;\n",
       "    }\n",
       "\n",
       "    .dataframe tbody tr th {\n",
       "        vertical-align: top;\n",
       "    }\n",
       "\n",
       "    .dataframe thead th {\n",
       "        text-align: right;\n",
       "    }\n",
       "</style>\n",
       "<table border=\"1\" class=\"dataframe\">\n",
       "  <thead>\n",
       "    <tr style=\"text-align: right;\">\n",
       "      <th></th>\n",
       "      <th>Kospi</th>\n",
       "      <th>Kosdq</th>\n",
       "      <th>MSFT</th>\n",
       "    </tr>\n",
       "  </thead>\n",
       "  <tbody>\n",
       "    <tr>\n",
       "      <th>2012</th>\n",
       "      <td>0.322832</td>\n",
       "      <td>0.066317</td>\n",
       "      <td>0.663910</td>\n",
       "    </tr>\n",
       "    <tr>\n",
       "      <th>2013</th>\n",
       "      <td>0.790400</td>\n",
       "      <td>0.372185</td>\n",
       "      <td>0.609832</td>\n",
       "    </tr>\n",
       "    <tr>\n",
       "      <th>2014</th>\n",
       "      <td>0.505525</td>\n",
       "      <td>0.907092</td>\n",
       "      <td>0.593520</td>\n",
       "    </tr>\n",
       "    <tr>\n",
       "      <th>2015</th>\n",
       "      <td>0.210515</td>\n",
       "      <td>0.291644</td>\n",
       "      <td>0.936239</td>\n",
       "    </tr>\n",
       "    <tr>\n",
       "      <th>2016</th>\n",
       "      <td>0.529994</td>\n",
       "      <td>0.273900</td>\n",
       "      <td>0.512872</td>\n",
       "    </tr>\n",
       "    <tr>\n",
       "      <th>2017</th>\n",
       "      <td>0.416857</td>\n",
       "      <td>0.377358</td>\n",
       "      <td>0.838943</td>\n",
       "    </tr>\n",
       "  </tbody>\n",
       "</table>\n",
       "</div>"
      ],
      "text/plain": [
       "         Kospi     Kosdq      MSFT\n",
       "2012  0.322832  0.066317  0.663910\n",
       "2013  0.790400  0.372185  0.609832\n",
       "2014  0.505525  0.907092  0.593520\n",
       "2015  0.210515  0.291644  0.936239\n",
       "2016  0.529994  0.273900  0.512872\n",
       "2017  0.416857  0.377358  0.838943"
      ]
     },
     "execution_count": 56,
     "metadata": {},
     "output_type": "execute_result"
    }
   ],
   "source": [
    "df.iloc[:, :3]"
   ]
  },
  {
   "cell_type": "code",
   "execution_count": 57,
   "metadata": {},
   "outputs": [
    {
     "data": {
      "text/html": [
       "<div>\n",
       "<style scoped>\n",
       "    .dataframe tbody tr th:only-of-type {\n",
       "        vertical-align: middle;\n",
       "    }\n",
       "\n",
       "    .dataframe tbody tr th {\n",
       "        vertical-align: top;\n",
       "    }\n",
       "\n",
       "    .dataframe thead th {\n",
       "        text-align: right;\n",
       "    }\n",
       "</style>\n",
       "<table border=\"1\" class=\"dataframe\">\n",
       "  <thead>\n",
       "    <tr style=\"text-align: right;\">\n",
       "      <th></th>\n",
       "      <th>Kospi</th>\n",
       "      <th>Kosdq</th>\n",
       "      <th>MSFT</th>\n",
       "    </tr>\n",
       "  </thead>\n",
       "  <tbody>\n",
       "    <tr>\n",
       "      <th>2015</th>\n",
       "      <td>0.210515</td>\n",
       "      <td>0.291644</td>\n",
       "      <td>0.936239</td>\n",
       "    </tr>\n",
       "    <tr>\n",
       "      <th>2016</th>\n",
       "      <td>0.529994</td>\n",
       "      <td>0.273900</td>\n",
       "      <td>0.512872</td>\n",
       "    </tr>\n",
       "    <tr>\n",
       "      <th>2017</th>\n",
       "      <td>0.416857</td>\n",
       "      <td>0.377358</td>\n",
       "      <td>0.838943</td>\n",
       "    </tr>\n",
       "  </tbody>\n",
       "</table>\n",
       "</div>"
      ],
      "text/plain": [
       "         Kospi     Kosdq      MSFT\n",
       "2015  0.210515  0.291644  0.936239\n",
       "2016  0.529994  0.273900  0.512872\n",
       "2017  0.416857  0.377358  0.838943"
      ]
     },
     "execution_count": 57,
     "metadata": {},
     "output_type": "execute_result"
    }
   ],
   "source": [
    "# 일부분만 별도로 관리하기\n",
    "df_sum = df.iloc[3:, :3]\n",
    "df_sum"
   ]
  }
 ],
 "metadata": {
  "kernelspec": {
   "display_name": "Python 3",
   "language": "python",
   "name": "python3"
  },
  "language_info": {
   "codemirror_mode": {
    "name": "ipython",
    "version": 3
   },
   "file_extension": ".py",
   "mimetype": "text/x-python",
   "name": "python",
   "nbconvert_exporter": "python",
   "pygments_lexer": "ipython3",
   "version": "3.6.3"
  }
 },
 "nbformat": 4,
 "nbformat_minor": 2
}
