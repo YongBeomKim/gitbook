{
 "cells": [
  {
   "cell_type": "markdown",
   "metadata": {},
   "source": [
    "# **지난번 학습내용 정리하기**\n",
    "**Python 기본문법 정리 <br>and Pandas**"
   ]
  },
  {
   "cell_type": "markdown",
   "metadata": {},
   "source": [
    "### **review Data Datum**\n",
    "1. Datum(숫자, \"문자\"), Data([list], {dict}, (tuple,))\n",
    "1. (기본/외부/사용자) 모듈, 함수, 메소드\n",
    "1. **문자**에서 **[]** 의 활용 ( [index], [:slicing])\n",
    "1. **[list]** 객체에서 **[]** 의 활용 ( [index], [:slicing], [if 조건문])\n",
    "1. [ List 포맷을 응용하여 for if ]\n",
    "1. { Dict 포맷을 응용하여 for if }\n",
    "1. for : 반복, if :판단, \n",
    "1. enumerate() : [List] 자료를 for 반복시 인덱스 를 함께 Tuple로 출력\n",
    "1. .item() : {dict} 자료를 for 반복시 key 와 value 를 Tuple로 출력 \n",
    "1. Web Crawling ==> type 변경 ==> list, dict, pandas 객체로 변환 ==> 시각화\n",
    "1. ndarray, Series, Dataframe"
   ]
  },
  {
   "cell_type": "markdown",
   "metadata": {},
   "source": [
    "### **review Series**\n",
    "1. pd.Series( [ data ] , index = [ index ])\n",
    "1. series 사칙연산\n",
    "1. series [ Boolean 판단문 ]\n",
    "1. series.index = [ list ]\n",
    "1. series.isnull()\n",
    "1. series.drop()"
   ]
  },
  {
   "cell_type": "markdown",
   "metadata": {},
   "source": [
    "### **review Data Datum**\n",
    "1. Datum(숫자, \"문자\"), Data([list], {dict}, (tuple,))\n",
    "1. (기본/외부/사용자) 모듈, 함수, 메소드\n",
    "1. **문자**에서 **[]** 의 활용 ( [index], [:slicing])\n",
    "1. **[list]** 객체에서 **[]** 의 활용 ( [index], [:slicing], [if 조건문])\n",
    "1. [ List 포맷을 응용하여 for if ]\n",
    "1. { Dict 포맷을 응용하여 for if }\n",
    "1. for : 반복, if :판단, \n",
    "1. enumerate() : [List] 자료를 for 반복시 인덱스 를 함께 Tuple로 출력\n",
    "1. .item() : {dict} 자료를 for 반복시 key 와 value 를 Tuple로 출력 \n",
    "1. Web Crawling ==> type 변경 ==> list, dict, pandas 객체로 변환 ==> 시각화\n",
    "1. ndarray, Series, Dataframe"
   ]
  },
  {
   "cell_type": "markdown",
   "metadata": {},
   "source": [
    "### **review DataFrame static**\n",
    "1. .count()\n",
    "1. .describe()\n",
    "1. .min()     .max()\n",
    "1. .idxmin()  .idxmax()\n",
    "1. .quantile()   \n",
    "1. .sum()\n",
    "1. .mean()    .median()\n",
    "1. .var() 분산 .std() 정규분산\n",
    "1. .cumsum()  .cumprod()  누적 합    누적 곱\n",
    "1. .cummin()  .cummax()   누적최소값, 누적최대값"
   ]
  },
  {
   "cell_type": "markdown",
   "metadata": {},
   "source": [
    "### **review Series & DataFrame 결측치 제어하기**\n",
    "1. df.dropna()\n",
    "1. df.fillna(method='ffill',  limit=2)  # 결측치 대체\n",
    "1. df.fillna(df.mean()['컬럼명'])   \n",
    "1. Series.interpolate(method='time')    # 결측치 보간 (시계열적 특성을 부여가능)\n",
    "1. Series.interpolate(method='values', limit=1, limit_direction='backward') # 'forward','backward','both'"
   ]
  },
  {
   "cell_type": "markdown",
   "metadata": {},
   "source": [
    "### **review &nbsp; TimeSeries**\n",
    "1. from datetime import datetime\n",
    "1. pandas.date_range(end = '2017-07-01', periods=30, freq='BM')  \n",
    "1. pandas.date_range('2017/8/8 09:09:09', periods=5, normalize=True)\n",
    "1. [str(date.date()) &nbsp;&nbsp; for &nbsp;&nbsp; date &nbsp;&nbsp; in &nbsp;&nbsp; pd.date_range('2017/01/01', '2017/01/11')]"
   ]
  },
  {
   "cell_type": "markdown",
   "metadata": {},
   "source": [
    "<br><br>\n",
    "## **Question About Pandas**\n"
   ]
  },
  {
   "cell_type": "markdown",
   "metadata": {},
   "source": [
    "<br>\n",
    "### **Question 1**\n",
    "Business Day 는 휴일이 포함되어 있나요?"
   ]
  },
  {
   "cell_type": "code",
   "execution_count": 1,
   "metadata": {},
   "outputs": [],
   "source": [
    "# DateTime Index를 생성한다\n",
    "import pandas as pd\n",
    "one_year = pd.date_range('2018-01-01',periods=365)"
   ]
  },
  {
   "cell_type": "code",
   "execution_count": 2,
   "metadata": {},
   "outputs": [],
   "source": [
    "data = [i    for i in range(len(one_year))]\n",
    "data = pd.Series(data, index=one_year)"
   ]
  },
  {
   "cell_type": "code",
   "execution_count": 3,
   "metadata": {},
   "outputs": [],
   "source": [
    "businessday = data.resample('B')"
   ]
  },
  {
   "cell_type": "code",
   "execution_count": 4,
   "metadata": {},
   "outputs": [
    {
     "data": {
      "text/plain": [
       "52.0"
      ]
     },
     "execution_count": 4,
     "metadata": {},
     "output_type": "execute_result"
    }
   ],
   "source": [
    "(365 - len(businessday)) / 2"
   ]
  },
  {
   "cell_type": "code",
   "execution_count": 5,
   "metadata": {},
   "outputs": [
    {
     "data": {
      "text/plain": [
       "2018-01-31     15.0\n",
       "2018-02-28     44.5\n",
       "2018-03-31     74.0\n",
       "2018-04-30    104.5\n",
       "2018-05-31    135.0\n",
       "2018-06-30    165.5\n",
       "2018-07-31    196.0\n",
       "2018-08-31    227.0\n",
       "2018-09-30    257.5\n",
       "2018-10-31    288.0\n",
       "2018-11-30    318.5\n",
       "2018-12-31    349.0\n",
       "Freq: M, dtype: float64"
      ]
     },
     "execution_count": 5,
     "metadata": {},
     "output_type": "execute_result"
    }
   ],
   "source": [
    "# Tips\n",
    "data.resample('M').mean()"
   ]
  },
  {
   "cell_type": "code",
   "execution_count": 6,
   "metadata": {},
   "outputs": [
    {
     "data": {
      "text/html": [
       "<div>\n",
       "<style scoped>\n",
       "    .dataframe tbody tr th:only-of-type {\n",
       "        vertical-align: middle;\n",
       "    }\n",
       "\n",
       "    .dataframe tbody tr th {\n",
       "        vertical-align: top;\n",
       "    }\n",
       "\n",
       "    .dataframe thead th {\n",
       "        text-align: right;\n",
       "    }\n",
       "</style>\n",
       "<table border=\"1\" class=\"dataframe\">\n",
       "  <thead>\n",
       "    <tr style=\"text-align: right;\">\n",
       "      <th></th>\n",
       "      <th>open</th>\n",
       "      <th>high</th>\n",
       "      <th>low</th>\n",
       "      <th>close</th>\n",
       "    </tr>\n",
       "  </thead>\n",
       "  <tbody>\n",
       "    <tr>\n",
       "      <th>2018-01-31</th>\n",
       "      <td>0</td>\n",
       "      <td>30</td>\n",
       "      <td>0</td>\n",
       "      <td>30</td>\n",
       "    </tr>\n",
       "    <tr>\n",
       "      <th>2018-02-28</th>\n",
       "      <td>31</td>\n",
       "      <td>58</td>\n",
       "      <td>31</td>\n",
       "      <td>58</td>\n",
       "    </tr>\n",
       "    <tr>\n",
       "      <th>2018-03-31</th>\n",
       "      <td>59</td>\n",
       "      <td>89</td>\n",
       "      <td>59</td>\n",
       "      <td>89</td>\n",
       "    </tr>\n",
       "    <tr>\n",
       "      <th>2018-04-30</th>\n",
       "      <td>90</td>\n",
       "      <td>119</td>\n",
       "      <td>90</td>\n",
       "      <td>119</td>\n",
       "    </tr>\n",
       "    <tr>\n",
       "      <th>2018-05-31</th>\n",
       "      <td>120</td>\n",
       "      <td>150</td>\n",
       "      <td>120</td>\n",
       "      <td>150</td>\n",
       "    </tr>\n",
       "    <tr>\n",
       "      <th>2018-06-30</th>\n",
       "      <td>151</td>\n",
       "      <td>180</td>\n",
       "      <td>151</td>\n",
       "      <td>180</td>\n",
       "    </tr>\n",
       "    <tr>\n",
       "      <th>2018-07-31</th>\n",
       "      <td>181</td>\n",
       "      <td>211</td>\n",
       "      <td>181</td>\n",
       "      <td>211</td>\n",
       "    </tr>\n",
       "    <tr>\n",
       "      <th>2018-08-31</th>\n",
       "      <td>212</td>\n",
       "      <td>242</td>\n",
       "      <td>212</td>\n",
       "      <td>242</td>\n",
       "    </tr>\n",
       "    <tr>\n",
       "      <th>2018-09-30</th>\n",
       "      <td>243</td>\n",
       "      <td>272</td>\n",
       "      <td>243</td>\n",
       "      <td>272</td>\n",
       "    </tr>\n",
       "    <tr>\n",
       "      <th>2018-10-31</th>\n",
       "      <td>273</td>\n",
       "      <td>303</td>\n",
       "      <td>273</td>\n",
       "      <td>303</td>\n",
       "    </tr>\n",
       "    <tr>\n",
       "      <th>2018-11-30</th>\n",
       "      <td>304</td>\n",
       "      <td>333</td>\n",
       "      <td>304</td>\n",
       "      <td>333</td>\n",
       "    </tr>\n",
       "    <tr>\n",
       "      <th>2018-12-31</th>\n",
       "      <td>334</td>\n",
       "      <td>364</td>\n",
       "      <td>334</td>\n",
       "      <td>364</td>\n",
       "    </tr>\n",
       "  </tbody>\n",
       "</table>\n",
       "</div>"
      ],
      "text/plain": [
       "            open  high  low  close\n",
       "2018-01-31     0    30    0     30\n",
       "2018-02-28    31    58   31     58\n",
       "2018-03-31    59    89   59     89\n",
       "2018-04-30    90   119   90    119\n",
       "2018-05-31   120   150  120    150\n",
       "2018-06-30   151   180  151    180\n",
       "2018-07-31   181   211  181    211\n",
       "2018-08-31   212   242  212    242\n",
       "2018-09-30   243   272  243    272\n",
       "2018-10-31   273   303  273    303\n",
       "2018-11-30   304   333  304    333\n",
       "2018-12-31   334   364  334    364"
      ]
     },
     "execution_count": 6,
     "metadata": {},
     "output_type": "execute_result"
    }
   ],
   "source": [
    "# Tips\n",
    "data.resample('M').ohlc()"
   ]
  },
  {
   "cell_type": "markdown",
   "metadata": {},
   "source": [
    "<br>\n",
    "### **Question 2**\n",
    "초단타 매매를 위한 초단위 생성도 가능한가요?"
   ]
  },
  {
   "cell_type": "code",
   "execution_count": 7,
   "metadata": {},
   "outputs": [
    {
     "data": {
      "text/plain": [
       "DatetimeIndex(['2011-01-01 00:00:00', '2011-01-01 01:00:00',\n",
       "               '2011-01-01 02:00:00', '2011-01-01 03:00:00',\n",
       "               '2011-01-01 04:00:00'],\n",
       "              dtype='datetime64[ns]', freq='H')"
      ]
     },
     "execution_count": 7,
     "metadata": {},
     "output_type": "execute_result"
    }
   ],
   "source": [
    "pd.date_range('1/1/2011', periods=5, freq='H')"
   ]
  },
  {
   "cell_type": "code",
   "execution_count": 8,
   "metadata": {},
   "outputs": [
    {
     "data": {
      "text/plain": [
       "DatetimeIndex(['2011-01-01 00:00:00', '2011-01-01 00:01:00',\n",
       "               '2011-01-01 00:02:00', '2011-01-01 00:03:00',\n",
       "               '2011-01-01 00:04:00'],\n",
       "              dtype='datetime64[ns]', freq='T')"
      ]
     },
     "execution_count": 8,
     "metadata": {},
     "output_type": "execute_result"
    }
   ],
   "source": [
    "pd.date_range('1/1/2011', periods=5, freq='min')"
   ]
  },
  {
   "cell_type": "code",
   "execution_count": 9,
   "metadata": {},
   "outputs": [
    {
     "data": {
      "text/plain": [
       "DatetimeIndex(['2011-01-01 00:00:00', '2011-01-01 00:00:01',\n",
       "               '2011-01-01 00:00:02', '2011-01-01 00:00:03',\n",
       "               '2011-01-01 00:00:04'],\n",
       "              dtype='datetime64[ns]', freq='S')"
      ]
     },
     "execution_count": 9,
     "metadata": {},
     "output_type": "execute_result"
    }
   ],
   "source": [
    "pd.date_range('1/1/2011', periods=5, freq='s')"
   ]
  },
  {
   "cell_type": "code",
   "execution_count": 10,
   "metadata": {},
   "outputs": [
    {
     "data": {
      "text/plain": [
       "DatetimeIndex([       '2011-01-01 00:00:00', '2011-01-01 00:00:00.001000',\n",
       "               '2011-01-01 00:00:00.002000', '2011-01-01 00:00:00.003000',\n",
       "               '2011-01-01 00:00:00.004000'],\n",
       "              dtype='datetime64[ns]', freq='L')"
      ]
     },
     "execution_count": 10,
     "metadata": {},
     "output_type": "execute_result"
    }
   ],
   "source": [
    "pd.date_range('1/1/2011', periods=5, freq='ms')"
   ]
  },
  {
   "cell_type": "code",
   "execution_count": 11,
   "metadata": {},
   "outputs": [
    {
     "data": {
      "text/plain": [
       "DatetimeIndex([       '2011-01-01 00:00:00', '2011-01-01 00:00:00.001000',\n",
       "               '2011-01-01 00:00:00.002000', '2011-01-01 00:00:00.003000',\n",
       "               '2011-01-01 00:00:00.004000'],\n",
       "              dtype='datetime64[ns]', freq='L')"
      ]
     },
     "execution_count": 11,
     "metadata": {},
     "output_type": "execute_result"
    }
   ],
   "source": [
    "pd.date_range('1/1/2011', periods=5, freq='1ms')"
   ]
  },
  {
   "cell_type": "code",
   "execution_count": 12,
   "metadata": {},
   "outputs": [],
   "source": [
    "import numpy as np"
   ]
  },
  {
   "cell_type": "code",
   "execution_count": 13,
   "metadata": {},
   "outputs": [],
   "source": [
    "data = np.random.rand(110)"
   ]
  },
  {
   "cell_type": "code",
   "execution_count": 14,
   "metadata": {},
   "outputs": [],
   "source": [
    "date = pd.date_range('2018-06-06', periods=110, freq='ms')"
   ]
  },
  {
   "cell_type": "code",
   "execution_count": 15,
   "metadata": {},
   "outputs": [
    {
     "data": {
      "text/plain": [
       "2018-06-06 00:00:00.000    0.724359\n",
       "2018-06-06 00:00:00.001    0.426986\n",
       "2018-06-06 00:00:00.002    0.908999\n",
       "2018-06-06 00:00:00.003    0.247796\n",
       "2018-06-06 00:00:00.004    0.065260\n",
       "2018-06-06 00:00:00.005    0.959609\n",
       "2018-06-06 00:00:00.006    0.354474\n",
       "2018-06-06 00:00:00.007    0.635283\n",
       "2018-06-06 00:00:00.008    0.254580\n",
       "2018-06-06 00:00:00.009    0.426275\n",
       "2018-06-06 00:00:00.010    0.169618\n",
       "2018-06-06 00:00:00.011    0.088882\n",
       "2018-06-06 00:00:00.012    0.258088\n",
       "2018-06-06 00:00:00.013    0.659739\n",
       "2018-06-06 00:00:00.014    0.474797\n",
       "2018-06-06 00:00:00.015    0.909689\n",
       "2018-06-06 00:00:00.016    0.980873\n",
       "2018-06-06 00:00:00.017    0.167155\n",
       "2018-06-06 00:00:00.018    0.374242\n",
       "2018-06-06 00:00:00.019    0.057846\n",
       "Freq: L, dtype: float64"
      ]
     },
     "execution_count": 15,
     "metadata": {},
     "output_type": "execute_result"
    }
   ],
   "source": [
    "pd.Series(data, index=date)[:20]"
   ]
  },
  {
   "cell_type": "markdown",
   "metadata": {},
   "source": [
    "<br>\n",
    "### **Question 3**\n",
    "1. https://en.wikipedia.org/wiki/List_of_tz_database_time_zones\n",
    "1. pd.date_range() 에서 생성한 데이터의 시간대 변경은 어떻게 하나요?"
   ]
  },
  {
   "cell_type": "code",
   "execution_count": 16,
   "metadata": {},
   "outputs": [],
   "source": [
    "import pandas as pd"
   ]
  },
  {
   "cell_type": "code",
   "execution_count": 17,
   "metadata": {},
   "outputs": [
    {
     "data": {
      "text/plain": [
       "DatetimeIndex(['2018-06-01 00:00:00', '2018-06-01 01:00:00',\n",
       "               '2018-06-01 02:00:00', '2018-06-01 03:00:00',\n",
       "               '2018-06-01 04:00:00'],\n",
       "              dtype='datetime64[ns]', freq='H')"
      ]
     },
     "execution_count": 17,
     "metadata": {},
     "output_type": "execute_result"
    }
   ],
   "source": [
    "date_nan = pd.date_range('2018-06-01', periods=5, freq='h')\n",
    "date_nan"
   ]
  },
  {
   "cell_type": "code",
   "execution_count": 18,
   "metadata": {},
   "outputs": [
    {
     "data": {
      "text/plain": [
       "DatetimeIndex(['2018-06-01 00:00:00+00:00', '2018-06-01 01:00:00+00:00',\n",
       "               '2018-06-01 02:00:00+00:00', '2018-06-01 03:00:00+00:00',\n",
       "               '2018-06-01 04:00:00+00:00'],\n",
       "              dtype='datetime64[ns, UTC]', freq='H')"
      ]
     },
     "execution_count": 18,
     "metadata": {},
     "output_type": "execute_result"
    }
   ],
   "source": [
    "date_utc = pd.date_range('2018-06-01', periods=5, freq='h', tz='UTC')\n",
    "date_utc"
   ]
  },
  {
   "cell_type": "code",
   "execution_count": 19,
   "metadata": {},
   "outputs": [
    {
     "data": {
      "text/plain": [
       "DatetimeIndex(['2018-01-01 00:00:00+09:00', '2018-01-02 00:00:00+09:00',\n",
       "               '2018-01-03 00:00:00+09:00', '2018-01-04 00:00:00+09:00',\n",
       "               '2018-01-05 00:00:00+09:00'],\n",
       "              dtype='datetime64[ns, Asia/Tokyo]', freq='D')"
      ]
     },
     "execution_count": 19,
     "metadata": {},
     "output_type": "execute_result"
    }
   ],
   "source": [
    "date_kor = pd.date_range(start='2018-01-01', periods=5, tz='Asia/Tokyo')\n",
    "date_kor"
   ]
  },
  {
   "cell_type": "code",
   "execution_count": 20,
   "metadata": {},
   "outputs": [
    {
     "data": {
      "text/plain": [
       "DatetimeIndex(['2017-12-31 15:00:00+00:00', '2018-01-01 15:00:00+00:00',\n",
       "               '2018-01-02 15:00:00+00:00', '2018-01-03 15:00:00+00:00',\n",
       "               '2018-01-04 15:00:00+00:00'],\n",
       "              dtype='datetime64[ns, UTC]', freq='D')"
      ]
     },
     "execution_count": 20,
     "metadata": {},
     "output_type": "execute_result"
    }
   ],
   "source": [
    "date_kor.tz_convert('UTC')"
   ]
  },
  {
   "cell_type": "code",
   "execution_count": 21,
   "metadata": {},
   "outputs": [
    {
     "data": {
      "text/plain": [
       "DatetimeIndex(['2018-06-01 09:00:00+09:00', '2018-06-01 10:00:00+09:00',\n",
       "               '2018-06-01 11:00:00+09:00', '2018-06-01 12:00:00+09:00',\n",
       "               '2018-06-01 13:00:00+09:00'],\n",
       "              dtype='datetime64[ns, Asia/Tokyo]', freq='H')"
      ]
     },
     "execution_count": 21,
     "metadata": {},
     "output_type": "execute_result"
    }
   ],
   "source": [
    "date_utc.tz_convert('Asia/Tokyo')"
   ]
  },
  {
   "cell_type": "code",
   "execution_count": 22,
   "metadata": {},
   "outputs": [],
   "source": [
    "# 처음 생성할때 UTC 정보가 없으면 수정이 어렵다\n",
    "# date_nan.tz_convert(9)\n",
    "# date_nan.tz_convert('UTC')"
   ]
  },
  {
   "cell_type": "code",
   "execution_count": 23,
   "metadata": {},
   "outputs": [
    {
     "name": "stdout",
     "output_type": "stream",
     "text": [
      "pytz.FixedOffset(0)\n"
     ]
    },
    {
     "data": {
      "text/plain": [
       "DatetimeIndex(['2018-06-01 00:00:09+00:00:09', '2018-06-01 01:00:09+00:00:09',\n",
       "               '2018-06-01 02:00:09+00:00:09', '2018-06-01 03:00:09+00:00:09',\n",
       "               '2018-06-01 04:00:09+00:00:09'],\n",
       "              dtype='datetime64[ns, pytz.FixedOffset(0)]', freq='H')"
      ]
     },
     "execution_count": 23,
     "metadata": {},
     "output_type": "execute_result"
    }
   ],
   "source": [
    "data_nine = date_utc.tz_convert(9)  \n",
    "print(data_nine.tzinfo)\n",
    "data_nine[:10]"
   ]
  },
  {
   "cell_type": "code",
   "execution_count": 24,
   "metadata": {},
   "outputs": [],
   "source": [
    "# 목록보기 \n",
    "# List of tz database time zones 을 위키에서 찾기"
   ]
  },
  {
   "cell_type": "markdown",
   "metadata": {},
   "source": [
    "<br>\n",
    "### **Question 4**\n",
    "지난번 코스닥 자료를 보니까 빈 공간이 많던데 이유가 뭔가요?\n",
    "> **from** &nbsp;&nbsp; pandas_datareader &nbsp;&nbsp; **import** &nbsp;&nbsp; get_data_yahoo"
   ]
  },
  {
   "cell_type": "code",
   "execution_count": 25,
   "metadata": {},
   "outputs": [],
   "source": [
    "from pandas_datareader import get_data_yahoo\n",
    "kosdaq = get_data_yahoo('031510.KQ', '2018-01-01').Close"
   ]
  },
  {
   "cell_type": "code",
   "execution_count": 26,
   "metadata": {},
   "outputs": [
    {
     "data": {
      "text/plain": [
       "<matplotlib.axes._subplots.AxesSubplot at 0x7f44ee46c6d8>"
      ]
     },
     "execution_count": 26,
     "metadata": {},
     "output_type": "execute_result"
    },
    {
     "data": {
      "image/png": "[encoded data removed]",
      "text/plain": [
       "<matplotlib.figure.Figure at 0x7f44ee439eb8>"
      ]
     },
     "metadata": {},
     "output_type": "display_data"
    }
   ],
   "source": [
    "%matplotlib inline\n",
    "kosdaq.plot()"
   ]
  },
  {
   "cell_type": "code",
   "execution_count": 27,
   "metadata": {},
   "outputs": [
    {
     "data": {
      "text/plain": [
       "Date\n",
       "2018-01-19    6400\n",
       "2018-01-22    6350\n",
       "2018-01-23    6260\n",
       "2018-01-24    6090\n",
       "2018-01-25    6270\n",
       "2018-01-26    6230\n",
       "2018-01-29    6090\n",
       "2018-01-30    5870\n",
       "2018-01-31    5640\n",
       "2018-06-08    5050\n",
       "Name: Close, dtype: int64"
      ]
     },
     "execution_count": 27,
     "metadata": {},
     "output_type": "execute_result"
    }
   ],
   "source": [
    "import pandas as pd\n",
    "pd.DataFrame(kosdaq)\n",
    "kosdaq.index = pd.DatetimeIndex(kosdaq.index)\n",
    "kosdaq.tail(10)"
   ]
  },
  {
   "cell_type": "code",
   "execution_count": 28,
   "metadata": {},
   "outputs": [],
   "source": [
    "# 현재 Yahoo finance API가 중간 자료가 빈 구간이 존재한다\n",
    "# 2018-02-01 부터 2018-06-03 4달 사이의 자료가 존재하지 않음\n",
    "# 이를 고치려면 별도 Naver 크롤링 등 별도 경로를 활용하여 보완해야 한다"
   ]
  },
  {
   "cell_type": "markdown",
   "metadata": {},
   "source": [
    "<br>\n",
    "### **Question 5**\n",
    "pd.pct_change() 로 변환을 하는데 이유가 뭔가요?\n",
    "#### 데이터의 전처리\n",
    "1. 표준화 : 해당 데이터 고유한 값을 기준으로 범위를 재조정 한다\n",
    "1. 정규화 : 0 ~ 1 사이의 값으로 변환"
   ]
  },
  {
   "cell_type": "markdown",
   "metadata": {},
   "source": [
    "Q. voice, Signal 분석에서 중요한 데이터는? <br>\n",
    "A. Raw 데이터 로 해당 데이터를 직접 표준화/ 정규화 한다"
   ]
  },
  {
   "cell_type": "markdown",
   "metadata": {},
   "source": [
    "Q. 금융분석에서 중요한 데이터는?<br>\n",
    "A. Raw 데이터 (X)<br>\n",
    "A. 이익/ 손실여부의 판단<br>\n",
    "때문에 해당 데이터를 **변화율**로 전환한 뒤 이를 **Log 수익률** 을 사용하면 기간별 분석에 용이하다"
   ]
  },
  {
   "cell_type": "markdown",
   "metadata": {},
   "source": [
    "<br>\n",
    "### **Question 6**\n",
    "Bitcoin 가격수집할때, 컬럼명에 찌꺼기들이 포함되어 있으면 어떻게 처리를 하나요?"
   ]
  },
  {
   "cell_type": "code",
   "execution_count": 29,
   "metadata": {},
   "outputs": [
    {
     "data": {
      "text/html": [
       "<div>\n",
       "<style scoped>\n",
       "    .dataframe tbody tr th:only-of-type {\n",
       "        vertical-align: middle;\n",
       "    }\n",
       "\n",
       "    .dataframe tbody tr th {\n",
       "        vertical-align: top;\n",
       "    }\n",
       "\n",
       "    .dataframe thead th {\n",
       "        text-align: right;\n",
       "    }\n",
       "</style>\n",
       "<table border=\"1\" class=\"dataframe\">\n",
       "  <thead>\n",
       "    <tr style=\"text-align: right;\">\n",
       "      <th></th>\n",
       "      <th>Date</th>\n",
       "      <th>Open*</th>\n",
       "      <th>High</th>\n",
       "      <th>Low</th>\n",
       "      <th>Close**</th>\n",
       "      <th>Volume</th>\n",
       "      <th>Market Cap</th>\n",
       "    </tr>\n",
       "  </thead>\n",
       "  <tbody>\n",
       "    <tr>\n",
       "      <th>143</th>\n",
       "      <td>May 26, 2018</td>\n",
       "      <td>7486.48</td>\n",
       "      <td>7595.16</td>\n",
       "      <td>7349.12</td>\n",
       "      <td>7355.88</td>\n",
       "      <td>4051540000</td>\n",
       "      <td>127682000000</td>\n",
       "    </tr>\n",
       "    <tr>\n",
       "      <th>144</th>\n",
       "      <td>May 27, 2018</td>\n",
       "      <td>7362.08</td>\n",
       "      <td>7381.74</td>\n",
       "      <td>7270.96</td>\n",
       "      <td>7368.22</td>\n",
       "      <td>4056520000</td>\n",
       "      <td>125575000000</td>\n",
       "    </tr>\n",
       "    <tr>\n",
       "      <th>145</th>\n",
       "      <td>May 28, 2018</td>\n",
       "      <td>7371.31</td>\n",
       "      <td>7419.05</td>\n",
       "      <td>7100.89</td>\n",
       "      <td>7135.99</td>\n",
       "      <td>5040600000</td>\n",
       "      <td>125748000000</td>\n",
       "    </tr>\n",
       "    <tr>\n",
       "      <th>146</th>\n",
       "      <td>May 29, 2018</td>\n",
       "      <td>7129.46</td>\n",
       "      <td>7526.42</td>\n",
       "      <td>7090.68</td>\n",
       "      <td>7472.59</td>\n",
       "      <td>5662660000</td>\n",
       "      <td>121636000000</td>\n",
       "    </tr>\n",
       "    <tr>\n",
       "      <th>147</th>\n",
       "      <td>May 30, 2018</td>\n",
       "      <td>7469.73</td>\n",
       "      <td>7573.77</td>\n",
       "      <td>7313.60</td>\n",
       "      <td>7406.52</td>\n",
       "      <td>4922540000</td>\n",
       "      <td>127454000000</td>\n",
       "    </tr>\n",
       "  </tbody>\n",
       "</table>\n",
       "</div>"
      ],
      "text/plain": [
       "             Date    Open*     High      Low  Close**      Volume  \\\n",
       "143  May 26, 2018  7486.48  7595.16  7349.12  7355.88  4051540000   \n",
       "144  May 27, 2018  7362.08  7381.74  7270.96  7368.22  4056520000   \n",
       "145  May 28, 2018  7371.31  7419.05  7100.89  7135.99  5040600000   \n",
       "146  May 29, 2018  7129.46  7526.42  7090.68  7472.59  5662660000   \n",
       "147  May 30, 2018  7469.73  7573.77  7313.60  7406.52  4922540000   \n",
       "\n",
       "       Market Cap  \n",
       "143  127682000000  \n",
       "144  125575000000  \n",
       "145  125748000000  \n",
       "146  121636000000  \n",
       "147  127454000000  "
      ]
     },
     "execution_count": 29,
     "metadata": {},
     "output_type": "execute_result"
    }
   ],
   "source": [
    "import pandas as pd\n",
    "prices = pd.read_html(\"https://coinmarketcap.com/currencies/bitcoin/historical-data/?start=20180103&end=20180530\")[0]\n",
    "prices = prices[::-1]\n",
    "prices.reset_index(inplace=True, drop=True)\n",
    "prices.tail()"
   ]
  },
  {
   "cell_type": "code",
   "execution_count": 30,
   "metadata": {},
   "outputs": [
    {
     "data": {
      "text/html": [
       "<div>\n",
       "<style scoped>\n",
       "    .dataframe tbody tr th:only-of-type {\n",
       "        vertical-align: middle;\n",
       "    }\n",
       "\n",
       "    .dataframe tbody tr th {\n",
       "        vertical-align: top;\n",
       "    }\n",
       "\n",
       "    .dataframe thead th {\n",
       "        text-align: right;\n",
       "    }\n",
       "</style>\n",
       "<table border=\"1\" class=\"dataframe\">\n",
       "  <thead>\n",
       "    <tr style=\"text-align: right;\">\n",
       "      <th></th>\n",
       "      <th>Open</th>\n",
       "      <th>High</th>\n",
       "      <th>Low</th>\n",
       "      <th>Close</th>\n",
       "      <th>Volume</th>\n",
       "      <th>Market Cap</th>\n",
       "    </tr>\n",
       "    <tr>\n",
       "      <th>Date</th>\n",
       "      <th></th>\n",
       "      <th></th>\n",
       "      <th></th>\n",
       "      <th></th>\n",
       "      <th></th>\n",
       "      <th></th>\n",
       "    </tr>\n",
       "  </thead>\n",
       "  <tbody>\n",
       "    <tr>\n",
       "      <th>2018-01-03</th>\n",
       "      <td>14978.2</td>\n",
       "      <td>15572.8</td>\n",
       "      <td>14844.5</td>\n",
       "      <td>15201.0</td>\n",
       "      <td>16871900000</td>\n",
       "      <td>251312000000</td>\n",
       "    </tr>\n",
       "    <tr>\n",
       "      <th>2018-01-04</th>\n",
       "      <td>15270.7</td>\n",
       "      <td>15739.7</td>\n",
       "      <td>14522.2</td>\n",
       "      <td>15599.2</td>\n",
       "      <td>21783200000</td>\n",
       "      <td>256250000000</td>\n",
       "    </tr>\n",
       "    <tr>\n",
       "      <th>2018-01-05</th>\n",
       "      <td>15477.2</td>\n",
       "      <td>17705.2</td>\n",
       "      <td>15202.8</td>\n",
       "      <td>17429.5</td>\n",
       "      <td>23840900000</td>\n",
       "      <td>259748000000</td>\n",
       "    </tr>\n",
       "  </tbody>\n",
       "</table>\n",
       "</div>"
      ],
      "text/plain": [
       "               Open     High      Low    Close       Volume    Market Cap\n",
       "Date                                                                     \n",
       "2018-01-03  14978.2  15572.8  14844.5  15201.0  16871900000  251312000000\n",
       "2018-01-04  15270.7  15739.7  14522.2  15599.2  21783200000  256250000000\n",
       "2018-01-05  15477.2  17705.2  15202.8  17429.5  23840900000  259748000000"
      ]
     },
     "execution_count": 30,
     "metadata": {},
     "output_type": "execute_result"
    }
   ],
   "source": [
    "prices.index = pd.DatetimeIndex(prices.Date)\n",
    "prices.columns = [ col.replace('*', '')   for col in prices.columns]\n",
    "del prices['Date']\n",
    "prices.head(3)"
   ]
  },
  {
   "cell_type": "code",
   "execution_count": 31,
   "metadata": {},
   "outputs": [
    {
     "name": "stdout",
     "output_type": "stream",
     "text": [
      "<class 'pandas.core.frame.DataFrame'>\n",
      "DatetimeIndex: 148 entries, 2018-01-03 to 2018-05-30\n",
      "Data columns (total 6 columns):\n",
      "Open          148 non-null float64\n",
      "High          148 non-null float64\n",
      "Low           148 non-null float64\n",
      "Close         148 non-null float64\n",
      "Volume        148 non-null int64\n",
      "Market Cap    148 non-null int64\n",
      "dtypes: float64(4), int64(2)\n",
      "memory usage: 8.1 KB\n"
     ]
    }
   ],
   "source": [
    "prices.info()"
   ]
  },
  {
   "cell_type": "code",
   "execution_count": 32,
   "metadata": {},
   "outputs": [
    {
     "data": {
      "text/html": [
       "<div>\n",
       "<style scoped>\n",
       "    .dataframe tbody tr th:only-of-type {\n",
       "        vertical-align: middle;\n",
       "    }\n",
       "\n",
       "    .dataframe tbody tr th {\n",
       "        vertical-align: top;\n",
       "    }\n",
       "\n",
       "    .dataframe thead th {\n",
       "        text-align: right;\n",
       "    }\n",
       "</style>\n",
       "<table border=\"1\" class=\"dataframe\">\n",
       "  <thead>\n",
       "    <tr style=\"text-align: right;\">\n",
       "      <th></th>\n",
       "      <th>Open</th>\n",
       "      <th>High</th>\n",
       "      <th>Low</th>\n",
       "      <th>Close</th>\n",
       "      <th>Volume</th>\n",
       "      <th>Market Cap</th>\n",
       "    </tr>\n",
       "    <tr>\n",
       "      <th>Date</th>\n",
       "      <th></th>\n",
       "      <th></th>\n",
       "      <th></th>\n",
       "      <th></th>\n",
       "      <th></th>\n",
       "      <th></th>\n",
       "    </tr>\n",
       "  </thead>\n",
       "  <tbody>\n",
       "    <tr>\n",
       "      <th>2018-05-26</th>\n",
       "      <td>7486.48</td>\n",
       "      <td>7595.16</td>\n",
       "      <td>7349.12</td>\n",
       "      <td>7355.88</td>\n",
       "      <td>4051540000</td>\n",
       "      <td>127682000000</td>\n",
       "    </tr>\n",
       "    <tr>\n",
       "      <th>2018-05-27</th>\n",
       "      <td>7362.08</td>\n",
       "      <td>7381.74</td>\n",
       "      <td>7270.96</td>\n",
       "      <td>7368.22</td>\n",
       "      <td>4056520000</td>\n",
       "      <td>125575000000</td>\n",
       "    </tr>\n",
       "    <tr>\n",
       "      <th>2018-05-28</th>\n",
       "      <td>7371.31</td>\n",
       "      <td>7419.05</td>\n",
       "      <td>7100.89</td>\n",
       "      <td>7135.99</td>\n",
       "      <td>5040600000</td>\n",
       "      <td>125748000000</td>\n",
       "    </tr>\n",
       "    <tr>\n",
       "      <th>2018-05-29</th>\n",
       "      <td>7129.46</td>\n",
       "      <td>7526.42</td>\n",
       "      <td>7090.68</td>\n",
       "      <td>7472.59</td>\n",
       "      <td>5662660000</td>\n",
       "      <td>121636000000</td>\n",
       "    </tr>\n",
       "    <tr>\n",
       "      <th>2018-05-30</th>\n",
       "      <td>7469.73</td>\n",
       "      <td>7573.77</td>\n",
       "      <td>7313.60</td>\n",
       "      <td>7406.52</td>\n",
       "      <td>4922540000</td>\n",
       "      <td>127454000000</td>\n",
       "    </tr>\n",
       "  </tbody>\n",
       "</table>\n",
       "</div>"
      ],
      "text/plain": [
       "               Open     High      Low    Close      Volume    Market Cap\n",
       "Date                                                                    \n",
       "2018-05-26  7486.48  7595.16  7349.12  7355.88  4051540000  127682000000\n",
       "2018-05-27  7362.08  7381.74  7270.96  7368.22  4056520000  125575000000\n",
       "2018-05-28  7371.31  7419.05  7100.89  7135.99  5040600000  125748000000\n",
       "2018-05-29  7129.46  7526.42  7090.68  7472.59  5662660000  121636000000\n",
       "2018-05-30  7469.73  7573.77  7313.60  7406.52  4922540000  127454000000"
      ]
     },
     "execution_count": 32,
     "metadata": {},
     "output_type": "execute_result"
    },
    {
     "data": {
      "image/png": "[encoded data removed]",
      "text/plain": [
       "<matplotlib.figure.Figure at 0x7f44ee415d30>"
      ]
     },
     "metadata": {},
     "output_type": "display_data"
    }
   ],
   "source": [
    "%matplotlib inline\n",
    "prices.Close.plot(figsize=(16,4), grid=True)\n",
    "prices.tail()"
   ]
  },
  {
   "cell_type": "code",
   "execution_count": 2,
   "metadata": {},
   "outputs": [],
   "source": [
    "from pandas_datareader import get_data_google"
   ]
  },
  {
   "cell_type": "code",
   "execution_count": 4,
   "metadata": {},
   "outputs": [
    {
     "name": "stderr",
     "output_type": "stream",
     "text": [
      "/home/markbaum/Python/python/lib/python3.6/site-packages/pandas_datareader/google/daily.py:41: UnstableAPIWarning: \n",
      "The Google Finance API has not been stable since late 2017. Requests seem\n",
      "to fail at random. Failure is especially common when bulk downloading.\n",
      "\n",
      "  warnings.warn(UNSTABLE_WARNING, UnstableAPIWarning)\n"
     ]
    },
    {
     "ename": "RemoteDataError",
     "evalue": "Unable to read URL: https://finance.google.co.uk/bctzjpnsun/historical?q=KRX%3AKOSPI&startdate=Jan+01%2C+2010&enddate=Jun+08%2C+2018&output=csv\nResponse Text:\nb'<!DOCTYPE html>\\n<html lang=en>\\n  <meta charset=utf-8>\\n  <meta name=viewport content=\"initial-scale=1, minimum-scale=1, width=device-width\">\\n  <title>Error 404 (Not Found)!!1</title>\\n  <style>\\n    *{margin:0;padding:0}html,code{font:15px/22px arial,sans-serif}html{background:#fff;color:#222;padding:15px}body{margin:7% auto 0;max-width:390px;min-height:180px;padding:30px 0 15px}* > body{background:url(//www.google.com/images/errors/robot.png) 100% 5px no-repeat;padding-right:205px}p{margin:11px 0 22px;overflow:hidden}ins{color:#777;text-decoration:none}a img{border:0}@media screen and (max-width:772px){body{background:none;margin-top:0;max-width:none;padding-right:0}}#logo{background:url(//www.google.com/images/branding/googlelogo/1x/googlelogo_color_150x54dp.png) no-repeat;margin-left:-5px}@media only screen and (min-resolution:192dpi){#logo{background:url(//www.google.com/images/branding/googlelogo/2x/googlelogo_color_150x54dp.png) no-repeat 0% 0%/100% 100%;-moz-border-image:url(//www.google.com/images/branding/googlelogo/2x/googlelogo_color_150x54dp.png) 0}}@media only screen and (-webkit-min-device-pixel-ratio:2){#logo{background:url(//www.google.com/images/branding/googlelogo/2x/googlelogo_color_150x54dp.png) no-repeat;-webkit-background-size:100% 100%}}#logo{display:inline-block;height:54px;width:150px}\\n  </style>\\n  <a href=//www.google.com/><span id=logo aria-label=Google></span></a>\\n  <p><b>404.</b> <ins>That\\xe2\\x80\\x99s an error.</ins>\\n  <p>The requested URL <code>/bctzjpnsun/historical</code> was not found on this server.  <ins>That\\xe2\\x80\\x99s all we know.</ins>\\n'",
     "output_type": "error",
     "traceback": [
      "\u001b[0;31m---------------------------------------------------------------------------\u001b[0m",
      "\u001b[0;31mRemoteDataError\u001b[0m                           Traceback (most recent call last)",
      "\u001b[0;32m<ipython-input-4-dc8d7e90e953>\u001b[0m in \u001b[0;36m<module>\u001b[0;34m()\u001b[0m\n\u001b[0;32m----> 1\u001b[0;31m \u001b[0mget_data_google\u001b[0m\u001b[0;34m(\u001b[0m\u001b[0;34m'KRX:KOSPI'\u001b[0m\u001b[0;34m)\u001b[0m\u001b[0;34m\u001b[0m\u001b[0m\n\u001b[0m",
      "\u001b[0;32m~/Python/python/lib/python3.6/site-packages/pandas_datareader/data.py\u001b[0m in \u001b[0;36mget_data_google\u001b[0;34m(*args, **kwargs)\u001b[0m\n\u001b[1;32m     65\u001b[0m \u001b[0;34m\u001b[0m\u001b[0m\n\u001b[1;32m     66\u001b[0m \u001b[0;32mdef\u001b[0m \u001b[0mget_data_google\u001b[0m\u001b[0;34m(\u001b[0m\u001b[0;34m*\u001b[0m\u001b[0margs\u001b[0m\u001b[0;34m,\u001b[0m \u001b[0;34m**\u001b[0m\u001b[0mkwargs\u001b[0m\u001b[0;34m)\u001b[0m\u001b[0;34m:\u001b[0m\u001b[0;34m\u001b[0m\u001b[0m\n\u001b[0;32m---> 67\u001b[0;31m     \u001b[0;32mreturn\u001b[0m \u001b[0mGoogleDailyReader\u001b[0m\u001b[0;34m(\u001b[0m\u001b[0;34m*\u001b[0m\u001b[0margs\u001b[0m\u001b[0;34m,\u001b[0m \u001b[0;34m**\u001b[0m\u001b[0mkwargs\u001b[0m\u001b[0;34m)\u001b[0m\u001b[0;34m.\u001b[0m\u001b[0mread\u001b[0m\u001b[0;34m(\u001b[0m\u001b[0;34m)\u001b[0m\u001b[0;34m\u001b[0m\u001b[0m\n\u001b[0m\u001b[1;32m     68\u001b[0m \u001b[0;34m\u001b[0m\u001b[0m\n\u001b[1;32m     69\u001b[0m \u001b[0;34m\u001b[0m\u001b[0m\n",
      "\u001b[0;32m~/Python/python/lib/python3.6/site-packages/pandas_datareader/base.py\u001b[0m in \u001b[0;36mread\u001b[0;34m(self)\u001b[0m\n\u001b[1;32m    208\u001b[0m         \u001b[0;32mif\u001b[0m \u001b[0misinstance\u001b[0m\u001b[0;34m(\u001b[0m\u001b[0mself\u001b[0m\u001b[0;34m.\u001b[0m\u001b[0msymbols\u001b[0m\u001b[0;34m,\u001b[0m \u001b[0;34m(\u001b[0m\u001b[0mcompat\u001b[0m\u001b[0;34m.\u001b[0m\u001b[0mstring_types\u001b[0m\u001b[0;34m,\u001b[0m \u001b[0mint\u001b[0m\u001b[0;34m)\u001b[0m\u001b[0;34m)\u001b[0m\u001b[0;34m:\u001b[0m\u001b[0;34m\u001b[0m\u001b[0m\n\u001b[1;32m    209\u001b[0m             df = self._read_one_data(self.url,\n\u001b[0;32m--> 210\u001b[0;31m                                      params=self._get_params(self.symbols))\n\u001b[0m\u001b[1;32m    211\u001b[0m         \u001b[0;31m# Or multiple symbols, (e.g., ['GOOG', 'AAPL', 'MSFT'])\u001b[0m\u001b[0;34m\u001b[0m\u001b[0;34m\u001b[0m\u001b[0m\n\u001b[1;32m    212\u001b[0m         \u001b[0;32melif\u001b[0m \u001b[0misinstance\u001b[0m\u001b[0;34m(\u001b[0m\u001b[0mself\u001b[0m\u001b[0;34m.\u001b[0m\u001b[0msymbols\u001b[0m\u001b[0;34m,\u001b[0m \u001b[0mDataFrame\u001b[0m\u001b[0;34m)\u001b[0m\u001b[0;34m:\u001b[0m\u001b[0;34m\u001b[0m\u001b[0m\n",
      "\u001b[0;32m~/Python/python/lib/python3.6/site-packages/pandas_datareader/base.py\u001b[0m in \u001b[0;36m_read_one_data\u001b[0;34m(self, url, params)\u001b[0m\n\u001b[1;32m     82\u001b[0m         \u001b[0;34m\"\"\" read one data from specified URL \"\"\"\u001b[0m\u001b[0;34m\u001b[0m\u001b[0m\n\u001b[1;32m     83\u001b[0m         \u001b[0;32mif\u001b[0m \u001b[0mself\u001b[0m\u001b[0;34m.\u001b[0m\u001b[0m_format\u001b[0m \u001b[0;34m==\u001b[0m \u001b[0;34m'string'\u001b[0m\u001b[0;34m:\u001b[0m\u001b[0;34m\u001b[0m\u001b[0m\n\u001b[0;32m---> 84\u001b[0;31m             \u001b[0mout\u001b[0m \u001b[0;34m=\u001b[0m \u001b[0mself\u001b[0m\u001b[0;34m.\u001b[0m\u001b[0m_read_url_as_StringIO\u001b[0m\u001b[0;34m(\u001b[0m\u001b[0murl\u001b[0m\u001b[0;34m,\u001b[0m \u001b[0mparams\u001b[0m\u001b[0;34m=\u001b[0m\u001b[0mparams\u001b[0m\u001b[0;34m)\u001b[0m\u001b[0;34m\u001b[0m\u001b[0m\n\u001b[0m\u001b[1;32m     85\u001b[0m         \u001b[0;32melif\u001b[0m \u001b[0mself\u001b[0m\u001b[0;34m.\u001b[0m\u001b[0m_format\u001b[0m \u001b[0;34m==\u001b[0m \u001b[0;34m'json'\u001b[0m\u001b[0;34m:\u001b[0m\u001b[0;34m\u001b[0m\u001b[0m\n\u001b[1;32m     86\u001b[0m             \u001b[0mout\u001b[0m \u001b[0;34m=\u001b[0m \u001b[0mself\u001b[0m\u001b[0;34m.\u001b[0m\u001b[0m_get_response\u001b[0m\u001b[0;34m(\u001b[0m\u001b[0murl\u001b[0m\u001b[0;34m,\u001b[0m \u001b[0mparams\u001b[0m\u001b[0;34m=\u001b[0m\u001b[0mparams\u001b[0m\u001b[0;34m)\u001b[0m\u001b[0;34m.\u001b[0m\u001b[0mjson\u001b[0m\u001b[0;34m(\u001b[0m\u001b[0;34m)\u001b[0m\u001b[0;34m\u001b[0m\u001b[0m\n",
      "\u001b[0;32m~/Python/python/lib/python3.6/site-packages/pandas_datareader/base.py\u001b[0m in \u001b[0;36m_read_url_as_StringIO\u001b[0;34m(self, url, params)\u001b[0m\n\u001b[1;32m     93\u001b[0m         \u001b[0mOpen\u001b[0m \u001b[0murl\u001b[0m \u001b[0;34m(\u001b[0m\u001b[0;32mand\u001b[0m \u001b[0mretry\u001b[0m\u001b[0;34m)\u001b[0m\u001b[0;34m\u001b[0m\u001b[0m\n\u001b[1;32m     94\u001b[0m         \"\"\"\n\u001b[0;32m---> 95\u001b[0;31m         \u001b[0mresponse\u001b[0m \u001b[0;34m=\u001b[0m \u001b[0mself\u001b[0m\u001b[0;34m.\u001b[0m\u001b[0m_get_response\u001b[0m\u001b[0;34m(\u001b[0m\u001b[0murl\u001b[0m\u001b[0;34m,\u001b[0m \u001b[0mparams\u001b[0m\u001b[0;34m=\u001b[0m\u001b[0mparams\u001b[0m\u001b[0;34m)\u001b[0m\u001b[0;34m\u001b[0m\u001b[0m\n\u001b[0m\u001b[1;32m     96\u001b[0m         \u001b[0mtext\u001b[0m \u001b[0;34m=\u001b[0m \u001b[0mself\u001b[0m\u001b[0;34m.\u001b[0m\u001b[0m_sanitize_response\u001b[0m\u001b[0;34m(\u001b[0m\u001b[0mresponse\u001b[0m\u001b[0;34m)\u001b[0m\u001b[0;34m\u001b[0m\u001b[0m\n\u001b[1;32m     97\u001b[0m         \u001b[0mout\u001b[0m \u001b[0;34m=\u001b[0m \u001b[0mStringIO\u001b[0m\u001b[0;34m(\u001b[0m\u001b[0;34m)\u001b[0m\u001b[0;34m\u001b[0m\u001b[0m\n",
      "\u001b[0;32m~/Python/python/lib/python3.6/site-packages/pandas_datareader/base.py\u001b[0m in \u001b[0;36m_get_response\u001b[0;34m(self, url, params, headers)\u001b[0m\n\u001b[1;32m    153\u001b[0m             \u001b[0mmsg\u001b[0m \u001b[0;34m+=\u001b[0m \u001b[0;34m'\\nResponse Text:\\n{0}'\u001b[0m\u001b[0;34m.\u001b[0m\u001b[0mformat\u001b[0m\u001b[0;34m(\u001b[0m\u001b[0mlast_response_text\u001b[0m\u001b[0;34m)\u001b[0m\u001b[0;34m\u001b[0m\u001b[0m\n\u001b[1;32m    154\u001b[0m \u001b[0;34m\u001b[0m\u001b[0m\n\u001b[0;32m--> 155\u001b[0;31m         \u001b[0;32mraise\u001b[0m \u001b[0mRemoteDataError\u001b[0m\u001b[0;34m(\u001b[0m\u001b[0mmsg\u001b[0m\u001b[0;34m)\u001b[0m\u001b[0;34m\u001b[0m\u001b[0m\n\u001b[0m\u001b[1;32m    156\u001b[0m \u001b[0;34m\u001b[0m\u001b[0m\n\u001b[1;32m    157\u001b[0m     \u001b[0;32mdef\u001b[0m \u001b[0m_get_crumb\u001b[0m\u001b[0;34m(\u001b[0m\u001b[0mself\u001b[0m\u001b[0;34m,\u001b[0m \u001b[0;34m*\u001b[0m\u001b[0margs\u001b[0m\u001b[0;34m)\u001b[0m\u001b[0;34m:\u001b[0m\u001b[0;34m\u001b[0m\u001b[0m\n",
      "\u001b[0;31mRemoteDataError\u001b[0m: Unable to read URL: https://finance.google.co.uk/bctzjpnsun/historical?q=KRX%3AKOSPI&startdate=Jan+01%2C+2010&enddate=Jun+08%2C+2018&output=csv\nResponse Text:\nb'<!DOCTYPE html>\\n<html lang=en>\\n  <meta charset=utf-8>\\n  <meta name=viewport content=\"initial-scale=1, minimum-scale=1, width=device-width\">\\n  <title>Error 404 (Not Found)!!1</title>\\n  <style>\\n    *{margin:0;padding:0}html,code{font:15px/22px arial,sans-serif}html{background:#fff;color:#222;padding:15px}body{margin:7% auto 0;max-width:390px;min-height:180px;padding:30px 0 15px}* > body{background:url(//www.google.com/images/errors/robot.png) 100% 5px no-repeat;padding-right:205px}p{margin:11px 0 22px;overflow:hidden}ins{color:#777;text-decoration:none}a img{border:0}@media screen and (max-width:772px){body{background:none;margin-top:0;max-width:none;padding-right:0}}#logo{background:url(//www.google.com/images/branding/googlelogo/1x/googlelogo_color_150x54dp.png) no-repeat;margin-left:-5px}@media only screen and (min-resolution:192dpi){#logo{background:url(//www.google.com/images/branding/googlelogo/2x/googlelogo_color_150x54dp.png) no-repeat 0% 0%/100% 100%;-moz-border-image:url(//www.google.com/images/branding/googlelogo/2x/googlelogo_color_150x54dp.png) 0}}@media only screen and (-webkit-min-device-pixel-ratio:2){#logo{background:url(//www.google.com/images/branding/googlelogo/2x/googlelogo_color_150x54dp.png) no-repeat;-webkit-background-size:100% 100%}}#logo{display:inline-block;height:54px;width:150px}\\n  </style>\\n  <a href=//www.google.com/><span id=logo aria-label=Google></span></a>\\n  <p><b>404.</b> <ins>That\\xe2\\x80\\x99s an error.</ins>\\n  <p>The requested URL <code>/bctzjpnsun/historical</code> was not found on this server.  <ins>That\\xe2\\x80\\x99s all we know.</ins>\\n'"
     ]
    }
   ],
   "source": [
    "get_data_google('KRX:KOSPI')"
   ]
  },
  {
   "cell_type": "code",
   "execution_count": 5,
   "metadata": {},
   "outputs": [],
   "source": [
    "from googlefinance.get import get_data"
   ]
  },
  {
   "cell_type": "code",
   "execution_count": 6,
   "metadata": {},
   "outputs": [
    {
     "data": {
      "text/html": [
       "<div>\n",
       "<style scoped>\n",
       "    .dataframe tbody tr th:only-of-type {\n",
       "        vertical-align: middle;\n",
       "    }\n",
       "\n",
       "    .dataframe tbody tr th {\n",
       "        vertical-align: top;\n",
       "    }\n",
       "\n",
       "    .dataframe thead th {\n",
       "        text-align: right;\n",
       "    }\n",
       "</style>\n",
       "<table border=\"1\" class=\"dataframe\">\n",
       "  <thead>\n",
       "    <tr style=\"text-align: right;\">\n",
       "      <th></th>\n",
       "      <th>code</th>\n",
       "      <th>open</th>\n",
       "      <th>high</th>\n",
       "      <th>low</th>\n",
       "      <th>close</th>\n",
       "      <th>volume</th>\n",
       "    </tr>\n",
       "    <tr>\n",
       "      <th>date</th>\n",
       "      <th></th>\n",
       "      <th></th>\n",
       "      <th></th>\n",
       "      <th></th>\n",
       "      <th></th>\n",
       "      <th></th>\n",
       "    </tr>\n",
       "  </thead>\n",
       "  <tbody>\n",
       "    <tr>\n",
       "      <th>2018-04-24</th>\n",
       "      <td>KRX:KOSPI</td>\n",
       "      <td>2478.47</td>\n",
       "      <td>2479.32</td>\n",
       "      <td>2454.44</td>\n",
       "      <td>2464.14</td>\n",
       "      <td>524280000</td>\n",
       "    </tr>\n",
       "    <tr>\n",
       "      <th>2018-04-25</th>\n",
       "      <td>KRX:KOSPI</td>\n",
       "      <td>2444.19</td>\n",
       "      <td>2453.54</td>\n",
       "      <td>2436.51</td>\n",
       "      <td>2448.81</td>\n",
       "      <td>466095000</td>\n",
       "    </tr>\n",
       "    <tr>\n",
       "      <th>2018-04-26</th>\n",
       "      <td>KRX:KOSPI</td>\n",
       "      <td>2460.62</td>\n",
       "      <td>2484.09</td>\n",
       "      <td>2456.20</td>\n",
       "      <td>2475.64</td>\n",
       "      <td>520917000</td>\n",
       "    </tr>\n",
       "    <tr>\n",
       "      <th>2018-04-27</th>\n",
       "      <td>KRX:KOSPI</td>\n",
       "      <td>2497.75</td>\n",
       "      <td>2508.13</td>\n",
       "      <td>2484.19</td>\n",
       "      <td>2492.40</td>\n",
       "      <td>464957000</td>\n",
       "    </tr>\n",
       "    <tr>\n",
       "      <th>2018-04-30</th>\n",
       "      <td>KRX:KOSPI</td>\n",
       "      <td>2502.29</td>\n",
       "      <td>2515.38</td>\n",
       "      <td>2500.22</td>\n",
       "      <td>2515.38</td>\n",
       "      <td>746291000</td>\n",
       "    </tr>\n",
       "    <tr>\n",
       "      <th>2018-05-03</th>\n",
       "      <td>KRX:KOSPI</td>\n",
       "      <td>2506.94</td>\n",
       "      <td>2507.91</td>\n",
       "      <td>2487.25</td>\n",
       "      <td>2487.25</td>\n",
       "      <td>614102000</td>\n",
       "    </tr>\n",
       "    <tr>\n",
       "      <th>2018-05-04</th>\n",
       "      <td>KRX:KOSPI</td>\n",
       "      <td>2486.47</td>\n",
       "      <td>2487.77</td>\n",
       "      <td>2461.38</td>\n",
       "      <td>2461.38</td>\n",
       "      <td>612024000</td>\n",
       "    </tr>\n",
       "    <tr>\n",
       "      <th>2018-05-08</th>\n",
       "      <td>KRX:KOSPI</td>\n",
       "      <td>2468.45</td>\n",
       "      <td>2479.75</td>\n",
       "      <td>2444.08</td>\n",
       "      <td>2449.81</td>\n",
       "      <td>714734000</td>\n",
       "    </tr>\n",
       "    <tr>\n",
       "      <th>2018-05-09</th>\n",
       "      <td>KRX:KOSPI</td>\n",
       "      <td>2450.71</td>\n",
       "      <td>2451.86</td>\n",
       "      <td>2428.79</td>\n",
       "      <td>2443.98</td>\n",
       "      <td>593365000</td>\n",
       "    </tr>\n",
       "    <tr>\n",
       "      <th>2018-05-10</th>\n",
       "      <td>KRX:KOSPI</td>\n",
       "      <td>2458.67</td>\n",
       "      <td>2464.72</td>\n",
       "      <td>2448.01</td>\n",
       "      <td>2464.16</td>\n",
       "      <td>490004000</td>\n",
       "    </tr>\n",
       "    <tr>\n",
       "      <th>2018-05-11</th>\n",
       "      <td>KRX:KOSPI</td>\n",
       "      <td>2469.30</td>\n",
       "      <td>2483.85</td>\n",
       "      <td>2468.41</td>\n",
       "      <td>2477.71</td>\n",
       "      <td>599900000</td>\n",
       "    </tr>\n",
       "    <tr>\n",
       "      <th>2018-05-14</th>\n",
       "      <td>KRX:KOSPI</td>\n",
       "      <td>2482.97</td>\n",
       "      <td>2486.17</td>\n",
       "      <td>2471.91</td>\n",
       "      <td>2476.11</td>\n",
       "      <td>650707000</td>\n",
       "    </tr>\n",
       "    <tr>\n",
       "      <th>2018-05-15</th>\n",
       "      <td>KRX:KOSPI</td>\n",
       "      <td>2476.87</td>\n",
       "      <td>2480.22</td>\n",
       "      <td>2456.20</td>\n",
       "      <td>2458.54</td>\n",
       "      <td>712619000</td>\n",
       "    </tr>\n",
       "    <tr>\n",
       "      <th>2018-05-16</th>\n",
       "      <td>KRX:KOSPI</td>\n",
       "      <td>2446.64</td>\n",
       "      <td>2465.55</td>\n",
       "      <td>2444.67</td>\n",
       "      <td>2459.82</td>\n",
       "      <td>691813000</td>\n",
       "    </tr>\n",
       "    <tr>\n",
       "      <th>2018-05-17</th>\n",
       "      <td>KRX:KOSPI</td>\n",
       "      <td>2468.72</td>\n",
       "      <td>2472.82</td>\n",
       "      <td>2448.43</td>\n",
       "      <td>2448.45</td>\n",
       "      <td>596771000</td>\n",
       "    </tr>\n",
       "    <tr>\n",
       "      <th>2018-05-18</th>\n",
       "      <td>KRX:KOSPI</td>\n",
       "      <td>2459.73</td>\n",
       "      <td>2461.95</td>\n",
       "      <td>2452.34</td>\n",
       "      <td>2460.65</td>\n",
       "      <td>431376000</td>\n",
       "    </tr>\n",
       "    <tr>\n",
       "      <th>2018-05-21</th>\n",
       "      <td>KRX:KOSPI</td>\n",
       "      <td>2464.07</td>\n",
       "      <td>2472.30</td>\n",
       "      <td>2447.69</td>\n",
       "      <td>2465.57</td>\n",
       "      <td>588088000</td>\n",
       "    </tr>\n",
       "    <tr>\n",
       "      <th>2018-05-23</th>\n",
       "      <td>KRX:KOSPI</td>\n",
       "      <td>2462.98</td>\n",
       "      <td>2476.86</td>\n",
       "      <td>2460.07</td>\n",
       "      <td>2471.91</td>\n",
       "      <td>752675000</td>\n",
       "    </tr>\n",
       "    <tr>\n",
       "      <th>2018-05-24</th>\n",
       "      <td>KRX:KOSPI</td>\n",
       "      <td>2477.48</td>\n",
       "      <td>2481.31</td>\n",
       "      <td>2457.84</td>\n",
       "      <td>2466.01</td>\n",
       "      <td>638125000</td>\n",
       "    </tr>\n",
       "    <tr>\n",
       "      <th>2018-05-25</th>\n",
       "      <td>KRX:KOSPI</td>\n",
       "      <td>2452.80</td>\n",
       "      <td>2466.57</td>\n",
       "      <td>2444.77</td>\n",
       "      <td>2460.80</td>\n",
       "      <td>653592000</td>\n",
       "    </tr>\n",
       "    <tr>\n",
       "      <th>2018-05-28</th>\n",
       "      <td>KRX:KOSPI</td>\n",
       "      <td>2465.00</td>\n",
       "      <td>2482.40</td>\n",
       "      <td>2463.14</td>\n",
       "      <td>2478.96</td>\n",
       "      <td>708362000</td>\n",
       "    </tr>\n",
       "    <tr>\n",
       "      <th>2018-05-29</th>\n",
       "      <td>KRX:KOSPI</td>\n",
       "      <td>2476.70</td>\n",
       "      <td>2479.68</td>\n",
       "      <td>2457.18</td>\n",
       "      <td>2457.25</td>\n",
       "      <td>571836000</td>\n",
       "    </tr>\n",
       "    <tr>\n",
       "      <th>2018-05-30</th>\n",
       "      <td>KRX:KOSPI</td>\n",
       "      <td>2446.81</td>\n",
       "      <td>2449.88</td>\n",
       "      <td>2399.58</td>\n",
       "      <td>2409.03</td>\n",
       "      <td>575922000</td>\n",
       "    </tr>\n",
       "    <tr>\n",
       "      <th>2018-05-31</th>\n",
       "      <td>KRX:KOSPI</td>\n",
       "      <td>2428.83</td>\n",
       "      <td>2430.15</td>\n",
       "      <td>2415.50</td>\n",
       "      <td>2423.01</td>\n",
       "      <td>816930000</td>\n",
       "    </tr>\n",
       "    <tr>\n",
       "      <th>2018-06-01</th>\n",
       "      <td>KRX:KOSPI</td>\n",
       "      <td>2419.63</td>\n",
       "      <td>2445.31</td>\n",
       "      <td>2418.11</td>\n",
       "      <td>2438.96</td>\n",
       "      <td>603023000</td>\n",
       "    </tr>\n",
       "    <tr>\n",
       "      <th>2018-06-04</th>\n",
       "      <td>KRX:KOSPI</td>\n",
       "      <td>2444.62</td>\n",
       "      <td>2452.67</td>\n",
       "      <td>2441.25</td>\n",
       "      <td>2447.76</td>\n",
       "      <td>438929000</td>\n",
       "    </tr>\n",
       "    <tr>\n",
       "      <th>2018-06-05</th>\n",
       "      <td>KRX:KOSPI</td>\n",
       "      <td>2450.39</td>\n",
       "      <td>2455.78</td>\n",
       "      <td>2432.81</td>\n",
       "      <td>2453.76</td>\n",
       "      <td>501363000</td>\n",
       "    </tr>\n",
       "    <tr>\n",
       "      <th>2018-06-07</th>\n",
       "      <td>KRX:KOSPI</td>\n",
       "      <td>2468.26</td>\n",
       "      <td>2478.67</td>\n",
       "      <td>2466.01</td>\n",
       "      <td>2470.58</td>\n",
       "      <td>474146000</td>\n",
       "    </tr>\n",
       "  </tbody>\n",
       "</table>\n",
       "</div>"
      ],
      "text/plain": [
       "                 code     open     high      low    close     volume\n",
       "date                                                                \n",
       "2018-04-24  KRX:KOSPI  2478.47  2479.32  2454.44  2464.14  524280000\n",
       "2018-04-25  KRX:KOSPI  2444.19  2453.54  2436.51  2448.81  466095000\n",
       "2018-04-26  KRX:KOSPI  2460.62  2484.09  2456.20  2475.64  520917000\n",
       "2018-04-27  KRX:KOSPI  2497.75  2508.13  2484.19  2492.40  464957000\n",
       "2018-04-30  KRX:KOSPI  2502.29  2515.38  2500.22  2515.38  746291000\n",
       "2018-05-03  KRX:KOSPI  2506.94  2507.91  2487.25  2487.25  614102000\n",
       "2018-05-04  KRX:KOSPI  2486.47  2487.77  2461.38  2461.38  612024000\n",
       "2018-05-08  KRX:KOSPI  2468.45  2479.75  2444.08  2449.81  714734000\n",
       "2018-05-09  KRX:KOSPI  2450.71  2451.86  2428.79  2443.98  593365000\n",
       "2018-05-10  KRX:KOSPI  2458.67  2464.72  2448.01  2464.16  490004000\n",
       "2018-05-11  KRX:KOSPI  2469.30  2483.85  2468.41  2477.71  599900000\n",
       "2018-05-14  KRX:KOSPI  2482.97  2486.17  2471.91  2476.11  650707000\n",
       "2018-05-15  KRX:KOSPI  2476.87  2480.22  2456.20  2458.54  712619000\n",
       "2018-05-16  KRX:KOSPI  2446.64  2465.55  2444.67  2459.82  691813000\n",
       "2018-05-17  KRX:KOSPI  2468.72  2472.82  2448.43  2448.45  596771000\n",
       "2018-05-18  KRX:KOSPI  2459.73  2461.95  2452.34  2460.65  431376000\n",
       "2018-05-21  KRX:KOSPI  2464.07  2472.30  2447.69  2465.57  588088000\n",
       "2018-05-23  KRX:KOSPI  2462.98  2476.86  2460.07  2471.91  752675000\n",
       "2018-05-24  KRX:KOSPI  2477.48  2481.31  2457.84  2466.01  638125000\n",
       "2018-05-25  KRX:KOSPI  2452.80  2466.57  2444.77  2460.80  653592000\n",
       "2018-05-28  KRX:KOSPI  2465.00  2482.40  2463.14  2478.96  708362000\n",
       "2018-05-29  KRX:KOSPI  2476.70  2479.68  2457.18  2457.25  571836000\n",
       "2018-05-30  KRX:KOSPI  2446.81  2449.88  2399.58  2409.03  575922000\n",
       "2018-05-31  KRX:KOSPI  2428.83  2430.15  2415.50  2423.01  816930000\n",
       "2018-06-01  KRX:KOSPI  2419.63  2445.31  2418.11  2438.96  603023000\n",
       "2018-06-04  KRX:KOSPI  2444.62  2452.67  2441.25  2447.76  438929000\n",
       "2018-06-05  KRX:KOSPI  2450.39  2455.78  2432.81  2453.76  501363000\n",
       "2018-06-07  KRX:KOSPI  2468.26  2478.67  2466.01  2470.58  474146000"
      ]
     },
     "execution_count": 6,
     "metadata": {},
     "output_type": "execute_result"
    }
   ],
   "source": [
    "get_data('KRX:KOSPI')"
   ]
  },
  {
   "cell_type": "code",
   "execution_count": null,
   "metadata": {},
   "outputs": [],
   "source": []
  },
  {
   "cell_type": "code",
   "execution_count": null,
   "metadata": {},
   "outputs": [],
   "source": []
  }
 ],
 "metadata": {
  "kernelspec": {
   "display_name": "Python 3",
   "language": "python",
   "name": "python3"
  },
  "language_info": {
   "codemirror_mode": {
    "name": "ipython",
    "version": 3
   },
   "file_extension": ".py",
   "mimetype": "text/x-python",
   "name": "python",
   "nbconvert_exporter": "python",
   "pygments_lexer": "ipython3",
   "version": "3.6.3"
  }
 },
 "nbformat": 4,
 "nbformat_minor": 2
}
